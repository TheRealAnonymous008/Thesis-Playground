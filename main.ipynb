{
 "cells": [
  {
   "cell_type": "code",
   "execution_count": 43,
   "metadata": {},
   "outputs": [
    {
     "name": "stdout",
     "output_type": "stream",
     "text": [
      "The autoreload extension is already loaded. To reload it, use:\n",
      "  %reload_ext autoreload\n"
     ]
    }
   ],
   "source": [
    "%load_ext autoreload\n",
    "%autoreload 2\n",
    "\n",
    "from environment.world import World\n",
    "from environment.entity import Entity\n",
    "from environment.market import Market"
   ]
  },
  {
   "cell_type": "code",
   "execution_count": 44,
   "metadata": {},
   "outputs": [],
   "source": [
    "world = World(10, 10, market=Market(10))\n",
    "\n",
    "world.add_entity(5)"
   ]
  },
  {
   "cell_type": "code",
   "execution_count": 54,
   "metadata": {},
   "outputs": [
    {
     "name": "stdout",
     "output_type": "stream",
     "text": [
      "{0: {'demand': 0, 'supply': 0}, 1: {'demand': 0, 'supply': 0}, 2: {'demand': 0, 'supply': 0}, 3: {'demand': 0, 'supply': 0}, 4: {'demand': 0, 'supply': 0}, 5: {'demand': 0, 'supply': 0}, 6: {'demand': 0, 'supply': 0}, 7: {'demand': 0, 'supply': 0}, 8: {'demand': 0, 'supply': 0}, 9: {'demand': 0, 'supply': 0}}\n",
      "{0: {'demand': 0, 'supply': 0}, 1: {'demand': 0, 'supply': 0}, 2: {'demand': 0, 'supply': 0}, 3: {'demand': 0, 'supply': 0}, 4: {'demand': 2, 'supply': 0}, 5: {'demand': 0, 'supply': 0}, 6: {'demand': 2, 'supply': 0}, 7: {'demand': 0, 'supply': 0}, 8: {'demand': 1, 'supply': 0}, 9: {'demand': 0, 'supply': 0}}\n",
      "{0: {'demand': 0, 'supply': 0}, 1: {'demand': 1, 'supply': 0}, 2: {'demand': 0, 'supply': 0}, 3: {'demand': 0, 'supply': 0}, 4: {'demand': 2, 'supply': 0}, 5: {'demand': 1, 'supply': 0}, 6: {'demand': 4, 'supply': 0}, 7: {'demand': 0, 'supply': 0}, 8: {'demand': 2, 'supply': 0}, 9: {'demand': 0, 'supply': 0}}\n",
      "{0: {'demand': 0, 'supply': 0}, 1: {'demand': 3, 'supply': 0}, 2: {'demand': 1, 'supply': 0}, 3: {'demand': 1, 'supply': 0}, 4: {'demand': 2, 'supply': 0}, 5: {'demand': 1, 'supply': 0}, 6: {'demand': 5, 'supply': 0}, 7: {'demand': 0, 'supply': 0}, 8: {'demand': 2, 'supply': 0}, 9: {'demand': 0, 'supply': 0}}\n",
      "{0: {'demand': 0, 'supply': 0}, 1: {'demand': 4, 'supply': 0}, 2: {'demand': 2, 'supply': 0}, 3: {'demand': 1, 'supply': 0}, 4: {'demand': 3, 'supply': 0}, 5: {'demand': 2, 'supply': 0}, 6: {'demand': 6, 'supply': 0}, 7: {'demand': 0, 'supply': 0}, 8: {'demand': 2, 'supply': 0}, 9: {'demand': 0, 'supply': 0}}\n"
     ]
    }
   ],
   "source": [
    "world.reset()\n",
    "for _ in range(5):\n",
    "    print(world.market.report())\n",
    "    world.update()"
   ]
  },
  {
   "cell_type": "code",
   "execution_count": 41,
   "metadata": {},
   "outputs": [
    {
     "name": "stdout",
     "output_type": "stream",
     "text": [
      "0 0 0 0 0 0 0 0 0 0 \n",
      "0 0 0 0 0 0 0 0 0 0 \n",
      "0 0 0 0 0 0 0 0 0 0 \n",
      "0 0 0 0 0 0 0 0 0 0 \n",
      "0 0 0 0 0 0 0 0 0 0 \n",
      "0 0 0 0 0 0 0 0 0 0 \n",
      "0 0 0 0 0 0 0 0 0 0 \n",
      "0 0 0 0 0 0 0 0 0 0 \n",
      "0 0 0 0 0 0 0 0 0 0 \n",
      "0 0 0 0 0 0 0 0 0 0 \n"
     ]
    }
   ],
   "source": [
    "world.render()"
   ]
  },
  {
   "cell_type": "code",
   "execution_count": null,
   "metadata": {},
   "outputs": [],
   "source": []
  }
 ],
 "metadata": {
  "kernelspec": {
   "display_name": "mlagents",
   "language": "python",
   "name": "python3"
  },
  "language_info": {
   "codemirror_mode": {
    "name": "ipython",
    "version": 3
   },
   "file_extension": ".py",
   "mimetype": "text/x-python",
   "name": "python",
   "nbconvert_exporter": "python",
   "pygments_lexer": "ipython3",
   "version": "3.9.13"
  }
 },
 "nbformat": 4,
 "nbformat_minor": 2
}
