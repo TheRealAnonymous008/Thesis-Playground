{
 "cells": [
  {
   "cell_type": "code",
   "execution_count": 3,
   "metadata": {},
   "outputs": [
    {
     "name": "stdout",
     "output_type": "stream",
     "text": [
      "The autoreload extension is already loaded. To reload it, use:\n",
      "  %reload_ext autoreload\n"
     ]
    }
   ],
   "source": [
    "%load_ext autoreload\n",
    "%autoreload 2\n",
    "\n",
    "from environment.world import World\n",
    "from environment.market import Market"
   ]
  },
  {
   "cell_type": "code",
   "execution_count": 4,
   "metadata": {},
   "outputs": [],
   "source": [
    "world = World(10, 10, market=Market(10))\n",
    "\n",
    "world.add_entity(5)"
   ]
  },
  {
   "cell_type": "code",
   "execution_count": 8,
   "metadata": {},
   "outputs": [
    {
     "name": "stdout",
     "output_type": "stream",
     "text": [
      "{0: {'demand': 0, 'supply': []}, 1: {'demand': 0, 'supply': []}, 2: {'demand': 0, 'supply': []}, 3: {'demand': 0, 'supply': []}, 4: {'demand': 0, 'supply': []}, 5: {'demand': 0, 'supply': []}, 6: {'demand': 0, 'supply': []}, 7: {'demand': 0, 'supply': []}, 8: {'demand': 0, 'supply': []}, 9: {'demand': 0, 'supply': []}}\n",
      "{0: {'demand': 1, 'supply': []}, 1: {'demand': 2, 'supply': [<environment.product.Product object at 0x000002CCCB5868B0>, <environment.product.Product object at 0x000002CCCB586880>]}, 2: {'demand': 0, 'supply': [<environment.product.Product object at 0x000002CCCB586910>]}, 3: {'demand': 0, 'supply': []}, 4: {'demand': 0, 'supply': [<environment.product.Product object at 0x000002CCBF6E1340>]}, 5: {'demand': 1, 'supply': []}, 6: {'demand': 1, 'supply': []}, 7: {'demand': 0, 'supply': []}, 8: {'demand': 0, 'supply': []}, 9: {'demand': 0, 'supply': [<environment.product.Product object at 0x000002CCBF6E1CA0>]}}\n",
      "{0: {'demand': 1, 'supply': []}, 1: {'demand': 2, 'supply': [<environment.product.Product object at 0x000002CCCB5868B0>, <environment.product.Product object at 0x000002CCCB586880>]}, 2: {'demand': 0, 'supply': [<environment.product.Product object at 0x000002CCCB586910>]}, 3: {'demand': 1, 'supply': [<environment.product.Product object at 0x000002CCCB586820>]}, 4: {'demand': 0, 'supply': [<environment.product.Product object at 0x000002CCBF6E1340>]}, 5: {'demand': 1, 'supply': [<environment.product.Product object at 0x000002CCCB5866A0>]}, 6: {'demand': 3, 'supply': []}, 7: {'demand': 0, 'supply': []}, 8: {'demand': 2, 'supply': [<environment.product.Product object at 0x000002CCCB5865E0>, <environment.product.Product object at 0x000002CCCB586700>]}, 9: {'demand': 0, 'supply': [<environment.product.Product object at 0x000002CCBF6E1CA0>, <environment.product.Product object at 0x000002CCCB586640>]}}\n",
      "{0: {'demand': 2, 'supply': []}, 1: {'demand': 2, 'supply': [<environment.product.Product object at 0x000002CCCB5868B0>, <environment.product.Product object at 0x000002CCCB586880>]}, 2: {'demand': 1, 'supply': [<environment.product.Product object at 0x000002CCCB586910>]}, 3: {'demand': 2, 'supply': [<environment.product.Product object at 0x000002CCCB586820>]}, 4: {'demand': 0, 'supply': [<environment.product.Product object at 0x000002CCBF6E1340>, <environment.product.Product object at 0x000002CCCB586760>]}, 5: {'demand': 2, 'supply': [<environment.product.Product object at 0x000002CCCB5866A0>, <environment.product.Product object at 0x000002CCCB5869A0>, <environment.product.Product object at 0x000002CCCB586A00>]}, 6: {'demand': 3, 'supply': [<environment.product.Product object at 0x000002CCCB586940>]}, 7: {'demand': 0, 'supply': [<environment.product.Product object at 0x000002CCCB5867C0>]}, 8: {'demand': 2, 'supply': [<environment.product.Product object at 0x000002CCCB5865E0>, <environment.product.Product object at 0x000002CCCB586700>]}, 9: {'demand': 1, 'supply': [<environment.product.Product object at 0x000002CCBF6E1CA0>, <environment.product.Product object at 0x000002CCCB586640>]}}\n",
      "{0: {'demand': 2, 'supply': []}, 1: {'demand': 3, 'supply': [<environment.product.Product object at 0x000002CCCB5868B0>, <environment.product.Product object at 0x000002CCCB586880>, <environment.product.Product object at 0x000002CCCB586B20>]}, 2: {'demand': 2, 'supply': [<environment.product.Product object at 0x000002CCCB586910>, <environment.product.Product object at 0x000002CCCB586AC0>]}, 3: {'demand': 2, 'supply': [<environment.product.Product object at 0x000002CCCB586820>]}, 4: {'demand': 0, 'supply': [<environment.product.Product object at 0x000002CCBF6E1340>, <environment.product.Product object at 0x000002CCCB586760>, <environment.product.Product object at 0x000002CCCB586CA0>]}, 5: {'demand': 2, 'supply': [<environment.product.Product object at 0x000002CCCB5866A0>, <environment.product.Product object at 0x000002CCCB5869A0>, <environment.product.Product object at 0x000002CCCB586A00>]}, 6: {'demand': 3, 'supply': [<environment.product.Product object at 0x000002CCCB586940>, <environment.product.Product object at 0x000002CCCB586A60>]}, 7: {'demand': 0, 'supply': [<environment.product.Product object at 0x000002CCCB5867C0>, <environment.product.Product object at 0x000002CCCB586B80>]}, 8: {'demand': 5, 'supply': [<environment.product.Product object at 0x000002CCCB5865E0>, <environment.product.Product object at 0x000002CCCB586700>]}, 9: {'demand': 1, 'supply': [<environment.product.Product object at 0x000002CCBF6E1CA0>, <environment.product.Product object at 0x000002CCCB586640>]}}\n"
     ]
    }
   ],
   "source": [
    "world.reset()\n",
    "for _ in range(5):\n",
    "    print(world.market.report())\n",
    "    world.update()"
   ]
  },
  {
   "cell_type": "code",
   "execution_count": null,
   "metadata": {},
   "outputs": [
    {
     "name": "stdout",
     "output_type": "stream",
     "text": [
      "0 0 0 0 0 0 0 0 0 0 \n",
      "0 0 0 0 0 0 0 0 0 0 \n",
      "0 0 0 0 0 0 0 0 0 0 \n",
      "0 0 0 0 0 0 0 0 0 0 \n",
      "0 0 0 0 0 0 0 0 0 0 \n",
      "0 0 0 0 0 0 0 0 0 0 \n",
      "0 0 0 0 0 0 0 0 0 0 \n",
      "0 0 0 0 0 0 0 0 0 0 \n",
      "0 0 0 0 0 0 0 0 0 0 \n",
      "0 0 0 0 0 0 0 0 0 0 \n"
     ]
    }
   ],
   "source": [
    "world.render()"
   ]
  },
  {
   "cell_type": "code",
   "execution_count": null,
   "metadata": {},
   "outputs": [],
   "source": []
  }
 ],
 "metadata": {
  "kernelspec": {
   "display_name": "mlagents",
   "language": "python",
   "name": "python3"
  },
  "language_info": {
   "codemirror_mode": {
    "name": "ipython",
    "version": 3
   },
   "file_extension": ".py",
   "mimetype": "text/x-python",
   "name": "python",
   "nbconvert_exporter": "python",
   "pygments_lexer": "ipython3",
   "version": "3.9.13"
  }
 },
 "nbformat": 4,
 "nbformat_minor": 2
}
