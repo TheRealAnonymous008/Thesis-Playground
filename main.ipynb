{
 "cells": [
  {
   "cell_type": "code",
   "execution_count": 1,
   "metadata": {},
   "outputs": [],
   "source": [
    "%load_ext autoreload\n",
    "%autoreload 2\n",
    "\n",
    "from environment.world import World\n",
    "from environment.firm import Firm\n",
    "from environment.entity import Entity"
   ]
  },
  {
   "cell_type": "code",
   "execution_count": 2,
   "metadata": {},
   "outputs": [],
   "source": [
    "world = World(10, 10)\n",
    "world.add_firm(Firm(\"Alice\"))\n",
    "world.add_firm(Firm(\"Bob\"))\n",
    "\n",
    "world.add_entity(Entity(\"Alice\"))\n",
    "world.add_entity(Entity(\"Bob\"))"
   ]
  },
  {
   "cell_type": "code",
   "execution_count": 4,
   "metadata": {},
   "outputs": [
    {
     "name": "stdout",
     "output_type": "stream",
     "text": [
      "===============================\n",
      "Time Step  0\n",
      "Firm Report\n",
      "Alice: qty=10 price=10\n",
      "Bob: qty=10 price=10\n",
      "-------------------------------\n",
      "Entity Report\n",
      "Alice: income=10\n",
      "Bob: income=10\n",
      "===============================\n",
      "===============================\n",
      "Time Step  1\n",
      "Firm Report\n",
      "Alice: qty=10 price=10\n",
      "Bob: qty=10 price=10\n",
      "-------------------------------\n",
      "Entity Report\n",
      "Alice: income=10\n",
      "Bob: income=10\n",
      "===============================\n",
      "===============================\n",
      "Time Step  2\n",
      "Firm Report\n",
      "Alice: qty=10 price=10\n",
      "Bob: qty=10 price=10\n",
      "-------------------------------\n",
      "Entity Report\n",
      "Alice: income=10\n",
      "Bob: income=10\n",
      "===============================\n",
      "===============================\n",
      "Time Step  3\n",
      "Firm Report\n",
      "Alice: qty=10 price=10\n",
      "Bob: qty=10 price=10\n",
      "-------------------------------\n",
      "Entity Report\n",
      "Alice: income=10\n",
      "Bob: income=10\n",
      "===============================\n",
      "===============================\n",
      "Time Step  4\n",
      "Firm Report\n",
      "Alice: qty=10 price=10\n",
      "Bob: qty=10 price=10\n",
      "-------------------------------\n",
      "Entity Report\n",
      "Alice: income=10\n",
      "Bob: income=10\n",
      "===============================\n"
     ]
    }
   ],
   "source": [
    "world.reset()\n",
    "for _ in range(5):\n",
    "    world.generate_report() \n",
    "    world.update()"
   ]
  },
  {
   "cell_type": "code",
   "execution_count": 3,
   "metadata": {},
   "outputs": [
    {
     "name": "stdout",
     "output_type": "stream",
     "text": [
      "0 0 0 0 0 0 0 0 0 0 \n",
      "0 0 0 0 0 0 0 0 0 0 \n",
      "0 0 0 0 0 0 0 0 0 0 \n",
      "0 0 0 0 0 0 0 0 0 0 \n",
      "0 0 0 0 0 0 0 0 0 0 \n",
      "0 0 0 0 0 0 0 0 0 0 \n",
      "0 0 0 0 0 0 0 0 0 0 \n",
      "0 0 0 0 0 0 0 0 0 0 \n",
      "0 0 0 0 0 0 0 0 0 0 \n",
      "0 0 0 0 0 0 0 0 0 0 \n"
     ]
    }
   ],
   "source": [
    "world.render()"
   ]
  },
  {
   "cell_type": "code",
   "execution_count": null,
   "metadata": {},
   "outputs": [],
   "source": []
  }
 ],
 "metadata": {
  "kernelspec": {
   "display_name": "mlagents",
   "language": "python",
   "name": "python3"
  },
  "language_info": {
   "codemirror_mode": {
    "name": "ipython",
    "version": 3
   },
   "file_extension": ".py",
   "mimetype": "text/x-python",
   "name": "python",
   "nbconvert_exporter": "python",
   "pygments_lexer": "ipython3",
   "version": "3.9.13"
  }
 },
 "nbformat": 4,
 "nbformat_minor": 2
}
