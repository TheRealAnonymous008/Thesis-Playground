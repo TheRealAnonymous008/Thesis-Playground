{
 "cells": [
  {
   "cell_type": "code",
   "execution_count": 1,
   "metadata": {},
   "outputs": [],
   "source": [
    "%load_ext autoreload\n",
    "%autoreload 2\n",
    "\n",
    "from environment.world import World\n",
    "from environment.market import Market"
   ]
  },
  {
   "cell_type": "code",
   "execution_count": 2,
   "metadata": {},
   "outputs": [],
   "source": [
    "world = World(10, 10, market=Market(10))\n",
    "\n",
    "world.add_entity(5)"
   ]
  },
  {
   "cell_type": "code",
   "execution_count": 3,
   "metadata": {},
   "outputs": [
    {
     "name": "stdout",
     "output_type": "stream",
     "text": [
      "{0: {'demand': 0, 'supply': []}, 1: {'demand': 0, 'supply': []}, 2: {'demand': 0, 'supply': []}, 3: {'demand': 0, 'supply': []}, 4: {'demand': 0, 'supply': []}, 5: {'demand': 0, 'supply': []}, 6: {'demand': 0, 'supply': []}, 7: {'demand': 0, 'supply': []}, 8: {'demand': 0, 'supply': []}, 9: {'demand': 0, 'supply': []}}\n",
      "{0: {'demand': 0, 'supply': []}, 1: {'demand': 1, 'supply': []}, 2: {'demand': 1, 'supply': []}, 3: {'demand': 2, 'supply': []}, 4: {'demand': 0, 'supply': []}, 5: {'demand': 0, 'supply': []}, 6: {'demand': 0, 'supply': [<environment.product.Product object at 0x000001A4117C33D0>, <environment.product.Product object at 0x000001A4117C3820>]}, 7: {'demand': 0, 'supply': [<environment.product.Product object at 0x000001A4117C32E0>]}, 8: {'demand': 1, 'supply': [<environment.product.Product object at 0x000001A4117C3340>]}, 9: {'demand': 0, 'supply': [<environment.product.Product object at 0x000001A4117C3370>]}}\n",
      "{0: {'demand': 1, 'supply': [<environment.product.Product object at 0x000001A4117C3760>]}, 1: {'demand': 3, 'supply': []}, 2: {'demand': 1, 'supply': [<environment.product.Product object at 0x000001A4117C37C0>, <environment.product.Product object at 0x000001A4117C3640>]}, 3: {'demand': 3, 'supply': []}, 4: {'demand': 1, 'supply': []}, 5: {'demand': 0, 'supply': []}, 6: {'demand': 0, 'supply': [<environment.product.Product object at 0x000001A4117C33D0>, <environment.product.Product object at 0x000001A4117C3820>]}, 7: {'demand': 0, 'supply': [<environment.product.Product object at 0x000001A4117C32E0>, <environment.product.Product object at 0x000001A4117C3700>]}, 8: {'demand': 1, 'supply': [<environment.product.Product object at 0x000001A4117C3340>]}, 9: {'demand': 0, 'supply': [<environment.product.Product object at 0x000001A4117C3370>, <environment.product.Product object at 0x000001A4117C36A0>]}}\n",
      "{0: {'demand': 1, 'supply': [<environment.product.Product object at 0x000001A4117C3760>, <environment.product.Product object at 0x000001A4117C3460>]}, 1: {'demand': 3, 'supply': []}, 2: {'demand': 2, 'supply': [<environment.product.Product object at 0x000001A4117C37C0>, <environment.product.Product object at 0x000001A4117C3640>, <environment.product.Product object at 0x000001A4117C35E0>]}, 3: {'demand': 3, 'supply': []}, 4: {'demand': 1, 'supply': []}, 5: {'demand': 0, 'supply': []}, 6: {'demand': 2, 'supply': [<environment.product.Product object at 0x000001A4117C33D0>, <environment.product.Product object at 0x000001A4117C3820>]}, 7: {'demand': 1, 'supply': [<environment.product.Product object at 0x000001A4117C32E0>, <environment.product.Product object at 0x000001A4117C3700>, <environment.product.Product object at 0x000001A4117C34C0>]}, 8: {'demand': 2, 'supply': [<environment.product.Product object at 0x000001A4117C3340>]}, 9: {'demand': 0, 'supply': [<environment.product.Product object at 0x000001A4117C3370>, <environment.product.Product object at 0x000001A4117C36A0>, <environment.product.Product object at 0x000001A4117C3580>, <environment.product.Product object at 0x000001A4117C3520>]}}\n",
      "{0: {'demand': 3, 'supply': [<environment.product.Product object at 0x000001A4117C3760>, <environment.product.Product object at 0x000001A4117C3460>]}, 1: {'demand': 3, 'supply': [<environment.product.Product object at 0x000001A4117C3220>]}, 2: {'demand': 3, 'supply': [<environment.product.Product object at 0x000001A4117C37C0>, <environment.product.Product object at 0x000001A4117C3640>, <environment.product.Product object at 0x000001A4117C35E0>]}, 3: {'demand': 4, 'supply': [<environment.product.Product object at 0x000001A4117C3190>]}, 4: {'demand': 1, 'supply': [<environment.product.Product object at 0x000001A4117C3400>]}, 5: {'demand': 0, 'supply': [<environment.product.Product object at 0x000001A4117C3280>]}, 6: {'demand': 3, 'supply': [<environment.product.Product object at 0x000001A4117C33D0>, <environment.product.Product object at 0x000001A4117C3820>, <environment.product.Product object at 0x000001A405D49730>]}, 7: {'demand': 1, 'supply': [<environment.product.Product object at 0x000001A4117C32E0>, <environment.product.Product object at 0x000001A4117C3700>, <environment.product.Product object at 0x000001A4117C34C0>]}, 8: {'demand': 2, 'supply': [<environment.product.Product object at 0x000001A4117C3340>]}, 9: {'demand': 0, 'supply': [<environment.product.Product object at 0x000001A4117C3370>, <environment.product.Product object at 0x000001A4117C36A0>, <environment.product.Product object at 0x000001A4117C3580>, <environment.product.Product object at 0x000001A4117C3520>]}}\n"
     ]
    }
   ],
   "source": [
    "world.reset()\n",
    "for _ in range(5):\n",
    "    print(world.market.report())\n",
    "    world.update()"
   ]
  },
  {
   "cell_type": "code",
   "execution_count": 4,
   "metadata": {},
   "outputs": [
    {
     "name": "stdout",
     "output_type": "stream",
     "text": [
      "0 0 0 0 0 0 0 0 0 0 \n",
      "0 0 0 0 0 0 0 0 0 0 \n",
      "0 0 0 0 0 0 0 0 0 0 \n",
      "0 0 0 0 0 0 0 0 0 0 \n",
      "0 0 0 0 0 0 0 0 0 0 \n",
      "0 0 0 0 0 0 0 0 0 0 \n",
      "0 0 0 0 0 0 0 0 0 0 \n",
      "0 0 0 0 0 0 0 0 0 0 \n",
      "0 0 0 0 0 0 0 0 0 0 \n",
      "0 0 0 0 0 0 0 0 0 0 \n"
     ]
    }
   ],
   "source": [
    "world.render()"
   ]
  },
  {
   "cell_type": "code",
   "execution_count": null,
   "metadata": {},
   "outputs": [],
   "source": []
  }
 ],
 "metadata": {
  "kernelspec": {
   "display_name": "mlagents",
   "language": "python",
   "name": "python3"
  },
  "language_info": {
   "codemirror_mode": {
    "name": "ipython",
    "version": 3
   },
   "file_extension": ".py",
   "mimetype": "text/x-python",
   "name": "python",
   "nbconvert_exporter": "python",
   "pygments_lexer": "ipython3",
   "version": "3.9.13"
  }
 },
 "nbformat": 4,
 "nbformat_minor": 2
}
