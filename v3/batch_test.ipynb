{
 "cells": [
  {
   "cell_type": "code",
   "execution_count": null,
   "id": "df5bfc74",
   "metadata": {},
   "outputs": [],
   "source": [
    "%load_ext autoreload\n",
    "%autoreload 2\n",
    "from use_case.tests import * \n",
    "from models.eval import *\n",
    "from models.model import *\n",
    "from models.trainer import *\n"
   ]
  },
  {
   "cell_type": "code",
   "execution_count": null,
   "id": "e847e64c",
   "metadata": {},
   "outputs": [
    {
     "name": "stderr",
     "output_type": "stream",
     "text": [
      "  2%|▏         | 4/200 [01:36<1:17:44, 23.80s/it]"
     ]
    }
   ],
   "source": [
    "for _ in range(0, 20):\n",
    "    equilibriua = []\n",
    "    while len(equilibriua) == 0:\n",
    "        seed = np.random.randint(0, 1e5)\n",
    "        env = initialize_baseline(seed = seed)\n",
    "\n",
    "        payoff_i = env.payoff_i\n",
    "        payoff_j = env.payoff_j\n",
    "        equilibriua = find_pure_equilibria(payoff_i, payoff_j)\n",
    "\n",
    "    for eq in equilibriua:\n",
    "        x, y = eq \n",
    "        a = (y[0] + y[1]) / 2\n",
    "\n",
    "        print(x, a)\n",
    "\n",
    "    parameters = ParameterSettings(\n",
    "        n_agents = env.n_agents,\n",
    "        d_action = env.n_actions, \n",
    "        d_obs = env.obs_size, \n",
    "        d_traits = env.d_traits,\n",
    "        d_het_latent = 4, \n",
    "        d_beliefs = env.d_beliefs,\n",
    "        d_relation = env.d_relation, \n",
    "        d_message = 4,\n",
    "        d_comm_state= env.d_comm_state,\n",
    "        device = \"cuda\"\n",
    "    )\n",
    "    model = PPOModel(parameters)\n",
    "\n",
    "    training_parameters = TrainingParameters(\n",
    "        outer_loops = 200,\n",
    "        \n",
    "        actor_learning_rate= 1e-4,\n",
    "        critic_learning_rate = 1e-4,\n",
    "        hypernet_learning_rate = 1e-4,\n",
    "\n",
    "        hypernet_jsd_threshold = 3.0,\n",
    "        hypernet_samples = 3000,\n",
    "        hypernet_jsd_weight = 1.0,\n",
    "        hypernet_entropy_weight = 0.01, \n",
    "        hypernet_diversity_weight= 1.0,\n",
    "\n",
    "        sampled_agents_proportion = 1.0,\n",
    "        experience_sampling_steps = 10,\n",
    "        experience_buffer_size = 10,\n",
    "\n",
    "        entropy_coeff = 0.2,\n",
    "\n",
    "        epsilon_period = 100,\n",
    "        epsilon_end = 0.1,\n",
    "        noise_scale = 1.0,\n",
    "\n",
    "        entropy_target = 0.5,\n",
    "\n",
    "        eval_temp = -1.0,\n",
    "        \n",
    "        # verbose = False,\n",
    "        device = parameters.device,\n",
    "        steps_per_epoch = 16,\n",
    "        checkpoint_interval= 200\n",
    "    )\n",
    "\n",
    "    train_model(model, env, training_parameters)\n"
   ]
  }
 ],
 "metadata": {
  "kernelspec": {
   "display_name": "thesis2",
   "language": "python",
   "name": "python3"
  },
  "language_info": {
   "codemirror_mode": {
    "name": "ipython",
    "version": 3
   },
   "file_extension": ".py",
   "mimetype": "text/x-python",
   "name": "python",
   "nbconvert_exporter": "python",
   "pygments_lexer": "ipython3",
   "version": "3.12.8"
  }
 },
 "nbformat": 4,
 "nbformat_minor": 5
}
