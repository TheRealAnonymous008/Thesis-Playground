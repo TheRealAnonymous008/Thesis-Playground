{
 "cells": [
  {
   "cell_type": "code",
   "execution_count": 2,
   "metadata": {},
   "outputs": [],
   "source": [
    "%load_ext autoreload\n",
    "%autoreload 2"
   ]
  },
  {
   "cell_type": "code",
   "execution_count": 3,
   "metadata": {},
   "outputs": [],
   "source": [
    "from use_case.econ import * \n",
    "\n",
    "econ_config = EconConfig()\n",
    "simulation = EconomyEnv(config=econ_config)"
   ]
  },
  {
   "cell_type": "code",
   "execution_count": 4,
   "metadata": {},
   "outputs": [],
   "source": [
    "for i in range(1_000):\n",
    "    action = simulation.action_space.sample()\n",
    "    simulation.step(action)\n"
   ]
  },
  {
   "cell_type": "code",
   "execution_count": 5,
   "metadata": {},
   "outputs": [],
   "source": [
    "action = simulation.action_space.sample()"
   ]
  },
  {
   "cell_type": "code",
   "execution_count": 6,
   "metadata": {},
   "outputs": [
    {
     "name": "stdout",
     "output_type": "stream",
     "text": [
      "id\n",
      "0      [0.10224850475788116, 0.12947878241539001, 0.3...\n",
      "1      [0.9142490029335022, 0.7313034534454346, 0.469...\n",
      "2      [0.9184916615486145, 0.5809744000434875, 0.986...\n",
      "3      [0.6666216254234314, 0.47599661350250244, 0.70...\n",
      "4      [0.27832362055778503, 0.7096375226974487, 0.52...\n",
      "                             ...                        \n",
      "995    [0.29545098543167114, 0.8796188831329346, 0.95...\n",
      "996    [0.5669780969619751, 0.5855277180671692, 0.448...\n",
      "997    [0.5055596232414246, 0.3079436421394348, 0.543...\n",
      "998    [0.29767680168151855, 0.7317235469818115, 0.22...\n",
      "999    [0.6217982769012451, 0.126475989818573, 0.7819...\n",
      "Name: budget, Length: 1000, dtype: object\n"
     ]
    }
   ],
   "source": [
    "obs, _, _, _ = simulation.step(action)\n",
    "print(simulation.households[\"budget\"])"
   ]
  }
 ],
 "metadata": {
  "kernelspec": {
   "display_name": "thesis2",
   "language": "python",
   "name": "python3"
  },
  "language_info": {
   "codemirror_mode": {
    "name": "ipython",
    "version": 3
   },
   "file_extension": ".py",
   "mimetype": "text/x-python",
   "name": "python",
   "nbconvert_exporter": "python",
   "pygments_lexer": "ipython3",
   "version": "3.12.8"
  }
 },
 "nbformat": 4,
 "nbformat_minor": 2
}
