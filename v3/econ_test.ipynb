{
 "cells": [
  {
   "cell_type": "code",
   "execution_count": 48,
   "metadata": {},
   "outputs": [
    {
     "name": "stdout",
     "output_type": "stream",
     "text": [
      "The autoreload extension is already loaded. To reload it, use:\n",
      "  %reload_ext autoreload\n"
     ]
    }
   ],
   "source": [
    "%load_ext autoreload\n",
    "%autoreload 2"
   ]
  },
  {
   "cell_type": "code",
   "execution_count": 49,
   "metadata": {},
   "outputs": [],
   "source": [
    "from use_case.econ import * \n",
    "\n",
    "econ_config = EconConfig()\n",
    "simulation = EconomyEnv(config=econ_config)"
   ]
  },
  {
   "cell_type": "code",
   "execution_count": 50,
   "metadata": {},
   "outputs": [],
   "source": [
    "k =  simulation.config.neighbor_sampling_threshold\n",
    "for i in range(1_000):\n",
    "\n",
    "    # Set all actions as normal\n",
    "    action = simulation.action_space.sample()\n",
    "\n",
    "    # THen determine who to transact with \n",
    "    households = simulation.get_agents(AgentType.HOUSEHOLD)\n",
    "    c_firms = simulation.get_agents(AgentType.C_FIRM)\n",
    "    for house in households: \n",
    "        neighbors = simulation._network.sample(house, k)\n",
    "        for neighbor in neighbors:\n",
    "            if neighbor in c_firms: \n",
    "                # Buy from neighbor probably  \n",
    "                if np.random.uniform(0, 1) >  1 / k: \n",
    "                    simulation.make_transaction(house, neighbor, 1)\n",
    "                    break  \n",
    "\n",
    "    simulation.step(action)\n"
   ]
  },
  {
   "cell_type": "code",
   "execution_count": 51,
   "metadata": {},
   "outputs": [],
   "source": [
    "action = simulation.action_space.sample()"
   ]
  },
  {
   "cell_type": "code",
   "execution_count": 52,
   "metadata": {},
   "outputs": [
    {
     "name": "stdout",
     "output_type": "stream",
     "text": [
      "id\n",
      "0      0.634860\n",
      "1      0.052281\n",
      "2      0.334772\n",
      "3      0.023811\n",
      "4      0.240643\n",
      "         ...   \n",
      "995    0.967173\n",
      "996    0.389191\n",
      "997    0.316372\n",
      "998    0.763125\n",
      "999    0.688129\n",
      "Name: budget, Length: 1000, dtype: float32\n"
     ]
    }
   ],
   "source": [
    "obs, _, _, _ = simulation.step(action)\n",
    "print(simulation.households[\"budget\"])"
   ]
  }
 ],
 "metadata": {
  "kernelspec": {
   "display_name": "thesis2",
   "language": "python",
   "name": "python3"
  },
  "language_info": {
   "codemirror_mode": {
    "name": "ipython",
    "version": 3
   },
   "file_extension": ".py",
   "mimetype": "text/x-python",
   "name": "python",
   "nbconvert_exporter": "python",
   "pygments_lexer": "ipython3",
   "version": "3.12.8"
  }
 },
 "nbformat": 4,
 "nbformat_minor": 2
}
