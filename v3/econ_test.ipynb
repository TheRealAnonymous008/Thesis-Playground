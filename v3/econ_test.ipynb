{
 "cells": [
  {
   "cell_type": "code",
   "execution_count": 6,
   "metadata": {},
   "outputs": [
    {
     "name": "stdout",
     "output_type": "stream",
     "text": [
      "The autoreload extension is already loaded. To reload it, use:\n",
      "  %reload_ext autoreload\n"
     ]
    }
   ],
   "source": [
    "%load_ext autoreload\n",
    "%autoreload 2"
   ]
  },
  {
   "cell_type": "code",
   "execution_count": 7,
   "metadata": {},
   "outputs": [],
   "source": [
    "from use_case.econ import * \n",
    "\n",
    "econ_config = EconConfig()\n",
    "simulation = EconomyEnv(config=econ_config)"
   ]
  },
  {
   "cell_type": "code",
   "execution_count": 8,
   "metadata": {},
   "outputs": [],
   "source": [
    "for i in range(1_000):\n",
    "    action = simulation.action_space.sample()\n",
    "    simulation.step(action)\n"
   ]
  },
  {
   "cell_type": "code",
   "execution_count": 9,
   "metadata": {},
   "outputs": [],
   "source": [
    "action = simulation.action_space.sample()"
   ]
  },
  {
   "cell_type": "code",
   "execution_count": 10,
   "metadata": {},
   "outputs": [
    {
     "name": "stdout",
     "output_type": "stream",
     "text": [
      "id\n",
      "0      0.038810\n",
      "1      0.047857\n",
      "2      0.812423\n",
      "3      0.549732\n",
      "4      0.351028\n",
      "         ...   \n",
      "995    0.465078\n",
      "996    0.933634\n",
      "997    0.489523\n",
      "998    0.649273\n",
      "999    0.417858\n",
      "Name: budget, Length: 1000, dtype: float32\n"
     ]
    }
   ],
   "source": [
    "obs, _, _, _ = simulation.step(action)\n",
    "print(simulation.households[\"budget\"])"
   ]
  },
  {
   "cell_type": "code",
   "execution_count": null,
   "metadata": {},
   "outputs": [],
   "source": [
    "network = simulation._network \n",
    "for i in range(0, network.N):\n",
    "    print(i, network.sample(i, 2))"
   ]
  }
 ],
 "metadata": {
  "kernelspec": {
   "display_name": "thesis2",
   "language": "python",
   "name": "python3"
  },
  "language_info": {
   "codemirror_mode": {
    "name": "ipython",
    "version": 3
   },
   "file_extension": ".py",
   "mimetype": "text/x-python",
   "name": "python",
   "nbconvert_exporter": "python",
   "pygments_lexer": "ipython3",
   "version": "3.12.8"
  }
 },
 "nbformat": 4,
 "nbformat_minor": 2
}
