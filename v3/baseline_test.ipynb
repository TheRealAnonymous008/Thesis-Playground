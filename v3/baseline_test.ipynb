{
 "cells": [
  {
   "cell_type": "code",
   "execution_count": 1,
   "id": "0764cab5",
   "metadata": {},
   "outputs": [],
   "source": [
    "%load_ext autoreload\n",
    "%autoreload 2"
   ]
  },
  {
   "cell_type": "code",
   "execution_count": 2,
   "id": "59353c2a",
   "metadata": {},
   "outputs": [],
   "source": [
    "from use_case.baseline import * \n",
    "from tests.eval import *\n",
    "\n",
    "np.random.seed(1337)\n",
    "\n",
    "N = 20\n",
    "payoff_i = np.random.uniform(-10, 10, (N, N))\n",
    "payoff_j = np.random.uniform(-10, 10, (N, N))\n",
    "\n",
    "# Initialize environment\n",
    "N_ACTIONS = payoff_i.shape[0]\n",
    "N_AGENTS = 2000\n",
    "env = BaselineEnvironment(N_AGENTS, payoff_i, payoff_j, total_games = 1)"
   ]
  },
  {
   "cell_type": "markdown",
   "id": "43af11f7",
   "metadata": {},
   "source": [
    "# Actual Run"
   ]
  },
  {
   "cell_type": "code",
   "execution_count": 3,
   "id": "1f3281f7",
   "metadata": {},
   "outputs": [],
   "source": [
    "from models.model import *\n",
    "from models.trainer import *\n",
    "from torch.utils.tensorboard import SummaryWriter\n"
   ]
  },
  {
   "cell_type": "code",
   "execution_count": 4,
   "id": "2e4f52f1",
   "metadata": {},
   "outputs": [],
   "source": [
    "# Configure the network here\n",
    "parameters = ParameterSettings(\n",
    "    n_agents = N_AGENTS,\n",
    "    d_action = N_ACTIONS, \n",
    "    d_obs = env.obs_size, \n",
    "    d_traits = 1,\n",
    "    d_beliefs = 1\n",
    ")\n",
    "parameters.device = \"cuda\" if torch.cuda.is_available() else \"cpu\"\n",
    "\n",
    "model = Model(parameters)"
   ]
  },
  {
   "cell_type": "code",
   "execution_count": 5,
   "id": "109d0629",
   "metadata": {},
   "outputs": [
    {
     "name": "stdout",
     "output_type": "stream",
     "text": [
      "(18, 10) 9.42934343544164\n"
     ]
    }
   ],
   "source": [
    "equilibriua = find_pure_equilibria(payoff_i, payoff_j)\n",
    "\n",
    "for eq in equilibriua:\n",
    "    x, y = eq \n",
    "    a = (y[0] + y[1]) / 2\n",
    "\n",
    "    print(x, a)"
   ]
  },
  {
   "cell_type": "code",
   "execution_count": 6,
   "id": "78db5dab",
   "metadata": {},
   "outputs": [
    {
     "data": {
      "text/plain": [
       "np.float64(-0.004720429133506836)"
      ]
     },
     "execution_count": 6,
     "metadata": {},
     "output_type": "execute_result"
    }
   ],
   "source": [
    "evaluate_policy(model, env, 10)"
   ]
  },
  {
   "cell_type": "code",
   "execution_count": null,
   "id": "a5d9d391",
   "metadata": {},
   "outputs": [
    {
     "name": "stdout",
     "output_type": "stream",
     "text": [
      "Epoch 0\n"
     ]
    },
    {
     "name": "stderr",
     "output_type": "stream",
     "text": [
      "Hypernet Loop: 100%|██████████| 10/10 [00:04<00:00,  2.47it/s]\n",
      "Actor Training: 100%|██████████| 30/30 [00:08<00:00,  3.34it/s]\n"
     ]
    },
    {
     "name": "stdout",
     "output_type": "stream",
     "text": [
      "Epoch 1\n"
     ]
    },
    {
     "name": "stderr",
     "output_type": "stream",
     "text": [
      "Hypernet Loop: 100%|██████████| 10/10 [00:03<00:00,  2.74it/s]\n",
      "Actor Training: 100%|██████████| 30/30 [00:09<00:00,  3.26it/s]\n"
     ]
    },
    {
     "name": "stdout",
     "output_type": "stream",
     "text": [
      "Epoch 2\n"
     ]
    },
    {
     "name": "stderr",
     "output_type": "stream",
     "text": [
      "Hypernet Loop: 100%|██████████| 10/10 [00:03<00:00,  2.69it/s]\n",
      "Actor Training: 100%|██████████| 30/30 [00:09<00:00,  3.15it/s]\n"
     ]
    },
    {
     "name": "stdout",
     "output_type": "stream",
     "text": [
      "Epoch 3\n"
     ]
    },
    {
     "name": "stderr",
     "output_type": "stream",
     "text": [
      "Hypernet Loop: 100%|██████████| 10/10 [00:03<00:00,  2.71it/s]\n",
      "Actor Training: 100%|██████████| 30/30 [00:09<00:00,  3.29it/s]\n"
     ]
    },
    {
     "name": "stdout",
     "output_type": "stream",
     "text": [
      "Epoch 4\n"
     ]
    },
    {
     "name": "stderr",
     "output_type": "stream",
     "text": [
      "Hypernet Loop: 100%|██████████| 10/10 [00:03<00:00,  2.75it/s]\n",
      "Actor Training: 100%|██████████| 30/30 [00:08<00:00,  3.43it/s]\n"
     ]
    },
    {
     "name": "stdout",
     "output_type": "stream",
     "text": [
      "Epoch 5\n"
     ]
    },
    {
     "name": "stderr",
     "output_type": "stream",
     "text": [
      "Hypernet Loop: 100%|██████████| 10/10 [00:03<00:00,  2.91it/s]\n",
      "Actor Training: 100%|██████████| 30/30 [00:08<00:00,  3.38it/s]\n"
     ]
    },
    {
     "name": "stdout",
     "output_type": "stream",
     "text": [
      "Epoch 6\n"
     ]
    },
    {
     "name": "stderr",
     "output_type": "stream",
     "text": [
      "Hypernet Loop: 100%|██████████| 10/10 [00:03<00:00,  2.77it/s]\n",
      "Actor Training: 100%|██████████| 30/30 [00:09<00:00,  3.32it/s]\n"
     ]
    },
    {
     "name": "stdout",
     "output_type": "stream",
     "text": [
      "Epoch 7\n"
     ]
    },
    {
     "name": "stderr",
     "output_type": "stream",
     "text": [
      "Hypernet Loop: 100%|██████████| 10/10 [00:03<00:00,  2.92it/s]\n",
      "Actor Training: 100%|██████████| 30/30 [00:08<00:00,  3.35it/s]\n"
     ]
    },
    {
     "name": "stdout",
     "output_type": "stream",
     "text": [
      "Epoch 8\n"
     ]
    },
    {
     "name": "stderr",
     "output_type": "stream",
     "text": [
      "Hypernet Loop: 100%|██████████| 10/10 [00:03<00:00,  2.83it/s]\n",
      "Actor Training: 100%|██████████| 30/30 [00:09<00:00,  3.29it/s]\n"
     ]
    },
    {
     "name": "stdout",
     "output_type": "stream",
     "text": [
      "Epoch 9\n"
     ]
    },
    {
     "name": "stderr",
     "output_type": "stream",
     "text": [
      "Hypernet Loop: 100%|██████████| 10/10 [00:03<00:00,  2.82it/s]\n",
      "Actor Training: 100%|██████████| 30/30 [00:08<00:00,  3.39it/s]\n"
     ]
    },
    {
     "name": "stdout",
     "output_type": "stream",
     "text": [
      "Epoch 10\n"
     ]
    },
    {
     "name": "stderr",
     "output_type": "stream",
     "text": [
      "Hypernet Loop: 100%|██████████| 10/10 [00:03<00:00,  2.62it/s]\n",
      "Actor Training: 100%|██████████| 30/30 [00:23<00:00,  1.29it/s]\n"
     ]
    },
    {
     "name": "stdout",
     "output_type": "stream",
     "text": [
      "Epoch 11\n"
     ]
    },
    {
     "name": "stderr",
     "output_type": "stream",
     "text": [
      "Hypernet Loop: 100%|██████████| 10/10 [00:09<00:00,  1.07it/s]\n",
      "Actor Training: 100%|██████████| 30/30 [00:23<00:00,  1.30it/s]\n"
     ]
    },
    {
     "name": "stdout",
     "output_type": "stream",
     "text": [
      "Epoch 12\n"
     ]
    },
    {
     "name": "stderr",
     "output_type": "stream",
     "text": [
      "Hypernet Loop: 100%|██████████| 10/10 [00:09<00:00,  1.02it/s]\n",
      "Actor Training: 100%|██████████| 30/30 [00:25<00:00,  1.19it/s]\n"
     ]
    },
    {
     "name": "stdout",
     "output_type": "stream",
     "text": [
      "Epoch 13\n"
     ]
    },
    {
     "name": "stderr",
     "output_type": "stream",
     "text": [
      "Hypernet Loop: 100%|██████████| 10/10 [00:09<00:00,  1.08it/s]\n",
      "Actor Training: 100%|██████████| 30/30 [00:22<00:00,  1.33it/s]\n"
     ]
    },
    {
     "name": "stdout",
     "output_type": "stream",
     "text": [
      "Epoch 14\n"
     ]
    },
    {
     "name": "stderr",
     "output_type": "stream",
     "text": [
      "Hypernet Loop: 100%|██████████| 10/10 [00:08<00:00,  1.11it/s]\n",
      "Actor Training: 100%|██████████| 30/30 [00:22<00:00,  1.31it/s]\n"
     ]
    },
    {
     "name": "stdout",
     "output_type": "stream",
     "text": [
      "Epoch 15\n"
     ]
    },
    {
     "name": "stderr",
     "output_type": "stream",
     "text": [
      "Hypernet Loop: 100%|██████████| 10/10 [00:09<00:00,  1.03it/s]\n",
      "Actor Training: 100%|██████████| 30/30 [00:24<00:00,  1.23it/s]\n"
     ]
    },
    {
     "name": "stdout",
     "output_type": "stream",
     "text": [
      "Epoch 16\n"
     ]
    },
    {
     "name": "stderr",
     "output_type": "stream",
     "text": [
      "Hypernet Loop: 100%|██████████| 10/10 [00:09<00:00,  1.00it/s]\n",
      "Actor Training: 100%|██████████| 30/30 [00:23<00:00,  1.29it/s]\n"
     ]
    },
    {
     "name": "stdout",
     "output_type": "stream",
     "text": [
      "Epoch 17\n"
     ]
    },
    {
     "name": "stderr",
     "output_type": "stream",
     "text": [
      "Hypernet Loop: 100%|██████████| 10/10 [00:09<00:00,  1.07it/s]\n",
      "Actor Training: 100%|██████████| 30/30 [00:23<00:00,  1.27it/s]\n"
     ]
    },
    {
     "name": "stdout",
     "output_type": "stream",
     "text": [
      "Epoch 18\n"
     ]
    },
    {
     "name": "stderr",
     "output_type": "stream",
     "text": [
      "Hypernet Loop: 100%|██████████| 10/10 [00:09<00:00,  1.09it/s]\n",
      "Actor Training: 100%|██████████| 30/30 [00:24<00:00,  1.23it/s]\n"
     ]
    },
    {
     "name": "stdout",
     "output_type": "stream",
     "text": [
      "Epoch 19\n"
     ]
    },
    {
     "name": "stderr",
     "output_type": "stream",
     "text": [
      "Hypernet Loop: 100%|██████████| 10/10 [00:10<00:00,  1.00s/it]\n",
      "Actor Training: 100%|██████████| 30/30 [00:23<00:00,  1.27it/s]\n"
     ]
    },
    {
     "name": "stdout",
     "output_type": "stream",
     "text": [
      "Epoch 20\n"
     ]
    },
    {
     "name": "stderr",
     "output_type": "stream",
     "text": [
      "Hypernet Loop: 100%|██████████| 10/10 [00:09<00:00,  1.00it/s]\n",
      "Actor Training: 100%|██████████| 30/30 [00:23<00:00,  1.26it/s]\n"
     ]
    },
    {
     "name": "stdout",
     "output_type": "stream",
     "text": [
      "Epoch 21\n"
     ]
    },
    {
     "name": "stderr",
     "output_type": "stream",
     "text": [
      "Hypernet Loop: 100%|██████████| 10/10 [00:09<00:00,  1.06it/s]\n",
      "Actor Training: 100%|██████████| 30/30 [00:09<00:00,  3.21it/s]\n"
     ]
    },
    {
     "name": "stdout",
     "output_type": "stream",
     "text": [
      "Epoch 22\n"
     ]
    },
    {
     "name": "stderr",
     "output_type": "stream",
     "text": [
      "Hypernet Loop: 100%|██████████| 10/10 [00:03<00:00,  2.85it/s]\n",
      "Actor Training: 100%|██████████| 30/30 [00:08<00:00,  3.48it/s]\n"
     ]
    },
    {
     "name": "stdout",
     "output_type": "stream",
     "text": [
      "Epoch 23\n"
     ]
    },
    {
     "name": "stderr",
     "output_type": "stream",
     "text": [
      "Hypernet Loop: 100%|██████████| 10/10 [00:03<00:00,  2.86it/s]\n",
      "Actor Training: 100%|██████████| 30/30 [00:08<00:00,  3.51it/s]\n"
     ]
    },
    {
     "name": "stdout",
     "output_type": "stream",
     "text": [
      "Epoch 24\n"
     ]
    },
    {
     "name": "stderr",
     "output_type": "stream",
     "text": [
      "Hypernet Loop: 100%|██████████| 10/10 [00:03<00:00,  2.74it/s]\n",
      "Actor Training: 100%|██████████| 30/30 [00:22<00:00,  1.33it/s]\n"
     ]
    },
    {
     "name": "stdout",
     "output_type": "stream",
     "text": [
      "Epoch 25\n"
     ]
    },
    {
     "name": "stderr",
     "output_type": "stream",
     "text": [
      "Hypernet Loop: 100%|██████████| 10/10 [00:09<00:00,  1.09it/s]\n",
      "Actor Training: 100%|██████████| 30/30 [00:22<00:00,  1.35it/s]\n"
     ]
    },
    {
     "name": "stdout",
     "output_type": "stream",
     "text": [
      "Epoch 26\n"
     ]
    },
    {
     "name": "stderr",
     "output_type": "stream",
     "text": [
      "Hypernet Loop: 100%|██████████| 10/10 [00:09<00:00,  1.11it/s]\n",
      "Actor Training: 100%|██████████| 30/30 [00:23<00:00,  1.26it/s]\n"
     ]
    },
    {
     "name": "stdout",
     "output_type": "stream",
     "text": [
      "Epoch 27\n"
     ]
    },
    {
     "name": "stderr",
     "output_type": "stream",
     "text": [
      "Hypernet Loop: 100%|██████████| 10/10 [00:09<00:00,  1.00it/s]\n",
      "Actor Training: 100%|██████████| 30/30 [00:08<00:00,  3.34it/s]\n"
     ]
    },
    {
     "name": "stdout",
     "output_type": "stream",
     "text": [
      "Epoch 28\n"
     ]
    },
    {
     "name": "stderr",
     "output_type": "stream",
     "text": [
      "Hypernet Loop: 100%|██████████| 10/10 [00:03<00:00,  2.67it/s]\n",
      "Actor Training: 100%|██████████| 30/30 [00:09<00:00,  3.22it/s]\n"
     ]
    },
    {
     "name": "stdout",
     "output_type": "stream",
     "text": [
      "Epoch 29\n"
     ]
    },
    {
     "name": "stderr",
     "output_type": "stream",
     "text": [
      "Hypernet Loop: 100%|██████████| 10/10 [00:03<00:00,  2.67it/s]\n",
      "Actor Training: 100%|██████████| 30/30 [00:09<00:00,  3.31it/s]\n"
     ]
    },
    {
     "name": "stdout",
     "output_type": "stream",
     "text": [
      "Epoch 30\n"
     ]
    },
    {
     "name": "stderr",
     "output_type": "stream",
     "text": [
      "Hypernet Loop: 100%|██████████| 10/10 [00:03<00:00,  2.85it/s]\n",
      "Actor Training: 100%|██████████| 30/30 [00:08<00:00,  3.51it/s]\n"
     ]
    },
    {
     "name": "stdout",
     "output_type": "stream",
     "text": [
      "Epoch 31\n"
     ]
    },
    {
     "name": "stderr",
     "output_type": "stream",
     "text": [
      "Hypernet Loop: 100%|██████████| 10/10 [00:03<00:00,  2.87it/s]\n",
      "Actor Training: 100%|██████████| 30/30 [00:08<00:00,  3.43it/s]\n"
     ]
    },
    {
     "name": "stdout",
     "output_type": "stream",
     "text": [
      "Epoch 32\n"
     ]
    },
    {
     "name": "stderr",
     "output_type": "stream",
     "text": [
      "Hypernet Loop: 100%|██████████| 10/10 [00:03<00:00,  2.81it/s]\n",
      "Actor Training: 100%|██████████| 30/30 [00:08<00:00,  3.35it/s]\n"
     ]
    },
    {
     "name": "stdout",
     "output_type": "stream",
     "text": [
      "Epoch 33\n"
     ]
    },
    {
     "name": "stderr",
     "output_type": "stream",
     "text": [
      "Hypernet Loop: 100%|██████████| 10/10 [00:03<00:00,  2.88it/s]\n",
      "Actor Training: 100%|██████████| 30/30 [00:08<00:00,  3.44it/s]\n"
     ]
    },
    {
     "name": "stdout",
     "output_type": "stream",
     "text": [
      "Epoch 34\n"
     ]
    },
    {
     "name": "stderr",
     "output_type": "stream",
     "text": [
      "Hypernet Loop: 100%|██████████| 10/10 [00:03<00:00,  2.79it/s]\n",
      "Actor Training: 100%|██████████| 30/30 [00:08<00:00,  3.39it/s]\n"
     ]
    },
    {
     "name": "stdout",
     "output_type": "stream",
     "text": [
      "Epoch 35\n"
     ]
    },
    {
     "name": "stderr",
     "output_type": "stream",
     "text": [
      "Hypernet Loop: 100%|██████████| 10/10 [00:03<00:00,  2.73it/s]\n",
      "Actor Training: 100%|██████████| 30/30 [00:09<00:00,  3.11it/s]\n"
     ]
    },
    {
     "name": "stdout",
     "output_type": "stream",
     "text": [
      "Epoch 36\n"
     ]
    },
    {
     "name": "stderr",
     "output_type": "stream",
     "text": [
      "Hypernet Loop: 100%|██████████| 10/10 [00:09<00:00,  1.04it/s]\n",
      "Actor Training: 100%|██████████| 30/30 [00:23<00:00,  1.27it/s]\n"
     ]
    },
    {
     "name": "stdout",
     "output_type": "stream",
     "text": [
      "Epoch 37\n"
     ]
    },
    {
     "name": "stderr",
     "output_type": "stream",
     "text": [
      "Hypernet Loop: 100%|██████████| 10/10 [00:09<00:00,  1.06it/s]\n",
      "Actor Training: 100%|██████████| 30/30 [00:23<00:00,  1.27it/s]\n"
     ]
    },
    {
     "name": "stdout",
     "output_type": "stream",
     "text": [
      "Epoch 38\n"
     ]
    },
    {
     "name": "stderr",
     "output_type": "stream",
     "text": [
      "Hypernet Loop: 100%|██████████| 10/10 [00:03<00:00,  2.68it/s]\n",
      "Actor Training: 100%|██████████| 30/30 [00:08<00:00,  3.50it/s]\n"
     ]
    },
    {
     "name": "stdout",
     "output_type": "stream",
     "text": [
      "Epoch 39\n"
     ]
    },
    {
     "name": "stderr",
     "output_type": "stream",
     "text": [
      "Hypernet Loop: 100%|██████████| 10/10 [00:03<00:00,  2.89it/s]\n",
      "Actor Training: 100%|██████████| 30/30 [00:08<00:00,  3.47it/s]\n"
     ]
    },
    {
     "name": "stdout",
     "output_type": "stream",
     "text": [
      "Epoch 40\n"
     ]
    },
    {
     "name": "stderr",
     "output_type": "stream",
     "text": [
      "Hypernet Loop: 100%|██████████| 10/10 [00:03<00:00,  2.92it/s]\n",
      "Actor Training: 100%|██████████| 30/30 [00:08<00:00,  3.44it/s]\n"
     ]
    },
    {
     "name": "stdout",
     "output_type": "stream",
     "text": [
      "Epoch 41\n"
     ]
    },
    {
     "name": "stderr",
     "output_type": "stream",
     "text": [
      "Hypernet Loop: 100%|██████████| 10/10 [00:03<00:00,  2.84it/s]\n",
      "Actor Training: 100%|██████████| 30/30 [00:08<00:00,  3.36it/s]\n"
     ]
    },
    {
     "name": "stdout",
     "output_type": "stream",
     "text": [
      "Epoch 42\n"
     ]
    },
    {
     "name": "stderr",
     "output_type": "stream",
     "text": [
      "Hypernet Loop: 100%|██████████| 10/10 [00:03<00:00,  2.82it/s]\n",
      "Actor Training: 100%|██████████| 30/30 [00:08<00:00,  3.40it/s]\n"
     ]
    },
    {
     "name": "stdout",
     "output_type": "stream",
     "text": [
      "Epoch 43\n"
     ]
    },
    {
     "name": "stderr",
     "output_type": "stream",
     "text": [
      "Hypernet Loop: 100%|██████████| 10/10 [00:03<00:00,  2.83it/s]\n",
      "Actor Training: 100%|██████████| 30/30 [00:08<00:00,  3.36it/s]\n"
     ]
    },
    {
     "name": "stdout",
     "output_type": "stream",
     "text": [
      "Epoch 44\n"
     ]
    },
    {
     "name": "stderr",
     "output_type": "stream",
     "text": [
      "Hypernet Loop: 100%|██████████| 10/10 [00:03<00:00,  2.84it/s]\n",
      "Actor Training: 100%|██████████| 30/30 [00:08<00:00,  3.43it/s]\n"
     ]
    },
    {
     "name": "stdout",
     "output_type": "stream",
     "text": [
      "Epoch 45\n"
     ]
    },
    {
     "name": "stderr",
     "output_type": "stream",
     "text": [
      "Hypernet Loop: 100%|██████████| 10/10 [00:03<00:00,  2.81it/s]\n",
      "Actor Training:  23%|██▎       | 7/30 [00:02<00:06,  3.43it/s]"
     ]
    }
   ],
   "source": [
    "# Setup the training loop\n",
    "training_parameters = TrainingParameters(\n",
    "    outer_loops = 200,\n",
    "    hypernet_training_loops= 10, \n",
    "    actor_training_loops = 30,\n",
    "\n",
    "    actor_learning_rate= 2.5e-4,\n",
    "    critic_learning_rate = 1e-3,\n",
    "    hypernet_learning_rate = 2.5e-4,\n",
    "\n",
    "    hypernet_jsd_threshold = 0.25,\n",
    "\n",
    "    sampled_agents = N_AGENTS // 4,\n",
    "    experience_buffer_size = 10,\n",
    "\n",
    ")\n",
    "\n",
    "\n",
    "train_model(model, env, training_parameters)\n",
    "        "
   ]
  },
  {
   "cell_type": "markdown",
   "id": "c83f73be",
   "metadata": {},
   "source": [
    "# Heterogeneous Baseline"
   ]
  },
  {
   "cell_type": "code",
   "execution_count": 1,
   "id": "453ef618",
   "metadata": {},
   "outputs": [],
   "source": [
    "%load_ext autoreload\n",
    "%autoreload 2"
   ]
  },
  {
   "cell_type": "code",
   "execution_count": 2,
   "id": "6d7afc77",
   "metadata": {},
   "outputs": [],
   "source": [
    "from use_case.baseline import * \n",
    "from tests.eval import *\n",
    "from models.model import *\n",
    "from models.trainer import *\n"
   ]
  },
  {
   "cell_type": "code",
   "execution_count": 3,
   "id": "09398cb1",
   "metadata": {},
   "outputs": [],
   "source": [
    "np.random.seed(1337)\n",
    "\n",
    "N_AGENTS = 2000 \n",
    "N_TYPES = 10\n",
    "N_ACTIONS = 10\n",
    "type_payoffs = np.random.uniform(-10, 10, (N_TYPES, N_TYPES, 2, N_ACTIONS, N_ACTIONS))\n",
    "env = BaselineHeterogeneous(N_AGENTS, N_TYPES, type_payoffs)"
   ]
  },
  {
   "cell_type": "code",
   "execution_count": 4,
   "id": "1d6d2183",
   "metadata": {},
   "outputs": [],
   "source": [
    "# Configure the network here\n",
    "parameters = ParameterSettings(\n",
    "    n_agents = N_AGENTS,\n",
    "    d_action = N_ACTIONS, \n",
    "    d_obs = env.obs_size, \n",
    "    d_traits = N_TYPES,\n",
    "    d_beliefs = 1\n",
    "    \n",
    ")\n",
    "parameters.device = \"cuda\" if torch.cuda.is_available() else \"cpu\"\n",
    "\n",
    "model = Model(parameters)"
   ]
  },
  {
   "cell_type": "code",
   "execution_count": 5,
   "id": "09097f46",
   "metadata": {},
   "outputs": [],
   "source": [
    "# Setup the training loop\n",
    "training_parameters = TrainingParameters(\n",
    "    outer_loops = 200,\n",
    "    hypernet_training_loops= 10, \n",
    "    actor_training_loops = 30,\n",
    "\n",
    "    actor_learning_rate= 2.5e-4,\n",
    "    critic_learning_rate = 1e-3,\n",
    "    hypernet_learning_rate = 2.5e-4,\n",
    "\n",
    "    hypernet_jsd_threshold = 0.25,\n",
    "\n",
    "    sampled_agents = N_AGENTS // 4,\n",
    "    experience_buffer_size = 10,\n",
    "\n",
    ")\n"
   ]
  },
  {
   "cell_type": "code",
   "execution_count": null,
   "id": "ffbd4239",
   "metadata": {},
   "outputs": [
    {
     "name": "stdout",
     "output_type": "stream",
     "text": [
      "Epoch 0\n"
     ]
    },
    {
     "name": "stderr",
     "output_type": "stream",
     "text": [
      "Hypernet Loop: 100%|██████████| 10/10 [00:42<00:00,  4.28s/it]\n",
      "Actor Training: 100%|██████████| 30/30 [02:04<00:00,  4.16s/it]\n"
     ]
    },
    {
     "name": "stdout",
     "output_type": "stream",
     "text": [
      "Epoch 1\n"
     ]
    },
    {
     "name": "stderr",
     "output_type": "stream",
     "text": [
      "Hypernet Loop: 100%|██████████| 10/10 [00:41<00:00,  4.15s/it]\n",
      "Actor Training: 100%|██████████| 30/30 [02:03<00:00,  4.10s/it]\n"
     ]
    },
    {
     "name": "stdout",
     "output_type": "stream",
     "text": [
      "Epoch 2\n"
     ]
    },
    {
     "name": "stderr",
     "output_type": "stream",
     "text": [
      "Hypernet Loop: 100%|██████████| 10/10 [00:42<00:00,  4.22s/it]\n",
      "Actor Training: 100%|██████████| 30/30 [02:30<00:00,  5.03s/it]\n"
     ]
    },
    {
     "name": "stdout",
     "output_type": "stream",
     "text": [
      "Epoch 3\n"
     ]
    },
    {
     "name": "stderr",
     "output_type": "stream",
     "text": [
      "Hypernet Loop: 100%|██████████| 10/10 [00:45<00:00,  4.57s/it]\n",
      "Actor Training: 100%|██████████| 30/30 [02:56<00:00,  5.90s/it]\n"
     ]
    },
    {
     "name": "stdout",
     "output_type": "stream",
     "text": [
      "Epoch 4\n"
     ]
    },
    {
     "name": "stderr",
     "output_type": "stream",
     "text": [
      "Hypernet Loop: 100%|██████████| 10/10 [01:04<00:00,  6.42s/it]\n",
      "Actor Training: 100%|██████████| 30/30 [02:47<00:00,  5.57s/it]\n"
     ]
    },
    {
     "name": "stdout",
     "output_type": "stream",
     "text": [
      "Epoch 5\n"
     ]
    },
    {
     "name": "stderr",
     "output_type": "stream",
     "text": [
      "Hypernet Loop: 100%|██████████| 10/10 [01:05<00:00,  6.54s/it]\n",
      "Actor Training: 100%|██████████| 30/30 [03:05<00:00,  6.18s/it]\n"
     ]
    },
    {
     "name": "stdout",
     "output_type": "stream",
     "text": [
      "Epoch 6\n"
     ]
    },
    {
     "name": "stderr",
     "output_type": "stream",
     "text": [
      "Hypernet Loop: 100%|██████████| 10/10 [01:01<00:00,  6.19s/it]\n",
      "Actor Training: 100%|██████████| 30/30 [02:29<00:00,  4.97s/it]\n"
     ]
    },
    {
     "name": "stdout",
     "output_type": "stream",
     "text": [
      "Epoch 7\n"
     ]
    },
    {
     "name": "stderr",
     "output_type": "stream",
     "text": [
      "Hypernet Loop: 100%|██████████| 10/10 [01:01<00:00,  6.10s/it]\n",
      "Actor Training: 100%|██████████| 30/30 [02:48<00:00,  5.61s/it]\n"
     ]
    },
    {
     "name": "stdout",
     "output_type": "stream",
     "text": [
      "Epoch 8\n"
     ]
    },
    {
     "name": "stderr",
     "output_type": "stream",
     "text": [
      "Hypernet Loop: 100%|██████████| 10/10 [00:55<00:00,  5.59s/it]\n",
      "Actor Training: 100%|██████████| 30/30 [02:29<00:00,  4.99s/it]\n"
     ]
    },
    {
     "name": "stdout",
     "output_type": "stream",
     "text": [
      "Epoch 9\n"
     ]
    },
    {
     "name": "stderr",
     "output_type": "stream",
     "text": [
      "Hypernet Loop: 100%|██████████| 10/10 [00:53<00:00,  5.35s/it]\n",
      "Actor Training: 100%|██████████| 30/30 [02:31<00:00,  5.06s/it]\n"
     ]
    },
    {
     "name": "stdout",
     "output_type": "stream",
     "text": [
      "Epoch 10\n"
     ]
    },
    {
     "name": "stderr",
     "output_type": "stream",
     "text": [
      "Hypernet Loop: 100%|██████████| 10/10 [00:51<00:00,  5.19s/it]\n",
      "Actor Training: 100%|██████████| 30/30 [02:33<00:00,  5.13s/it]\n"
     ]
    },
    {
     "name": "stdout",
     "output_type": "stream",
     "text": [
      "Epoch 11\n"
     ]
    },
    {
     "name": "stderr",
     "output_type": "stream",
     "text": [
      "Hypernet Loop: 100%|██████████| 10/10 [00:57<00:00,  5.71s/it]\n",
      "Actor Training: 100%|██████████| 30/30 [02:37<00:00,  5.25s/it]\n"
     ]
    },
    {
     "name": "stdout",
     "output_type": "stream",
     "text": [
      "Epoch 12\n"
     ]
    },
    {
     "name": "stderr",
     "output_type": "stream",
     "text": [
      "Hypernet Loop: 100%|██████████| 10/10 [00:54<00:00,  5.50s/it]\n",
      "Actor Training: 100%|██████████| 30/30 [02:26<00:00,  4.88s/it]\n"
     ]
    },
    {
     "name": "stdout",
     "output_type": "stream",
     "text": [
      "Epoch 13\n"
     ]
    },
    {
     "name": "stderr",
     "output_type": "stream",
     "text": [
      "Hypernet Loop: 100%|██████████| 10/10 [00:53<00:00,  5.37s/it]\n",
      "Actor Training: 100%|██████████| 30/30 [02:18<00:00,  4.62s/it]\n"
     ]
    },
    {
     "name": "stdout",
     "output_type": "stream",
     "text": [
      "Epoch 14\n"
     ]
    },
    {
     "name": "stderr",
     "output_type": "stream",
     "text": [
      "Hypernet Loop: 100%|██████████| 10/10 [00:54<00:00,  5.47s/it]\n",
      "Actor Training: 100%|██████████| 30/30 [02:40<00:00,  5.34s/it]\n"
     ]
    },
    {
     "name": "stdout",
     "output_type": "stream",
     "text": [
      "Epoch 15\n"
     ]
    },
    {
     "name": "stderr",
     "output_type": "stream",
     "text": [
      "Hypernet Loop: 100%|██████████| 10/10 [00:56<00:00,  5.65s/it]\n",
      "Actor Training: 100%|██████████| 30/30 [02:40<00:00,  5.35s/it]\n"
     ]
    },
    {
     "name": "stdout",
     "output_type": "stream",
     "text": [
      "Epoch 16\n"
     ]
    },
    {
     "name": "stderr",
     "output_type": "stream",
     "text": [
      "Hypernet Loop: 100%|██████████| 10/10 [00:57<00:00,  5.71s/it]\n",
      "Actor Training: 100%|██████████| 30/30 [02:35<00:00,  5.17s/it]\n"
     ]
    },
    {
     "name": "stdout",
     "output_type": "stream",
     "text": [
      "Epoch 17\n"
     ]
    },
    {
     "name": "stderr",
     "output_type": "stream",
     "text": [
      "Hypernet Loop: 100%|██████████| 10/10 [00:53<00:00,  5.39s/it]\n",
      "Actor Training: 100%|██████████| 30/30 [02:27<00:00,  4.93s/it]\n"
     ]
    },
    {
     "name": "stdout",
     "output_type": "stream",
     "text": [
      "Epoch 18\n"
     ]
    },
    {
     "name": "stderr",
     "output_type": "stream",
     "text": [
      "Hypernet Loop: 100%|██████████| 10/10 [00:53<00:00,  5.36s/it]\n",
      "Actor Training: 100%|██████████| 30/30 [02:21<00:00,  4.70s/it]\n"
     ]
    },
    {
     "name": "stdout",
     "output_type": "stream",
     "text": [
      "Epoch 19\n"
     ]
    },
    {
     "name": "stderr",
     "output_type": "stream",
     "text": [
      "Hypernet Loop: 100%|██████████| 10/10 [00:43<00:00,  4.32s/it]\n",
      "Actor Training: 100%|██████████| 30/30 [02:18<00:00,  4.60s/it]\n"
     ]
    },
    {
     "name": "stdout",
     "output_type": "stream",
     "text": [
      "Epoch 20\n"
     ]
    },
    {
     "name": "stderr",
     "output_type": "stream",
     "text": [
      "Hypernet Loop: 100%|██████████| 10/10 [00:49<00:00,  4.95s/it]\n",
      "Actor Training: 100%|██████████| 30/30 [02:27<00:00,  4.93s/it]\n"
     ]
    },
    {
     "name": "stdout",
     "output_type": "stream",
     "text": [
      "Epoch 21\n"
     ]
    },
    {
     "name": "stderr",
     "output_type": "stream",
     "text": [
      "Hypernet Loop: 100%|██████████| 10/10 [00:53<00:00,  5.34s/it]\n",
      "Actor Training: 100%|██████████| 30/30 [02:29<00:00,  4.99s/it]\n"
     ]
    },
    {
     "name": "stdout",
     "output_type": "stream",
     "text": [
      "Epoch 22\n"
     ]
    },
    {
     "name": "stderr",
     "output_type": "stream",
     "text": [
      "Hypernet Loop: 100%|██████████| 10/10 [00:53<00:00,  5.38s/it]\n",
      "Actor Training: 100%|██████████| 30/30 [02:28<00:00,  4.93s/it]\n"
     ]
    },
    {
     "name": "stdout",
     "output_type": "stream",
     "text": [
      "Epoch 23\n"
     ]
    },
    {
     "name": "stderr",
     "output_type": "stream",
     "text": [
      "Hypernet Loop: 100%|██████████| 10/10 [00:52<00:00,  5.24s/it]\n",
      "Actor Training: 100%|██████████| 30/30 [02:32<00:00,  5.08s/it]\n"
     ]
    },
    {
     "name": "stdout",
     "output_type": "stream",
     "text": [
      "Epoch 24\n"
     ]
    },
    {
     "name": "stderr",
     "output_type": "stream",
     "text": [
      "Hypernet Loop: 100%|██████████| 10/10 [00:52<00:00,  5.24s/it]\n",
      "Actor Training: 100%|██████████| 30/30 [02:21<00:00,  4.71s/it]\n"
     ]
    },
    {
     "name": "stdout",
     "output_type": "stream",
     "text": [
      "Epoch 25\n"
     ]
    },
    {
     "name": "stderr",
     "output_type": "stream",
     "text": [
      "Hypernet Loop: 100%|██████████| 10/10 [00:53<00:00,  5.34s/it]\n",
      "Actor Training: 100%|██████████| 30/30 [02:21<00:00,  4.71s/it]\n"
     ]
    },
    {
     "name": "stdout",
     "output_type": "stream",
     "text": [
      "Epoch 26\n"
     ]
    },
    {
     "name": "stderr",
     "output_type": "stream",
     "text": [
      "Hypernet Loop: 100%|██████████| 10/10 [00:53<00:00,  5.37s/it]\n",
      "Actor Training: 100%|██████████| 30/30 [02:34<00:00,  5.14s/it]\n"
     ]
    },
    {
     "name": "stdout",
     "output_type": "stream",
     "text": [
      "Epoch 27\n"
     ]
    },
    {
     "name": "stderr",
     "output_type": "stream",
     "text": [
      "Hypernet Loop: 100%|██████████| 10/10 [00:54<00:00,  5.45s/it]\n",
      "Actor Training: 100%|██████████| 30/30 [02:29<00:00,  4.98s/it]\n"
     ]
    },
    {
     "name": "stdout",
     "output_type": "stream",
     "text": [
      "Epoch 28\n"
     ]
    },
    {
     "name": "stderr",
     "output_type": "stream",
     "text": [
      "Hypernet Loop: 100%|██████████| 10/10 [00:56<00:00,  5.69s/it]\n",
      "Actor Training: 100%|██████████| 30/30 [02:21<00:00,  4.73s/it]\n"
     ]
    },
    {
     "name": "stdout",
     "output_type": "stream",
     "text": [
      "Epoch 29\n"
     ]
    },
    {
     "name": "stderr",
     "output_type": "stream",
     "text": [
      "Hypernet Loop:  50%|█████     | 5/10 [00:20<00:20,  4.18s/it]"
     ]
    }
   ],
   "source": [
    "\n",
    "train_model(model, env, training_parameters)"
   ]
  }
 ],
 "metadata": {
  "kernelspec": {
   "display_name": "thesis2",
   "language": "python",
   "name": "python3"
  },
  "language_info": {
   "codemirror_mode": {
    "name": "ipython",
    "version": 3
   },
   "file_extension": ".py",
   "mimetype": "text/x-python",
   "name": "python",
   "nbconvert_exporter": "python",
   "pygments_lexer": "ipython3",
   "version": "3.12.8"
  }
 },
 "nbformat": 4,
 "nbformat_minor": 5
}
