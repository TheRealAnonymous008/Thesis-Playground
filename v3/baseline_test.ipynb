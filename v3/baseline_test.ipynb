{
 "cells": [
  {
   "cell_type": "code",
   "execution_count": null,
   "id": "77f7f76e",
   "metadata": {},
   "outputs": [],
   "source": [
    "import os\n",
    "\n",
    "os.environ['TORCH_USE_CUDA_DSA'] = \"TRUE\"\n",
    "os.environ['CUDA_LAUNCH_BLOCKING']=\"TRUE\""
   ]
  },
  {
   "cell_type": "code",
   "execution_count": null,
   "id": "59353c2a",
   "metadata": {},
   "outputs": [],
   "source": [
    "from use_case.tests import * \n",
    "from models.eval import *\n",
    "\n",
    "torch.manual_seed(1337)\n",
    "# Initialize environment\n",
    "env = initialize_baseline(seed = 1337)"
   ]
  },
  {
   "cell_type": "code",
   "execution_count": null,
   "id": "9094ff12",
   "metadata": {},
   "outputs": [],
   "source": [
    "payoff_i = env.payoff_i\n",
    "payoff_j = env.payoff_j\n",
    "for i in range(env.n_actions):\n",
    "    for j in range(env.n_actions):\n",
    "        print(f\"({payoff_i[i, j]:.2f}, {payoff_j[i, j]:.2f})\", end = \"\\t\")\n",
    "    print(\"\\n\")"
   ]
  },
  {
   "cell_type": "code",
   "execution_count": null,
   "id": "7b8866f3",
   "metadata": {},
   "outputs": [],
   "source": [
    "import os\n",
    "os.environ[\"KMP_DUPLICATE_LIB_OK\"]=\"TRUE\"\n",
    "\n",
    "import matplotlib.pyplot as plt\n",
    "\n",
    "# Calculate average rewards for all action pairs\n",
    "average_rewards = (payoff_i + payoff_j) / 2\n",
    "\n",
    "# Flatten the matrix into a list of all possible rewards\n",
    "all_rewards = average_rewards.ravel()\n",
    "\n",
    "# Plotting the histogram\n",
    "plt.figure(figsize=(10, 6))\n",
    "plt.hist(all_rewards, bins=50, color='skyblue', edgecolor='black', alpha=0.7)\n",
    "plt.title('Distribution of Average Rewards for All Action Pairs')\n",
    "plt.xlabel('Average Reward')\n",
    "plt.ylabel('Frequency')\n",
    "plt.grid(axis='y', linestyle='--', alpha=0.7)\n",
    "plt.show()"
   ]
  },
  {
   "cell_type": "code",
   "execution_count": null,
   "id": "0543c850",
   "metadata": {},
   "outputs": [],
   "source": [
    "\n",
    "# Calculate average rewards for all action pairs\n",
    "max_rewards = np.max([payoff_i, payoff_j], axis = 0)\n",
    "\n",
    "# Flatten the matrix into a list of all possible rewards\n",
    "all_rewards = max_rewards.ravel()\n",
    "\n",
    "# Plotting the histogram\n",
    "plt.figure(figsize=(10, 6))\n",
    "plt.hist(all_rewards, bins=50, color='skyblue', edgecolor='black', alpha=0.7)\n",
    "plt.title('Distribution of Average Rewards for All Action Pairs')\n",
    "plt.xlabel('Average Reward')\n",
    "plt.ylabel('Frequency')\n",
    "plt.grid(axis='y', linestyle='--', alpha=0.7)\n",
    "plt.show()"
   ]
  },
  {
   "cell_type": "markdown",
   "id": "43af11f7",
   "metadata": {},
   "source": [
    "# Actual Run"
   ]
  },
  {
   "cell_type": "code",
   "execution_count": null,
   "id": "1f3281f7",
   "metadata": {},
   "outputs": [],
   "source": [
    "\n",
    "from models.model import *\n",
    "from models.trainer import *"
   ]
  },
  {
   "cell_type": "code",
   "execution_count": null,
   "id": "2e4f52f1",
   "metadata": {},
   "outputs": [],
   "source": [
    "# Configure the network here\n",
    "parameters = ParameterSettings(\n",
    "    n_agents = env.n_agents,\n",
    "    d_action = env.n_actions, \n",
    "    d_obs = env.obs_size, \n",
    "    d_traits = env.d_traits,\n",
    "    d_het_latent = 4, \n",
    "    d_beliefs = env.d_beliefs,\n",
    "    d_relation = env.d_relation, \n",
    "    d_message = 4,\n",
    "    d_comm_state= env.d_comm_state,\n",
    ")\n",
    "parameters.device = \"cuda\" if torch.cuda.is_available() else \"cpu\"\n",
    "# parameters.device = \"cpu\"\n",
    "model = PPOModel(parameters)"
   ]
  },
  {
   "cell_type": "code",
   "execution_count": null,
   "id": "109d0629",
   "metadata": {},
   "outputs": [],
   "source": [
    "equilibriua = find_pure_equilibria(payoff_i, payoff_j)\n",
    "\n",
    "for eq in equilibriua:\n",
    "    x, y = eq \n",
    "    a = (y[0] + y[1]) / 2\n",
    "\n",
    "    print(x, a)"
   ]
  },
  {
   "cell_type": "code",
   "execution_count": null,
   "id": "78db5dab",
   "metadata": {},
   "outputs": [],
   "source": [
    "evaluate_policy(model, env, 10, temperature=2.0)"
   ]
  },
  {
   "cell_type": "code",
   "execution_count": null,
   "id": "a5d9d391",
   "metadata": {},
   "outputs": [],
   "source": [
    "# Setup the training loop\n",
    "training_parameters = TrainingParameters(\n",
    "    outer_loops = 8_000,\n",
    "    \n",
    "    actor_learning_rate= 1e-4,\n",
    "    critic_learning_rate = 1e-3,\n",
    "    hypernet_learning_rate = 5e-4,\n",
    "\n",
    "    hypernet_jsd_threshold = 1.0,\n",
    "    hypernet_samples = 3000,\n",
    "    hypernet_jsd_weight = 1.0,\n",
    "    hypernet_entropy_weight = 0.01, \n",
    "    hypernet_diversity_weight= 1.0,\n",
    "\n",
    "    sampled_agents_proportion = 0.5,\n",
    "    experience_sampling_steps = 10,\n",
    "    experience_buffer_size = 10,\n",
    "\n",
    "    entropy_coeff = 0.2,\n",
    "    value_loss_coeff = 1.0,\n",
    "\n",
    "    epsilon_period = 200,\n",
    "    epsilon_end = 0.05,\n",
    "\n",
    "    entropy_target = 0.5,\n",
    "\n",
    "    eval_temp = -1.0,\n",
    "    \n",
    "    # verbose = False,\n",
    "    device = parameters.device,\n",
    "    steps_per_epoch = 16\n",
    ")\n",
    "train_model(model, env, training_parameters)\n",
    "        "
   ]
  },
  {
   "cell_type": "markdown",
   "id": "c83f73be",
   "metadata": {},
   "source": [
    "# Heterogeneous Baseline"
   ]
  },
  {
   "cell_type": "code",
   "execution_count": 16,
   "id": "6d7afc77",
   "metadata": {},
   "outputs": [
    {
     "name": "stdout",
     "output_type": "stream",
     "text": [
      "The autoreload extension is already loaded. To reload it, use:\n",
      "  %reload_ext autoreload\n"
     ]
    }
   ],
   "source": [
    "%load_ext autoreload\n",
    "%autoreload 2\n",
    "from use_case.tests import * \n",
    "from models.eval import *\n",
    "from models.model import *\n",
    "from models.trainer import *\n"
   ]
  },
  {
   "cell_type": "code",
   "execution_count": null,
   "id": "09398cb1",
   "metadata": {},
   "outputs": [],
   "source": [
    "# Initialize Environment\n",
    "torch.manual_seed(1337)\n",
    "\n",
    "env = initialize_type_inference()"
   ]
  },
  {
   "cell_type": "code",
   "execution_count": 22,
   "id": "09097f46",
   "metadata": {},
   "outputs": [],
   "source": [
    "# Configure the network here\n",
    "parameters = ParameterSettings(\n",
    "    n_agents = env.n_agents,\n",
    "    d_action = env.n_actions, \n",
    "    d_obs = env.obs_size, \n",
    "    d_traits = env.d_traits,\n",
    "    d_het_latent = 4, \n",
    "    d_beliefs = env.d_beliefs,\n",
    "    d_relation = env.d_relation, \n",
    "    d_message = 4,\n",
    "    d_comm_state= env.d_comm_state,\n",
    "    device = \"cuda\"\n",
    ")\n",
    "model = PPOModel(parameters)\n",
    "\n",
    "# Setup the training loop\n",
    "training_parameters = TrainingParameters(\n",
    "    outer_loops = 8_000,\n",
    "    \n",
    "    actor_learning_rate= 1e-4,\n",
    "    critic_learning_rate = 1e-4,\n",
    "    hypernet_learning_rate = 1e-4,\n",
    "    decoder_learning_rate= 1e-4,\n",
    "    filter_learning_rate= 1e-4,\n",
    "\n",
    "    hypernet_jsd_threshold = 2.0,\n",
    "    hypernet_samples = 3000,\n",
    "    hypernet_jsd_weight = 1.0,\n",
    "    hypernet_entropy_weight = 0.01, \n",
    "    hypernet_diversity_weight= 1.0,\n",
    "\n",
    "    sampled_agents_proportion = 0.2,\n",
    "    experience_sampling_steps = 20,\n",
    "    experience_buffer_size = 10,\n",
    "\n",
    "    entropy_coeff = 1.0,\n",
    "    value_loss_coeff = 0.3,\n",
    "\n",
    "    epsilon_period = 200,\n",
    "    epsilon_end = 0.05,\n",
    "\n",
    "    entropy_target = 0.5,\n",
    "\n",
    "    eval_temp = 0.9,\n",
    "    # eval_k = env.n_types,\n",
    "    eval_k=4,\n",
    "    verbose = False,\n",
    "    device = parameters.device,\n",
    "    steps_per_epoch = 4,\n",
    ")\n"
   ]
  },
  {
   "cell_type": "code",
   "execution_count": 23,
   "id": "46ed1cbf",
   "metadata": {},
   "outputs": [
    {
     "data": {
      "text/plain": [
       "np.float64(-4.353)"
      ]
     },
     "execution_count": 23,
     "metadata": {},
     "output_type": "execute_result"
    }
   ],
   "source": [
    "evaluate_policy(model, env, temperature = -1.0)"
   ]
  },
  {
   "cell_type": "code",
   "execution_count": 24,
   "id": "aa87c86b",
   "metadata": {},
   "outputs": [
    {
     "ename": "RuntimeError",
     "evalue": "Error(s) in loading state_dict for PPOModel:\n\tsize mismatch for hypernet.latent_encoder.mean_net.layers.0.weight: copying a param with shape torch.Size([64, 20]) from checkpoint, the shape in current model is torch.Size([64, 22]).\n\tsize mismatch for hypernet.latent_encoder.std_net.layers.0.weight: copying a param with shape torch.Size([64, 20]) from checkpoint, the shape in current model is torch.Size([64, 22]).\n\tsize mismatch for hypernet.latent_decoder.p_net_weights.layers.6.bias: copying a param with shape torch.Size([1280]) from checkpoint, the shape in current model is torch.Size([256]).\n\tsize mismatch for hypernet.latent_decoder.p_net_weights.layers.6.weight_orig: copying a param with shape torch.Size([1280, 256]) from checkpoint, the shape in current model is torch.Size([256, 256]).\n\tsize mismatch for hypernet.latent_decoder.p_net_weights.layers.6.weight_u: copying a param with shape torch.Size([1280]) from checkpoint, the shape in current model is torch.Size([256]).\n\tsize mismatch for hypernet.latent_decoder.p_net_biases.layers.6.bias: copying a param with shape torch.Size([10]) from checkpoint, the shape in current model is torch.Size([2]).\n\tsize mismatch for hypernet.latent_decoder.p_net_biases.layers.6.weight_orig: copying a param with shape torch.Size([10, 256]) from checkpoint, the shape in current model is torch.Size([2, 256]).\n\tsize mismatch for hypernet.latent_decoder.p_net_biases.layers.6.weight_u: copying a param with shape torch.Size([10]) from checkpoint, the shape in current model is torch.Size([2]).\n\tsize mismatch for hypernet.latent_decoder.b_net_weights.layers.6.bias: copying a param with shape torch.Size([1280]) from checkpoint, the shape in current model is torch.Size([1024]).\n\tsize mismatch for hypernet.latent_decoder.b_net_weights.layers.6.weight_orig: copying a param with shape torch.Size([1280, 256]) from checkpoint, the shape in current model is torch.Size([1024, 256]).\n\tsize mismatch for hypernet.latent_decoder.b_net_weights.layers.6.weight_u: copying a param with shape torch.Size([1280]) from checkpoint, the shape in current model is torch.Size([1024]).\n\tsize mismatch for hypernet.latent_decoder.b_net_biases.layers.6.bias: copying a param with shape torch.Size([10]) from checkpoint, the shape in current model is torch.Size([8]).\n\tsize mismatch for hypernet.latent_decoder.b_net_biases.layers.6.weight_orig: copying a param with shape torch.Size([10, 256]) from checkpoint, the shape in current model is torch.Size([8, 256]).\n\tsize mismatch for hypernet.latent_decoder.b_net_biases.layers.6.weight_u: copying a param with shape torch.Size([10]) from checkpoint, the shape in current model is torch.Size([8]).\n\tsize mismatch for actor_encoder.policy_network.layers.0.weight: copying a param with shape torch.Size([64, 11]) from checkpoint, the shape in current model is torch.Size([64, 13]).\n\tsize mismatch for actor_encoder.belief_update.layers.0.weight: copying a param with shape torch.Size([64, 18]) from checkpoint, the shape in current model is torch.Size([64, 16]).\n\tsize mismatch for actor_encoder.encoder_network.layers.0.weight: copying a param with shape torch.Size([64, 11]) from checkpoint, the shape in current model is torch.Size([64, 13]).\n\tsize mismatch for actor_encoder_critic.value_network.layers.0.weight: copying a param with shape torch.Size([64, 19]) from checkpoint, the shape in current model is torch.Size([64, 21]).",
     "output_type": "error",
     "traceback": [
      "\u001b[1;31m---------------------------------------------------------------------------\u001b[0m",
      "\u001b[1;31mRuntimeError\u001b[0m                              Traceback (most recent call last)",
      "Cell \u001b[1;32mIn[24], line 1\u001b[0m\n\u001b[1;32m----> 1\u001b[0m \u001b[43mtrain_model\u001b[49m\u001b[43m(\u001b[49m\u001b[43mmodel\u001b[49m\u001b[43m,\u001b[49m\u001b[43m \u001b[49m\u001b[43menv\u001b[49m\u001b[43m,\u001b[49m\u001b[43m \u001b[49m\u001b[43mtraining_parameters\u001b[49m\u001b[43m,\u001b[49m\u001b[43m \u001b[49m\u001b[38;5;124;43m\"\u001b[39;49m\u001b[38;5;124;43mcheckpoints\u001b[39;49m\u001b[38;5;130;43;01m\\\\\u001b[39;49;00m\u001b[38;5;124;43mdecoder-task-2\u001b[39;49m\u001b[38;5;130;43;01m\\\\\u001b[39;49;00m\u001b[38;5;124;43mcheckpoint_ppo_step_6500.pt\u001b[39;49m\u001b[38;5;124;43m\"\u001b[39;49m\u001b[43m)\u001b[49m\n",
      "File \u001b[1;32mc:\\Users\\Joaquin\\Desktop\\Thesis-Playground\\v3\\models\\trainer.py:394\u001b[0m, in \u001b[0;36mtrain_model\u001b[1;34m(model, env, params, path, override_params)\u001b[0m\n\u001b[0;32m    391\u001b[0m         params \u001b[38;5;241m=\u001b[39m checkpoint[\u001b[38;5;124m'\u001b[39m\u001b[38;5;124mparams\u001b[39m\u001b[38;5;124m'\u001b[39m]\n\u001b[0;32m    393\u001b[0m \u001b[38;5;28;01mif\u001b[39;00m model_state_dict: \n\u001b[1;32m--> 394\u001b[0m     \u001b[43mmodel\u001b[49m\u001b[38;5;241;43m.\u001b[39;49m\u001b[43mload_state_dict\u001b[49m\u001b[43m(\u001b[49m\u001b[43mmodel_state_dict\u001b[49m\u001b[43m)\u001b[49m\n\u001b[0;32m    396\u001b[0m model\u001b[38;5;241m.\u001b[39mto(params\u001b[38;5;241m.\u001b[39mdevice)\n\u001b[0;32m    398\u001b[0m \u001b[38;5;28;01mif\u001b[39;00m \u001b[38;5;28mtype\u001b[39m(model) \u001b[38;5;129;01mis\u001b[39;00m SACModel:\n",
      "File \u001b[1;32mc:\\Users\\Joaquin\\miniconda3\\envs\\thesis2\\Lib\\site-packages\\torch\\nn\\modules\\module.py:2581\u001b[0m, in \u001b[0;36mModule.load_state_dict\u001b[1;34m(self, state_dict, strict, assign)\u001b[0m\n\u001b[0;32m   2573\u001b[0m         error_msgs\u001b[38;5;241m.\u001b[39minsert(\n\u001b[0;32m   2574\u001b[0m             \u001b[38;5;241m0\u001b[39m,\n\u001b[0;32m   2575\u001b[0m             \u001b[38;5;124m\"\u001b[39m\u001b[38;5;124mMissing key(s) in state_dict: \u001b[39m\u001b[38;5;132;01m{}\u001b[39;00m\u001b[38;5;124m. \u001b[39m\u001b[38;5;124m\"\u001b[39m\u001b[38;5;241m.\u001b[39mformat(\n\u001b[0;32m   2576\u001b[0m                 \u001b[38;5;124m\"\u001b[39m\u001b[38;5;124m, \u001b[39m\u001b[38;5;124m\"\u001b[39m\u001b[38;5;241m.\u001b[39mjoin(\u001b[38;5;124mf\u001b[39m\u001b[38;5;124m'\u001b[39m\u001b[38;5;124m\"\u001b[39m\u001b[38;5;132;01m{\u001b[39;00mk\u001b[38;5;132;01m}\u001b[39;00m\u001b[38;5;124m\"\u001b[39m\u001b[38;5;124m'\u001b[39m \u001b[38;5;28;01mfor\u001b[39;00m k \u001b[38;5;129;01min\u001b[39;00m missing_keys)\n\u001b[0;32m   2577\u001b[0m             ),\n\u001b[0;32m   2578\u001b[0m         )\n\u001b[0;32m   2580\u001b[0m \u001b[38;5;28;01mif\u001b[39;00m \u001b[38;5;28mlen\u001b[39m(error_msgs) \u001b[38;5;241m>\u001b[39m \u001b[38;5;241m0\u001b[39m:\n\u001b[1;32m-> 2581\u001b[0m     \u001b[38;5;28;01mraise\u001b[39;00m \u001b[38;5;167;01mRuntimeError\u001b[39;00m(\n\u001b[0;32m   2582\u001b[0m         \u001b[38;5;124m\"\u001b[39m\u001b[38;5;124mError(s) in loading state_dict for \u001b[39m\u001b[38;5;132;01m{}\u001b[39;00m\u001b[38;5;124m:\u001b[39m\u001b[38;5;130;01m\\n\u001b[39;00m\u001b[38;5;130;01m\\t\u001b[39;00m\u001b[38;5;132;01m{}\u001b[39;00m\u001b[38;5;124m\"\u001b[39m\u001b[38;5;241m.\u001b[39mformat(\n\u001b[0;32m   2583\u001b[0m             \u001b[38;5;28mself\u001b[39m\u001b[38;5;241m.\u001b[39m\u001b[38;5;18m__class__\u001b[39m\u001b[38;5;241m.\u001b[39m\u001b[38;5;18m__name__\u001b[39m, \u001b[38;5;124m\"\u001b[39m\u001b[38;5;130;01m\\n\u001b[39;00m\u001b[38;5;130;01m\\t\u001b[39;00m\u001b[38;5;124m\"\u001b[39m\u001b[38;5;241m.\u001b[39mjoin(error_msgs)\n\u001b[0;32m   2584\u001b[0m         )\n\u001b[0;32m   2585\u001b[0m     )\n\u001b[0;32m   2586\u001b[0m \u001b[38;5;28;01mreturn\u001b[39;00m _IncompatibleKeys(missing_keys, unexpected_keys)\n",
      "\u001b[1;31mRuntimeError\u001b[0m: Error(s) in loading state_dict for PPOModel:\n\tsize mismatch for hypernet.latent_encoder.mean_net.layers.0.weight: copying a param with shape torch.Size([64, 20]) from checkpoint, the shape in current model is torch.Size([64, 22]).\n\tsize mismatch for hypernet.latent_encoder.std_net.layers.0.weight: copying a param with shape torch.Size([64, 20]) from checkpoint, the shape in current model is torch.Size([64, 22]).\n\tsize mismatch for hypernet.latent_decoder.p_net_weights.layers.6.bias: copying a param with shape torch.Size([1280]) from checkpoint, the shape in current model is torch.Size([256]).\n\tsize mismatch for hypernet.latent_decoder.p_net_weights.layers.6.weight_orig: copying a param with shape torch.Size([1280, 256]) from checkpoint, the shape in current model is torch.Size([256, 256]).\n\tsize mismatch for hypernet.latent_decoder.p_net_weights.layers.6.weight_u: copying a param with shape torch.Size([1280]) from checkpoint, the shape in current model is torch.Size([256]).\n\tsize mismatch for hypernet.latent_decoder.p_net_biases.layers.6.bias: copying a param with shape torch.Size([10]) from checkpoint, the shape in current model is torch.Size([2]).\n\tsize mismatch for hypernet.latent_decoder.p_net_biases.layers.6.weight_orig: copying a param with shape torch.Size([10, 256]) from checkpoint, the shape in current model is torch.Size([2, 256]).\n\tsize mismatch for hypernet.latent_decoder.p_net_biases.layers.6.weight_u: copying a param with shape torch.Size([10]) from checkpoint, the shape in current model is torch.Size([2]).\n\tsize mismatch for hypernet.latent_decoder.b_net_weights.layers.6.bias: copying a param with shape torch.Size([1280]) from checkpoint, the shape in current model is torch.Size([1024]).\n\tsize mismatch for hypernet.latent_decoder.b_net_weights.layers.6.weight_orig: copying a param with shape torch.Size([1280, 256]) from checkpoint, the shape in current model is torch.Size([1024, 256]).\n\tsize mismatch for hypernet.latent_decoder.b_net_weights.layers.6.weight_u: copying a param with shape torch.Size([1280]) from checkpoint, the shape in current model is torch.Size([1024]).\n\tsize mismatch for hypernet.latent_decoder.b_net_biases.layers.6.bias: copying a param with shape torch.Size([10]) from checkpoint, the shape in current model is torch.Size([8]).\n\tsize mismatch for hypernet.latent_decoder.b_net_biases.layers.6.weight_orig: copying a param with shape torch.Size([10, 256]) from checkpoint, the shape in current model is torch.Size([8, 256]).\n\tsize mismatch for hypernet.latent_decoder.b_net_biases.layers.6.weight_u: copying a param with shape torch.Size([10]) from checkpoint, the shape in current model is torch.Size([8]).\n\tsize mismatch for actor_encoder.policy_network.layers.0.weight: copying a param with shape torch.Size([64, 11]) from checkpoint, the shape in current model is torch.Size([64, 13]).\n\tsize mismatch for actor_encoder.belief_update.layers.0.weight: copying a param with shape torch.Size([64, 18]) from checkpoint, the shape in current model is torch.Size([64, 16]).\n\tsize mismatch for actor_encoder.encoder_network.layers.0.weight: copying a param with shape torch.Size([64, 11]) from checkpoint, the shape in current model is torch.Size([64, 13]).\n\tsize mismatch for actor_encoder_critic.value_network.layers.0.weight: copying a param with shape torch.Size([64, 19]) from checkpoint, the shape in current model is torch.Size([64, 21])."
     ]
    }
   ],
   "source": [
    "train_model(model, env, training_parameters, \"checkpoints\\\\decoder-task-2\\\\checkpoint_ppo_step_6500.pt\")"
   ]
  }
 ],
 "metadata": {
  "kernelspec": {
   "display_name": "thesis2",
   "language": "python",
   "name": "python3"
  },
  "language_info": {
   "codemirror_mode": {
    "name": "ipython",
    "version": 3
   },
   "file_extension": ".py",
   "mimetype": "text/x-python",
   "name": "python",
   "nbconvert_exporter": "python",
   "pygments_lexer": "ipython3",
   "version": "3.12.8"
  }
 },
 "nbformat": 4,
 "nbformat_minor": 5
}
