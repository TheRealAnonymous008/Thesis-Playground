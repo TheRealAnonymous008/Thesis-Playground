{
 "cells": [
  {
   "cell_type": "code",
   "execution_count": 1,
   "id": "0764cab5",
   "metadata": {},
   "outputs": [],
   "source": [
    "%load_ext autoreload\n",
    "%autoreload 2"
   ]
  },
  {
   "cell_type": "code",
   "execution_count": null,
   "id": "59353c2a",
   "metadata": {},
   "outputs": [],
   "source": [
    "from use_case.baseline import * \n",
    "from tests.eval import *\n",
    "\n",
    "payoff_i = np.random.uniform(-10, 10, (10, 10))\n",
    "payoff_j = np.transpose(payoff_i).copy()\n",
    "\n",
    "# Initialize environment\n",
    "N_ACTIONS = payoff_i.shape[0]\n",
    "N_AGENTS = 1000\n",
    "env = BaselineEnvironment(N_AGENTS, payoff_i, payoff_j, total_games = 5)"
   ]
  },
  {
   "cell_type": "markdown",
   "id": "43af11f7",
   "metadata": {},
   "source": [
    "# Actual Run"
   ]
  },
  {
   "cell_type": "code",
   "execution_count": 3,
   "id": "1f3281f7",
   "metadata": {},
   "outputs": [],
   "source": [
    "from models.model import *\n",
    "from models.trainer import *\n"
   ]
  },
  {
   "cell_type": "code",
   "execution_count": 4,
   "id": "2e4f52f1",
   "metadata": {},
   "outputs": [],
   "source": [
    "# Configure the network here\n",
    "parameters = ParameterSettings(\n",
    "    n_agents = N_AGENTS,\n",
    "    d_action = N_ACTIONS, \n",
    "    d_obs = env.obs_size, \n",
    "    d_traits = 1,\n",
    "    d_beliefs = 1\n",
    ")\n",
    "parameters.device = \"cuda\" if torch.cuda.is_available() else \"cpu\"\n",
    "\n",
    "model = Model(parameters)"
   ]
  },
  {
   "cell_type": "code",
   "execution_count": 5,
   "id": "109d0629",
   "metadata": {},
   "outputs": [
    {
     "name": "stdout",
     "output_type": "stream",
     "text": [
      "(7, 7) 5.440956222987843\n",
      "(8, 8) 5.627273900747461\n"
     ]
    }
   ],
   "source": [
    "equilibriua = find_pure_equilibria(payoff_i, payoff_j)\n",
    "\n",
    "for eq in equilibriua:\n",
    "    x, y = eq \n",
    "    a = (y[0] + y[1]) / 2\n",
    "\n",
    "    print(x, a)"
   ]
  },
  {
   "cell_type": "code",
   "execution_count": 6,
   "id": "78db5dab",
   "metadata": {},
   "outputs": [
    {
     "name": "stdout",
     "output_type": "stream",
     "text": [
      "Average Return: 0.2541386602529051\n",
      "Total returns: 2.541386602529051\n",
      "Action Dist, (array([  0,  61,   0,   1,   0, 781, 129,  14,  14,   0]), array([ 0,  1,  2,  3,  4,  5,  6,  7,  8,  9, 10]))\n"
     ]
    }
   ],
   "source": [
    "evaluate_policy(model, env, 10)"
   ]
  },
  {
   "cell_type": "code",
   "execution_count": null,
   "id": "a5d9d391",
   "metadata": {},
   "outputs": [
    {
     "name": "stdout",
     "output_type": "stream",
     "text": [
      "Epoch 0\n"
     ]
    },
    {
     "name": "stderr",
     "output_type": "stream",
     "text": [
      "Actor-Critic Loop: 100%|██████████| 1000/1000 [00:47<00:00, 21.00it/s]\n"
     ]
    },
    {
     "name": "stdout",
     "output_type": "stream",
     "text": [
      "Average Return: -0.08284865473789528\n",
      "Total returns: -0.8284865473789528\n",
      "Action Dist, (array([  4,  60,   7,   1,   1, 688, 192,  31,  10,   6]), array([ 0,  1,  2,  3,  4,  5,  6,  7,  8,  9, 10]))\n",
      "Epoch 1\n"
     ]
    },
    {
     "name": "stderr",
     "output_type": "stream",
     "text": [
      "Actor-Critic Loop: 100%|██████████| 1000/1000 [02:08<00:00,  7.77it/s]\n"
     ]
    },
    {
     "name": "stdout",
     "output_type": "stream",
     "text": [
      "Average Return: 0.15499366486948318\n",
      "Total returns: 1.5499366486948318\n",
      "Action Dist, (array([  0,  74,   2,   4,   3, 774, 130,   7,   6,   0]), array([ 0,  1,  2,  3,  4,  5,  6,  7,  8,  9, 10]))\n",
      "Epoch 2\n"
     ]
    },
    {
     "name": "stderr",
     "output_type": "stream",
     "text": [
      "Actor-Critic Loop: 100%|██████████| 1000/1000 [02:26<00:00,  6.84it/s]\n"
     ]
    },
    {
     "name": "stdout",
     "output_type": "stream",
     "text": [
      "Average Return: -0.206109175271615\n",
      "Total returns: -2.06109175271615\n",
      "Action Dist, (array([  0, 105,   9,   2,   2, 678, 187,   8,   6,   3]), array([ 0,  1,  2,  3,  4,  5,  6,  7,  8,  9, 10]))\n",
      "Epoch 3\n"
     ]
    },
    {
     "name": "stderr",
     "output_type": "stream",
     "text": [
      "Actor-Critic Loop: 100%|██████████| 1000/1000 [02:25<00:00,  6.87it/s]\n"
     ]
    },
    {
     "name": "stdout",
     "output_type": "stream",
     "text": [
      "Average Return: -0.2137664176346647\n",
      "Total returns: -2.137664176346647\n",
      "Action Dist, (array([  5, 105,   8,   2,   1, 678, 174,  16,   9,   2]), array([ 0,  1,  2,  3,  4,  5,  6,  7,  8,  9, 10]))\n",
      "Epoch 4\n"
     ]
    },
    {
     "name": "stderr",
     "output_type": "stream",
     "text": [
      "Actor-Critic Loop: 100%|██████████| 1000/1000 [02:23<00:00,  6.96it/s]\n"
     ]
    },
    {
     "name": "stdout",
     "output_type": "stream",
     "text": [
      "Average Return: -0.18290721184993255\n",
      "Total returns: -1.8290721184993255\n",
      "Action Dist, (array([  2,  93,  12,   2,   3, 686, 180,  16,   4,   2]), array([ 0,  1,  2,  3,  4,  5,  6,  7,  8,  9, 10]))\n",
      "Epoch 5\n"
     ]
    },
    {
     "name": "stderr",
     "output_type": "stream",
     "text": [
      "Actor-Critic Loop: 100%|██████████| 1000/1000 [02:27<00:00,  6.79it/s]\n"
     ]
    },
    {
     "name": "stdout",
     "output_type": "stream",
     "text": [
      "Average Return: -0.12500804732332446\n",
      "Total returns: -1.2500804732332447\n",
      "Action Dist, (array([  3,  89,  10,   0,   4, 700, 161,  22,  11,   0]), array([ 0,  1,  2,  3,  4,  5,  6,  7,  8,  9, 10]))\n",
      "Epoch 6\n"
     ]
    },
    {
     "name": "stderr",
     "output_type": "stream",
     "text": [
      "Actor-Critic Loop: 100%|██████████| 1000/1000 [02:23<00:00,  6.95it/s]\n"
     ]
    },
    {
     "name": "stdout",
     "output_type": "stream",
     "text": [
      "Average Return: -0.13932608993522883\n",
      "Total returns: -1.3932608993522881\n",
      "Action Dist, (array([  3,  91,   9,   2,   1, 684, 182,  14,   8,   6]), array([ 0,  1,  2,  3,  4,  5,  6,  7,  8,  9, 10]))\n",
      "Epoch 7\n"
     ]
    },
    {
     "name": "stderr",
     "output_type": "stream",
     "text": [
      "Actor-Critic Loop: 100%|██████████| 1000/1000 [02:27<00:00,  6.77it/s]\n"
     ]
    },
    {
     "name": "stdout",
     "output_type": "stream",
     "text": [
      "Average Return: -0.21914269850950427\n",
      "Total returns: -2.1914269850950427\n",
      "Action Dist, (array([  5, 104,  11,   2,   1, 673, 172,  21,   7,   4]), array([ 0,  1,  2,  3,  4,  5,  6,  7,  8,  9, 10]))\n",
      "Epoch 8\n"
     ]
    },
    {
     "name": "stderr",
     "output_type": "stream",
     "text": [
      "Actor-Critic Loop: 100%|██████████| 1000/1000 [02:19<00:00,  7.19it/s]\n"
     ]
    },
    {
     "name": "stdout",
     "output_type": "stream",
     "text": [
      "Average Return: -0.5692074130982628\n",
      "Total returns: -5.692074130982628\n",
      "Action Dist, (array([ 53,  92,  22,   2,   3, 546, 225,  38,   8,  11]), array([ 0,  1,  2,  3,  4,  5,  6,  7,  8,  9, 10]))\n",
      "Epoch 9\n"
     ]
    },
    {
     "name": "stderr",
     "output_type": "stream",
     "text": [
      "Actor-Critic Loop: 100%|██████████| 1000/1000 [02:24<00:00,  6.94it/s]\n"
     ]
    },
    {
     "name": "stdout",
     "output_type": "stream",
     "text": [
      "Average Return: -0.54152678936074\n",
      "Total returns: -5.4152678936074\n",
      "Action Dist, (array([ 28,  99,  17,   2,   6, 562, 233,  40,   7,   6]), array([ 0,  1,  2,  3,  4,  5,  6,  7,  8,  9, 10]))\n",
      "Epoch 10\n"
     ]
    },
    {
     "name": "stderr",
     "output_type": "stream",
     "text": [
      "Actor-Critic Loop: 100%|██████████| 1000/1000 [02:26<00:00,  6.81it/s]\n"
     ]
    },
    {
     "name": "stdout",
     "output_type": "stream",
     "text": [
      "Average Return: -0.16022747798293133\n",
      "Total returns: -1.6022747798293133\n",
      "Action Dist, (array([  2,  86,  10,   4,   0, 695, 182,  16,   4,   1]), array([ 0,  1,  2,  3,  4,  5,  6,  7,  8,  9, 10]))\n",
      "Epoch 11\n"
     ]
    },
    {
     "name": "stderr",
     "output_type": "stream",
     "text": [
      "Actor-Critic Loop: 100%|██████████| 1000/1000 [02:13<00:00,  7.48it/s]\n"
     ]
    },
    {
     "name": "stdout",
     "output_type": "stream",
     "text": [
      "Average Return: -0.1828313073797905\n",
      "Total returns: -1.828313073797905\n",
      "Action Dist, (array([  4,  96,  12,   0,   1, 719, 144,  17,   5,   2]), array([ 0,  1,  2,  3,  4,  5,  6,  7,  8,  9, 10]))\n",
      "Epoch 12\n"
     ]
    },
    {
     "name": "stderr",
     "output_type": "stream",
     "text": [
      "Actor-Critic Loop: 100%|██████████| 1000/1000 [02:16<00:00,  7.33it/s]\n"
     ]
    },
    {
     "name": "stdout",
     "output_type": "stream",
     "text": [
      "Average Return: -0.4905372176074003\n",
      "Total returns: -4.905372176074003\n",
      "Action Dist, (array([ 14, 117,  28,   1,   2, 598, 197,  26,   6,  11]), array([ 0,  1,  2,  3,  4,  5,  6,  7,  8,  9, 10]))\n",
      "Epoch 13\n"
     ]
    },
    {
     "name": "stderr",
     "output_type": "stream",
     "text": [
      "Actor-Critic Loop: 100%|██████████| 1000/1000 [02:14<00:00,  7.41it/s]\n"
     ]
    },
    {
     "name": "stdout",
     "output_type": "stream",
     "text": [
      "Average Return: -0.16585351569420576\n",
      "Total returns: -1.6585351569420574\n",
      "Action Dist, (array([  0,  91,   8,   2,   3, 700, 172,  20,   3,   1]), array([ 0,  1,  2,  3,  4,  5,  6,  7,  8,  9, 10]))\n",
      "Epoch 14\n"
     ]
    },
    {
     "name": "stderr",
     "output_type": "stream",
     "text": [
      "Actor-Critic Loop:  81%|████████  | 806/1000 [00:41<00:10, 18.81it/s]"
     ]
    }
   ],
   "source": [
    "# Setup the training loop\n",
    "training_parameters = TrainingParameters(\n",
    "    actor_training_loops = 1000, \n",
    "    outer_loops = 100,\n",
    "    learning_rate= 0.01,\n",
    "    experience_buffer_size = 3\n",
    ")\n",
    "\n",
    "train_model(model, env, training_parameters)\n",
    "        "
   ]
  }
 ],
 "metadata": {
  "kernelspec": {
   "display_name": "thesis2",
   "language": "python",
   "name": "python3"
  },
  "language_info": {
   "codemirror_mode": {
    "name": "ipython",
    "version": 3
   },
   "file_extension": ".py",
   "mimetype": "text/x-python",
   "name": "python",
   "nbconvert_exporter": "python",
   "pygments_lexer": "ipython3",
   "version": "3.12.8"
  }
 },
 "nbformat": 4,
 "nbformat_minor": 5
}
