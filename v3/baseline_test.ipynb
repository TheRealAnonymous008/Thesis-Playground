{
 "cells": [
  {
   "cell_type": "code",
   "execution_count": null,
   "id": "0764cab5",
   "metadata": {},
   "outputs": [],
   "source": [
    "%load_ext autoreload\n",
    "%autoreload 2"
   ]
  },
  {
   "cell_type": "code",
   "execution_count": null,
   "id": "77f7f76e",
   "metadata": {},
   "outputs": [],
   "source": [
    "import os\n",
    "\n",
    "os.environ['TORCH_USE_CUDA_DSA'] = \"TRUE\"\n",
    "os.environ['CUDA_LAUNCH_BLOCKING']=\"TRUE\""
   ]
  },
  {
   "cell_type": "code",
   "execution_count": null,
   "id": "59353c2a",
   "metadata": {},
   "outputs": [],
   "source": [
    "from use_case.baseline import * \n",
    "from tests.eval import *\n",
    "\n",
    "np.random.seed(32042)\n",
    "torch.manual_seed(1337)\n",
    "\n",
    "N = 10\n",
    "payoff_i = np.random.uniform(-10, 10, (N, N))\n",
    "payoff_j = np.random.uniform(-10, 10, (N, N))\n",
    "\n",
    "# Initialize environment\n",
    "N_ACTIONS = payoff_i.shape[0]\n",
    "N_AGENTS = 500\n",
    "env = BaselineEnvironment(N_AGENTS, payoff_i, payoff_j, total_games = 5)"
   ]
  },
  {
   "cell_type": "code",
   "execution_count": null,
   "id": "7b8866f3",
   "metadata": {},
   "outputs": [],
   "source": [
    "import os\n",
    "os.environ[\"KMP_DUPLICATE_LIB_OK\"]=\"TRUE\"\n",
    "\n",
    "import matplotlib.pyplot as plt\n",
    "\n",
    "# Calculate average rewards for all action pairs\n",
    "average_rewards = (payoff_i + payoff_j) / 2\n",
    "\n",
    "# Flatten the matrix into a list of all possible rewards\n",
    "all_rewards = average_rewards.ravel()\n",
    "\n",
    "# Plotting the histogram\n",
    "plt.figure(figsize=(10, 6))\n",
    "plt.hist(all_rewards, bins=50, color='skyblue', edgecolor='black', alpha=0.7)\n",
    "plt.title('Distribution of Average Rewards for All Action Pairs')\n",
    "plt.xlabel('Average Reward')\n",
    "plt.ylabel('Frequency')\n",
    "plt.grid(axis='y', linestyle='--', alpha=0.7)\n",
    "plt.show()"
   ]
  },
  {
   "cell_type": "code",
   "execution_count": null,
   "id": "0543c850",
   "metadata": {},
   "outputs": [],
   "source": [
    "\n",
    "# Calculate average rewards for all action pairs\n",
    "max_rewards = np.max([payoff_i, payoff_j], axis = 0)\n",
    "\n",
    "# Flatten the matrix into a list of all possible rewards\n",
    "all_rewards = max_rewards.ravel()\n",
    "\n",
    "# Plotting the histogram\n",
    "plt.figure(figsize=(10, 6))\n",
    "plt.hist(all_rewards, bins=50, color='skyblue', edgecolor='black', alpha=0.7)\n",
    "plt.title('Distribution of Average Rewards for All Action Pairs')\n",
    "plt.xlabel('Average Reward')\n",
    "plt.ylabel('Frequency')\n",
    "plt.grid(axis='y', linestyle='--', alpha=0.7)\n",
    "plt.show()"
   ]
  },
  {
   "cell_type": "markdown",
   "id": "43af11f7",
   "metadata": {},
   "source": [
    "# Actual Run"
   ]
  },
  {
   "cell_type": "code",
   "execution_count": null,
   "id": "1f3281f7",
   "metadata": {},
   "outputs": [],
   "source": [
    "from models.model import *\n",
    "from models.trainer import *"
   ]
  },
  {
   "cell_type": "code",
   "execution_count": null,
   "id": "2e4f52f1",
   "metadata": {},
   "outputs": [],
   "source": [
    "# Configure the network here\n",
    "parameters = ParameterSettings(\n",
    "    n_agents = N_AGENTS,\n",
    "    d_action = N_ACTIONS, \n",
    "    d_obs = env.obs_size, \n",
    "    d_traits = env.d_traits,\n",
    "    d_het_latent = 4, \n",
    "    d_beliefs = env.d_beliefs,\n",
    "    d_relation = env.d_relation\n",
    ")\n",
    "parameters.device = \"cuda\" if torch.cuda.is_available() else \"cpu\"\n",
    "model = PPOModel(parameters)"
   ]
  },
  {
   "cell_type": "code",
   "execution_count": null,
   "id": "109d0629",
   "metadata": {},
   "outputs": [],
   "source": [
    "equilibriua = find_pure_equilibria(payoff_i, payoff_j)\n",
    "\n",
    "for eq in equilibriua:\n",
    "    x, y = eq \n",
    "    a = (y[0] + y[1]) / 2\n",
    "\n",
    "    print(x, a)"
   ]
  },
  {
   "cell_type": "code",
   "execution_count": null,
   "id": "78db5dab",
   "metadata": {},
   "outputs": [],
   "source": [
    "evaluate_policy(model, env, 10)"
   ]
  },
  {
   "cell_type": "code",
   "execution_count": null,
   "id": "a5d9d391",
   "metadata": {},
   "outputs": [],
   "source": [
    "# Setup the training loop\n",
    "training_parameters = TrainingParameters(\n",
    "    outer_loops = 2_000,\n",
    "    \n",
    "    actor_learning_rate= 1e-4,\n",
    "    critic_learning_rate = 1e-3,\n",
    "    hypernet_learning_rate = 5e-4,\n",
    "\n",
    "    hypernet_jsd_threshold = 2.0,\n",
    "    hypernet_samples = 3000,\n",
    "    hypernet_jsd_weight = 1.0,\n",
    "    hypernet_entropy_weight = 1.0, \n",
    "    hypernet_diversity_weight= 1.0,\n",
    "\n",
    "    sampled_agents_proportion = 0.1,\n",
    "    experience_sampling_steps = 10,\n",
    "    experience_buffer_size = 100,\n",
    "\n",
    "    entropy_coeff = 0.2,\n",
    "\n",
    "    epsilon_period = -1,\n",
    "    epsilon_end = 0.2,\n",
    "\n",
    "    entropy_target = 0.5,\n",
    "\n",
    "    eval_temp = -1.0,\n",
    "    \n",
    "    # verbose = False,\n",
    "    device = parameters.device\n",
    ")\n",
    "train_model(model, env, training_parameters)\n",
    "        "
   ]
  },
  {
   "cell_type": "code",
   "execution_count": null,
   "id": "d0c579f7",
   "metadata": {},
   "outputs": [],
   "source": []
  },
  {
   "cell_type": "markdown",
   "id": "c83f73be",
   "metadata": {},
   "source": [
    "# Heterogeneous Baseline"
   ]
  },
  {
   "cell_type": "code",
   "execution_count": null,
   "id": "6a5c29c9",
   "metadata": {},
   "outputs": [],
   "source": [
    "%load_ext autoreload\n",
    "%autoreload 2"
   ]
  },
  {
   "cell_type": "code",
   "execution_count": null,
   "id": "6d7afc77",
   "metadata": {},
   "outputs": [],
   "source": [
    "from use_case.baseline import * \n",
    "from tests.eval import *\n",
    "from models.model import *\n",
    "from models.trainer import *\n"
   ]
  },
  {
   "cell_type": "code",
   "execution_count": null,
   "id": "09398cb1",
   "metadata": {},
   "outputs": [],
   "source": [
    "np.random.seed(1337)\n",
    "torch.manual_seed(1337)\n",
    "\n",
    "N_AGENTS = 500\n",
    "N_TYPES = 10\n",
    "N_ACTIONS = 10\n",
    "type_payoffs = np.random.uniform(-10, 10, (N_TYPES, N_TYPES, 2, N_ACTIONS, N_ACTIONS))\n",
    "env = BaselineHeterogeneous(N_AGENTS, N_TYPES, type_payoffs, total_games = 4)"
   ]
  },
  {
   "cell_type": "code",
   "execution_count": null,
   "id": "1d6d2183",
   "metadata": {},
   "outputs": [],
   "source": [
    "# Configure the network here\n",
    "parameters = ParameterSettings(\n",
    "    n_agents = N_AGENTS,\n",
    "    d_action = N_ACTIONS, \n",
    "    d_obs = env.obs_size, \n",
    "    d_traits = env.d_traits,\n",
    "    d_het_latent = 4, \n",
    "    d_beliefs = env.d_beliefs,\n",
    "    d_relation = env.d_relation,\n",
    "    d_comm_state= env.d_comm_state,\n",
    "    device = \"cuda\"\n",
    ")\n",
    "\n",
    "model = PPOModel(parameters)"
   ]
  },
  {
   "cell_type": "code",
   "execution_count": 10,
   "id": "09097f46",
   "metadata": {},
   "outputs": [
    {
     "name": "stderr",
     "output_type": "stream",
     "text": [
      " 63%|██████▎   | 6287/10000 [1:39:23<58:41,  1.05it/s]  \n"
     ]
    },
    {
     "ename": "KeyboardInterrupt",
     "evalue": "",
     "output_type": "error",
     "traceback": [
      "\u001b[1;31m---------------------------------------------------------------------------\u001b[0m",
      "\u001b[1;31mKeyboardInterrupt\u001b[0m                         Traceback (most recent call last)",
      "Cell \u001b[1;32mIn[10], line 32\u001b[0m\n\u001b[0;32m      1\u001b[0m \u001b[38;5;66;03m# Setup the training loop\u001b[39;00m\n\u001b[0;32m      2\u001b[0m training_parameters \u001b[38;5;241m=\u001b[39m TrainingParameters(\n\u001b[0;32m      3\u001b[0m     outer_loops \u001b[38;5;241m=\u001b[39m \u001b[38;5;241m10_000\u001b[39m,\n\u001b[0;32m      4\u001b[0m     \n\u001b[1;32m   (...)\u001b[0m\n\u001b[0;32m     30\u001b[0m     eval_k\u001b[38;5;241m=\u001b[39m \u001b[38;5;241m10\u001b[39m\n\u001b[0;32m     31\u001b[0m )\n\u001b[1;32m---> 32\u001b[0m \u001b[43mtrain_model\u001b[49m\u001b[43m(\u001b[49m\u001b[43mmodel\u001b[49m\u001b[43m,\u001b[49m\u001b[43m \u001b[49m\u001b[43menv\u001b[49m\u001b[43m,\u001b[49m\u001b[43m \u001b[49m\u001b[43mtraining_parameters\u001b[49m\u001b[43m)\u001b[49m\n",
      "File \u001b[1;32mc:\\Users\\Joaquin\\Desktop\\Thesis-Playground\\v3\\models\\trainer.py:352\u001b[0m, in \u001b[0;36mtrain_model\u001b[1;34m(model, env, params)\u001b[0m\n\u001b[0;32m    350\u001b[0m     train_sac_model(model, env, params)\n\u001b[0;32m    351\u001b[0m \u001b[38;5;28;01melse\u001b[39;00m: \n\u001b[1;32m--> 352\u001b[0m     \u001b[43mtrain_ppo_model\u001b[49m\u001b[43m(\u001b[49m\u001b[43mmodel\u001b[49m\u001b[43m,\u001b[49m\u001b[43m \u001b[49m\u001b[43menv\u001b[49m\u001b[43m,\u001b[49m\u001b[43m \u001b[49m\u001b[43mparams\u001b[49m\u001b[43m)\u001b[49m\n",
      "File \u001b[1;32mc:\\Users\\Joaquin\\Desktop\\Thesis-Playground\\v3\\models\\trainer.py:322\u001b[0m, in \u001b[0;36mtrain_ppo_model\u001b[1;34m(model, env, params)\u001b[0m\n\u001b[0;32m    319\u001b[0m     total_loss \u001b[38;5;241m=\u001b[39m total_loss \u001b[38;5;241m+\u001b[39m train_ppo_actor(model, env, experiences, params, writer\u001b[38;5;241m=\u001b[39mwriter)\n\u001b[0;32m    321\u001b[0m \u001b[38;5;28;01mif\u001b[39;00m params\u001b[38;5;241m.\u001b[39mshould_train_hypernet:\n\u001b[1;32m--> 322\u001b[0m     total_loss \u001b[38;5;241m=\u001b[39m total_loss \u001b[38;5;241m+\u001b[39m \u001b[43mtrain_hypernet\u001b[49m\u001b[43m(\u001b[49m\u001b[43mmodel\u001b[49m\u001b[43m,\u001b[49m\u001b[43m \u001b[49m\u001b[43menv\u001b[49m\u001b[43m,\u001b[49m\u001b[43m \u001b[49m\u001b[43mexperiences\u001b[49m\u001b[43m,\u001b[49m\u001b[43m \u001b[49m\u001b[43mparams\u001b[49m\u001b[43m,\u001b[49m\u001b[43m \u001b[49m\u001b[43mwriter\u001b[49m\u001b[38;5;241;43m=\u001b[39;49m\u001b[43mwriter\u001b[49m\u001b[43m)\u001b[49m\n\u001b[0;32m    324\u001b[0m \u001b[38;5;28;01mif\u001b[39;00m params\u001b[38;5;241m.\u001b[39mshould_train_gnn:\n\u001b[0;32m    325\u001b[0m     total_loss \u001b[38;5;241m=\u001b[39m total_loss \u001b[38;5;241m+\u001b[39m train_gnn(model, env, experiences, params, writer\u001b[38;5;241m=\u001b[39m writer)\n",
      "File \u001b[1;32mc:\\Users\\Joaquin\\Desktop\\Thesis-Playground\\v3\\models\\hypernet_trainer.py:34\u001b[0m, in \u001b[0;36mtrain_hypernet\u001b[1;34m(model, env, exp, params, writer)\u001b[0m\n\u001b[0;32m     27\u001b[0m \u001b[38;5;66;03m# Get the weights to be used\u001b[39;00m\n\u001b[0;32m     28\u001b[0m lv_i, weights_i, mu_i, sigma_i \u001b[38;5;241m=\u001b[39m model\u001b[38;5;241m.\u001b[39mhypernet\u001b[38;5;241m.\u001b[39mforward(\n\u001b[0;32m     29\u001b[0m     traits_i,  \n\u001b[0;32m     30\u001b[0m     exp[\u001b[38;5;124m\"\u001b[39m\u001b[38;5;124mobservations\u001b[39m\u001b[38;5;124m\"\u001b[39m][timesteps, agent_i], \n\u001b[0;32m     31\u001b[0m     exp[\u001b[38;5;124m\"\u001b[39m\u001b[38;5;124mbelief\u001b[39m\u001b[38;5;124m\"\u001b[39m][timesteps, agent_i], \n\u001b[0;32m     32\u001b[0m     exp[\u001b[38;5;124m\"\u001b[39m\u001b[38;5;124mcom\u001b[39m\u001b[38;5;124m\"\u001b[39m][timesteps, agent_i]\n\u001b[0;32m     33\u001b[0m )\n\u001b[1;32m---> 34\u001b[0m lv_j, weights_j, mu_j, sigma_j \u001b[38;5;241m=\u001b[39m \u001b[43mmodel\u001b[49m\u001b[38;5;241;43m.\u001b[39;49m\u001b[43mhypernet\u001b[49m\u001b[38;5;241;43m.\u001b[39;49m\u001b[43mforward\u001b[49m\u001b[43m(\u001b[49m\n\u001b[0;32m     35\u001b[0m \u001b[43m    \u001b[49m\u001b[43mtraits_j\u001b[49m\u001b[43m,\u001b[49m\u001b[43m \u001b[49m\n\u001b[0;32m     36\u001b[0m \u001b[43m    \u001b[49m\u001b[43mexp\u001b[49m\u001b[43m[\u001b[49m\u001b[38;5;124;43m\"\u001b[39;49m\u001b[38;5;124;43mobservations\u001b[39;49m\u001b[38;5;124;43m\"\u001b[39;49m\u001b[43m]\u001b[49m\u001b[43m[\u001b[49m\u001b[43mtimesteps\u001b[49m\u001b[43m,\u001b[49m\u001b[43m \u001b[49m\u001b[43magent_j\u001b[49m\u001b[43m]\u001b[49m\u001b[43m,\u001b[49m\u001b[43m \u001b[49m\n\u001b[0;32m     37\u001b[0m \u001b[43m    \u001b[49m\u001b[43mexp\u001b[49m\u001b[43m[\u001b[49m\u001b[38;5;124;43m\"\u001b[39;49m\u001b[38;5;124;43mbelief\u001b[39;49m\u001b[38;5;124;43m\"\u001b[39;49m\u001b[43m]\u001b[49m\u001b[43m[\u001b[49m\u001b[43mtimesteps\u001b[49m\u001b[43m,\u001b[49m\u001b[43m \u001b[49m\u001b[43magent_j\u001b[49m\u001b[43m]\u001b[49m\u001b[43m,\u001b[49m\u001b[43m \u001b[49m\n\u001b[0;32m     38\u001b[0m \u001b[43m    \u001b[49m\u001b[43mexp\u001b[49m\u001b[43m[\u001b[49m\u001b[38;5;124;43m\"\u001b[39;49m\u001b[38;5;124;43mcom\u001b[39;49m\u001b[38;5;124;43m\"\u001b[39;49m\u001b[43m]\u001b[49m\u001b[43m[\u001b[49m\u001b[43mtimesteps\u001b[49m\u001b[43m,\u001b[49m\u001b[43m \u001b[49m\u001b[43magent_j\u001b[49m\u001b[43m]\u001b[49m\n\u001b[0;32m     39\u001b[0m \u001b[43m\u001b[49m\u001b[43m)\u001b[49m\n\u001b[0;32m     41\u001b[0m \u001b[38;5;66;03m# Compute the JSD loss\u001b[39;00m\n\u001b[0;32m     42\u001b[0m \u001b[38;5;28;01mwith\u001b[39;00m torch\u001b[38;5;241m.\u001b[39mno_grad():\n\u001b[0;32m     43\u001b[0m     \u001b[38;5;66;03m# Get trait vectors for each agent pair\u001b[39;00m\n",
      "File \u001b[1;32mc:\\Users\\Joaquin\\Desktop\\Thesis-Playground\\v3\\models\\hypernet.py:270\u001b[0m, in \u001b[0;36mHyperNetwork.forward\u001b[1;34m(self, c, o, h, z)\u001b[0m\n\u001b[0;32m    267\u001b[0m dist \u001b[38;5;241m=\u001b[39m torch\u001b[38;5;241m.\u001b[39mdistributions\u001b[38;5;241m.\u001b[39mMultivariateNormal(mu, covariance_matrix\u001b[38;5;241m=\u001b[39mcov_matrix)\n\u001b[0;32m    268\u001b[0m lv \u001b[38;5;241m=\u001b[39m dist\u001b[38;5;241m.\u001b[39mrsample() \n\u001b[1;32m--> 270\u001b[0m weights  \u001b[38;5;241m=\u001b[39m \u001b[38;5;28;43mself\u001b[39;49m\u001b[38;5;241;43m.\u001b[39;49m\u001b[43mlatent_decoder\u001b[49m\u001b[43m(\u001b[49m\u001b[43mlv\u001b[49m\u001b[43m)\u001b[49m\n\u001b[0;32m    271\u001b[0m \u001b[38;5;66;03m# Return the latent variable and the heterogeneous weights\u001b[39;00m\n\u001b[0;32m    272\u001b[0m \u001b[38;5;28;01mreturn\u001b[39;00m lv, weights, mu, sigma\n",
      "File \u001b[1;32mc:\\Users\\Joaquin\\miniconda3\\envs\\thesis2\\Lib\\site-packages\\torch\\nn\\modules\\module.py:1739\u001b[0m, in \u001b[0;36mModule._wrapped_call_impl\u001b[1;34m(self, *args, **kwargs)\u001b[0m\n\u001b[0;32m   1737\u001b[0m     \u001b[38;5;28;01mreturn\u001b[39;00m \u001b[38;5;28mself\u001b[39m\u001b[38;5;241m.\u001b[39m_compiled_call_impl(\u001b[38;5;241m*\u001b[39margs, \u001b[38;5;241m*\u001b[39m\u001b[38;5;241m*\u001b[39mkwargs)  \u001b[38;5;66;03m# type: ignore[misc]\u001b[39;00m\n\u001b[0;32m   1738\u001b[0m \u001b[38;5;28;01melse\u001b[39;00m:\n\u001b[1;32m-> 1739\u001b[0m     \u001b[38;5;28;01mreturn\u001b[39;00m \u001b[38;5;28;43mself\u001b[39;49m\u001b[38;5;241;43m.\u001b[39;49m\u001b[43m_call_impl\u001b[49m\u001b[43m(\u001b[49m\u001b[38;5;241;43m*\u001b[39;49m\u001b[43margs\u001b[49m\u001b[43m,\u001b[49m\u001b[43m \u001b[49m\u001b[38;5;241;43m*\u001b[39;49m\u001b[38;5;241;43m*\u001b[39;49m\u001b[43mkwargs\u001b[49m\u001b[43m)\u001b[49m\n",
      "File \u001b[1;32mc:\\Users\\Joaquin\\miniconda3\\envs\\thesis2\\Lib\\site-packages\\torch\\nn\\modules\\module.py:1750\u001b[0m, in \u001b[0;36mModule._call_impl\u001b[1;34m(self, *args, **kwargs)\u001b[0m\n\u001b[0;32m   1745\u001b[0m \u001b[38;5;66;03m# If we don't have any hooks, we want to skip the rest of the logic in\u001b[39;00m\n\u001b[0;32m   1746\u001b[0m \u001b[38;5;66;03m# this function, and just call forward.\u001b[39;00m\n\u001b[0;32m   1747\u001b[0m \u001b[38;5;28;01mif\u001b[39;00m \u001b[38;5;129;01mnot\u001b[39;00m (\u001b[38;5;28mself\u001b[39m\u001b[38;5;241m.\u001b[39m_backward_hooks \u001b[38;5;129;01mor\u001b[39;00m \u001b[38;5;28mself\u001b[39m\u001b[38;5;241m.\u001b[39m_backward_pre_hooks \u001b[38;5;129;01mor\u001b[39;00m \u001b[38;5;28mself\u001b[39m\u001b[38;5;241m.\u001b[39m_forward_hooks \u001b[38;5;129;01mor\u001b[39;00m \u001b[38;5;28mself\u001b[39m\u001b[38;5;241m.\u001b[39m_forward_pre_hooks\n\u001b[0;32m   1748\u001b[0m         \u001b[38;5;129;01mor\u001b[39;00m _global_backward_pre_hooks \u001b[38;5;129;01mor\u001b[39;00m _global_backward_hooks\n\u001b[0;32m   1749\u001b[0m         \u001b[38;5;129;01mor\u001b[39;00m _global_forward_hooks \u001b[38;5;129;01mor\u001b[39;00m _global_forward_pre_hooks):\n\u001b[1;32m-> 1750\u001b[0m     \u001b[38;5;28;01mreturn\u001b[39;00m \u001b[43mforward_call\u001b[49m\u001b[43m(\u001b[49m\u001b[38;5;241;43m*\u001b[39;49m\u001b[43margs\u001b[49m\u001b[43m,\u001b[49m\u001b[43m \u001b[49m\u001b[38;5;241;43m*\u001b[39;49m\u001b[38;5;241;43m*\u001b[39;49m\u001b[43mkwargs\u001b[49m\u001b[43m)\u001b[49m\n\u001b[0;32m   1752\u001b[0m result \u001b[38;5;241m=\u001b[39m \u001b[38;5;28;01mNone\u001b[39;00m\n\u001b[0;32m   1753\u001b[0m called_always_called_hooks \u001b[38;5;241m=\u001b[39m \u001b[38;5;28mset\u001b[39m()\n",
      "File \u001b[1;32mc:\\Users\\Joaquin\\Desktop\\Thesis-Playground\\v3\\models\\hypernet.py:181\u001b[0m, in \u001b[0;36mPPOLatentDecoder.forward\u001b[1;34m(self, lv)\u001b[0m\n\u001b[0;32m    170\u001b[0m \u001b[38;5;28;01mdef\u001b[39;00m\u001b[38;5;250m \u001b[39m\u001b[38;5;21mforward\u001b[39m(\u001b[38;5;28mself\u001b[39m, lv):\n\u001b[0;32m    171\u001b[0m \u001b[38;5;250m    \u001b[39m\u001b[38;5;124;03m\"\"\"\u001b[39;00m\n\u001b[0;32m    172\u001b[0m \u001b[38;5;124;03m    Outputs the heterogeneous weights using the latent variable\u001b[39;00m\n\u001b[0;32m    173\u001b[0m \u001b[38;5;124;03m    \"\"\"\u001b[39;00m\n\u001b[0;32m    175\u001b[0m     \u001b[38;5;28;01mreturn\u001b[39;00m TensorDict({\n\u001b[0;32m    176\u001b[0m         \u001b[38;5;124m\"\u001b[39m\u001b[38;5;124mpolicy\u001b[39m\u001b[38;5;124m\"\u001b[39m: \u001b[38;5;28mself\u001b[39m\u001b[38;5;241m.\u001b[39mget_weights(lv, \u001b[38;5;28mself\u001b[39m\u001b[38;5;241m.\u001b[39mp_net_weights, \u001b[38;5;28mself\u001b[39m\u001b[38;5;241m.\u001b[39mp_net_biases, \u001b[38;5;28mself\u001b[39m\u001b[38;5;241m.\u001b[39mconfig\u001b[38;5;241m.\u001b[39md_action),\n\u001b[0;32m    177\u001b[0m         \u001b[38;5;124m\"\u001b[39m\u001b[38;5;124mcritic\u001b[39m\u001b[38;5;124m\"\u001b[39m: \u001b[38;5;28mself\u001b[39m\u001b[38;5;241m.\u001b[39mget_weights(lv, \u001b[38;5;28mself\u001b[39m\u001b[38;5;241m.\u001b[39mcrit_weights, \u001b[38;5;28mself\u001b[39m\u001b[38;5;241m.\u001b[39mcrit_biases, \u001b[38;5;241m1\u001b[39m), \n\u001b[0;32m    178\u001b[0m         \u001b[38;5;124m\"\u001b[39m\u001b[38;5;124mbelief\u001b[39m\u001b[38;5;124m\"\u001b[39m: \u001b[38;5;28mself\u001b[39m\u001b[38;5;241m.\u001b[39mget_weights(lv, \u001b[38;5;28mself\u001b[39m\u001b[38;5;241m.\u001b[39mb_net_weights, \u001b[38;5;28mself\u001b[39m\u001b[38;5;241m.\u001b[39mb_net_biases, \u001b[38;5;28mself\u001b[39m\u001b[38;5;241m.\u001b[39mconfig\u001b[38;5;241m.\u001b[39md_beliefs),\n\u001b[0;32m    179\u001b[0m         \u001b[38;5;124m\"\u001b[39m\u001b[38;5;124mencoder\u001b[39m\u001b[38;5;124m\"\u001b[39m: \u001b[38;5;28mself\u001b[39m\u001b[38;5;241m.\u001b[39mget_weights(lv, \u001b[38;5;28mself\u001b[39m\u001b[38;5;241m.\u001b[39me_net_weights, \u001b[38;5;28mself\u001b[39m\u001b[38;5;241m.\u001b[39me_net_biases, \u001b[38;5;28mself\u001b[39m\u001b[38;5;241m.\u001b[39mconfig\u001b[38;5;241m.\u001b[39md_comm_state),\n\u001b[0;32m    180\u001b[0m         \u001b[38;5;124m\"\u001b[39m\u001b[38;5;124mfilter\u001b[39m\u001b[38;5;124m\"\u001b[39m: \u001b[38;5;28mself\u001b[39m\u001b[38;5;241m.\u001b[39mget_weights(lv, \u001b[38;5;28mself\u001b[39m\u001b[38;5;241m.\u001b[39mf_net_weights, \u001b[38;5;28mself\u001b[39m\u001b[38;5;241m.\u001b[39mf_net_biases, \u001b[38;5;28mself\u001b[39m\u001b[38;5;241m.\u001b[39mconfig\u001b[38;5;241m.\u001b[39md_message), \n\u001b[1;32m--> 181\u001b[0m         \u001b[38;5;124m\"\u001b[39m\u001b[38;5;124mdecoder\u001b[39m\u001b[38;5;124m\"\u001b[39m: \u001b[38;5;28;43mself\u001b[39;49m\u001b[38;5;241;43m.\u001b[39;49m\u001b[43mget_weights\u001b[49m\u001b[43m(\u001b[49m\u001b[43mlv\u001b[49m\u001b[43m,\u001b[49m\u001b[43m \u001b[49m\u001b[38;5;28;43mself\u001b[39;49m\u001b[38;5;241;43m.\u001b[39;49m\u001b[43md_net_weights\u001b[49m\u001b[43m,\u001b[49m\u001b[43m \u001b[49m\u001b[38;5;28;43mself\u001b[39;49m\u001b[38;5;241;43m.\u001b[39;49m\u001b[43md_net_biases\u001b[49m\u001b[43m,\u001b[49m\u001b[43m \u001b[49m\u001b[38;5;28;43mself\u001b[39;49m\u001b[38;5;241;43m.\u001b[39;49m\u001b[43mconfig\u001b[49m\u001b[38;5;241;43m.\u001b[39;49m\u001b[43md_comm_state\u001b[49m\u001b[43m)\u001b[49m, \n\u001b[0;32m    182\u001b[0m         \u001b[38;5;124m\"\u001b[39m\u001b[38;5;124mupdate_mean\u001b[39m\u001b[38;5;124m\"\u001b[39m: \u001b[38;5;28mself\u001b[39m\u001b[38;5;241m.\u001b[39mget_weights(lv, \u001b[38;5;28mself\u001b[39m\u001b[38;5;241m.\u001b[39mu_mean_net_weights, \u001b[38;5;28mself\u001b[39m\u001b[38;5;241m.\u001b[39mu_mean_net_biases, \u001b[38;5;28mself\u001b[39m\u001b[38;5;241m.\u001b[39mconfig\u001b[38;5;241m.\u001b[39md_relation),\n\u001b[0;32m    183\u001b[0m         \u001b[38;5;124m'\u001b[39m\u001b[38;5;124mupdate_std\u001b[39m\u001b[38;5;124m'\u001b[39m: \u001b[38;5;28mself\u001b[39m\u001b[38;5;241m.\u001b[39mget_weights(lv, \u001b[38;5;28mself\u001b[39m\u001b[38;5;241m.\u001b[39mu_bias_net_weights, \u001b[38;5;28mself\u001b[39m\u001b[38;5;241m.\u001b[39mu_bias_net_biases, \u001b[38;5;28mself\u001b[39m\u001b[38;5;241m.\u001b[39mconfig\u001b[38;5;241m.\u001b[39md_relation),\n\u001b[0;32m    184\u001b[0m     }, device \u001b[38;5;241m=\u001b[39m \u001b[38;5;28mself\u001b[39m\u001b[38;5;241m.\u001b[39mconfig\u001b[38;5;241m.\u001b[39mdevice)\n",
      "File \u001b[1;32mc:\\Users\\Joaquin\\Desktop\\Thesis-Playground\\v3\\models\\hypernet.py:224\u001b[0m, in \u001b[0;36mPPOLatentDecoder.get_weights\u001b[1;34m(self, lv, weight_net, bias_net, dims)\u001b[0m\n\u001b[0;32m    221\u001b[0m w \u001b[38;5;241m=\u001b[39m w\u001b[38;5;241m.\u001b[39mreshape((\u001b[38;5;241m-\u001b[39m\u001b[38;5;241m1\u001b[39m, dims, \u001b[38;5;28mself\u001b[39m\u001b[38;5;241m.\u001b[39mconfig\u001b[38;5;241m.\u001b[39md_het_weights))\n\u001b[0;32m    222\u001b[0m b \u001b[38;5;241m=\u001b[39m bias_net(lv)\n\u001b[1;32m--> 224\u001b[0m w \u001b[38;5;241m=\u001b[39m \u001b[43mw\u001b[49m\u001b[38;5;241;43m.\u001b[39;49m\u001b[43mcpu\u001b[49m\u001b[43m(\u001b[49m\u001b[43m)\u001b[49m \u001b[38;5;241m*\u001b[39m \u001b[38;5;28mself\u001b[39m\u001b[38;5;241m.\u001b[39mconfig\u001b[38;5;241m.\u001b[39mhypernet_scale_factor\n\u001b[0;32m    225\u001b[0m b \u001b[38;5;241m=\u001b[39m b\u001b[38;5;241m.\u001b[39mcpu() \u001b[38;5;241m*\u001b[39m \u001b[38;5;28mself\u001b[39m\u001b[38;5;241m.\u001b[39mconfig\u001b[38;5;241m.\u001b[39mhypernet_scale_factor\n\u001b[0;32m    227\u001b[0m \u001b[38;5;28;01mreturn\u001b[39;00m TensorDict({\n\u001b[0;32m    228\u001b[0m     \u001b[38;5;124m\"\u001b[39m\u001b[38;5;124mweight\u001b[39m\u001b[38;5;124m\"\u001b[39m: w, \n\u001b[0;32m    229\u001b[0m     \u001b[38;5;124m\"\u001b[39m\u001b[38;5;124mbias\u001b[39m\u001b[38;5;124m\"\u001b[39m: b,\n\u001b[0;32m    230\u001b[0m })\n",
      "\u001b[1;31mKeyboardInterrupt\u001b[0m: "
     ]
    }
   ],
   "source": [
    "# Setup the training loop\n",
    "training_parameters = TrainingParameters(\n",
    "    outer_loops = 10_000,\n",
    "    \n",
    "    actor_learning_rate= 1e-4,\n",
    "    critic_learning_rate = 1e-3,\n",
    "    hypernet_learning_rate = 5e-4,\n",
    "\n",
    "    hypernet_jsd_threshold = 2.0,\n",
    "    hypernet_samples = 3000,\n",
    "    hypernet_jsd_weight = 1.0,\n",
    "    hypernet_entropy_weight = 1.0, \n",
    "    hypernet_diversity_weight= 1.0,\n",
    "\n",
    "    sampled_agents_proportion = 0.1,\n",
    "    experience_sampling_steps = 10,\n",
    "    experience_buffer_size = 100,\n",
    "\n",
    "    entropy_coeff = 0.2,\n",
    "\n",
    "    epsilon_period = 10000,\n",
    "    epsilon_end = 0.2,\n",
    "\n",
    "    entropy_target = 0.5,\n",
    "\n",
    "    eval_temp = -1.0,\n",
    "    \n",
    "    verbose = True,\n",
    "    device = parameters.device,\n",
    "    eval_k= 10\n",
    ")\n",
    "train_model(model, env, training_parameters)\n"
   ]
  }
 ],
 "metadata": {
  "kernelspec": {
   "display_name": "thesis2",
   "language": "python",
   "name": "python3"
  },
  "language_info": {
   "codemirror_mode": {
    "name": "ipython",
    "version": 3
   },
   "file_extension": ".py",
   "mimetype": "text/x-python",
   "name": "python",
   "nbconvert_exporter": "python",
   "pygments_lexer": "ipython3",
   "version": "3.12.8"
  }
 },
 "nbformat": 4,
 "nbformat_minor": 5
}
