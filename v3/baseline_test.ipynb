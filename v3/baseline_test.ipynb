{
 "cells": [
  {
   "cell_type": "code",
   "execution_count": 1,
   "id": "0764cab5",
   "metadata": {},
   "outputs": [],
   "source": [
    "%load_ext autoreload\n",
    "%autoreload 2"
   ]
  },
  {
   "cell_type": "code",
   "execution_count": 2,
   "id": "59353c2a",
   "metadata": {},
   "outputs": [],
   "source": [
    "from use_case.baseline import * \n",
    "from tests.eval import *\n",
    "\n",
    "payoff_i = np.random.uniform(-10, 10, (5, 5))\n",
    "payoff_j = np.transpose(payoff_i).copy()\n",
    "\n",
    "# Initialize environment\n",
    "N_ACTIONS = payoff_i.shape[0]\n",
    "N_AGENTS = 1000\n",
    "env = BaselineEnvironment(N_AGENTS, payoff_i, payoff_j, total_games = 5)"
   ]
  },
  {
   "cell_type": "markdown",
   "id": "43af11f7",
   "metadata": {},
   "source": [
    "# Actual Run"
   ]
  },
  {
   "cell_type": "code",
   "execution_count": 3,
   "id": "1f3281f7",
   "metadata": {},
   "outputs": [],
   "source": [
    "from models.model import *\n",
    "from models.trainer import *\n"
   ]
  },
  {
   "cell_type": "code",
   "execution_count": 4,
   "id": "2e4f52f1",
   "metadata": {},
   "outputs": [],
   "source": [
    "# Configure the network here\n",
    "parameters = ParameterSettings(\n",
    "    n_agents = N_AGENTS,\n",
    "    d_action = N_ACTIONS, \n",
    "    d_obs = env.obs_size, \n",
    "    d_traits = 1,\n",
    "    d_beliefs = 1\n",
    ")\n",
    "parameters.device = \"cuda\" if torch.cuda.is_available() else \"cpu\"\n",
    "\n",
    "model = Model(parameters)"
   ]
  },
  {
   "cell_type": "code",
   "execution_count": null,
   "id": "109d0629",
   "metadata": {},
   "outputs": [
    {
     "name": "stdout",
     "output_type": "stream",
     "text": [
      "(1, 1) 3.32853822918252 3.32853822918252 3.32853822918252\n",
      "(2, 2) 2.491385196898886 2.491385196898886 2.491385196898886\n",
      "(4, 4) 8.082133733056402 8.082133733056402 8.082133733056402\n"
     ]
    }
   ],
   "source": [
    "equilibriua = find_pure_equilibria(payoff_i, payoff_j)\n",
    "\n",
    "for eq in equilibriua:\n",
    "    x, y = eq \n",
    "    a = (y[0] + y[1]) / 2\n",
    "\n",
    "    print(x, a)"
   ]
  },
  {
   "cell_type": "code",
   "execution_count": 8,
   "id": "78db5dab",
   "metadata": {},
   "outputs": [
    {
     "name": "stdout",
     "output_type": "stream",
     "text": [
      "Average Return: 16.638860813233613\n",
      "Total returns: 166.38860813233612\n",
      "Action Distribution\n",
      "[1]\n",
      "[1000]\n"
     ]
    }
   ],
   "source": [
    "evaluate_policy(model, env, 10)"
   ]
  },
  {
   "cell_type": "code",
   "execution_count": 7,
   "id": "a5d9d391",
   "metadata": {},
   "outputs": [
    {
     "name": "stdout",
     "output_type": "stream",
     "text": [
      "Epoch 0\n"
     ]
    },
    {
     "name": "stderr",
     "output_type": "stream",
     "text": [
      "Actor Training: 100%|██████████| 1000/1000 [02:50<00:00,  5.86it/s]\n"
     ]
    },
    {
     "name": "stdout",
     "output_type": "stream",
     "text": [
      "Average Return: 16.628127660001986\n",
      "Total returns: 166.28127660001988\n",
      "Action Distribution\n",
      "[1]\n",
      "[1000]\n",
      "Epoch 1\n"
     ]
    },
    {
     "name": "stderr",
     "output_type": "stream",
     "text": [
      "Actor Training: 100%|██████████| 1000/1000 [01:53<00:00,  8.78it/s]\n"
     ]
    },
    {
     "name": "stdout",
     "output_type": "stream",
     "text": [
      "Average Return: 16.64196484042025\n",
      "Total returns: 166.41964840420252\n",
      "Action Distribution\n",
      "[1]\n",
      "[1000]\n",
      "Epoch 2\n"
     ]
    },
    {
     "name": "stderr",
     "output_type": "stream",
     "text": [
      "Actor Training:  72%|███████▏  | 722/1000 [01:23<00:32,  8.65it/s]\n"
     ]
    },
    {
     "ename": "KeyboardInterrupt",
     "evalue": "",
     "output_type": "error",
     "traceback": [
      "\u001b[1;31m---------------------------------------------------------------------------\u001b[0m",
      "\u001b[1;31mKeyboardInterrupt\u001b[0m                         Traceback (most recent call last)",
      "Cell \u001b[1;32mIn[7], line 9\u001b[0m\n\u001b[0;32m      1\u001b[0m \u001b[38;5;66;03m# Setup the training loop\u001b[39;00m\n\u001b[0;32m      2\u001b[0m training_parameters \u001b[38;5;241m=\u001b[39m TrainingParameters(\n\u001b[0;32m      3\u001b[0m     actor_training_loops \u001b[38;5;241m=\u001b[39m \u001b[38;5;241m1000\u001b[39m, \n\u001b[0;32m      4\u001b[0m     outer_loops \u001b[38;5;241m=\u001b[39m \u001b[38;5;241m100\u001b[39m,\n\u001b[0;32m      5\u001b[0m     learning_rate\u001b[38;5;241m=\u001b[39m \u001b[38;5;241m0.01\u001b[39m,\n\u001b[0;32m      6\u001b[0m     experience_buffer_size \u001b[38;5;241m=\u001b[39m \u001b[38;5;241m3\u001b[39m\n\u001b[0;32m      7\u001b[0m )\n\u001b[1;32m----> 9\u001b[0m \u001b[43mtrain_model\u001b[49m\u001b[43m(\u001b[49m\u001b[43mmodel\u001b[49m\u001b[43m,\u001b[49m\u001b[43m \u001b[49m\u001b[43menv\u001b[49m\u001b[43m,\u001b[49m\u001b[43m \u001b[49m\u001b[43mtraining_parameters\u001b[49m\u001b[43m)\u001b[49m\n",
      "File \u001b[1;32mc:\\Users\\Joaquin\\Desktop\\Thesis-Playground\\v3\\models\\trainer.py:148\u001b[0m, in \u001b[0;36mtrain_model\u001b[1;34m(model, env, params)\u001b[0m\n\u001b[0;32m    145\u001b[0m \u001b[38;5;28mprint\u001b[39m(\u001b[38;5;124mf\u001b[39m\u001b[38;5;124m\"\u001b[39m\u001b[38;5;124mEpoch \u001b[39m\u001b[38;5;132;01m{\u001b[39;00mi\u001b[38;5;132;01m}\u001b[39;00m\u001b[38;5;124m\"\u001b[39m)\n\u001b[0;32m    146\u001b[0m model\u001b[38;5;241m.\u001b[39mrequires_grad_(\u001b[38;5;28;01mFalse\u001b[39;00m)\n\u001b[1;32m--> 148\u001b[0m \u001b[43mtrain_actor\u001b[49m\u001b[43m(\u001b[49m\u001b[43mmodel\u001b[49m\u001b[43m,\u001b[49m\u001b[43m \u001b[49m\u001b[43menv\u001b[49m\u001b[43m,\u001b[49m\u001b[43m \u001b[49m\u001b[43mparams\u001b[49m\u001b[43m,\u001b[49m\u001b[43m \u001b[49m\u001b[43mactor_optim\u001b[49m\u001b[43m)\u001b[49m\n\u001b[0;32m    149\u001b[0m evaluate_policy(model, env)\n",
      "File \u001b[1;32mc:\\Users\\Joaquin\\Desktop\\Thesis-Playground\\v3\\models\\trainer.py:180\u001b[0m, in \u001b[0;36mtrain_actor\u001b[1;34m(model, env, params, optim)\u001b[0m\n\u001b[0;32m    177\u001b[0m new_values \u001b[38;5;241m=\u001b[39m []\n\u001b[0;32m    179\u001b[0m \u001b[38;5;66;03m# Recompute logits and values with current parameters\u001b[39;00m\n\u001b[1;32m--> 180\u001b[0m \u001b[38;5;28;01mfor\u001b[39;00m i \u001b[38;5;129;01min\u001b[39;00m \u001b[38;5;28;43mrange\u001b[39;49m\u001b[43m(\u001b[49m\u001b[43mparams\u001b[49m\u001b[38;5;241;43m.\u001b[39;49m\u001b[43mexperience_buffer_size\u001b[49m\u001b[43m)\u001b[49m:\n\u001b[0;32m    181\u001b[0m     obs_i \u001b[38;5;241m=\u001b[39m exp[\u001b[38;5;124m\"\u001b[39m\u001b[38;5;124mobservations\u001b[39m\u001b[38;5;124m\"\u001b[39m][i]\n\u001b[0;32m    182\u001b[0m     wh \u001b[38;5;241m=\u001b[39m exp[\u001b[38;5;124m'\u001b[39m\u001b[38;5;124mwh\u001b[39m\u001b[38;5;124m'\u001b[39m][i]\n",
      "\u001b[1;31mKeyboardInterrupt\u001b[0m: "
     ]
    }
   ],
   "source": [
    "# Setup the training loop\n",
    "training_parameters = TrainingParameters(\n",
    "    actor_training_loops = 1000, \n",
    "    outer_loops = 100,\n",
    "    learning_rate= 0.01,\n",
    "    experience_buffer_size = 3\n",
    ")\n",
    "\n",
    "train_model(model, env, training_parameters)\n",
    "        "
   ]
  }
 ],
 "metadata": {
  "kernelspec": {
   "display_name": "thesis2",
   "language": "python",
   "name": "python3"
  },
  "language_info": {
   "codemirror_mode": {
    "name": "ipython",
    "version": 3
   },
   "file_extension": ".py",
   "mimetype": "text/x-python",
   "name": "python",
   "nbconvert_exporter": "python",
   "pygments_lexer": "ipython3",
   "version": "3.12.8"
  }
 },
 "nbformat": 4,
 "nbformat_minor": 5
}
