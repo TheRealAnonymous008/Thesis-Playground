{
 "cells": [
  {
   "cell_type": "markdown",
   "metadata": {},
   "source": [
    "## A simple swarm"
   ]
  },
  {
   "cell_type": "code",
   "execution_count": 1,
   "metadata": {},
   "outputs": [],
   "source": [
    "%load_ext autoreload \n",
    "%autoreload 2\n",
    "import sys\n",
    "sys.tracebacklimit = 0"
   ]
  },
  {
   "cell_type": "code",
   "execution_count": 2,
   "metadata": {},
   "outputs": [
    {
     "name": "stdout",
     "output_type": "stream",
     "text": [
      "pygame-ce 2.4.1 (SDL 2.28.5, Python 3.11.9)\n"
     ]
    }
   ],
   "source": [
    "from core.agent import *\n",
    "from core.world import * \n",
    "from core.map import *\n",
    "import numpy as np\n",
    "from core.render import * "
   ]
  },
  {
   "cell_type": "code",
   "execution_count": 3,
   "metadata": {},
   "outputs": [],
   "source": [
    "def initialize_swarm(world : World):\n",
    "    swarm = [Agent() for i in range(1000)]\n",
    "    for agent in swarm:\n",
    "        world.add_agent(agent)\n",
    "    swarm = initialize_positions_randomly(world, swarm)\n",
    "    "
   ]
  },
  {
   "cell_type": "code",
   "execution_count": 4,
   "metadata": {},
   "outputs": [],
   "source": [
    "world = World(dims = (100, 100),\n",
    "              swarm_initialzier= initialize_swarm,\n",
    "              resource_generator= RandomMapGenerator(),\n",
    "              energy_model=EnergyModel()\n",
    "              )\n",
    "world.reset()"
   ]
  },
  {
   "cell_type": "code",
   "execution_count": 5,
   "metadata": {},
   "outputs": [],
   "source": [
    "# Test movements by doing random actions\n",
    "def update():\n",
    "    world.update()\n",
    "    # Comms protocol (receiving)\n",
    "    for agent in world.agents: \n",
    "        received_messages = agent.get_messages()\n",
    "        for msg in received_messages: \n",
    "            agent.add_relation(msg.sender, msg.message)\n",
    "        agent.clear_messages()\n",
    "\n",
    "    for agent in world.agents:\n",
    "        action_choice = np.random.randint(0, 4)\n",
    "        choice = np.random.randint(1, 5)\n",
    "\n",
    "        match (action_choice): \n",
    "            case 1: agent.move(choice)\n",
    "            case 2: agent.pick_up(choice)\n",
    "            case 3: agent.put_down(choice)\n",
    "    \n",
    "    # Comms protocol (sending )\n",
    "    for agent in world.agents:\n",
    "        neighbors = agent.agents_in_range \n",
    "\n",
    "        # Send agents\n",
    "        if len (neighbors) > 0:\n",
    "            choice = np.random.choice(neighbors)\n",
    "            tgt_agent = world.get_agent(choice)\n",
    "            agent.talk_to(tgt_agent)\n",
    "\n",
    "update()"
   ]
  },
  {
   "cell_type": "code",
   "execution_count": 6,
   "metadata": {},
   "outputs": [],
   "source": [
    "render_world(world, (800, 800), update_fn=update, delay_s=0)"
   ]
  },
  {
   "cell_type": "markdown",
   "metadata": {},
   "source": [
    "## Verify certain things about the simulation"
   ]
  },
  {
   "cell_type": "code",
   "execution_count": 7,
   "metadata": {},
   "outputs": [],
   "source": [
    "swarm = world.agents"
   ]
  },
  {
   "cell_type": "code",
   "execution_count": 8,
   "metadata": {},
   "outputs": [
    {
     "name": "stdout",
     "output_type": "stream",
     "text": [
      "[[0 0 0 0 0 0 0]\n",
      " [0 0 0 0 0 0 0]\n",
      " [0 0 0 0 0 0 0]\n",
      " [0 0 0 0 0 0 0]\n",
      " [0 0 0 0 0 0 0]\n",
      " [0 0 0 0 0 0 0]\n",
      " [0 0 0 0 0 0 0]] (7, 7)\n",
      "[[0 0 0 0 0 0 0]\n",
      " [0 0 0 0 0 0 0]\n",
      " [0 0 0 0 0 0 0]\n",
      " [0 0 0 0 0 0 0]\n",
      " [0 0 0 0 0 0 0]\n",
      " [0 0 0 0 0 0 0]\n",
      " [0 0 0 0 0 0 0]] (7, 7)\n"
     ]
    }
   ],
   "source": [
    "# Validate the observation space provided is sensible\n",
    "obs = swarm[0].local_observation\n",
    "\n",
    "print(obs.nearby_agents, obs.nearby_agents.shape)\n",
    "print(obs.resource_types, obs.resource_types.shape)"
   ]
  },
  {
   "cell_type": "code",
   "execution_count": 9,
   "metadata": {},
   "outputs": [
    {
     "name": "stdout",
     "output_type": "stream",
     "text": [
      "1000 1000\n"
     ]
    }
   ],
   "source": [
    "# Validate that all swarm agents landed in different positions\n",
    "positions = set()\n",
    "for agent in swarm:\n",
    "    pos = agent.current_position\n",
    "    positions.add((pos[0], pos[1]))\n",
    "\n",
    "print(len(positions), len(world.agents))"
   ]
  },
  {
   "cell_type": "code",
   "execution_count": 10,
   "metadata": {},
   "outputs": [
    {
     "name": "stdout",
     "output_type": "stream",
     "text": [
      "[0.9234200185884873, 2.804297891491038, 5.664825941976331, 6.4623227898368665, 4.7602893544172105, 0.050618414429145275, 4.360162760547318, 4.644106302743007, 0.05081133046581687, 4.364345606566936, 3.6928552066058242, 5.192448995786768, 5.30787511884904, 0.2135510399081264, 0.05726438217401064, 5.500935519365128, 4.9429268270559135, 2.7263944510558726, 0.694064832507582, 1.0166291749758227, 3.0449396529139756, 5.571646323381626, 1.2536622250494358, 6.213101013080491, 3.3343763380567566, 3.812897013697475, 4.507424536848931, 5.297475795169361, 2.1757637044125286, 10.56236439421641, 4.471870487359046, 3.447227155259112, 11.06695453360859, 6.733442337009051, 5.120681586385389, 8.430046543507014, 5.037094829803043, 5.220442379179751, 8.04059599534255, 2.9200485219490186, 1.4022090738568025, 8.331606638152447, 4.175883574664579, 4.17063331570482, 3.0688591372506355, 4.773591016530415, 5.7130469896385705, 5.941077396780166, 4.018731742323553, 4.48038398490335, 4.762761013422499, 2.397427311807421, 5.008062159767408, 5.918319513592384, 3.990768083492612, 1.2889925954027044, 5.752018193253086, 5.133531652961806, 4.711392319858343, 5.576876004045755, 9.57520081334696, 1.904755134880217, 2.8959423322385103, 1.2638297257007256, 6.066840407703969, 4.598697056003477, 4.480927437693987, 2.1551833635864743, 0.09370659180508056, 2.001136482767702, 5.592610594717549, 2.0622372269875413, 6.2864705264219385, 1.364437363078272, 3.739442879701203, 3.651499755655004, 0.4924598859264382, 1.6492565313136942, 5.017870893608485, 2.780112551698098, 3.5518176308476397, 3.688025757348589, 7.522667341356337, 0.0742782809505611, 1.3965489408663592, 3.185517858866982, 3.254337246494945, 2.471276749060939, 3.738788960809997, 2.3003644442291007, 1.8473044429219558, 5.804969707844794, 3.695893625287481, 3.7642384869762058, 4.340139187279319, 6.7988826319948, 2.3875013700984624, 1.1786607681012562, 1.670461094347159, 2.7747836483406507, 1.5949530231680011, 3.3368263074038644, 2.055237045728798, 1.077850184432796, 1.7035762667494558, 1.6230104964855014, 2.497788374366719, 0.43674243403396273, 6.402006549194915, 2.506522163588713, 6.270986275808339, 6.34437131966759, 4.4494380505589115, 2.1747019315822325, 5.453193184095722, 4.677818655152935, 5.922120605185545, 3.0429682330911643, 2.2103507026582636, 6.781869110770674, 2.609650255099366, 1.519639075412079, 3.0691016434558036, 3.6823498208355403, 5.155719291793198, 7.592193343624121, 4.838580218174538, 4.913250499415394, 6.935910064978001, 5.882141707738887, 2.1818699325603728, 3.1501634427970133, 2.043198699778027, 3.8339401884665536, 6.482145413022483, 2.9967642348935004, 10.547161746522203, 1.0, 1.3638043853150346, 3.161441766688431, 10.511331866537365, 1.7001509920766456, 0.41558125372690835, 1.4103062266676218, 0.1693839008999154, 2.6281146733335574, 3.728639716587577, 4.11334212893462, 2.302244399254595, 1.643597775641366, 0.4744928145649876, 1.3818006202261532, 0.9641683678289521, 7.76002735824757, 9.256117105505908, 1.9981665393521442, 1.2697851725683504, 6.683645059398259, 4.698301212334612, 1.0, 1.651924051405481, 3.1395222455422678, 5.287301708532124, 9.051058021278486, 3.43300746685723, 7.553608814446353, 1.1842999680908912, 6.685694026046301, 0.8949877787664016, 4.006174449874303, 1.9386056579990711, 5.164569551099778, 2.311887940878372, 5.08123654198405, 3.1464219065454975, 0.7655697271376876, 3.692093466271045, 4.507219633600665, 8.54572841733455, 3.8618327472510874, 4.40191101109598, 6.803212946418727, 4.325054955587588, 1.6006649794219072, 1.215380864117007, 1.536014355095908, 4.514326952533366, 5.5417770156744695, 2.0884199218183923, 5.162053586284646, 3.640695944077212, 2.8478190611088, 1.970887296984979, 1.0, 4.1371879193321135, 2.781131676223089, 3.6948494408181736, 0.30997735820271455, 6.3306347159899055, 7.632996108800516, 5.0399844295815015, 6.878907695255653, 1.6716067665492171, 7.693585174913, 2.6357669025131854, 5.349107341387853, 8.62754285819458, 7.386020908269455, 6.874015476723898, 1.6468719689183002, 5.2479760916746905, 5.030191884210861, 0.7726421725019801, 1.0145055737613369, 1.4798406051698403, 2.0919982808981583, 1.5275084970426551, 3.4874967892313986, 1.631943930099422, 0.3257523071586057, 4.45595437603185, 4.9825559989796195, 0.3280827474845145, 4.087557751780978, 6.130889712382412, 5.558341072835569, 4.598477812768062, 3.579335777122237, 5.620975663893535, 3.339372554627051, 6.424839305759583, 9.134302741236414, 7.771201280363543, 1.0, 1.8174309916242288, 6.415788626762276, 5.072072523822762, 2.2464570936018227, 6.645845095679148, 1.7673052240320022, 4.565883868179686, 0.9522748349775947, 1.7000304494494558, 3.275154552751006, 5.944702436228584, 5.459626109866046, 8.606304329018187, 2.0307503356926233, 6.0765360857136015, 4.752531021587834, 8.96612396422514, 1.2655813222626264, 2.1362978828717623, 0.7748691264616605, 3.074055706599265, 4.73744552739772, 7.806666910968806, 4.0474771237891565, 5.0485031437208185, 5.648946698119202, 9.626150976178245, 5.575735894131546, 4.346756829924707, 0.9544503583230153, 6.846112208002255, 4.6066963000655115, 2.0581608146614, 5.213252988315519, 4.686935894980615, 7.109243343774406, 6.75077187373201, 7.678389687329171, 1.0]\n"
     ]
    }
   ],
   "source": [
    "# Check for resources\n",
    "rsrc_qty = world._resource_map._resource_quantity_map\n",
    "qtys = []\n",
    "\n",
    "for i in range(rsrc_qty.shape[0]):\n",
    "    for j in range(rsrc_qty.shape[1]):\n",
    "        if rsrc_qty[i, j] > 0:\n",
    "            qtys.append(rsrc_qty[i, j])\n",
    "\n",
    "print(qtys)"
   ]
  },
  {
   "cell_type": "code",
   "execution_count": 11,
   "metadata": {},
   "outputs": [
    {
     "name": "stdout",
     "output_type": "stream",
     "text": [
      "[Resource(type=5, quantity=1.0), Resource(type=5, quantity=1.0), Resource(type=5, quantity=1.0), Resource(type=5, quantity=1.0), Resource(type=5, quantity=1.0), Resource(type=5, quantity=1.0), Resource(type=5, quantity=1.0), Resource(type=5, quantity=0.5752760537344495), Resource(type=5, quantity=1.0)]\n"
     ]
    }
   ],
   "source": [
    "# Check for agent state\n",
    "state = swarm[0]._current_state.inventory\n",
    "print(state)\n"
   ]
  },
  {
   "cell_type": "markdown",
   "metadata": {},
   "source": [
    "# Perftest"
   ]
  },
  {
   "cell_type": "code",
   "execution_count": 12,
   "metadata": {},
   "outputs": [],
   "source": [
    "import cProfile\n",
    "def stress_test():\n",
    "    for _ in range(0, 1000):\n",
    "        update()"
   ]
  },
  {
   "cell_type": "code",
   "execution_count": 16,
   "metadata": {},
   "outputs": [
    {
     "name": "stdout",
     "output_type": "stream",
     "text": [
      "         71402639 function calls in 31.714 seconds\n",
      "\n",
      "   Ordered by: internal time\n",
      "\n",
      "   ncalls  tottime  percall  cumtime  percall filename:lineno(function)\n",
      "  2000000    2.709    0.000    2.709    0.000 {method 'randint' of 'numpy.random.mtrand.RandomState' objects}\n",
      "  1000000    2.372    0.000    2.716    0.000 observation.py:20(neighbors)\n",
      "     1000    1.787    0.002   31.902    0.032 254406432.py:2(update)\n",
      "     1000    1.754    0.002    3.975    0.004 world.py:88(_update_movement)\n",
      "   615655    1.644    0.000    3.948    0.000 {method 'choice' of 'numpy.random.mtrand.RandomState' objects}\n",
      "  1000000    1.604    0.000    2.796    0.000 world.py:128(_get_nearby_agents)\n",
      "  1000000    1.590    0.000    2.756    0.000 world.py:148(_get_nearby_resources)\n",
      "  6536052    1.420    0.000    1.420    0.000 {method 'copy' of 'numpy.ndarray' objects}\n",
      "     1000    1.266    0.001   17.656    0.018 world.py:51(update)\n",
      "   493671    1.075    0.000    1.212    0.000 map.py:43(subtract_resource)\n",
      "  6536052    1.053    0.000    2.474    0.000 agent.py:275(current_position)\n",
      "   864945    0.915    0.000    0.915    0.000 {method 'reduce' of 'numpy.ufunc' objects}\n",
      "  4491038    0.860    0.000    1.124    0.000 enum.py:193(__get__)\n",
      "     1000    0.844    0.001    3.662    0.004 world.py:112(_update_agent_actuation)\n",
      "  2748690    0.843    0.000    0.843    0.000 {built-in method numpy.array}\n",
      "   864945    0.814    0.000    2.360    0.000 fromnumeric.py:71(_wrapreduction)\n",
      "   748690    0.688    0.000    1.590    0.000 action.py:13(get_direction_of_movement)\n",
      "  5542108    0.658    0.000    0.658    0.000 {built-in method builtins.max}\n",
      "  1000000    0.569    0.000    1.554    0.000 models.py:11(forward)\n",
      "     1000    0.480    0.000    0.892    0.001 world.py:201(get_presence_mask)\n",
      "  4000000    0.468    0.000    0.468    0.000 {built-in method builtins.min}\n",
      "   748690    0.365    0.000    0.365    0.000 world.py:189(is_in_bounds)\n",
      "   615655    0.317    0.000    2.249    0.000 fromnumeric.py:2979(prod)\n",
      "  1000000    0.316    0.000    3.032    0.000 agent.py:229(agents_in_range)\n",
      "   615655    0.305    0.000    0.610    0.000 agent.py:175(talk_to)\n",
      "   864945    0.302    0.000    0.303    0.000 fromnumeric.py:72(<dictcomp>)\n",
      "   615655    0.265    0.000    0.265    0.000 {built-in method builtins.getattr}\n",
      "  4491038    0.262    0.000    0.262    0.000 enum.py:1257(value)\n",
      "   249753    0.254    0.000    0.428    0.000 agent.py:119(pick_up)\n",
      "   250145    0.254    0.000    0.427    0.000 agent.py:147(put_down)\n",
      "   249532    0.250    0.000    0.423    0.000 agent.py:90(move)\n",
      "  1000000    0.241    0.000    0.241    0.000 {method 'flatten' of 'numpy.ndarray' objects}\n",
      "   249290    0.229    0.000    0.787    0.000 agent.py:289(has_moved)\n",
      "  1000000    0.222    0.000    0.405    0.000 agent.py:217(reset_for_next_action)\n",
      "  1000000    0.210    0.000    0.210    0.000 agent.py:223(set_observation)\n",
      "  3000000    0.207    0.000    0.207    0.000 agent.py:282(action)\n",
      "  1000000    0.183    0.000    0.183    0.000 action.py:49(reset)\n",
      "   615655    0.178    0.000    0.224    0.000 agent.py:181(send_message)\n",
      "  1000000    0.165    0.000    0.165    0.000 agent.py:259(set_position)\n",
      "  1000000    0.162    0.000    0.360    0.000 agent.py:193(clear_messages)\n",
      "  1000000    0.149    0.000    0.198    0.000 agent.py:46(clear_messages)\n",
      "   249290    0.140    0.000    0.341    0.000 world.py:195(is_traversable)\n",
      "   615066    0.138    0.000    0.138    0.000 agent.py:49(set_relation)\n",
      "   615655    0.117    0.000    0.117    0.000 world.py:177(get_agent)\n",
      "   615066    0.110    0.000    0.248    0.000 agent.py:211(add_relation)\n",
      "   249290    0.109    0.000    0.537    0.000 fromnumeric.py:2421(all)\n",
      "  1000000    0.102    0.000    0.102    0.000 {method 'tolist' of 'numpy.ndarray' objects}\n",
      "  1000000    0.090    0.000    0.090    0.000 agent.py:187(get_messages)\n",
      "   615655    0.081    0.000    0.081    0.000 <string>:2(__init__)\n",
      "   749430    0.078    0.000    0.078    0.000 agent.py:35(can_move)\n",
      "   246428    0.077    0.000    0.077    0.000 map.py:85(get_type)\n",
      "   864945    0.062    0.000    0.063    0.000 {method 'items' of 'dict' objects}\n",
      "  1000000    0.057    0.000    0.057    0.000 agent.py:249(id)\n",
      "  1000000    0.055    0.000    0.055    0.000 {built-in method builtins.len}\n",
      "   615655    0.054    0.000    0.054    0.000 fromnumeric.py:2974(_prod_dispatcher)\n",
      "  1000000    0.049    0.000    0.049    0.000 {method 'clear' of 'list' objects}\n",
      "   627440    0.049    0.000    0.049    0.000 {method 'append' of 'list' objects}\n",
      "    36652    0.027    0.000    0.027    0.000 {method 'normal' of 'numpy.random.mtrand.RandomState' objects}\n",
      "     5000    0.023    0.000    0.024    0.000 world.py:213(agents)\n",
      "   249290    0.021    0.000    0.021    0.000 fromnumeric.py:2416(_all_dispatcher)\n",
      "    11785    0.011    0.000    0.015    0.000 agent.py:200(add_to_inventory)\n",
      "     2000    0.006    0.000    0.006    0.000 {built-in method numpy.zeros}\n",
      "     1000    0.002    0.000    0.901    0.001 world.py:84(_get_world_state)\n",
      "      352    0.002    0.000    0.004    0.000 ipkernel.py:775(_clean_thread_parent_frames)\n",
      "    11785    0.002    0.000    0.002    0.000 map.py:32(add_resource)\n",
      "        1    0.001    0.001   31.904   31.904 2235932985.py:2(stress_test)\n",
      "     5352    0.001    0.000    0.001    0.000 {method 'values' of 'dict' objects}\n",
      "      176    0.001    0.000    0.001    0.000 threading.py:1501(enumerate)\n",
      "      176    0.001    0.000    0.001    0.000 ipkernel.py:790(<setcomp>)\n",
      "     1056    0.001    0.000    0.001    0.000 threading.py:1168(ident)\n",
      "      704    0.000    0.000    0.000    0.000 {method 'keys' of 'dict' objects}\n",
      "      352    0.000    0.000    0.000    0.000 {built-in method builtins.isinstance}\n",
      "        1    0.000    0.000   31.904   31.904 {built-in method builtins.exec}\n",
      "      176    0.000    0.000    0.000    0.000 {method '__exit__' of '_thread.RLock' objects}\n",
      "        1    0.000    0.000    0.000    0.000 {method 'disable' of '_lsprof.Profiler' objects}\n",
      "        1    0.000    0.000   31.904   31.904 <string>:1(<module>)\n",
      "\n",
      "\n"
     ]
    }
   ],
   "source": [
    "world.reset()\n",
    "cProfile.run('stress_test()', sort = 'time')"
   ]
  },
  {
   "cell_type": "code",
   "execution_count": null,
   "metadata": {},
   "outputs": [],
   "source": [
    "cProfile.run('world.update()', sort = 'time')"
   ]
  }
 ],
 "metadata": {
  "kernelspec": {
   "display_name": "thesis",
   "language": "python",
   "name": "python3"
  },
  "language_info": {
   "codemirror_mode": {
    "name": "ipython",
    "version": 3
   },
   "file_extension": ".py",
   "mimetype": "text/x-python",
   "name": "python",
   "nbconvert_exporter": "python",
   "pygments_lexer": "ipython3",
   "version": "3.11.9"
  }
 },
 "nbformat": 4,
 "nbformat_minor": 2
}
