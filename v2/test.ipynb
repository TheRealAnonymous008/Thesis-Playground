{
 "cells": [
  {
   "cell_type": "markdown",
   "metadata": {},
   "source": [
    "## A simple swarm"
   ]
  },
  {
   "cell_type": "code",
   "execution_count": 19,
   "metadata": {},
   "outputs": [
    {
     "name": "stdout",
     "output_type": "stream",
     "text": [
      "The autoreload extension is already loaded. To reload it, use:\n",
      "  %reload_ext autoreload\n"
     ]
    }
   ],
   "source": [
    "%load_ext autoreload \n",
    "%autoreload 2"
   ]
  },
  {
   "cell_type": "code",
   "execution_count": 20,
   "metadata": {},
   "outputs": [],
   "source": [
    "import sys\n",
    "sys.tracebacklimit = 0\n",
    "\n",
    "import numpy as np\n",
    "import networkx as nx \n",
    "import matplotlib.pyplot as plt"
   ]
  },
  {
   "cell_type": "code",
   "execution_count": 21,
   "metadata": {},
   "outputs": [],
   "source": [
    "from core.agent import *\n",
    "from core.world import * \n",
    "from dynamics.space.resource_map import *\n",
    "from core.render import * \n",
    "from core.env_params import * \n",
    "from core.skill import * \n",
    "from core.models import *\n",
    "from core.env_params import *\n",
    "from core.message import *"
   ]
  },
  {
   "cell_type": "code",
   "execution_count": 22,
   "metadata": {},
   "outputs": [],
   "source": [
    "from sar.sar_agent import *\n",
    "from sar.sar_world import *\n",
    "from sar.sar_traits_sampler import *\n",
    "from dynamics.models.util_sampler import *\n",
    "\n",
    "trait_sampler = SARTraitSampler()\n",
    "\n",
    "def initialize_swarm(world : BaseWorld):\n",
    "    swarm = trait_sampler.generate(SWARM_SIZE)\n",
    "    utility_initializer = UtilitySampler()\n",
    "    \n",
    "    for agent in swarm:\n",
    "        utility_initializer.forward(agent)\n",
    "        world.add_agent(agent)\n",
    "    swarm = initialize_positions_randomly(world, swarm)\n"
   ]
  },
  {
   "cell_type": "code",
   "execution_count": 23,
   "metadata": {},
   "outputs": [],
   "source": [
    "\n",
    "from sar.urban_gen import * \n",
    "from sar.victims import * \n",
    "from sar.sar_comm import * \n",
    "\n",
    "terrain_generator = UrbanTerrainMapGenerator(padding = MAX_VISIBILITY)\n",
    "victim_generator = VictimGenerator(padding = MAX_VISIBILITY)\n",
    "def initialize_terrain(world : BaseWorld):\n",
    "    terrain_map, population_map = terrain_generator.generate(world._dims)\n",
    "    map_collection : BaseMapCollection = BaseMapCollection()\n",
    "    map_collection.add_map(\"Terrain\", terrain_map)\n",
    "    map_collection.add_map(\"Population\", population_map)\n",
    "\n",
    "    victim_generator.set_density_map(population_map)\n",
    "    victim_map = victim_generator.generate(world._dims)\n",
    "\n",
    "    map_collection.add_map(\"Victims\", victim_map)\n",
    "    return map_collection\n"
   ]
  },
  {
   "cell_type": "code",
   "execution_count": 24,
   "metadata": {},
   "outputs": [
    {
     "ename": "NameError",
     "evalue": "name 'MAX_VISIBILITY' is not defined",
     "output_type": "error",
     "traceback": [
      "\u001b[1;31m---------------------------------------------------------------------------\u001b[0m",
      "\u001b[1;31mNameError\u001b[0m                                 Traceback (most recent call last)",
      "Cell \u001b[1;32mIn[24], line 3\u001b[0m\n\u001b[0;32m      1\u001b[0m \u001b[38;5;28;01mfrom\u001b[39;00m \u001b[38;5;21;01msar\u001b[39;00m\u001b[38;5;21;01m.\u001b[39;00m\u001b[38;5;21;01menergy\u001b[39;00m \u001b[38;5;28;01mimport\u001b[39;00m EnergyModel\n\u001b[0;32m      2\u001b[0m \u001b[38;5;28;01mfrom\u001b[39;00m \u001b[38;5;21;01msar\u001b[39;00m\u001b[38;5;21;01m.\u001b[39;00m\u001b[38;5;21;01mvictims\u001b[39;00m \u001b[38;5;28;01mimport\u001b[39;00m VictimModel\n\u001b[1;32m----> 3\u001b[0m world \u001b[38;5;241m=\u001b[39m \u001b[43mSARWorld\u001b[49m\u001b[43m(\u001b[49m\u001b[43mdims\u001b[49m\u001b[43m \u001b[49m\u001b[38;5;241;43m=\u001b[39;49m\u001b[43m \u001b[49m\u001b[43mWORLD_DIMS\u001b[49m\u001b[43m,\u001b[49m\n\u001b[0;32m      4\u001b[0m \u001b[43m              \u001b[49m\u001b[43mswarm_initializer\u001b[49m\u001b[38;5;241;43m=\u001b[39;49m\u001b[43m \u001b[49m\u001b[43minitialize_swarm\u001b[49m\u001b[43m,\u001b[49m\n\u001b[0;32m      5\u001b[0m \u001b[43m              \u001b[49m\u001b[43mgeneration_pipeline\u001b[49m\u001b[38;5;241;43m=\u001b[39;49m\u001b[43minitialize_terrain\u001b[49m\n\u001b[0;32m      6\u001b[0m \u001b[43m              \u001b[49m\u001b[43m)\u001b[49m\n\u001b[0;32m      7\u001b[0m world\u001b[38;5;241m.\u001b[39madd_model(\u001b[38;5;124m\"\u001b[39m\u001b[38;5;124menergy_model\u001b[39m\u001b[38;5;124m\"\u001b[39m, EnergyModel())\n\u001b[0;32m      8\u001b[0m world\u001b[38;5;241m.\u001b[39madd_model(\u001b[38;5;124m\"\u001b[39m\u001b[38;5;124mvictim_model\u001b[39m\u001b[38;5;124m\"\u001b[39m, VictimModel())\n",
      "File \u001b[1;32mc:\\Users\\Joaquin\\Desktop\\Thesis-Playground\\v2\\sar\\sar_world.py:20\u001b[0m, in \u001b[0;36mSARWorld.__init__\u001b[1;34m(self, dims, swarm_initializer, generation_pipeline)\u001b[0m\n\u001b[0;32m     11\u001b[0m \u001b[38;5;28;01mdef\u001b[39;00m \u001b[38;5;21m__init__\u001b[39m(\u001b[38;5;28mself\u001b[39m, \n\u001b[0;32m     12\u001b[0m              dims : \u001b[38;5;28mtuple\u001b[39m[\u001b[38;5;28mint\u001b[39m, \u001b[38;5;28mint\u001b[39m],\n\u001b[0;32m     13\u001b[0m              swarm_initializer : Callable, \n\u001b[0;32m     14\u001b[0m              generation_pipeline : Callable,\n\u001b[0;32m     15\u001b[0m     ):\n\u001b[0;32m     16\u001b[0m \u001b[38;5;250m    \u001b[39m\u001b[38;5;124;03m\"\"\"\u001b[39;00m\n\u001b[0;32m     17\u001b[0m \u001b[38;5;124;03m    :param dims: The dimensions of the world.\u001b[39;00m\n\u001b[0;32m     18\u001b[0m \u001b[38;5;124;03m    :param swarm_initializer: A function to initialize a swarm of agents.\u001b[39;00m\n\u001b[0;32m     19\u001b[0m \u001b[38;5;124;03m    \"\"\"\u001b[39;00m\n\u001b[1;32m---> 20\u001b[0m     \u001b[38;5;28;43msuper\u001b[39;49m\u001b[43m(\u001b[49m\u001b[43m)\u001b[49m\u001b[38;5;241;43m.\u001b[39;49m\u001b[38;5;21;43m__init__\u001b[39;49m\u001b[43m(\u001b[49m\u001b[43mdims\u001b[49m\u001b[43m,\u001b[49m\u001b[43m \u001b[49m\u001b[43mswarm_initializer\u001b[49m\u001b[43m,\u001b[49m\u001b[43m \u001b[49m\u001b[43mgeneration_pipeline\u001b[49m\u001b[43m)\u001b[49m\n",
      "File \u001b[1;32mc:\\Users\\Joaquin\\Desktop\\Thesis-Playground\\v2\\core\\world.py:41\u001b[0m, in \u001b[0;36mBaseWorld.__init__\u001b[1;34m(self, dims, swarm_initializer, generation_pipeline)\u001b[0m\n\u001b[0;32m     37\u001b[0m \u001b[38;5;28mself\u001b[39m\u001b[38;5;241m.\u001b[39m_maps : BaseMapCollection \u001b[38;5;241m=\u001b[39m \u001b[38;5;28;01mNone\u001b[39;00m\n\u001b[0;32m     39\u001b[0m \u001b[38;5;28mself\u001b[39m\u001b[38;5;241m.\u001b[39m_models : \u001b[38;5;28mdict\u001b[39m[\u001b[38;5;28mstr\u001b[39m, BaseDynamicsModel] \u001b[38;5;241m=\u001b[39m {}\n\u001b[1;32m---> 41\u001b[0m \u001b[38;5;28;43mself\u001b[39;49m\u001b[38;5;241;43m.\u001b[39;49m\u001b[43mreset\u001b[49m\u001b[43m(\u001b[49m\u001b[43m)\u001b[49m\n",
      "File \u001b[1;32mc:\\Users\\Joaquin\\Desktop\\Thesis-Playground\\v2\\core\\world.py:57\u001b[0m, in \u001b[0;36mBaseWorld.reset\u001b[1;34m(self)\u001b[0m\n\u001b[0;32m     54\u001b[0m \u001b[38;5;28mself\u001b[39m\u001b[38;5;241m.\u001b[39m_reset()\n\u001b[0;32m     56\u001b[0m \u001b[38;5;28mself\u001b[39m\u001b[38;5;241m.\u001b[39m_maps \u001b[38;5;241m=\u001b[39m \u001b[38;5;28mself\u001b[39m\u001b[38;5;241m.\u001b[39m_generation_pipeline(\u001b[38;5;28mself\u001b[39m)\n\u001b[1;32m---> 57\u001b[0m \u001b[38;5;28;43mself\u001b[39;49m\u001b[38;5;241;43m.\u001b[39;49m\u001b[43m_swarm_initializer\u001b[49m\u001b[43m(\u001b[49m\u001b[38;5;28;43mself\u001b[39;49m\u001b[43m)\u001b[49m\n\u001b[0;32m     58\u001b[0m \u001b[38;5;28;01mfor\u001b[39;00m agent \u001b[38;5;129;01min\u001b[39;00m \u001b[38;5;28mself\u001b[39m\u001b[38;5;241m.\u001b[39magents: \n\u001b[0;32m     59\u001b[0m     agent\u001b[38;5;241m.\u001b[39mreset()\n",
      "Cell \u001b[1;32mIn[22], line 9\u001b[0m, in \u001b[0;36minitialize_swarm\u001b[1;34m(world)\u001b[0m\n\u001b[0;32m      8\u001b[0m \u001b[38;5;28;01mdef\u001b[39;00m \u001b[38;5;21minitialize_swarm\u001b[39m(world : BaseWorld):\n\u001b[1;32m----> 9\u001b[0m     swarm \u001b[38;5;241m=\u001b[39m \u001b[43mtrait_sampler\u001b[49m\u001b[38;5;241;43m.\u001b[39;49m\u001b[43mgenerate\u001b[49m\u001b[43m(\u001b[49m\u001b[43mSWARM_SIZE\u001b[49m\u001b[43m)\u001b[49m\n\u001b[0;32m     10\u001b[0m     utility_initializer \u001b[38;5;241m=\u001b[39m UtilitySampler()\n\u001b[0;32m     12\u001b[0m     \u001b[38;5;28;01mfor\u001b[39;00m agent \u001b[38;5;129;01min\u001b[39;00m swarm:\n",
      "File \u001b[1;32mc:\\Users\\Joaquin\\Desktop\\Thesis-Playground\\v2\\sar\\sar_traits_sampler.py:27\u001b[0m, in \u001b[0;36mSARTraitSampler.generate\u001b[1;34m(self, n_agents)\u001b[0m\n\u001b[0;32m     25\u001b[0m traits\u001b[38;5;241m.\u001b[39m_energy_capacity \u001b[38;5;241m=\u001b[39m np\u001b[38;5;241m.\u001b[39mclip(np\u001b[38;5;241m.\u001b[39mrandom\u001b[38;5;241m.\u001b[39mnormal(\u001b[38;5;241m100\u001b[39m, \u001b[38;5;241m20\u001b[39m), a_min\u001b[38;5;241m=\u001b[39m\u001b[38;5;241m10\u001b[39m, a_max \u001b[38;5;241m=\u001b[39m \u001b[38;5;28;01mNone\u001b[39;00m)\n\u001b[0;32m     26\u001b[0m traits\u001b[38;5;241m.\u001b[39m_max_slope \u001b[38;5;241m=\u001b[39m np\u001b[38;5;241m.\u001b[39mclip(np\u001b[38;5;241m.\u001b[39mrandom\u001b[38;5;241m.\u001b[39mnormal(\u001b[38;5;241m1\u001b[39m, \u001b[38;5;241m0.5\u001b[39m), a_min \u001b[38;5;241m=\u001b[39m \u001b[38;5;241m0.01\u001b[39m, a_max \u001b[38;5;241m=\u001b[39m \u001b[38;5;28;01mNone\u001b[39;00m)\n\u001b[1;32m---> 27\u001b[0m traits\u001b[38;5;241m.\u001b[39m_visibility_range \u001b[38;5;241m=\u001b[39m np\u001b[38;5;241m.\u001b[39mrandom\u001b[38;5;241m.\u001b[39muniform(\u001b[38;5;241m1\u001b[39m, \u001b[43mMAX_VISIBILITY\u001b[49m)\n\u001b[0;32m     30\u001b[0m agent\u001b[38;5;241m.\u001b[39m_traits \u001b[38;5;241m=\u001b[39m traits \n\u001b[0;32m     31\u001b[0m agents\u001b[38;5;241m.\u001b[39mappend(agent)\n",
      "\u001b[1;31mNameError\u001b[0m: name 'MAX_VISIBILITY' is not defined"
     ]
    }
   ],
   "source": [
    "from sar.energy import EnergyModel\n",
    "from sar.victims import VictimModel\n",
    "world = SARWorld(dims = WORLD_DIMS,\n",
    "              swarm_initializer= initialize_swarm,\n",
    "              generation_pipeline=initialize_terrain\n",
    "              )\n",
    "world.add_model(\"energy_model\", EnergyModel())\n",
    "world.add_model(\"victim_model\", VictimModel())\n",
    "world.reset()\n",
    "\n",
    "comms_protocol = SARCommunicationProtocol()"
   ]
  },
  {
   "cell_type": "code",
   "execution_count": 11,
   "metadata": {},
   "outputs": [],
   "source": [
    "# Test movements by doing random actions\n",
    "def update():\n",
    "    world.update()\n",
    "    # Evaluate the agent's utility\n",
    "    for agent in world.agents:\n",
    "        agent.utility\n",
    "\n",
    "\n",
    "    for agent in world.agents:\n",
    "        agent : SARAgent = agent\n",
    "        action_choice = np.random.randint(0, 5)\n",
    "        choice = np.random.randint(1, 5)\n",
    "\n",
    "        match (action_choice): \n",
    "            case 1: agent.move(choice)\n",
    "            # case 2: agent.pick_up(choice)\n",
    "            # case 3: agent.put_down(choice)\n",
    "            # case 4: \n",
    "                # prod_to_make = np.random.randint(RESOURCE_TYPES + 1, RESOURCE_TYPES + PRODUCT_TYPES + 1)\n",
    "                # agent.make(prod_to_make)\n",
    "            #     pass\n",
    "    \n",
    "    comms_protocol.send_messages(world)\n",
    "    comms_protocol.receive_messages(world)\n",
    "\n",
    "\n",
    "update()"
   ]
  },
  {
   "cell_type": "code",
   "execution_count": 12,
   "metadata": {},
   "outputs": [],
   "source": [
    "render_world(world, (800, 800), update_fn=update, delay_s=0)"
   ]
  },
  {
   "cell_type": "code",
   "execution_count": null,
   "metadata": {},
   "outputs": [],
   "source": []
  },
  {
   "cell_type": "markdown",
   "metadata": {},
   "source": [
    "# Data Visualization"
   ]
  },
  {
   "cell_type": "markdown",
   "metadata": {},
   "source": [
    "## Social Network "
   ]
  },
  {
   "cell_type": "code",
   "execution_count": 35,
   "metadata": {},
   "outputs": [],
   "source": [
    "network = nx.graph.Graph()\n",
    "\n",
    "for agent in world.agents:\n",
    "    for neighbor in agent._current_state.relations:\n",
    "        network.add_edge(agent.id, neighbor, weight = agent._current_state.relations[neighbor])\n"
   ]
  },
  {
   "cell_type": "code",
   "execution_count": null,
   "metadata": {},
   "outputs": [],
   "source": [
    "edges,weights = zip(*nx.get_edge_attributes(network ,'weight').items())\n",
    "nx.draw_kamada_kawai(network, node_size = 10, edge_color = weights, edge_cmap = plt.cm.Spectral)"
   ]
  },
  {
   "cell_type": "markdown",
   "metadata": {},
   "source": [
    "## Economy"
   ]
  },
  {
   "cell_type": "code",
   "execution_count": null,
   "metadata": {},
   "outputs": [],
   "source": [
    "resources : dict[int, int]  = {}\n",
    "for agent in world.agents: \n",
    "    inventory = agent._current_state.inventory\n",
    "    for t, q in inventory.items():\n",
    "        if not t in resources: \n",
    "            resources[t] = 0\n",
    "        resources[t] += q\n",
    "\n",
    "resource_types = list(resources.keys())\n",
    "quantities = list(resources.values())\n",
    "\n",
    "plt.bar(resource_types, quantities)\n",
    "plt.xlabel('Resource Type')\n",
    "plt.ylabel('Quantity')\n",
    "plt.title('Resource Distribution')\n",
    "plt.show()"
   ]
  },
  {
   "cell_type": "markdown",
   "metadata": {},
   "source": [
    "## Utility"
   ]
  },
  {
   "cell_type": "code",
   "execution_count": null,
   "metadata": {},
   "outputs": [],
   "source": [
    "utilities = []\n",
    "for agent in world.agents: \n",
    "    utilities.append(agent.utility)\n",
    "\n",
    "\n",
    "plt.hist(utilities, 50)\n",
    "plt.title('Agent Happiness')\n",
    "plt.show()"
   ]
  },
  {
   "cell_type": "markdown",
   "metadata": {},
   "source": [
    "# Verify certain things about the simulation"
   ]
  },
  {
   "cell_type": "code",
   "execution_count": 23,
   "metadata": {},
   "outputs": [],
   "source": [
    "swarm = world.agents"
   ]
  },
  {
   "cell_type": "code",
   "execution_count": 24,
   "metadata": {},
   "outputs": [
    {
     "name": "stdout",
     "output_type": "stream",
     "text": [
      "[[  0   0  25 316   0   0   0]\n",
      " [  0   0   0 124   0   0   0]\n",
      " [  0   0   0   0   0   0   0]\n",
      " [  0 326   0   0   0   0   0]\n",
      " [  0   0   0   0   0   0  98]] (5, 7)\n"
     ]
    }
   ],
   "source": [
    "# Validate the observation space provided is sensible\n",
    "obs = swarm[123].local_observation\n",
    "\n",
    "print(obs.nearby_agents, obs.nearby_agents.shape)"
   ]
  },
  {
   "cell_type": "code",
   "execution_count": 25,
   "metadata": {},
   "outputs": [],
   "source": [
    "# Validate that all observation spaces are square\n",
    "for agent in swarm: \n",
    "    obs : SARObservation = agent.local_observation\n",
    "    if (obs.victim_map.shape[0] != obs.victim_map.shape[1]):\n",
    "        print(agent.id, agent._current_position, obs.victim_map.shape)"
   ]
  },
  {
   "cell_type": "code",
   "execution_count": null,
   "metadata": {},
   "outputs": [],
   "source": [
    "# Validate that all swarm agents landed in different positions\n",
    "positions = set()\n",
    "for agent in swarm:\n",
    "    pos = agent.current_position\n",
    "    positions.add((pos[0], pos[1]))\n",
    "\n",
    "print(len(positions), len(world.agents))"
   ]
  },
  {
   "cell_type": "code",
   "execution_count": null,
   "metadata": {},
   "outputs": [],
   "source": [
    "# Check for resources\n",
    "rsrc_qty = world._resource_map._resource_quantity_map\n",
    "qtys = []\n",
    "\n",
    "for i in range(rsrc_qty.shape[0]):\n",
    "    for j in range(rsrc_qty.shape[1]):\n",
    "        if rsrc_qty[i, j] > 0:\n",
    "            qtys.append(rsrc_qty[i, j])\n",
    "\n",
    "print(qtys)"
   ]
  },
  {
   "cell_type": "code",
   "execution_count": null,
   "metadata": {},
   "outputs": [],
   "source": [
    "# Check for agent state\n",
    "state = swarm[124]._current_state\n",
    "print(state.inventory, state.current_utility)\n"
   ]
  },
  {
   "cell_type": "markdown",
   "metadata": {},
   "source": [
    "# Perftest"
   ]
  },
  {
   "cell_type": "code",
   "execution_count": 287,
   "metadata": {},
   "outputs": [],
   "source": [
    "import cProfile\n",
    "def stress_test():\n",
    "    np.random.seed(42)\n",
    "    world.reset()\n",
    "    for _ in range(0, 1000):\n",
    "        update()"
   ]
  },
  {
   "cell_type": "code",
   "execution_count": null,
   "metadata": {},
   "outputs": [],
   "source": [
    "\n",
    "cProfile.run('stress_test()', sort = 'time')"
   ]
  },
  {
   "cell_type": "code",
   "execution_count": null,
   "metadata": {},
   "outputs": [],
   "source": [
    "cProfile.run('world.update()', sort = 'time')"
   ]
  },
  {
   "cell_type": "code",
   "execution_count": null,
   "metadata": {},
   "outputs": [],
   "source": []
  }
 ],
 "metadata": {
  "kernelspec": {
   "display_name": "thesis",
   "language": "python",
   "name": "python3"
  },
  "language_info": {
   "codemirror_mode": {
    "name": "ipython",
    "version": 3
   },
   "file_extension": ".py",
   "mimetype": "text/x-python",
   "name": "python",
   "nbconvert_exporter": "python",
   "pygments_lexer": "ipython3",
   "version": "3.11.9"
  }
 },
 "nbformat": 4,
 "nbformat_minor": 2
}
