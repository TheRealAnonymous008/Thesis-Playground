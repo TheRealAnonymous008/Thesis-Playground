{
 "cells": [
  {
   "cell_type": "markdown",
   "metadata": {},
   "source": [
    "## A simple swarm"
   ]
  },
  {
   "cell_type": "code",
   "execution_count": 3,
   "metadata": {},
   "outputs": [
    {
     "name": "stdout",
     "output_type": "stream",
     "text": [
      "The autoreload extension is already loaded. To reload it, use:\n",
      "  %reload_ext autoreload\n"
     ]
    }
   ],
   "source": [
    "%load_ext autoreload \n",
    "%autoreload 2\n",
    "import sys\n",
    "sys.tracebacklimit = 0"
   ]
  },
  {
   "cell_type": "code",
   "execution_count": 4,
   "metadata": {},
   "outputs": [],
   "source": [
    "from core.agent import *\n",
    "from core.world import * \n",
    "from core.map import *\n",
    "import numpy as np\n",
    "from core.render import * \n",
    "from core.env_params import * \n",
    "from core.skill import * "
   ]
  },
  {
   "cell_type": "code",
   "execution_count": 5,
   "metadata": {},
   "outputs": [
    {
     "ename": "SyntaxError",
     "evalue": "invalid syntax (3151286362.py, line 3)",
     "output_type": "error",
     "traceback": [
      "\u001b[1;36m  Cell \u001b[1;32mIn[5], line 3\u001b[1;36m\u001b[0m\n\u001b[1;33m    skill_initializer = DefaultSkillInitializer(num_skills = PRODUCT_TYPES = 2)\u001b[0m\n\u001b[1;37m                                                                           ^\u001b[0m\n\u001b[1;31mSyntaxError\u001b[0m\u001b[1;31m:\u001b[0m invalid syntax\n"
     ]
    }
   ],
   "source": [
    "def initialize_swarm(world : World):\n",
    "    swarm = [Agent() for i in range(SWARM_SIZE)]\n",
    "    skill_initializer = DefaultSkillInitializer(num_skills = PRODUCT_TYPES)\n",
    "    for agent in swarm:\n",
    "        skill_initializer.forward(agent)\n",
    "        world.add_agent(agent)\n",
    "    swarm = initialize_positions_randomly(world, swarm)\n",
    "    "
   ]
  },
  {
   "cell_type": "code",
   "execution_count": 8,
   "metadata": {},
   "outputs": [],
   "source": [
    "world = World(dims = WORLD_DIMS,\n",
    "              swarm_initialzier= initialize_swarm,\n",
    "              resource_generator= RandomMapGenerator(RESOURCE_TYPES),\n",
    "              energy_model=EnergyModel()\n",
    "              )\n",
    "world.reset()"
   ]
  },
  {
   "cell_type": "code",
   "execution_count": 9,
   "metadata": {},
   "outputs": [],
   "source": [
    "# Test movements by doing random actions\n",
    "def update():\n",
    "    world.update()\n",
    "    # Comms protocol (receiving)\n",
    "    for agent in world.agents: \n",
    "        received_messages = agent.get_messages()\n",
    "        for msg in received_messages: \n",
    "            agent.add_relation(msg.sender, msg.message)\n",
    "        agent.clear_messages()\n",
    "\n",
    "    for agent in world.agents:\n",
    "        action_choice = np.random.randint(0, 4)\n",
    "        choice = np.random.randint(1, 5)\n",
    "\n",
    "        match (action_choice): \n",
    "            case 1: agent.move(choice)\n",
    "            case 2: agent.pick_up(choice)\n",
    "            case 3: agent.put_down(choice)\n",
    "    \n",
    "    # Comms protocol (sending )\n",
    "    for agent in world.agents:\n",
    "        neighbors = agent.agents_in_range \n",
    "\n",
    "        # Send agents\n",
    "        if len (neighbors) > 0:\n",
    "            choice = np.random.choice(neighbors)\n",
    "            tgt_agent = world.get_agent(choice)\n",
    "            agent.talk_to(tgt_agent)\n",
    "\n",
    "update()"
   ]
  },
  {
   "cell_type": "code",
   "execution_count": 10,
   "metadata": {},
   "outputs": [],
   "source": [
    "render_world(world, (800, 800), update_fn=update, delay_s=0)"
   ]
  },
  {
   "cell_type": "markdown",
   "metadata": {},
   "source": [
    "# Data Visualization"
   ]
  },
  {
   "cell_type": "markdown",
   "metadata": {},
   "source": [
    "## Social Network "
   ]
  },
  {
   "cell_type": "code",
   "execution_count": 7,
   "metadata": {},
   "outputs": [],
   "source": [
    "import networkx as nx \n",
    "import matplotlib.pyplot as plt"
   ]
  },
  {
   "cell_type": "code",
   "execution_count": 8,
   "metadata": {},
   "outputs": [],
   "source": [
    "network = nx.graph.Graph()\n",
    "\n",
    "for agent in world.agents:\n",
    "    for neighbor in agent._current_state.relations:\n",
    "        network.add_edge(agent.id, neighbor, weight = agent._current_state.relations[neighbor])"
   ]
  },
  {
   "cell_type": "code",
   "execution_count": null,
   "metadata": {},
   "outputs": [],
   "source": [
    "edges,weights = zip(*nx.get_edge_attributes(network ,'weight').items())\n",
    "nx.draw_kamada_kawai(network, node_size = 10, edge_color = weights, edge_cmap = plt.cm.Spectral)"
   ]
  },
  {
   "cell_type": "markdown",
   "metadata": {},
   "source": [
    "## Verify certain things about the simulation"
   ]
  },
  {
   "cell_type": "code",
   "execution_count": 10,
   "metadata": {},
   "outputs": [],
   "source": [
    "swarm = world.agents"
   ]
  },
  {
   "cell_type": "code",
   "execution_count": null,
   "metadata": {},
   "outputs": [],
   "source": [
    "# Validate the observation space provided is sensible\n",
    "obs = swarm[123].local_observation\n",
    "\n",
    "print(obs.nearby_agents, obs.nearby_agents.shape)\n",
    "print(obs.resource_types, obs.resource_types.shape)"
   ]
  },
  {
   "cell_type": "code",
   "execution_count": null,
   "metadata": {},
   "outputs": [],
   "source": [
    "# Validate that all swarm agents landed in different positions\n",
    "positions = set()\n",
    "for agent in swarm:\n",
    "    pos = agent.current_position\n",
    "    positions.add((pos[0], pos[1]))\n",
    "\n",
    "print(len(positions), len(world.agents))"
   ]
  },
  {
   "cell_type": "code",
   "execution_count": null,
   "metadata": {},
   "outputs": [],
   "source": [
    "# Check for resources\n",
    "rsrc_qty = world._resource_map._resource_quantity_map\n",
    "qtys = []\n",
    "\n",
    "for i in range(rsrc_qty.shape[0]):\n",
    "    for j in range(rsrc_qty.shape[1]):\n",
    "        if rsrc_qty[i, j] > 0:\n",
    "            qtys.append(rsrc_qty[i, j])\n",
    "\n",
    "print(qtys)"
   ]
  },
  {
   "cell_type": "code",
   "execution_count": null,
   "metadata": {},
   "outputs": [],
   "source": [
    "# Check for agent state\n",
    "state = swarm[0]._current_state.inventory\n",
    "print(state)\n"
   ]
  },
  {
   "cell_type": "markdown",
   "metadata": {},
   "source": [
    "# Perftest"
   ]
  },
  {
   "cell_type": "code",
   "execution_count": 90,
   "metadata": {},
   "outputs": [],
   "source": [
    "import cProfile\n",
    "def stress_test():\n",
    "    np.random.seed(42)\n",
    "    world.reset()\n",
    "    for _ in range(0, 1000):\n",
    "        update()"
   ]
  },
  {
   "cell_type": "code",
   "execution_count": null,
   "metadata": {},
   "outputs": [],
   "source": [
    "\n",
    "cProfile.run('stress_test()', sort = 'time')"
   ]
  },
  {
   "cell_type": "code",
   "execution_count": null,
   "metadata": {},
   "outputs": [],
   "source": [
    "cProfile.run('world.update()', sort = 'time')"
   ]
  },
  {
   "cell_type": "code",
   "execution_count": null,
   "metadata": {},
   "outputs": [],
   "source": []
  }
 ],
 "metadata": {
  "kernelspec": {
   "display_name": "thesis",
   "language": "python",
   "name": "python3"
  },
  "language_info": {
   "codemirror_mode": {
    "name": "ipython",
    "version": 3
   },
   "file_extension": ".py",
   "mimetype": "text/x-python",
   "name": "python",
   "nbconvert_exporter": "python",
   "pygments_lexer": "ipython3",
   "version": "3.11.9"
  }
 },
 "nbformat": 4,
 "nbformat_minor": 2
}
