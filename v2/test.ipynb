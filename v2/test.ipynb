{
 "cells": [
  {
   "cell_type": "markdown",
   "metadata": {},
   "source": [
    "## A simple swarm"
   ]
  },
  {
   "cell_type": "code",
   "execution_count": 9,
   "metadata": {},
   "outputs": [
    {
     "name": "stdout",
     "output_type": "stream",
     "text": [
      "The autoreload extension is already loaded. To reload it, use:\n",
      "  %reload_ext autoreload\n"
     ]
    }
   ],
   "source": [
    "%load_ext autoreload \n",
    "%autoreload 2\n",
    "import sys\n",
    "sys.tracebacklimit = 0"
   ]
  },
  {
   "cell_type": "code",
   "execution_count": 10,
   "metadata": {},
   "outputs": [],
   "source": [
    "from core.agent import *\n",
    "from core.world import * \n",
    "import numpy as np\n",
    "from core.render import * "
   ]
  },
  {
   "cell_type": "code",
   "execution_count": 11,
   "metadata": {},
   "outputs": [],
   "source": [
    "world = World((100, 100))\n",
    "swarm = [Agent() for _ in range(1000)]\n",
    "for agent in swarm:\n",
    "    world.add_agent(agent)"
   ]
  },
  {
   "cell_type": "code",
   "execution_count": 12,
   "metadata": {},
   "outputs": [],
   "source": [
    "swarm = initialize_positions_randomly(world, swarm)"
   ]
  },
  {
   "cell_type": "code",
   "execution_count": 13,
   "metadata": {},
   "outputs": [
    {
     "name": "stdout",
     "output_type": "stream",
     "text": [
      "This ran\n"
     ]
    }
   ],
   "source": [
    "# Test movements by doing random actions\n",
    "def update():\n",
    "    for agent in swarm:\n",
    "        choice = np.random.randint(1, 5)\n",
    "        agent.move(choice)\n",
    "\n",
    "    world.update()\n",
    "\n",
    "update()"
   ]
  },
  {
   "cell_type": "code",
   "execution_count": 14,
   "metadata": {},
   "outputs": [
    {
     "name": "stdout",
     "output_type": "stream",
     "text": [
      "This ran\n",
      "This ran\n",
      "This ran\n",
      "This ran\n",
      "This ran\n",
      "This ran\n",
      "This ran\n",
      "This ran\n",
      "This ran\n",
      "This ran\n",
      "This ran\n",
      "This ran\n",
      "This ran\n",
      "This ran\n",
      "This ran\n",
      "This ran\n",
      "This ran\n",
      "This ran\n",
      "This ran\n",
      "This ran\n",
      "This ran\n",
      "This ran\n",
      "This ran\n",
      "This ran\n",
      "This ran\n",
      "This ran\n",
      "This ran\n",
      "This ran\n",
      "This ran\n",
      "This ran\n",
      "This ran\n",
      "This ran\n",
      "This ran\n",
      "This ran\n",
      "This ran\n",
      "This ran\n",
      "This ran\n",
      "This ran\n",
      "This ran\n",
      "This ran\n",
      "This ran\n",
      "This ran\n",
      "This ran\n",
      "This ran\n",
      "This ran\n",
      "This ran\n",
      "This ran\n",
      "This ran\n",
      "This ran\n",
      "This ran\n",
      "This ran\n",
      "This ran\n",
      "This ran\n",
      "This ran\n",
      "This ran\n",
      "This ran\n",
      "This ran\n",
      "This ran\n",
      "This ran\n",
      "This ran\n",
      "This ran\n",
      "This ran\n",
      "This ran\n",
      "This ran\n",
      "This ran\n",
      "This ran\n",
      "This ran\n",
      "This ran\n",
      "This ran\n"
     ]
    }
   ],
   "source": [
    "render_world(world, (800, 800), update_fn=update)"
   ]
  },
  {
   "cell_type": "code",
   "execution_count": null,
   "metadata": {},
   "outputs": [],
   "source": []
  }
 ],
 "metadata": {
  "kernelspec": {
   "display_name": "thesis",
   "language": "python",
   "name": "python3"
  },
  "language_info": {
   "codemirror_mode": {
    "name": "ipython",
    "version": 3
   },
   "file_extension": ".py",
   "mimetype": "text/x-python",
   "name": "python",
   "nbconvert_exporter": "python",
   "pygments_lexer": "ipython3",
   "version": "3.11.9"
  }
 },
 "nbformat": 4,
 "nbformat_minor": 2
}
