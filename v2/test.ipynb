{
 "cells": [
  {
   "cell_type": "markdown",
   "metadata": {},
   "source": [
    "## A simple swarm"
   ]
  },
  {
   "cell_type": "code",
   "execution_count": 16,
   "metadata": {},
   "outputs": [
    {
     "name": "stdout",
     "output_type": "stream",
     "text": [
      "The autoreload extension is already loaded. To reload it, use:\n",
      "  %reload_ext autoreload\n"
     ]
    }
   ],
   "source": [
    "%load_ext autoreload \n",
    "%autoreload 2\n",
    "import sys\n",
    "sys.tracebacklimit = 0\n",
    "\n",
    "import numpy as np\n",
    "import networkx as nx \n",
    "import matplotlib.pyplot as plt"
   ]
  },
  {
   "cell_type": "code",
   "execution_count": 17,
   "metadata": {},
   "outputs": [],
   "source": [
    "from core.agent import *\n",
    "from core.world import * \n",
    "from core.map import *\n",
    "from core.render import * \n",
    "from core.env_params import * \n",
    "from core.skill import * \n",
    "from core.models import *\n",
    "from core.env_params import *"
   ]
  },
  {
   "cell_type": "code",
   "execution_count": 18,
   "metadata": {},
   "outputs": [],
   "source": [
    "def initialize_swarm(world : World):\n",
    "    swarm = [Agent() for i in range(SWARM_SIZE)]\n",
    "    skill_initializer = DefaultSkillInitializer(num_skills = PRODUCT_TYPES)\n",
    "    utility_initializer = UtilitySampler()\n",
    "\n",
    "    for agent in swarm:\n",
    "        skill_initializer.forward(agent)\n",
    "        utility_initializer.forward(agent)\n",
    "        world.add_agent(agent)\n",
    "    swarm = initialize_positions_randomly(world, swarm)\n",
    "    "
   ]
  },
  {
   "cell_type": "code",
   "execution_count": 19,
   "metadata": {},
   "outputs": [],
   "source": [
    "world = World(dims = WORLD_DIMS,\n",
    "              swarm_initialzier= initialize_swarm,\n",
    "              resource_generator= RandomMapGenerator(RESOURCE_TYPES, padding=MAX_VISIBILITY),\n",
    "              energy_model=EnergyModel(),\n",
    "              chemistry_model= ChemistryModel()\n",
    "              )\n",
    "world.reset()"
   ]
  },
  {
   "cell_type": "code",
   "execution_count": 20,
   "metadata": {},
   "outputs": [
    {
     "name": "stdout",
     "output_type": "stream",
     "text": [
      "1 False\n"
     ]
    },
    {
     "ename": "KeyError",
     "evalue": "1",
     "output_type": "error",
     "traceback": [
      "\u001b[1;31m---------------------------------------------------------------------------\u001b[0m",
      "\u001b[1;31mKeyError\u001b[0m                                  Traceback (most recent call last)",
      "Cell \u001b[1;32mIn[20], line 37\u001b[0m\n\u001b[0;32m     34\u001b[0m             tgt_agent \u001b[38;5;241m=\u001b[39m world\u001b[38;5;241m.\u001b[39mget_agent(choice)\n\u001b[0;32m     35\u001b[0m             agent\u001b[38;5;241m.\u001b[39mtalk_to(tgt_agent)\n\u001b[1;32m---> 37\u001b[0m \u001b[43mupdate\u001b[49m\u001b[43m(\u001b[49m\u001b[43m)\u001b[49m\n",
      "Cell \u001b[1;32mIn[20], line 34\u001b[0m, in \u001b[0;36mupdate\u001b[1;34m()\u001b[0m\n\u001b[0;32m     32\u001b[0m \u001b[38;5;28;01mif\u001b[39;00m \u001b[38;5;28mlen\u001b[39m (neighbors) \u001b[38;5;241m>\u001b[39m \u001b[38;5;241m0\u001b[39m:\n\u001b[0;32m     33\u001b[0m     choice \u001b[38;5;241m=\u001b[39m np\u001b[38;5;241m.\u001b[39mrandom\u001b[38;5;241m.\u001b[39mchoice(neighbors)\n\u001b[1;32m---> 34\u001b[0m     tgt_agent \u001b[38;5;241m=\u001b[39m \u001b[43mworld\u001b[49m\u001b[38;5;241;43m.\u001b[39;49m\u001b[43mget_agent\u001b[49m\u001b[43m(\u001b[49m\u001b[43mchoice\u001b[49m\u001b[43m)\u001b[49m\n\u001b[0;32m     35\u001b[0m     agent\u001b[38;5;241m.\u001b[39mtalk_to(tgt_agent)\n",
      "File \u001b[1;32mc:\\Users\\Joaquin\\Desktop\\Thesis-Playground\\v2\\core\\world.py:183\u001b[0m, in \u001b[0;36mWorld.get_agent\u001b[1;34m(self, id)\u001b[0m\n\u001b[0;32m    179\u001b[0m \u001b[38;5;250m\u001b[39m\u001b[38;5;124;03m\"\"\"\u001b[39;00m\n\u001b[0;32m    180\u001b[0m \u001b[38;5;124;03mReturns the agent with the given `id`\u001b[39;00m\n\u001b[0;32m    181\u001b[0m \u001b[38;5;124;03m\"\"\"\u001b[39;00m\n\u001b[0;32m    182\u001b[0m \u001b[38;5;28mprint\u001b[39m(\u001b[38;5;28mid\u001b[39m, \u001b[38;5;28mid\u001b[39m \u001b[38;5;129;01mis\u001b[39;00m \u001b[38;5;28mstr\u001b[39m)\n\u001b[1;32m--> 183\u001b[0m \u001b[38;5;28;01mreturn\u001b[39;00m \u001b[38;5;28;43mself\u001b[39;49m\u001b[38;5;241;43m.\u001b[39;49m\u001b[43m_agents\u001b[49m\u001b[43m[\u001b[49m\u001b[38;5;28;43mid\u001b[39;49m\u001b[43m]\u001b[49m\n",
      "\u001b[1;31mKeyError\u001b[0m: 1"
     ]
    }
   ],
   "source": [
    "# Test movements by doing random actions\n",
    "def update():\n",
    "    world.update()\n",
    "    # Evaluate the agent's utility\n",
    "    for agent in world.agents:\n",
    "        agent.calculate_utility()\n",
    "\n",
    "    # Comms protocol (receiving)\n",
    "    for agent in world.agents: \n",
    "        received_messages = agent.get_messages()\n",
    "        for msg in received_messages: \n",
    "            agent.add_relation(msg.sender, msg.message)\n",
    "        agent.clear_messages()\n",
    "\n",
    "    for agent in world.agents:\n",
    "        action_choice = np.random.randint(0, 5)\n",
    "        choice = np.random.randint(1, 5)\n",
    "\n",
    "        match (action_choice): \n",
    "            case 1: agent.move(choice)\n",
    "            case 2: agent.pick_up(choice)\n",
    "            case 3: agent.put_down(choice)\n",
    "            case 4: \n",
    "                prod_to_make = np.random.randint(RESOURCE_TYPES + 1, RESOURCE_TYPES + PRODUCT_TYPES + 1)\n",
    "                agent.make(prod_to_make)\n",
    "    \n",
    "    # Comms protocol (sending )\n",
    "    for agent in world.agents:\n",
    "        neighbors = agent.agents_in_range \n",
    "\n",
    "        # Send agents\n",
    "        if len (neighbors) > 0:\n",
    "            choice = str(np.random.choice(neighbors))\n",
    "            tgt_agent = world.get_agent(choice)\n",
    "            agent.talk_to(tgt_agent)\n",
    "\n",
    "update()"
   ]
  },
  {
   "cell_type": "code",
   "execution_count": 6,
   "metadata": {},
   "outputs": [],
   "source": [
    "render_world(world, (800, 800), update_fn=update, delay_s=0)"
   ]
  },
  {
   "cell_type": "code",
   "execution_count": null,
   "metadata": {},
   "outputs": [],
   "source": []
  },
  {
   "cell_type": "markdown",
   "metadata": {},
   "source": [
    "# Data Visualization"
   ]
  },
  {
   "cell_type": "markdown",
   "metadata": {},
   "source": [
    "## Social Network "
   ]
  },
  {
   "cell_type": "code",
   "execution_count": 40,
   "metadata": {},
   "outputs": [],
   "source": [
    "network = nx.graph.Graph()\n",
    "\n",
    "for agent in world.agents:\n",
    "    for neighbor in agent._current_state.relations:\n",
    "        network.add_edge(agent.id, neighbor, weight = agent._current_state.relations[neighbor])"
   ]
  },
  {
   "cell_type": "code",
   "execution_count": 41,
   "metadata": {},
   "outputs": [
    {
     "ename": "KeyboardInterrupt",
     "evalue": "",
     "output_type": "error",
     "traceback": [
      "\u001b[1;31m---------------------------------------------------------------------------\u001b[0m",
      "\u001b[1;31mKeyboardInterrupt\u001b[0m                         Traceback (most recent call last)",
      "Cell \u001b[1;32mIn[41], line 2\u001b[0m\n\u001b[0;32m      1\u001b[0m edges,weights \u001b[38;5;241m=\u001b[39m \u001b[38;5;28mzip\u001b[39m(\u001b[38;5;241m*\u001b[39mnx\u001b[38;5;241m.\u001b[39mget_edge_attributes(network ,\u001b[38;5;124m'\u001b[39m\u001b[38;5;124mweight\u001b[39m\u001b[38;5;124m'\u001b[39m)\u001b[38;5;241m.\u001b[39mitems())\n\u001b[1;32m----> 2\u001b[0m \u001b[43mnx\u001b[49m\u001b[38;5;241;43m.\u001b[39;49m\u001b[43mdraw_kamada_kawai\u001b[49m\u001b[43m(\u001b[49m\u001b[43mnetwork\u001b[49m\u001b[43m,\u001b[49m\u001b[43m \u001b[49m\u001b[43mnode_size\u001b[49m\u001b[43m \u001b[49m\u001b[38;5;241;43m=\u001b[39;49m\u001b[43m \u001b[49m\u001b[38;5;241;43m10\u001b[39;49m\u001b[43m,\u001b[49m\u001b[43m \u001b[49m\u001b[43medge_color\u001b[49m\u001b[43m \u001b[49m\u001b[38;5;241;43m=\u001b[39;49m\u001b[43m \u001b[49m\u001b[43mweights\u001b[49m\u001b[43m,\u001b[49m\u001b[43m \u001b[49m\u001b[43medge_cmap\u001b[49m\u001b[43m \u001b[49m\u001b[38;5;241;43m=\u001b[39;49m\u001b[43m \u001b[49m\u001b[43mplt\u001b[49m\u001b[38;5;241;43m.\u001b[39;49m\u001b[43mcm\u001b[49m\u001b[38;5;241;43m.\u001b[39;49m\u001b[43mSpectral\u001b[49m\u001b[43m)\u001b[49m\n",
      "File \u001b[1;32mc:\\Users\\Joaquin\\miniconda3\\envs\\thesis\\Lib\\site-packages\\networkx\\drawing\\nx_pylab.py:1581\u001b[0m, in \u001b[0;36mdraw_kamada_kawai\u001b[1;34m(G, **kwargs)\u001b[0m\n\u001b[0;32m   1544\u001b[0m \u001b[38;5;28;01mdef\u001b[39;00m \u001b[38;5;21mdraw_kamada_kawai\u001b[39m(G, \u001b[38;5;241m*\u001b[39m\u001b[38;5;241m*\u001b[39mkwargs):\n\u001b[0;32m   1545\u001b[0m \u001b[38;5;250m    \u001b[39m\u001b[38;5;124;03m\"\"\"Draw the graph `G` with a Kamada-Kawai force-directed layout.\u001b[39;00m\n\u001b[0;32m   1546\u001b[0m \n\u001b[0;32m   1547\u001b[0m \u001b[38;5;124;03m    This is a convenience function equivalent to::\u001b[39;00m\n\u001b[1;32m   (...)\u001b[0m\n\u001b[0;32m   1579\u001b[0m \u001b[38;5;124;03m    :func:`~networkx.drawing.layout.kamada_kawai_layout`\u001b[39;00m\n\u001b[0;32m   1580\u001b[0m \u001b[38;5;124;03m    \"\"\"\u001b[39;00m\n\u001b[1;32m-> 1581\u001b[0m     draw(G, \u001b[43mkamada_kawai_layout\u001b[49m\u001b[43m(\u001b[49m\u001b[43mG\u001b[49m\u001b[43m)\u001b[49m, \u001b[38;5;241m*\u001b[39m\u001b[38;5;241m*\u001b[39mkwargs)\n",
      "File \u001b[1;32mc:\\Users\\Joaquin\\miniconda3\\envs\\thesis\\Lib\\site-packages\\networkx\\drawing\\layout.py:710\u001b[0m, in \u001b[0;36mkamada_kawai_layout\u001b[1;34m(G, dist, pos, weight, scale, center, dim)\u001b[0m\n\u001b[0;32m    707\u001b[0m         pos \u001b[38;5;241m=\u001b[39m \u001b[38;5;28mdict\u001b[39m(\u001b[38;5;28mzip\u001b[39m(G, np\u001b[38;5;241m.\u001b[39mlinspace(\u001b[38;5;241m0\u001b[39m, \u001b[38;5;241m1\u001b[39m, \u001b[38;5;28mlen\u001b[39m(G))))\n\u001b[0;32m    708\u001b[0m pos_arr \u001b[38;5;241m=\u001b[39m np\u001b[38;5;241m.\u001b[39marray([pos[n] \u001b[38;5;28;01mfor\u001b[39;00m n \u001b[38;5;129;01min\u001b[39;00m G])\n\u001b[1;32m--> 710\u001b[0m pos \u001b[38;5;241m=\u001b[39m \u001b[43m_kamada_kawai_solve\u001b[49m\u001b[43m(\u001b[49m\u001b[43mdist_mtx\u001b[49m\u001b[43m,\u001b[49m\u001b[43m \u001b[49m\u001b[43mpos_arr\u001b[49m\u001b[43m,\u001b[49m\u001b[43m \u001b[49m\u001b[43mdim\u001b[49m\u001b[43m)\u001b[49m\n\u001b[0;32m    712\u001b[0m pos \u001b[38;5;241m=\u001b[39m rescale_layout(pos, scale\u001b[38;5;241m=\u001b[39mscale) \u001b[38;5;241m+\u001b[39m center\n\u001b[0;32m    713\u001b[0m \u001b[38;5;28;01mreturn\u001b[39;00m \u001b[38;5;28mdict\u001b[39m(\u001b[38;5;28mzip\u001b[39m(G, pos))\n",
      "File \u001b[1;32mc:\\Users\\Joaquin\\miniconda3\\envs\\thesis\\Lib\\site-packages\\networkx\\drawing\\layout.py:727\u001b[0m, in \u001b[0;36m_kamada_kawai_solve\u001b[1;34m(dist_mtx, pos_arr, dim)\u001b[0m\n\u001b[0;32m    724\u001b[0m meanwt \u001b[38;5;241m=\u001b[39m \u001b[38;5;241m1e-3\u001b[39m\n\u001b[0;32m    725\u001b[0m costargs \u001b[38;5;241m=\u001b[39m (np, \u001b[38;5;241m1\u001b[39m \u001b[38;5;241m/\u001b[39m (dist_mtx \u001b[38;5;241m+\u001b[39m np\u001b[38;5;241m.\u001b[39meye(dist_mtx\u001b[38;5;241m.\u001b[39mshape[\u001b[38;5;241m0\u001b[39m]) \u001b[38;5;241m*\u001b[39m \u001b[38;5;241m1e-3\u001b[39m), meanwt, dim)\n\u001b[1;32m--> 727\u001b[0m optresult \u001b[38;5;241m=\u001b[39m \u001b[43msp\u001b[49m\u001b[38;5;241;43m.\u001b[39;49m\u001b[43moptimize\u001b[49m\u001b[38;5;241m.\u001b[39mminimize(\n\u001b[0;32m    728\u001b[0m     _kamada_kawai_costfn,\n\u001b[0;32m    729\u001b[0m     pos_arr\u001b[38;5;241m.\u001b[39mravel(),\n\u001b[0;32m    730\u001b[0m     method\u001b[38;5;241m=\u001b[39m\u001b[38;5;124m\"\u001b[39m\u001b[38;5;124mL-BFGS-B\u001b[39m\u001b[38;5;124m\"\u001b[39m,\n\u001b[0;32m    731\u001b[0m     args\u001b[38;5;241m=\u001b[39mcostargs,\n\u001b[0;32m    732\u001b[0m     jac\u001b[38;5;241m=\u001b[39m\u001b[38;5;28;01mTrue\u001b[39;00m,\n\u001b[0;32m    733\u001b[0m )\n\u001b[0;32m    735\u001b[0m \u001b[38;5;28;01mreturn\u001b[39;00m optresult\u001b[38;5;241m.\u001b[39mx\u001b[38;5;241m.\u001b[39mreshape((\u001b[38;5;241m-\u001b[39m\u001b[38;5;241m1\u001b[39m, dim))\n",
      "File \u001b[1;32mc:\\Users\\Joaquin\\miniconda3\\envs\\thesis\\Lib\\site-packages\\scipy\\__init__.py:134\u001b[0m, in \u001b[0;36m__getattr__\u001b[1;34m(name)\u001b[0m\n\u001b[0;32m    132\u001b[0m \u001b[38;5;28;01mdef\u001b[39;00m \u001b[38;5;21m__getattr__\u001b[39m(name):\n\u001b[0;32m    133\u001b[0m     \u001b[38;5;28;01mif\u001b[39;00m name \u001b[38;5;129;01min\u001b[39;00m submodules:\n\u001b[1;32m--> 134\u001b[0m         \u001b[38;5;28;01mreturn\u001b[39;00m \u001b[43m_importlib\u001b[49m\u001b[38;5;241;43m.\u001b[39;49m\u001b[43mimport_module\u001b[49m\u001b[43m(\u001b[49m\u001b[38;5;124;43mf\u001b[39;49m\u001b[38;5;124;43m'\u001b[39;49m\u001b[38;5;124;43mscipy.\u001b[39;49m\u001b[38;5;132;43;01m{\u001b[39;49;00m\u001b[43mname\u001b[49m\u001b[38;5;132;43;01m}\u001b[39;49;00m\u001b[38;5;124;43m'\u001b[39;49m\u001b[43m)\u001b[49m\n\u001b[0;32m    135\u001b[0m     \u001b[38;5;28;01melse\u001b[39;00m:\n\u001b[0;32m    136\u001b[0m         \u001b[38;5;28;01mtry\u001b[39;00m:\n",
      "File \u001b[1;32mc:\\Users\\Joaquin\\miniconda3\\envs\\thesis\\Lib\\importlib\\__init__.py:126\u001b[0m, in \u001b[0;36mimport_module\u001b[1;34m(name, package)\u001b[0m\n\u001b[0;32m    124\u001b[0m             \u001b[38;5;28;01mbreak\u001b[39;00m\n\u001b[0;32m    125\u001b[0m         level \u001b[38;5;241m+\u001b[39m\u001b[38;5;241m=\u001b[39m \u001b[38;5;241m1\u001b[39m\n\u001b[1;32m--> 126\u001b[0m \u001b[38;5;28;01mreturn\u001b[39;00m \u001b[43m_bootstrap\u001b[49m\u001b[38;5;241;43m.\u001b[39;49m\u001b[43m_gcd_import\u001b[49m\u001b[43m(\u001b[49m\u001b[43mname\u001b[49m\u001b[43m[\u001b[49m\u001b[43mlevel\u001b[49m\u001b[43m:\u001b[49m\u001b[43m]\u001b[49m\u001b[43m,\u001b[49m\u001b[43m \u001b[49m\u001b[43mpackage\u001b[49m\u001b[43m,\u001b[49m\u001b[43m \u001b[49m\u001b[43mlevel\u001b[49m\u001b[43m)\u001b[49m\n",
      "File \u001b[1;32m<frozen importlib._bootstrap>:1204\u001b[0m, in \u001b[0;36m_gcd_import\u001b[1;34m(name, package, level)\u001b[0m\n",
      "File \u001b[1;32m<frozen importlib._bootstrap>:1176\u001b[0m, in \u001b[0;36m_find_and_load\u001b[1;34m(name, import_)\u001b[0m\n",
      "File \u001b[1;32m<frozen importlib._bootstrap>:1147\u001b[0m, in \u001b[0;36m_find_and_load_unlocked\u001b[1;34m(name, import_)\u001b[0m\n",
      "File \u001b[1;32m<frozen importlib._bootstrap>:690\u001b[0m, in \u001b[0;36m_load_unlocked\u001b[1;34m(spec)\u001b[0m\n",
      "File \u001b[1;32m<frozen importlib._bootstrap_external>:940\u001b[0m, in \u001b[0;36mexec_module\u001b[1;34m(self, module)\u001b[0m\n",
      "File \u001b[1;32m<frozen importlib._bootstrap>:241\u001b[0m, in \u001b[0;36m_call_with_frames_removed\u001b[1;34m(f, *args, **kwds)\u001b[0m\n",
      "File \u001b[1;32mc:\\Users\\Joaquin\\miniconda3\\envs\\thesis\\Lib\\site-packages\\scipy\\optimize\\__init__.py:414\u001b[0m\n\u001b[0;32m      1\u001b[0m \u001b[38;5;124;03m\"\"\"\u001b[39;00m\n\u001b[0;32m      2\u001b[0m \u001b[38;5;124;03m=====================================================\u001b[39;00m\n\u001b[0;32m      3\u001b[0m \u001b[38;5;124;03mOptimization and root finding (:mod:`scipy.optimize`)\u001b[39;00m\n\u001b[1;32m   (...)\u001b[0m\n\u001b[0;32m    410\u001b[0m \n\u001b[0;32m    411\u001b[0m \u001b[38;5;124;03m\"\"\"\u001b[39;00m  \u001b[38;5;66;03m# noqa: E501\u001b[39;00m\n\u001b[0;32m    413\u001b[0m \u001b[38;5;28;01mfrom\u001b[39;00m \u001b[38;5;21;01m.\u001b[39;00m\u001b[38;5;21;01m_optimize\u001b[39;00m \u001b[38;5;28;01mimport\u001b[39;00m \u001b[38;5;241m*\u001b[39m\n\u001b[1;32m--> 414\u001b[0m \u001b[38;5;28;01mfrom\u001b[39;00m \u001b[38;5;21;01m.\u001b[39;00m\u001b[38;5;21;01m_minimize\u001b[39;00m \u001b[38;5;28;01mimport\u001b[39;00m \u001b[38;5;241m*\u001b[39m\n\u001b[0;32m    415\u001b[0m \u001b[38;5;28;01mfrom\u001b[39;00m \u001b[38;5;21;01m.\u001b[39;00m\u001b[38;5;21;01m_root\u001b[39;00m \u001b[38;5;28;01mimport\u001b[39;00m \u001b[38;5;241m*\u001b[39m\n\u001b[0;32m    416\u001b[0m \u001b[38;5;28;01mfrom\u001b[39;00m \u001b[38;5;21;01m.\u001b[39;00m\u001b[38;5;21;01m_root_scalar\u001b[39;00m \u001b[38;5;28;01mimport\u001b[39;00m \u001b[38;5;241m*\u001b[39m\n",
      "File \u001b[1;32mc:\\Users\\Joaquin\\miniconda3\\envs\\thesis\\Lib\\site-packages\\scipy\\optimize\\_minimize.py:33\u001b[0m\n\u001b[0;32m     31\u001b[0m \u001b[38;5;28;01mfrom\u001b[39;00m \u001b[38;5;21;01m.\u001b[39;00m\u001b[38;5;21;01m_tnc\u001b[39;00m \u001b[38;5;28;01mimport\u001b[39;00m _minimize_tnc\n\u001b[0;32m     32\u001b[0m \u001b[38;5;28;01mfrom\u001b[39;00m \u001b[38;5;21;01m.\u001b[39;00m\u001b[38;5;21;01m_cobyla_py\u001b[39;00m \u001b[38;5;28;01mimport\u001b[39;00m _minimize_cobyla\n\u001b[1;32m---> 33\u001b[0m \u001b[38;5;28;01mfrom\u001b[39;00m \u001b[38;5;21;01m.\u001b[39;00m\u001b[38;5;21;01m_slsqp_py\u001b[39;00m \u001b[38;5;28;01mimport\u001b[39;00m _minimize_slsqp\n\u001b[0;32m     34\u001b[0m \u001b[38;5;28;01mfrom\u001b[39;00m \u001b[38;5;21;01m.\u001b[39;00m\u001b[38;5;21;01m_constraints\u001b[39;00m \u001b[38;5;28;01mimport\u001b[39;00m (old_bound_to_new, new_bounds_to_old,\n\u001b[0;32m     35\u001b[0m                            old_constraint_to_new, new_constraint_to_old,\n\u001b[0;32m     36\u001b[0m                            NonlinearConstraint, LinearConstraint, Bounds,\n\u001b[0;32m     37\u001b[0m                            PreparedConstraint)\n\u001b[0;32m     38\u001b[0m \u001b[38;5;28;01mfrom\u001b[39;00m \u001b[38;5;21;01m.\u001b[39;00m\u001b[38;5;21;01m_differentiable_functions\u001b[39;00m \u001b[38;5;28;01mimport\u001b[39;00m FD_METHODS\n",
      "File \u001b[1;32mc:\\Users\\Joaquin\\miniconda3\\envs\\thesis\\Lib\\site-packages\\scipy\\optimize\\_slsqp_py.py:19\u001b[0m\n\u001b[0;32m     16\u001b[0m __all__ \u001b[38;5;241m=\u001b[39m [\u001b[38;5;124m'\u001b[39m\u001b[38;5;124mapprox_jacobian\u001b[39m\u001b[38;5;124m'\u001b[39m, \u001b[38;5;124m'\u001b[39m\u001b[38;5;124mfmin_slsqp\u001b[39m\u001b[38;5;124m'\u001b[39m]\n\u001b[0;32m     18\u001b[0m \u001b[38;5;28;01mimport\u001b[39;00m \u001b[38;5;21;01mnumpy\u001b[39;00m \u001b[38;5;28;01mas\u001b[39;00m \u001b[38;5;21;01mnp\u001b[39;00m\n\u001b[1;32m---> 19\u001b[0m \u001b[38;5;28;01mfrom\u001b[39;00m \u001b[38;5;21;01mscipy\u001b[39;00m\u001b[38;5;21;01m.\u001b[39;00m\u001b[38;5;21;01moptimize\u001b[39;00m\u001b[38;5;21;01m.\u001b[39;00m\u001b[38;5;21;01m_slsqp\u001b[39;00m \u001b[38;5;28;01mimport\u001b[39;00m slsqp\n\u001b[0;32m     20\u001b[0m \u001b[38;5;28;01mfrom\u001b[39;00m \u001b[38;5;21;01mnumpy\u001b[39;00m \u001b[38;5;28;01mimport\u001b[39;00m (zeros, array, linalg, append, concatenate, finfo,\n\u001b[0;32m     21\u001b[0m                    sqrt, vstack, isfinite, atleast_1d)\n\u001b[0;32m     22\u001b[0m \u001b[38;5;28;01mfrom\u001b[39;00m \u001b[38;5;21;01m.\u001b[39;00m\u001b[38;5;21;01m_optimize\u001b[39;00m \u001b[38;5;28;01mimport\u001b[39;00m (OptimizeResult, _check_unknown_options,\n\u001b[0;32m     23\u001b[0m                         _prepare_scalar_function, _clip_x_for_func,\n\u001b[0;32m     24\u001b[0m                         _check_clip_x)\n",
      "\u001b[1;31mKeyboardInterrupt\u001b[0m: "
     ]
    }
   ],
   "source": [
    "edges,weights = zip(*nx.get_edge_attributes(network ,'weight').items())\n",
    "nx.draw_kamada_kawai(network, node_size = 10, edge_color = weights, edge_cmap = plt.cm.Spectral)"
   ]
  },
  {
   "cell_type": "markdown",
   "metadata": {},
   "source": [
    "## Economy"
   ]
  },
  {
   "cell_type": "code",
   "execution_count": 8,
   "metadata": {},
   "outputs": [
    {
     "data": {
      "image/png": "[encoded data removed]",
      "text/plain": [
       "<Figure size 640x480 with 1 Axes>"
      ]
     },
     "metadata": {},
     "output_type": "display_data"
    }
   ],
   "source": [
    "resources : dict[int, int]  = {}\n",
    "for agent in world.agents: \n",
    "    inventory = agent._current_state.inventory\n",
    "    for t, q in inventory.items():\n",
    "        if not t in resources: \n",
    "            resources[t] = 0\n",
    "        resources[t] += q\n",
    "\n",
    "resource_types = list(resources.keys())\n",
    "quantities = list(resources.values())\n",
    "\n",
    "plt.bar(resource_types, quantities)\n",
    "plt.xlabel('Resource Type')\n",
    "plt.ylabel('Quantity')\n",
    "plt.title('Resource Distribution')\n",
    "plt.show()"
   ]
  },
  {
   "cell_type": "markdown",
   "metadata": {},
   "source": [
    "## Utility"
   ]
  },
  {
   "cell_type": "code",
   "execution_count": 12,
   "metadata": {},
   "outputs": [
    {
     "data": {
      "image/png": "[encoded data removed]",
      "text/plain": [
       "<Figure size 640x480 with 1 Axes>"
      ]
     },
     "metadata": {},
     "output_type": "display_data"
    }
   ],
   "source": [
    "utilities = []\n",
    "for agent in world.agents: \n",
    "    utilities.append(agent.utility)\n",
    "\n",
    "\n",
    "plt.hist(utilities, 50)\n",
    "plt.title('Agent Happiness')\n",
    "plt.show()"
   ]
  },
  {
   "cell_type": "markdown",
   "metadata": {},
   "source": [
    "# Verify certain things about the simulation"
   ]
  },
  {
   "cell_type": "code",
   "execution_count": 67,
   "metadata": {},
   "outputs": [],
   "source": [
    "swarm = world.agents"
   ]
  },
  {
   "cell_type": "code",
   "execution_count": 11,
   "metadata": {},
   "outputs": [
    {
     "name": "stdout",
     "output_type": "stream",
     "text": [
      "[[  0   0   0   0   0]\n",
      " [  0   0 201   0   0]\n",
      " [  0   0   0   0   0]\n",
      " [  0 124   0   0   0]\n",
      " [647   0   0   0   0]\n",
      " [  0   0   0   0   0]\n",
      " [  0   0   0   0   0]] (7, 5)\n",
      "[[0 0 0 0 0]\n",
      " [0 0 0 0 0]\n",
      " [0 0 0 0 0]\n",
      " [0 0 0 0 0]\n",
      " [0 0 0 0 0]\n",
      " [0 0 0 0 0]\n",
      " [0 0 0 0 0]] (7, 5)\n"
     ]
    }
   ],
   "source": [
    "# Validate the observation space provided is sensible\n",
    "obs = swarm[123].local_observation\n",
    "\n",
    "print(obs.nearby_agents, obs.nearby_agents.shape)\n",
    "print(obs.resource_types, obs.resource_types.shape)"
   ]
  },
  {
   "cell_type": "code",
   "execution_count": 68,
   "metadata": {},
   "outputs": [],
   "source": [
    "# Validate that all observation spaces are square\n",
    "for agent in swarm: \n",
    "    obs = agent.local_observation\n",
    "    if (obs.resource_types.shape[0] != obs.resource_types.shape[1]):\n",
    "        print(agent.current_position_const, obs.resource_types.shape)"
   ]
  },
  {
   "cell_type": "code",
   "execution_count": 12,
   "metadata": {},
   "outputs": [
    {
     "name": "stdout",
     "output_type": "stream",
     "text": [
      "1000 1000\n"
     ]
    }
   ],
   "source": [
    "# Validate that all swarm agents landed in different positions\n",
    "positions = set()\n",
    "for agent in swarm:\n",
    "    pos = agent.current_position\n",
    "    positions.add((pos[0], pos[1]))\n",
    "\n",
    "print(len(positions), len(world.agents))"
   ]
  },
  {
   "cell_type": "code",
   "execution_count": 13,
   "metadata": {},
   "outputs": [
    {
     "name": "stdout",
     "output_type": "stream",
     "text": [
      "[4, 7, 6, 4, 7, 4, 3, 3, 2, 6, 3, 5, 4, 6, 4, 5, 4, 2, 3, 2, 3, 3, 6, 3, 5, 1, 3, 8, 2, 6, 3, 1, 1, 4, 6, 4, 6, 5, 3, 4, 6, 6, 4, 4, 2, 3, 6, 3, 4, 3, 5, 6, 5, 3, 1, 4, 1, 8, 8, 1, 3, 4, 5, 5, 7, 8, 2, 5, 6, 4, 4, 4, 5, 7, 2, 2, 6, 3, 5, 3, 2, 4, 3, 5, 9, 6, 7, 2, 4, 1, 7, 5, 1, 4, 1, 5, 1, 3, 4, 7, 1, 3, 5, 5, 2, 3, 7, 4, 3, 4, 7, 5, 6, 1, 5, 2, 1, 2, 5, 3, 2, 6, 4, 6, 4, 5, 6, 5, 2, 5, 7, 3, 4, 9, 4, 1, 2, 6, 6, 4, 4, 4, 8, 5, 4, 4, 4, 1, 5, 7, 3, 2, 2, 1, 5, 4, 2, 8, 5, 9, 5, 9, 3, 6, 5, 1, 3, 4, 3, 3, 5, 6, 2, 6, 4, 2, 5, 6, 1, 4, 4, 4, 6, 6, 5, 5, 2, 1, 1, 4, 9, 4, 2, 1, 3, 6, 5, 5, 5, 1, 1, 4, 3, 2, 1, 4, 3, 1, 4, 3, 4, 7, 2, 1, 3, 6, 2, 5, 3, 4, 4, 5, 5, 6, 2, 7, 1, 1, 1, 6, 1, 2, 4, 3, 1, 4, 1, 1, 7, 4, 3, 3, 3, 1, 6, 1, 6, 8, 5, 5, 3, 1, 7, 9, 1, 5, 2, 4, 1, 3, 3, 1, 3, 3, 2, 1, 1, 2, 6, 5, 1, 2, 5, 5, 5, 5, 2, 5, 3, 1, 6, 4, 2, 7, 4, 5, 5, 1, 5, 1, 4, 11, 6, 1, 2, 7, 6, 6, 3, 3, 3, 6, 2, 3, 1, 2, 2, 6, 4, 4, 5, 5, 6, 4, 1, 8, 5, 7, 2, 1, 1, 2, 4, 4, 2, 4, 5, 3, 6, 4, 6, 1, 4, 5, 8, 5, 4, 3, 6, 2, 5, 5, 3, 5, 3, 1, 1, 4, 7, 5, 6, 5, 1, 1, 4, 8, 6, 7, 4, 4, 2, 3, 3, 1, 1, 4, 3, 3, 4, 2, 4, 3, 3, 4, 5, 2, 2, 2, 5, 6, 2, 6, 2, 5, 3, 2, 3, 7, 1, 1, 2, 3, 1, 8, 4, 5, 3, 3, 3, 6, 3, 1, 3, 1, 1, 3, 4, 5, 7, 6, 2, 4, 5, 6, 1, 7, 2, 2, 2, 1, 4, 4, 6, 2, 4, 1, 7, 3, 6, 4, 7, 7, 4, 5, 5, 1, 2, 6, 7, 7, 2, 2, 2, 6, 2, 1, 6, 4, 6, 4, 7, 4, 1, 4, 2, 1, 3, 11, 2, 4, 9, 4, 1, 3, 5, 2, 2, 3, 1, 4, 5, 6, 5, 2, 5, 5, 3, 4, 3, 7, 6, 6, 3, 3, 5, 1, 5, 3, 4, 7, 7, 8, 2, 3, 5, 1, 8, 5, 1, 2, 4]\n"
     ]
    }
   ],
   "source": [
    "# Check for resources\n",
    "rsrc_qty = world._resource_map._resource_quantity_map\n",
    "qtys = []\n",
    "\n",
    "for i in range(rsrc_qty.shape[0]):\n",
    "    for j in range(rsrc_qty.shape[1]):\n",
    "        if rsrc_qty[i, j] > 0:\n",
    "            qtys.append(rsrc_qty[i, j])\n",
    "\n",
    "print(qtys)"
   ]
  },
  {
   "cell_type": "code",
   "execution_count": 14,
   "metadata": {},
   "outputs": [
    {
     "name": "stdout",
     "output_type": "stream",
     "text": [
      "{2: 2, 3: 2} -1.114025078450203\n"
     ]
    }
   ],
   "source": [
    "# Check for agent state\n",
    "state = swarm[124]._current_state\n",
    "print(state.inventory, state.current_utility)\n"
   ]
  },
  {
   "cell_type": "markdown",
   "metadata": {},
   "source": [
    "# Perftest"
   ]
  },
  {
   "cell_type": "code",
   "execution_count": 7,
   "metadata": {},
   "outputs": [],
   "source": [
    "import cProfile\n",
    "def stress_test():\n",
    "    np.random.seed(42)\n",
    "    world.reset()\n",
    "    for _ in range(0, 1000):\n",
    "        update()"
   ]
  },
  {
   "cell_type": "code",
   "execution_count": 8,
   "metadata": {},
   "outputs": [
    {
     "name": "stdout",
     "output_type": "stream",
     "text": [
      "         68090883 function calls in 31.324 seconds\n",
      "\n",
      "   Ordered by: internal time\n",
      "\n",
      "   ncalls  tottime  percall  cumtime  percall filename:lineno(function)\n",
      "  2200089    2.813    0.000    2.813    0.000 {method 'randint' of 'numpy.random.mtrand.RandomState' objects}\n",
      "  1000000    2.684    0.000    4.721    0.000 utility.py:17(forward)\n",
      "     1000    1.984    0.002   31.401    0.031 1515484444.py:2(update)\n",
      "   611006    1.604    0.000    3.957    0.000 {method 'choice' of 'numpy.random.mtrand.RandomState' objects}\n",
      "  1000000    1.491    0.000    2.003    0.000 world.py:137(_get_nearby_agents)\n",
      "     1000    1.371    0.001    2.175    0.002 world.py:92(_update_movement)\n",
      "  1000000    1.281    0.000    3.110    0.000 observation.py:22(neighbors)\n",
      "     1000    1.161    0.001   11.525    0.012 world.py:56(update)\n",
      "  1000000    1.150    0.000    1.405    0.000 numeric.py:67(zeros_like)\n",
      "  1000000    1.095    0.000    1.095    0.000 observation.py:28(<listcomp>)\n",
      "   804345    0.984    0.000    0.984    0.000 {method 'reduce' of 'numpy.ufunc' objects}\n",
      "     1000    0.840    0.001    2.301    0.002 world.py:115(_update_agent_actuation)\n",
      "  1000000    0.813    0.000    1.143    0.000 world.py:150(_get_nearby_resources)\n",
      "   804343    0.756    0.000    2.332    0.000 fromnumeric.py:71(_wrapreduction)\n",
      "  1000000    0.592    0.000    1.519    0.000 models.py:14(forward)\n",
      "   382734    0.486    0.000    0.696    0.000 map.py:45(subtract_resource)\n",
      "  1000002    0.465    0.000    0.465    0.000 {method 'ravel' of 'numpy.ndarray' objects}\n",
      "  1000000    0.441    0.000    0.441    0.000 {method 'dot' of 'numpy.ndarray' objects}\n",
      "     1000    0.416    0.000    0.526    0.001 world.py:194(get_presence_mask)\n",
      "  1586292    0.413    0.000    0.413    0.000 map.py:27(translate_idx)\n",
      "  3586349    0.411    0.000    0.411    0.000 {built-in method builtins.max}\n",
      "  5387150    0.325    0.000    0.325    0.000 agent.py:274(current_position_const)\n",
      "  1000000    0.315    0.000    3.426    0.000 agent.py:221(agents_in_range)\n",
      "   611006    0.314    0.000    2.299    0.000 fromnumeric.py:2979(prod)\n",
      "   611005    0.308    0.000    0.598    0.000 agent.py:136(talk_to)\n",
      "   804343    0.280    0.000    0.280    0.000 fromnumeric.py:72(<dictcomp>)\n",
      "  1000000    0.275    0.000    4.996    0.000 agent.py:215(calculate_utility)\n",
      "   590487    0.272    0.000    0.272    0.000 world.py:182(is_in_bounds)\n",
      "  3000000    0.270    0.000    0.270    0.000 observation.py:26(<genexpr>)\n",
      "  1452340    0.263    0.000    0.346    0.000 enum.py:193(__get__)\n",
      "   615008    0.255    0.000    0.255    0.000 {built-in method builtins.getattr}\n",
      "  2000000    0.222    0.000    0.222    0.000 {built-in method builtins.min}\n",
      "   610417    0.219    0.000    0.433    0.000 agent.py:160(add_relation)\n",
      "   580487    0.205    0.000    0.510    0.000 action.py:13(get_direction_of_movement)\n",
      "  1000000    0.202    0.000    0.399    0.000 agent.py:197(reset_for_next_action)\n",
      "  1000000    0.197    0.000    0.197    0.000 action.py:61(reset)\n",
      "   200382    0.196    0.000    0.333    0.000 agent.py:108(put_down)\n",
      "  3000000    0.195    0.000    0.195    0.000 agent.py:281(action)\n",
      "   200193    0.195    0.000    0.331    0.000 agent.py:80(pick_up)\n",
      "   199662    0.194    0.000    0.330    0.000 agent.py:51(move)\n",
      "   193337    0.185    0.000    0.631    0.000 agent.py:288(has_moved)\n",
      "   592493    0.176    0.000    0.176    0.000 {built-in method numpy.array}\n",
      "   611005    0.168    0.000    0.210    0.000 agent.py:142(send_message)\n",
      "  1000000    0.167    0.000    0.167    0.000 agent.py:203(set_observation)\n",
      "  1000000    0.163    0.000    0.367    0.000 agent.py:154(clear_messages)\n",
      "  1000000    0.157    0.000    0.205    0.000 agent_state.py:101(clear_messages)\n",
      "   610417    0.149    0.000    0.149    0.000 agent_state.py:113(get_relation)\n",
      "  1002002    0.129    0.000    0.129    0.000 {built-in method numpy.zeros}\n",
      "   611005    0.123    0.000    0.123    0.000 world.py:170(get_agent)\n",
      "  1001000    0.118    0.000    0.118    0.000 agent.py:251(set_position)\n",
      "  1000000    0.118    0.000    0.118    0.000 <string>:2(__init__)\n",
      "   197769    0.111    0.000    0.111    0.000 {method 'normal' of 'numpy.random.mtrand.RandomState' objects}\n",
      "   203337    0.109    0.000    0.344    0.000 world.py:188(is_traversable)\n",
      "   201126    0.097    0.000    0.140    0.000 map.py:85(get_type)\n",
      "   580487    0.094    0.000    0.131    0.000 enum.py:1232(__hash__)\n",
      "  1000000    0.087    0.000    0.087    0.000 agent.py:148(get_messages)\n",
      "   193337    0.084    0.000    0.430    0.000 fromnumeric.py:2421(all)\n",
      "  1452340    0.083    0.000    0.083    0.000 enum.py:1257(value)\n",
      "  1000000    0.075    0.000    0.075    0.000 multiarray.py:1080(copyto)\n",
      "   199751    0.075    0.000    0.131    0.000 models.py:86(forward)\n",
      "  1006041    0.065    0.000    0.065    0.000 {method 'values' of 'dict' objects}\n",
      "  1000000    0.065    0.000    0.065    0.000 numeric.py:63(_zeros_like_dispatcher)\n",
      "   610417    0.065    0.000    0.065    0.000 agent_state.py:107(set_relation)\n",
      "   600237    0.064    0.000    0.064    0.000 agent_state.py:49(can_move)\n",
      "   904460    0.063    0.000    0.063    0.000 {method 'items' of 'dict' objects}\n",
      "  1000080    0.062    0.000    0.062    0.000 {method 'keys' of 'dict' objects}\n",
      "  1000000    0.057    0.000    0.057    0.000 multiarray.py:85(empty_like)\n",
      "   611006    0.054    0.000    0.054    0.000 fromnumeric.py:2974(_prod_dispatcher)\n",
      "  1000002    0.054    0.000    0.054    0.000 {built-in method builtins.len}\n",
      "  1001000    0.054    0.000    0.054    0.000 agent.py:241(id)\n",
      "  1002000    0.048    0.000    0.048    0.000 {method 'clear' of 'list' objects}\n",
      "   620820    0.043    0.000    0.043    0.000 {method 'append' of 'list' objects}\n",
      "   580487    0.037    0.000    0.037    0.000 {built-in method builtins.hash}\n",
      "   199939    0.026    0.000    0.026    0.000 agent.py:166(make)\n",
      "    99560    0.025    0.000    0.047    0.000 agent.py:190(has_in_inventory)\n",
      "     6001    0.025    0.000    0.026    0.000 world.py:206(agents)\n",
      "     7846    0.022    0.000    0.030    0.000 agent.py:172(add_to_inventory)\n",
      "    99560    0.022    0.000    0.022    0.000 agent_state.py:76(has_in_inventory)\n",
      "   193337    0.016    0.000    0.016    0.000 fromnumeric.py:2416(_all_dispatcher)\n",
      "     7846    0.006    0.000    0.006    0.000 agent_state.py:53(add_to_inventory)\n",
      "        1    0.005    0.005    0.022    0.022 world.py:231(initialize_positions_randomly)\n",
      "     2000    0.002    0.000    0.002    0.000 {method 'uniform' of 'numpy.random.mtrand.RandomState' objects}\n",
      "     1000    0.002    0.000    0.534    0.001 world.py:88(_get_world_state)\n",
      "     9721    0.002    0.000    0.003    0.000 map.py:33(add_resource)\n",
      "     2000    0.002    0.000    0.005    0.000 fromnumeric.py:40(_wrapit)\n",
      "        1    0.002    0.002    0.005    0.005 map.py:130(generate)\n",
      "     2000    0.002    0.000    0.002    0.000 _methods.py:90(_clip)\n",
      "     2000    0.001    0.000    0.011    0.000 skill.py:27(<lambda>)\n",
      "     1000    0.001    0.000    0.012    0.000 skill.py:29(forward)\n",
      "        1    0.001    0.001   31.453   31.453 3788401045.py:2(stress_test)\n",
      "     2002    0.001    0.000    0.006    0.000 fromnumeric.py:53(_wrapfunc)\n",
      "     1000    0.001    0.000    0.003    0.000 agent.py:16(__init__)\n",
      "     2000    0.001    0.000    0.001    0.000 agent_state.py:37(reset)\n",
      "     1000    0.001    0.000    0.005    0.000 models.py:112(forward)\n",
      "     2000    0.001    0.000    0.007    0.000 fromnumeric.py:2100(clip)\n",
      "        1    0.001    0.001    0.044    0.044 1547803679.py:1(initialize_swarm)\n",
      "     1000    0.001    0.000    0.001    0.000 world.py:162(add_agent)\n",
      "     4001    0.001    0.000    0.001    0.000 {method 'clear' of 'dict' objects}\n",
      "     2000    0.001    0.000    0.002    0.000 agent.py:37(reset)\n",
      "     2000    0.000    0.000    0.002    0.000 {method 'clip' of 'numpy.ndarray' objects}\n",
      "      557    0.000    0.000    0.000    0.000 agent_state.py:63(get_from_inventory)\n",
      "     2004    0.000    0.000    0.000    0.000 {built-in method numpy.asarray}\n",
      "        1    0.000    0.000    0.004    0.004 1547803679.py:2(<listcomp>)\n",
      "      557    0.000    0.000    0.001    0.000 agent.py:184(get_from_inventory)\n",
      "     1000    0.000    0.000    0.000    0.000 agent_state.py:31(<lambda>)\n",
      "     2000    0.000    0.000    0.000    0.000 fromnumeric.py:2096(_clip_dispatcher)\n",
      "     1000    0.000    0.000    0.000    0.000 utility.py:13(__init__)\n",
      "        1    0.000    0.000    0.051    0.051 world.py:39(reset)\n",
      "     1000    0.000    0.000    0.000    0.000 agent.py:209(set_utility)\n",
      "     1000    0.000    0.000    0.000    0.000 agent.py:235(bind_to_world)\n",
      "       40    0.000    0.000    0.000    0.000 ipkernel.py:775(_clean_thread_parent_frames)\n",
      "     1000    0.000    0.000    0.000    0.000 agent_state.py:33(<lambda>)\n",
      "     1000    0.000    0.000    0.000    0.000 agent_state.py:32(<lambda>)\n",
      "       20    0.000    0.000    0.000    0.000 threading.py:1501(enumerate)\n",
      "       20    0.000    0.000    0.000    0.000 ipkernel.py:790(<setcomp>)\n",
      "        2    0.000    0.000    0.000    0.000 arraypad.py:533(pad)\n",
      "        2    0.000    0.000    0.000    0.000 arraypad.py:86(_pad_simple)\n",
      "        1    0.000    0.000    0.000    0.000 map.py:119(generate)\n",
      "        1    0.000    0.000    0.000    0.000 {numpy.random.mtrand.seed}\n",
      "        2    0.000    0.000    0.000    0.000 stride_tricks.py:340(_broadcast_to)\n",
      "        4    0.000    0.000    0.000    0.000 arraypad.py:458(_as_pairs)\n",
      "        1    0.000    0.000   31.453   31.453 {built-in method builtins.exec}\n",
      "      120    0.000    0.000    0.000    0.000 threading.py:1168(ident)\n",
      "        4    0.000    0.000    0.000    0.000 arraypad.py:129(_set_pad_area)\n",
      "        2    0.000    0.000    0.000    0.000 {method 'astype' of 'numpy.ndarray' objects}\n",
      "        2    0.000    0.000    0.000    0.000 stride_tricks.py:367(broadcast_to)\n",
      "        1    0.000    0.000    0.000    0.000 skill.py:19(__init__)\n",
      "       40    0.000    0.000    0.000    0.000 {built-in method builtins.isinstance}\n",
      "        2    0.000    0.000    0.000    0.000 fromnumeric.py:3269(round)\n",
      "        1    0.000    0.000    0.000    0.000 skill.py:25(_initialize_distributions)\n",
      "        4    0.000    0.000    0.000    0.000 arraypad.py:58(_view_roi)\n",
      "       20    0.000    0.000    0.000    0.000 {method '__exit__' of '_thread.RLock' objects}\n",
      "        8    0.000    0.000    0.000    0.000 arraypad.py:33(_slice_at_axis)\n",
      "        2    0.000    0.000    0.000    0.000 {method 'round' of 'numpy.ndarray' objects}\n",
      "        2    0.000    0.000    0.000    0.000 _methods.py:43(_amin)\n",
      "        2    0.000    0.000    0.000    0.000 {method 'min' of 'numpy.ndarray' objects}\n",
      "        2    0.000    0.000    0.000    0.000 {built-in method builtins.any}\n",
      "        6    0.000    0.000    0.000    0.000 arraypad.py:120(<genexpr>)\n",
      "        6    0.000    0.000    0.000    0.000 arraypad.py:109(<genexpr>)\n",
      "        1    0.000    0.000    0.000    0.000 map.py:18(__init__)\n",
      "        2    0.000    0.000    0.000    0.000 {built-in method numpy.empty}\n",
      "        2    0.000    0.000    0.000    0.000 function_base.py:348(iterable)\n",
      "        1    0.000    0.000   31.453   31.453 <string>:1(<module>)\n",
      "        2    0.000    0.000    0.000    0.000 {method 'tolist' of 'numpy.ndarray' objects}\n",
      "        6    0.000    0.000    0.000    0.000 stride_tricks.py:345(<genexpr>)\n",
      "        2    0.000    0.000    0.000    0.000 stride_tricks.py:25(_maybe_view_as_subclass)\n",
      "        2    0.000    0.000    0.000    0.000 fromnumeric.py:3265(_round_dispatcher)\n",
      "        2    0.000    0.000    0.000    0.000 arraypad.py:525(_pad_dispatcher)\n",
      "        2    0.000    0.000    0.000    0.000 {method '__exit__' of 'numpy.nditer' objects}\n",
      "        1    0.000    0.000    0.000    0.000 models.py:109(__init__)\n",
      "        1    0.000    0.000    0.000    0.000 skill.py:9(__init__)\n",
      "        1    0.000    0.000    0.000    0.000 {method 'disable' of '_lsprof.Profiler' objects}\n",
      "        2    0.000    0.000    0.000    0.000 {method 'get' of 'dict' objects}\n",
      "        2    0.000    0.000    0.000    0.000 {built-in method builtins.iter}\n",
      "        2    0.000    0.000    0.000    0.000 stride_tricks.py:363(_broadcast_to_dispatcher)\n",
      "        2    0.000    0.000    0.000    0.000 {built-in method builtins.callable}\n",
      "\n",
      "\n"
     ]
    }
   ],
   "source": [
    "\n",
    "cProfile.run('stress_test()', sort = 'time')"
   ]
  },
  {
   "cell_type": "code",
   "execution_count": null,
   "metadata": {},
   "outputs": [],
   "source": [
    "cProfile.run('world.update()', sort = 'time')"
   ]
  },
  {
   "cell_type": "code",
   "execution_count": null,
   "metadata": {},
   "outputs": [],
   "source": []
  }
 ],
 "metadata": {
  "kernelspec": {
   "display_name": "thesis",
   "language": "python",
   "name": "python3"
  },
  "language_info": {
   "codemirror_mode": {
    "name": "ipython",
    "version": 3
   },
   "file_extension": ".py",
   "mimetype": "text/x-python",
   "name": "python",
   "nbconvert_exporter": "python",
   "pygments_lexer": "ipython3",
   "version": "3.11.9"
  }
 },
 "nbformat": 4,
 "nbformat_minor": 2
}
