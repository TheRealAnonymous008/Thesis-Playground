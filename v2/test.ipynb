{
 "cells": [
  {
   "cell_type": "markdown",
   "metadata": {},
   "source": [
    "## A simple swarm"
   ]
  },
  {
   "cell_type": "code",
   "execution_count": 9,
   "metadata": {},
   "outputs": [
    {
     "name": "stdout",
     "output_type": "stream",
     "text": [
      "The autoreload extension is already loaded. To reload it, use:\n",
      "  %reload_ext autoreload\n"
     ]
    }
   ],
   "source": [
    "%load_ext autoreload \n",
    "%autoreload 2"
   ]
  },
  {
   "cell_type": "code",
   "execution_count": 10,
   "metadata": {},
   "outputs": [],
   "source": [
    "import sys\n",
    "sys.tracebacklimit = 0\n",
    "\n",
    "import numpy as np\n",
    "import networkx as nx \n",
    "import matplotlib.pyplot as plt"
   ]
  },
  {
   "cell_type": "code",
   "execution_count": 11,
   "metadata": {},
   "outputs": [],
   "source": [
    "from core.agent import *\n",
    "from core.world import * \n",
    "from dynamics.space.resource_map import *\n",
    "from core.render import * \n",
    "from core.env_params import * \n",
    "from core.skill import * \n",
    "from core.models import *\n",
    "from core.env_params import *\n",
    "from core.message import *"
   ]
  },
  {
   "cell_type": "code",
   "execution_count": 12,
   "metadata": {},
   "outputs": [],
   "source": [
    "from sar.sar_agent import *\n",
    "from dynamics.agents.trade_agent import * \n",
    "from sar.sar_world import *\n",
    "from dynamics.models.util_sampler import *\n",
    "\n",
    "def initialize_swarm(world : BaseWorld):\n",
    "    swarm = [SARAgent() for i in range(SWARM_SIZE)]\n",
    "    # skill_initializer = DefaultSkillInitializer(num_skills = PRODUCT_TYPES)\n",
    "    utility_initializer = UtilitySampler()\n",
    "\n",
    "    for agent in swarm:\n",
    "        # skill_initializer.forward(agent)\n",
    "        utility_initializer.forward(agent)\n",
    "        world.add_agent(agent)\n",
    "    swarm = initialize_positions_randomly(world, swarm)\n"
   ]
  },
  {
   "cell_type": "code",
   "execution_count": 13,
   "metadata": {},
   "outputs": [],
   "source": [
    "\n",
    "from sar.urban_gen import * \n",
    "from sar.victims import * \n",
    "from sar.sar_comm import * \n",
    "\n",
    "terrain_generator = UrbanTerrainMapGenerator(padding = MAX_VISIBILITY)\n",
    "victim_generator = VictimGenerator(padding = MAX_VISIBILITY)\n",
    "def initialize_terrain(world : BaseWorld):\n",
    "    terrain_map, population_map = terrain_generator.generate(world._dims)\n",
    "    map_collection : BaseMapCollection = BaseMapCollection()\n",
    "    map_collection.add_map(\"Terrain\", terrain_map)\n",
    "    map_collection.add_map(\"Population\", population_map)\n",
    "\n",
    "    victim_generator.set_density_map(population_map)\n",
    "    victim_map = victim_generator.generate(world._dims)\n",
    "\n",
    "    map_collection.add_map(\"Victims\", victim_map)\n",
    "    return map_collection\n"
   ]
  },
  {
   "cell_type": "code",
   "execution_count": 14,
   "metadata": {},
   "outputs": [],
   "source": [
    "from sar.energy import EnergyModel\n",
    "from sar.victims import VictimModel\n",
    "world = SARWorld(dims = WORLD_DIMS,\n",
    "              swarm_initializer= initialize_swarm,\n",
    "              generation_pipeline=initialize_terrain\n",
    "              )\n",
    "world.add_model(\"energy_model\", EnergyModel())\n",
    "world.add_model(\"victim_model\", VictimModel())\n",
    "world.reset()\n",
    "\n",
    "comms_protocol = SARCommunicationProtocol()"
   ]
  },
  {
   "cell_type": "code",
   "execution_count": 15,
   "metadata": {},
   "outputs": [],
   "source": [
    "# Test movements by doing random actions\n",
    "def update():\n",
    "    world.update()\n",
    "    # Evaluate the agent's utility\n",
    "    for agent in world.agents:\n",
    "        agent.utility\n",
    "\n",
    "\n",
    "    for agent in world.agents:\n",
    "        agent : SARAgent = agent\n",
    "        action_choice = np.random.randint(0, 5)\n",
    "        choice = np.random.randint(1, 5)\n",
    "\n",
    "        match (action_choice): \n",
    "            case 1: agent.move(choice)\n",
    "            # case 2: agent.pick_up(choice)\n",
    "            # case 3: agent.put_down(choice)\n",
    "            # case 4: \n",
    "                # prod_to_make = np.random.randint(RESOURCE_TYPES + 1, RESOURCE_TYPES + PRODUCT_TYPES + 1)\n",
    "                # agent.make(prod_to_make)\n",
    "            #     pass\n",
    "    \n",
    "    comms_protocol.send_messages(world)\n",
    "    comms_protocol.receive_messages(world)\n",
    "\n",
    "\n",
    "update()"
   ]
  },
  {
   "cell_type": "code",
   "execution_count": 16,
   "metadata": {},
   "outputs": [],
   "source": [
    "render_world(world, (800, 800), update_fn=update, delay_s=0)"
   ]
  },
  {
   "cell_type": "code",
   "execution_count": null,
   "metadata": {},
   "outputs": [],
   "source": []
  },
  {
   "cell_type": "markdown",
   "metadata": {},
   "source": [
    "# Data Visualization"
   ]
  },
  {
   "cell_type": "markdown",
   "metadata": {},
   "source": [
    "## Social Network "
   ]
  },
  {
   "cell_type": "code",
   "execution_count": 35,
   "metadata": {},
   "outputs": [],
   "source": [
    "network = nx.graph.Graph()\n",
    "\n",
    "for agent in world.agents:\n",
    "    for neighbor in agent._current_state.relations:\n",
    "        network.add_edge(agent.id, neighbor, weight = agent._current_state.relations[neighbor])\n"
   ]
  },
  {
   "cell_type": "code",
   "execution_count": null,
   "metadata": {},
   "outputs": [],
   "source": [
    "edges,weights = zip(*nx.get_edge_attributes(network ,'weight').items())\n",
    "nx.draw_kamada_kawai(network, node_size = 10, edge_color = weights, edge_cmap = plt.cm.Spectral)"
   ]
  },
  {
   "cell_type": "markdown",
   "metadata": {},
   "source": [
    "## Economy"
   ]
  },
  {
   "cell_type": "code",
   "execution_count": null,
   "metadata": {},
   "outputs": [],
   "source": [
    "resources : dict[int, int]  = {}\n",
    "for agent in world.agents: \n",
    "    inventory = agent._current_state.inventory\n",
    "    for t, q in inventory.items():\n",
    "        if not t in resources: \n",
    "            resources[t] = 0\n",
    "        resources[t] += q\n",
    "\n",
    "resource_types = list(resources.keys())\n",
    "quantities = list(resources.values())\n",
    "\n",
    "plt.bar(resource_types, quantities)\n",
    "plt.xlabel('Resource Type')\n",
    "plt.ylabel('Quantity')\n",
    "plt.title('Resource Distribution')\n",
    "plt.show()"
   ]
  },
  {
   "cell_type": "markdown",
   "metadata": {},
   "source": [
    "## Utility"
   ]
  },
  {
   "cell_type": "code",
   "execution_count": null,
   "metadata": {},
   "outputs": [],
   "source": [
    "utilities = []\n",
    "for agent in world.agents: \n",
    "    utilities.append(agent.utility)\n",
    "\n",
    "\n",
    "plt.hist(utilities, 50)\n",
    "plt.title('Agent Happiness')\n",
    "plt.show()"
   ]
  },
  {
   "cell_type": "markdown",
   "metadata": {},
   "source": [
    "# Verify certain things about the simulation"
   ]
  },
  {
   "cell_type": "code",
   "execution_count": 23,
   "metadata": {},
   "outputs": [],
   "source": [
    "swarm = world.agents"
   ]
  },
  {
   "cell_type": "code",
   "execution_count": 24,
   "metadata": {},
   "outputs": [
    {
     "name": "stdout",
     "output_type": "stream",
     "text": [
      "[[  0   0  25 316   0   0   0]\n",
      " [  0   0   0 124   0   0   0]\n",
      " [  0   0   0   0   0   0   0]\n",
      " [  0 326   0   0   0   0   0]\n",
      " [  0   0   0   0   0   0  98]] (5, 7)\n"
     ]
    }
   ],
   "source": [
    "# Validate the observation space provided is sensible\n",
    "obs = swarm[123].local_observation\n",
    "\n",
    "print(obs.nearby_agents, obs.nearby_agents.shape)"
   ]
  },
  {
   "cell_type": "code",
   "execution_count": 25,
   "metadata": {},
   "outputs": [],
   "source": [
    "# Validate that all observation spaces are square\n",
    "for agent in swarm: \n",
    "    obs : SARObservation = agent.local_observation\n",
    "    if (obs.victim_map.shape[0] != obs.victim_map.shape[1]):\n",
    "        print(agent.id, agent._current_position, obs.victim_map.shape)"
   ]
  },
  {
   "cell_type": "code",
   "execution_count": null,
   "metadata": {},
   "outputs": [],
   "source": [
    "# Validate that all swarm agents landed in different positions\n",
    "positions = set()\n",
    "for agent in swarm:\n",
    "    pos = agent.current_position\n",
    "    positions.add((pos[0], pos[1]))\n",
    "\n",
    "print(len(positions), len(world.agents))"
   ]
  },
  {
   "cell_type": "code",
   "execution_count": null,
   "metadata": {},
   "outputs": [],
   "source": [
    "# Check for resources\n",
    "rsrc_qty = world._resource_map._resource_quantity_map\n",
    "qtys = []\n",
    "\n",
    "for i in range(rsrc_qty.shape[0]):\n",
    "    for j in range(rsrc_qty.shape[1]):\n",
    "        if rsrc_qty[i, j] > 0:\n",
    "            qtys.append(rsrc_qty[i, j])\n",
    "\n",
    "print(qtys)"
   ]
  },
  {
   "cell_type": "code",
   "execution_count": null,
   "metadata": {},
   "outputs": [],
   "source": [
    "# Check for agent state\n",
    "state = swarm[124]._current_state\n",
    "print(state.inventory, state.current_utility)\n"
   ]
  },
  {
   "cell_type": "markdown",
   "metadata": {},
   "source": [
    "# Perftest"
   ]
  },
  {
   "cell_type": "code",
   "execution_count": 287,
   "metadata": {},
   "outputs": [],
   "source": [
    "import cProfile\n",
    "def stress_test():\n",
    "    np.random.seed(42)\n",
    "    world.reset()\n",
    "    for _ in range(0, 1000):\n",
    "        update()"
   ]
  },
  {
   "cell_type": "code",
   "execution_count": null,
   "metadata": {},
   "outputs": [],
   "source": [
    "\n",
    "cProfile.run('stress_test()', sort = 'time')"
   ]
  },
  {
   "cell_type": "code",
   "execution_count": null,
   "metadata": {},
   "outputs": [],
   "source": [
    "cProfile.run('world.update()', sort = 'time')"
   ]
  },
  {
   "cell_type": "code",
   "execution_count": null,
   "metadata": {},
   "outputs": [],
   "source": []
  }
 ],
 "metadata": {
  "kernelspec": {
   "display_name": "thesis",
   "language": "python",
   "name": "python3"
  },
  "language_info": {
   "codemirror_mode": {
    "name": "ipython",
    "version": 3
   },
   "file_extension": ".py",
   "mimetype": "text/x-python",
   "name": "python",
   "nbconvert_exporter": "python",
   "pygments_lexer": "ipython3",
   "version": "3.11.9"
  }
 },
 "nbformat": 4,
 "nbformat_minor": 2
}
