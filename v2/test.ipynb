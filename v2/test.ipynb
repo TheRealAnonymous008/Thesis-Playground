{
 "cells": [
  {
   "cell_type": "markdown",
   "metadata": {},
   "source": [
    "## A simple swarm"
   ]
  },
  {
   "cell_type": "code",
   "execution_count": 15,
   "metadata": {},
   "outputs": [
    {
     "name": "stdout",
     "output_type": "stream",
     "text": [
      "The autoreload extension is already loaded. To reload it, use:\n",
      "  %reload_ext autoreload\n"
     ]
    }
   ],
   "source": [
    "%load_ext autoreload \n",
    "%autoreload 2\n",
    "import sys\n",
    "sys.tracebacklimit = 0"
   ]
  },
  {
   "cell_type": "code",
   "execution_count": 16,
   "metadata": {},
   "outputs": [],
   "source": [
    "from core.agent import *\n",
    "from core.world import * \n",
    "from core.resource import *\n",
    "import numpy as np\n",
    "from core.render import * "
   ]
  },
  {
   "cell_type": "code",
   "execution_count": 17,
   "metadata": {},
   "outputs": [],
   "source": [
    "world = World(dims = (100, 100),\n",
    "              resource_generator= RandomMapGenerator())\n",
    "swarm = [Agent() for i in range(1000)]\n",
    "for agent in swarm:\n",
    "    world.add_agent(agent)"
   ]
  },
  {
   "cell_type": "code",
   "execution_count": 18,
   "metadata": {},
   "outputs": [
    {
     "ename": "ValueError",
     "evalue": "a must be 1-dimensional",
     "output_type": "error",
     "traceback": [
      "\u001b[1;31m---------------------------------------------------------------------------\u001b[0m",
      "\u001b[1;31mValueError\u001b[0m                                Traceback (most recent call last)",
      "Cell \u001b[1;32mIn[18], line 1\u001b[0m\n\u001b[1;32m----> 1\u001b[0m swarm \u001b[38;5;241m=\u001b[39m \u001b[43minitialize_positions_randomly\u001b[49m\u001b[43m(\u001b[49m\u001b[43mworld\u001b[49m\u001b[43m,\u001b[49m\u001b[43m \u001b[49m\u001b[43mswarm\u001b[49m\u001b[43m)\u001b[49m\n",
      "File \u001b[1;32mc:\\Users\\Joaquin\\Desktop\\Thesis-Playground\\v2\\core\\world.py:171\u001b[0m, in \u001b[0;36minitialize_positions_randomly\u001b[1;34m(world, swarm)\u001b[0m\n\u001b[0;32m    168\u001b[0m             positions\u001b[38;5;241m.\u001b[39madd((x, y))\n\u001b[0;32m    170\u001b[0m \u001b[38;5;66;03m# Randomly sample positions for the agents\u001b[39;00m\n\u001b[1;32m--> 171\u001b[0m sampled_positions \u001b[38;5;241m=\u001b[39m np\u001b[38;5;241m.\u001b[39mrandom\u001b[38;5;241m.\u001b[39mchoice(\u001b[38;5;28mlist\u001b[39m(positions), size\u001b[38;5;241m=\u001b[39m\u001b[38;5;28mlen\u001b[39m(swarm), replace\u001b[38;5;241m=\u001b[39m\u001b[38;5;28;01mFalse\u001b[39;00m)\n\u001b[0;32m    173\u001b[0m \u001b[38;5;28;01mfor\u001b[39;00m agent, pos \u001b[38;5;129;01min\u001b[39;00m \u001b[38;5;28mzip\u001b[39m(swarm, sampled_positions):\n\u001b[0;32m    174\u001b[0m     agent\u001b[38;5;241m.\u001b[39mset_position(np\u001b[38;5;241m.\u001b[39marray([pos[\u001b[38;5;241m0\u001b[39m], pos[\u001b[38;5;241m1\u001b[39m]], dtype\u001b[38;5;241m=\u001b[39mnp\u001b[38;5;241m.\u001b[39mint32))\n",
      "File \u001b[1;32mnumpy\\\\random\\\\mtrand.pyx:947\u001b[0m, in \u001b[0;36mnumpy.random.mtrand.RandomState.choice\u001b[1;34m()\u001b[0m\n",
      "\u001b[1;31mValueError\u001b[0m: a must be 1-dimensional"
     ]
    }
   ],
   "source": [
    "swarm = initialize_positions_randomly(world, swarm)"
   ]
  },
  {
   "cell_type": "code",
   "execution_count": 12,
   "metadata": {},
   "outputs": [],
   "source": [
    "# Test movements by doing random actions\n",
    "def update():\n",
    "    for agent in swarm:\n",
    "        choice = np.random.randint(1, 5)\n",
    "        agent.move(choice)\n",
    "\n",
    "    world.update()\n",
    "\n",
    "update()"
   ]
  },
  {
   "cell_type": "code",
   "execution_count": 13,
   "metadata": {},
   "outputs": [],
   "source": [
    "render_world(world, (800, 800), update_fn=update, delay_s=0)"
   ]
  },
  {
   "cell_type": "markdown",
   "metadata": {},
   "source": [
    "## Verify certain things about the simulation"
   ]
  },
  {
   "cell_type": "code",
   "execution_count": 14,
   "metadata": {},
   "outputs": [
    {
     "name": "stdout",
     "output_type": "stream",
     "text": [
      "[[  0 164   0 427 233 686   0]\n",
      " [  0 373 172 627 433 906 693]\n",
      " [  0   0   0   0 269  60 528]\n",
      " [  0   0   0   0   0 278 732]\n",
      " [946   0   0   0   0   0 378]\n",
      " [  0   0   0   0   0 119 575]\n",
      " [  0 777 571   0   0   0   0]] (7, 7)\n"
     ]
    }
   ],
   "source": [
    "# Validate the observation space provided is sensible\n",
    "obs = swarm[0].get_observation()\n",
    "\n",
    "print(obs.nearby_agents, obs.nearby_agents.shape)"
   ]
  },
  {
   "cell_type": "code",
   "execution_count": null,
   "metadata": {},
   "outputs": [],
   "source": []
  }
 ],
 "metadata": {
  "kernelspec": {
   "display_name": "thesis",
   "language": "python",
   "name": "python3"
  },
  "language_info": {
   "codemirror_mode": {
    "name": "ipython",
    "version": 3
   },
   "file_extension": ".py",
   "mimetype": "text/x-python",
   "name": "python",
   "nbconvert_exporter": "python",
   "pygments_lexer": "ipython3",
   "version": "3.11.9"
  }
 },
 "nbformat": 4,
 "nbformat_minor": 2
}
