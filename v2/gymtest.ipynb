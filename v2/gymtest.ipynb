{
 "cells": [
  {
   "cell_type": "code",
   "execution_count": 3,
   "metadata": {},
   "outputs": [
    {
     "name": "stdout",
     "output_type": "stream",
     "text": [
      "The autoreload extension is already loaded. To reload it, use:\n",
      "  %reload_ext autoreload\n"
     ]
    }
   ],
   "source": [
    "%load_ext autoreload \n",
    "%autoreload 2\n",
    "import sys\n",
    "sys.tracebacklimit = 0"
   ]
  },
  {
   "cell_type": "code",
   "execution_count": 4,
   "metadata": {},
   "outputs": [],
   "source": [
    "from custom_gym import CustomGymEnviornment"
   ]
  },
  {
   "cell_type": "code",
   "execution_count": 5,
   "metadata": {},
   "outputs": [],
   "source": [
    "from core.agent import *\n",
    "from core.world import * \n",
    "from core.map import *\n",
    "from core.render import * \n",
    "from core.env_params import * \n",
    "from core.skill import * \n",
    "from core.models import *"
   ]
  },
  {
   "cell_type": "code",
   "execution_count": 6,
   "metadata": {},
   "outputs": [],
   "source": [
    "def initialize_swarm(world : World):\n",
    "    swarm = [Agent() for i in range(SWARM_SIZE)]\n",
    "    skill_initializer = DefaultSkillInitializer(num_skills = PRODUCT_TYPES)\n",
    "    utility_initializer = UtilitySampler()\n",
    "\n",
    "    for agent in swarm:\n",
    "        skill_initializer.forward(agent)\n",
    "        utility_initializer.forward(agent)\n",
    "        world.add_agent(agent)\n",
    "    swarm = initialize_positions_randomly(world, swarm)\n",
    "    "
   ]
  },
  {
   "cell_type": "code",
   "execution_count": 7,
   "metadata": {},
   "outputs": [],
   "source": [
    "world = World(dims = WORLD_DIMS,\n",
    "              swarm_initialzier= initialize_swarm,\n",
    "              resource_generator= RandomMapGenerator(RESOURCE_TYPES),\n",
    "              energy_model=EnergyModel(),\n",
    "              chemistry_model= ChemistryModel()\n",
    "              )\n",
    "world.reset()"
   ]
  },
  {
   "cell_type": "code",
   "execution_count": 8,
   "metadata": {},
   "outputs": [],
   "source": [
    "custom_gym : CustomGymEnviornment = CustomGymEnviornment(world)"
   ]
  },
  {
   "cell_type": "code",
   "execution_count": null,
   "metadata": {},
   "outputs": [],
   "source": []
  }
 ],
 "metadata": {
  "kernelspec": {
   "display_name": "thesis",
   "language": "python",
   "name": "python3"
  },
  "language_info": {
   "codemirror_mode": {
    "name": "ipython",
    "version": 3
   },
   "file_extension": ".py",
   "mimetype": "text/x-python",
   "name": "python",
   "nbconvert_exporter": "python",
   "pygments_lexer": "ipython3",
   "version": "3.11.9"
  }
 },
 "nbformat": 4,
 "nbformat_minor": 2
}
