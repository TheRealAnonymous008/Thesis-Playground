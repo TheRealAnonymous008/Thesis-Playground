{
 "cells": [
  {
   "cell_type": "code",
   "execution_count": 1,
   "metadata": {},
   "outputs": [],
   "source": [
    "%load_ext autoreload \n",
    "%autoreload 2"
   ]
  },
  {
   "cell_type": "code",
   "execution_count": null,
   "metadata": {},
   "outputs": [
    {
     "ename": "",
     "evalue": "",
     "output_type": "error",
     "traceback": [
      "\u001b[1;31mThe Kernel crashed while executing code in the current cell or a previous cell. \n",
      "\u001b[1;31mPlease review the code in the cell(s) to identify a possible cause of the failure. \n",
      "\u001b[1;31mClick <a href='https://aka.ms/vscodeJupyterKernelCrash'>here</a> for more info. \n",
      "\u001b[1;31mView Jupyter <a href='command:jupyter.viewOutput'>log</a> for further details."
     ]
    }
   ],
   "source": [
    "import sys\n",
    "sys.tracebacklimit = 0\n",
    "\n",
    "import numpy as np\n",
    "import networkx as nx \n",
    "import matplotlib.pyplot as plt"
   ]
  },
  {
   "cell_type": "code",
   "execution_count": null,
   "metadata": {},
   "outputs": [],
   "source": [
    "from pettingzoo.test import parallel_api_test\n",
    "from solution.custom_gym import CustomGymEnviornment\n",
    "from solution.trainer import *\n",
    "from solution.policy_net import *"
   ]
  },
  {
   "cell_type": "code",
   "execution_count": null,
   "metadata": {},
   "outputs": [],
   "source": [
    "from core.agent import *\n",
    "from core.world import * \n",
    "from core.render import * \n",
    "from core.skill import * \n",
    "from core.models import *\n",
    "from core.message import *"
   ]
  },
  {
   "cell_type": "code",
   "execution_count": null,
   "metadata": {},
   "outputs": [],
   "source": [
    "from sar.sar_agent import *\n",
    "from sar.sar_world import *\n",
    "from sar.sar_env_params import *\n",
    "\n",
    "belief_initializer = SARBeliefInitializer(BELIEF_DIMS)\n",
    "def initialize_swarm(world : BaseWorld):\n",
    "    swarm = [SARAgent() for i in range(SWARM_SIZE)]\n",
    "    for agent in swarm:\n",
    "        agent.set_utility(SARUtilityFunction())\n",
    "        world.add_agent(agent)\n",
    "    swarm = initialize_positions_randomly(world, swarm)\n",
    "    swarm = belief_initializer.initialize_beliefs(swarm)"
   ]
  },
  {
   "cell_type": "code",
   "execution_count": null,
   "metadata": {},
   "outputs": [],
   "source": [
    "\n",
    "from sar.urban_gen import * \n",
    "from sar.victims import * \n",
    "from sar.sar_comm import * \n",
    "\n",
    "terrain_generator = UrbanTerrainMapGenerator(padding = MAX_VISIBILITY)\n",
    "victim_generator = VictimGenerator(padding = MAX_VISIBILITY)\n",
    "def initialize_terrain(world : BaseWorld):\n",
    "    terrain_map, population_map = terrain_generator.generate(world._dims)\n",
    "    map_collection : BaseMapCollection = BaseMapCollection()\n",
    "    map_collection.add_map(\"Terrain\", terrain_map)\n",
    "    map_collection.add_map(\"Population\", population_map)\n",
    "\n",
    "    victim_generator.set_density_map(population_map)\n",
    "    victim_map = victim_generator.generate(world._dims)\n",
    "\n",
    "    map_collection.add_map(\"Victims\", victim_map)\n",
    "    return map_collection\n"
   ]
  },
  {
   "cell_type": "code",
   "execution_count": null,
   "metadata": {},
   "outputs": [],
   "source": [
    "from sar.energy import EnergyModel\n",
    "from sar.victims import VictimModel\n",
    "from solution.sar_action_interpreter import *\n",
    "from solution.encoder_net import *\n",
    "\n",
    "world = SARWorld(dims = WORLD_DIMS,\n",
    "              swarm_initializer= initialize_swarm,\n",
    "              generation_pipeline=initialize_terrain\n",
    "              )\n",
    "world.add_model(\"energy_model\", EnergyModel())\n",
    "world.add_model(\"victim_model\", VictimModel())\n",
    "world.reset()"
   ]
  },
  {
   "cell_type": "code",
   "execution_count": null,
   "metadata": {},
   "outputs": [],
   "source": [
    "# TODO: Potentially refactor encoder_model, decoder_model and policy_net to be in one class for convenience.\n",
    "encoder_model = Encoder()\n",
    "decoder_model = Decoder()\n",
    "comms_protocol = SARCommunicationProtocol(encoder_model, decoder_model)\n",
    "action_interpreter = SARActionInterpreter(BELIEF_DIMS)\n",
    "\n",
    "custom_gym : CustomGymEnviornment = CustomGymEnviornment(world, action_interpreter, comms_protocol)"
   ]
  },
  {
   "cell_type": "code",
   "execution_count": null,
   "metadata": {},
   "outputs": [],
   "source": [
    "custom_gym.reset(42)"
   ]
  },
  {
   "cell_type": "markdown",
   "metadata": {},
   "source": [
    "### Testing"
   ]
  },
  {
   "cell_type": "code",
   "execution_count": null,
   "metadata": {},
   "outputs": [],
   "source": [
    "parallel_api_test(custom_gym, num_cycles=1_000)\n",
    "custom_gym.reset()"
   ]
  },
  {
   "cell_type": "markdown",
   "metadata": {},
   "source": [
    "# Training"
   ]
  },
  {
   "cell_type": "code",
   "execution_count": null,
   "metadata": {},
   "outputs": [],
   "source": [
    "\n",
    "from models.base import * \n",
    "from models.idqn import * \n",
    "from solution.policy_net import PolicyNet"
   ]
  },
  {
   "cell_type": "code",
   "execution_count": null,
   "metadata": {},
   "outputs": [],
   "source": [
    "model = IDQN(env = custom_gym,\n",
    "             feature_extractor= feature_extractor,\n",
    "             policy_net= PolicyNet(1, 7, 4), \n",
    "             target_net=  PolicyNet(1, 7, 4),\n",
    "             encoder_net = encoder_model,\n",
    "             decoder_net= decoder_model,\n",
    "             batch_size=1024\n",
    "             )"
   ]
  },
  {
   "cell_type": "code",
   "execution_count": null,
   "metadata": {},
   "outputs": [],
   "source": [
    "train_loop(custom_gym, model, games=10, seed=42)"
   ]
  },
  {
   "cell_type": "code",
   "execution_count": null,
   "metadata": {},
   "outputs": [],
   "source": []
  }
 ],
 "metadata": {
  "kernelspec": {
   "display_name": "thesis",
   "language": "python",
   "name": "python3"
  },
  "language_info": {
   "codemirror_mode": {
    "name": "ipython",
    "version": 3
   },
   "file_extension": ".py",
   "mimetype": "text/x-python",
   "name": "python",
   "nbconvert_exporter": "python",
   "pygments_lexer": "ipython3",
   "version": "3.11.9"
  }
 },
 "nbformat": 4,
 "nbformat_minor": 2
}
