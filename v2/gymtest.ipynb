{
 "cells": [
  {
   "cell_type": "code",
   "execution_count": 1,
   "metadata": {},
   "outputs": [],
   "source": [
    "%load_ext autoreload \n",
    "%autoreload 2"
   ]
  },
  {
   "cell_type": "code",
   "execution_count": 2,
   "metadata": {},
   "outputs": [],
   "source": [
    "import sys\n",
    "sys.tracebacklimit = 0\n",
    "\n",
    "import numpy as np\n",
    "import networkx as nx \n",
    "import matplotlib.pyplot as plt"
   ]
  },
  {
   "cell_type": "code",
   "execution_count": 3,
   "metadata": {},
   "outputs": [],
   "source": [
    "from pettingzoo.test import parallel_api_test\n",
    "from solution.custom_gym import CustomGymEnviornment\n",
    "from solution.trainer import *\n",
    "from solution.policy_net import *"
   ]
  },
  {
   "cell_type": "code",
   "execution_count": 4,
   "metadata": {},
   "outputs": [],
   "source": [
    "from core.agent import *\n",
    "from core.world import * \n",
    "from core.render import * \n",
    "from core.skill import * \n",
    "from core.models import *\n",
    "from core.message import *"
   ]
  },
  {
   "cell_type": "code",
   "execution_count": 5,
   "metadata": {},
   "outputs": [],
   "source": [
    "DEVICE = \"cuda\"\n",
    "BELIEF_DIMS = 5\n"
   ]
  },
  {
   "cell_type": "code",
   "execution_count": 6,
   "metadata": {},
   "outputs": [],
   "source": [
    "from sar.sar_agent import *\n",
    "from sar.sar_world import *\n",
    "from sar.sar_env_params import MAX_TIME_STEPS\n",
    "from sar.sar_traits_sampler import *\n",
    "\n",
    "belief_initializer = SARBeliefInitializer(BELIEF_DIMS)\n",
    "trait_sampler = SARTraitSampler()\n",
    "\n",
    "def initialize_swarm(world : BaseWorld):\n",
    "    swarm = trait_sampler.generate(SWARM_SIZE, DEVICE)\n",
    "    for agent in swarm:\n",
    "        agent.set_utility(SARUtilityFunction())\n",
    "        world.add_agent(agent)\n",
    "    swarm = initialize_positions_randomly(world, swarm)\n",
    "    swarm = belief_initializer.initialize_beliefs(swarm)"
   ]
  },
  {
   "cell_type": "code",
   "execution_count": 7,
   "metadata": {},
   "outputs": [],
   "source": [
    "\n",
    "from sar.urban_gen import * \n",
    "from sar.victims import * \n",
    "from sar.sar_comm import *\n",
    "from utils.geo import * \n",
    "\n",
    "terrain_generator = UrbanTerrainMapGenerator(padding = MAX_VISIBILITY)\n",
    "victim_generator = VictimGenerator(padding = MAX_VISIBILITY)\n",
    "\n",
    "GEO_TIFF_PATH = \"C:\\\\Users\\\\Joaquin\\\\Desktop\\\\Thesis-Playground\\\\datasets\\\\output_SRTMGL1.tif\"\n",
    "\n",
    "def initialize_terrain(world : BaseWorld):\n",
    "    terrain_map, population_map = terrain_generator.generate(world._dims)\n",
    "    geo_map = read_tiff(GEO_TIFF_PATH)[0]\n",
    "    tx, ty = geo_map.shape\n",
    "\n",
    "    terrain_map = TerrainMap(np.zeros_like(terrain_map._map), terrain_map._padding, 0, 1 )\n",
    "\n",
    "    # if tx > world._dims[0] or ty > world._dims[1]:\n",
    "    #     start_x = np.random.randint(0, tx - world._dims[0] + 1)\n",
    "    #     start_y = np.random.randint(0, ty - world._dims[1] + 1)\n",
    "    #     height_map = geo_map[start_x:start_x + world._dims[0], start_y:start_y + world._dims[1]]\n",
    "    #     minimum = height_map.min()\n",
    "    #     maximum = height_map.max() \n",
    "    #     terrain_map = TerrainMap(height_map, terrain_map._padding, minimum, maximum)\n",
    "\n",
    "\n",
    "    map_collection : BaseMapCollection = BaseMapCollection()\n",
    "    map_collection.add_map(\"Terrain\", terrain_map)\n",
    "    map_collection.add_map(\"Population\", population_map)\n",
    "\n",
    "    total_victims = np.random.randint(300, 400)\n",
    "    victim_generator.set_density_map(population_map)\n",
    "    victim_map = victim_generator.generate(world._dims, total_victims)\n",
    "\n",
    "    map_collection.add_map(\"Victims\", victim_map)\n",
    "    return map_collection\n"
   ]
  },
  {
   "cell_type": "code",
   "execution_count": 8,
   "metadata": {},
   "outputs": [],
   "source": [
    "from sar.energy import EnergyModel\n",
    "from sar.victims import VictimModel\n",
    "from solution.sar_action_interpreter import *\n",
    "from solution.encoder_net import *\n",
    "from solution.decoder_net import *\n",
    "from solution.complex_model import * \n",
    "\n",
    "world = SARWorld(dims = WORLD_DIMS,\n",
    "              swarm_initializer= initialize_swarm,\n",
    "              generation_pipeline=initialize_terrain\n",
    "              )\n",
    "world.add_model(\"energy_model\", EnergyModel())\n",
    "world.add_model(\"victim_model\", VictimModel())\n",
    "world.reset()"
   ]
  },
  {
   "cell_type": "code",
   "execution_count": 9,
   "metadata": {},
   "outputs": [],
   "source": [
    "grid_size = 2 * 3 + 1\n",
    "\n",
    "complex_model = ComplexModel(\n",
    "    action_dims= 4,\n",
    "    belief_dims= BELIEF_DIMS,\n",
    "    grid_size=grid_size, \n",
    "    latent_dims= 16, \n",
    "    state_dims= 3,\n",
    "    trait_dims= 3,\n",
    "    packet_dims= 2, \n",
    ")\n",
    "\n",
    "comms_protocol = SARCommunicationProtocol(complex_model._encoder_net, complex_model._decoder_net)\n",
    "action_interpreter = SARActionInterpreter(BELIEF_DIMS)\n",
    "\n",
    "custom_gym : CustomGymEnviornment = CustomGymEnviornment(world, action_interpreter, comms_protocol, time_step_upper= MAX_TIME_STEPS)\n",
    "\n",
    "complex_model.to(DEVICE)\n",
    "custom_gym.to(DEVICE)"
   ]
  },
  {
   "cell_type": "code",
   "execution_count": 10,
   "metadata": {},
   "outputs": [
    {
     "data": {
      "text/plain": [
       "({1: {'Belief': tensor([0., 0., 0., 0., 0.]),\n",
       "   'Vision': array([[0., 0., 0.],\n",
       "          [0., 0., 0.],\n",
       "          [0., 0., 1.]]),\n",
       "   'State': tensor([0.1036, 1.0000, 0.4717], device='cuda:0')},\n",
       "  2: {'Belief': tensor([0., 0., 0., 0., 0.]),\n",
       "   'Vision': array([[0., 0., 0., 0., 0.],\n",
       "          [0., 0., 0., 0., 0.],\n",
       "          [0., 0., 0., 0., 0.],\n",
       "          [0., 0., 0., 1., 0.],\n",
       "          [0., 0., 0., 0., 0.]]),\n",
       "   'State': tensor([0.0993, 0.0000, 0.2267], device='cuda:0')},\n",
       "  3: {'Belief': tensor([0., 0., 0., 0., 0.]),\n",
       "   'Vision': array([[0., 0., 0., 0., 0., 0., 0.],\n",
       "          [0., 0., 0., 0., 0., 0., 0.],\n",
       "          [0., 0., 0., 0., 0., 1., 0.],\n",
       "          [0., 0., 0., 0., 0., 0., 0.],\n",
       "          [0., 0., 0., 0., 0., 0., 0.],\n",
       "          [0., 0., 0., 0., 0., 0., 0.],\n",
       "          [0., 0., 0., 0., 0., 0., 0.]]),\n",
       "   'State': tensor([0.1356, 0.0000, 0.3569], device='cuda:0')},\n",
       "  4: {'Belief': tensor([0., 0., 0., 0., 0.]),\n",
       "   'Vision': array([[0., 1., 0.],\n",
       "          [0., 0., 0.],\n",
       "          [0., 1., 0.]]),\n",
       "   'State': tensor([0.1173, 0.0000, 0.2550], device='cuda:0')},\n",
       "  5: {'Belief': tensor([0., 0., 0., 0., 0.]),\n",
       "   'Vision': array([[0., 0., 0., 0., 0., 0., 0.],\n",
       "          [0., 0., 0., 0., 0., 0., 0.],\n",
       "          [0., 0., 0., 0., 0., 0., 0.],\n",
       "          [0., 0., 0., 0., 0., 0., 0.],\n",
       "          [0., 0., 0., 0., 0., 0., 0.],\n",
       "          [0., 0., 0., 0., 0., 0., 0.],\n",
       "          [0., 0., 0., 0., 0., 1., 0.]]),\n",
       "   'State': tensor([0.0766, 0.0000, 0.3130], device='cuda:0')},\n",
       "  6: {'Belief': tensor([0., 0., 0., 0., 0.]),\n",
       "   'Vision': array([[0., 0., 0.],\n",
       "          [1., 0., 0.],\n",
       "          [0., 0., 0.]]),\n",
       "   'State': tensor([0.0846, 0.0000, 0.6263], device='cuda:0')},\n",
       "  7: {'Belief': tensor([0., 0., 0., 0., 0.]),\n",
       "   'Vision': array([[0., 0., 0., 0., 1.],\n",
       "          [1., 0., 0., 0., 0.],\n",
       "          [0., 0., 0., 0., 0.],\n",
       "          [0., 0., 0., 0., 0.],\n",
       "          [0., 0., 0., 0., 0.]]),\n",
       "   'State': tensor([0.0688, 0.0000, 0.2195], device='cuda:0')},\n",
       "  8: {'Belief': tensor([0., 0., 0., 0., 0.]),\n",
       "   'Vision': array([[0., 0., 0., 0., 0.],\n",
       "          [0., 0., 0., 0., 0.],\n",
       "          [0., 0., 0., 0., 0.],\n",
       "          [0., 0., 0., 0., 0.],\n",
       "          [0., 0., 0., 0., 0.]]),\n",
       "   'State': tensor([0.0565, 0.0000, 0.3622], device='cuda:0')},\n",
       "  9: {'Belief': tensor([0., 0., 0., 0., 0.]),\n",
       "   'Vision': array([[0., 0., 0., 0., 0.],\n",
       "          [0., 0., 0., 0., 0.],\n",
       "          [0., 0., 0., 0., 0.],\n",
       "          [0., 0., 0., 0., 0.],\n",
       "          [0., 0., 0., 0., 0.]]),\n",
       "   'State': tensor([0.1515, 0.0000, 0.3102], device='cuda:0')},\n",
       "  10: {'Belief': tensor([0., 0., 0., 0., 0.]),\n",
       "   'Vision': array([[0., 0., 0., 0., 0., 0., 0.],\n",
       "          [0., 0., 0., 0., 0., 0., 0.],\n",
       "          [0., 0., 0., 0., 0., 0., 0.],\n",
       "          [0., 0., 0., 0., 0., 0., 0.],\n",
       "          [0., 1., 0., 0., 0., 0., 0.],\n",
       "          [0., 0., 0., 0., 0., 0., 0.],\n",
       "          [0., 0., 0., 0., 0., 0., 0.]]),\n",
       "   'State': tensor([0.1417, 0.0000, 0.5800], device='cuda:0')},\n",
       "  11: {'Belief': tensor([0., 0., 0., 0., 0.]),\n",
       "   'Vision': array([[0., 0., 0., 0., 0.],\n",
       "          [0., 0., 0., 0., 0.],\n",
       "          [0., 0., 0., 0., 0.],\n",
       "          [0., 0., 0., 0., 0.],\n",
       "          [0., 0., 0., 0., 1.]]),\n",
       "   'State': tensor([0.0695, 0.0000, 0.2766], device='cuda:0')},\n",
       "  12: {'Belief': tensor([0., 0., 0., 0., 0.]),\n",
       "   'Vision': array([[0., 0., 0., 0., 0., 0., 0.],\n",
       "          [0., 0., 0., 0., 0., 0., 0.],\n",
       "          [0., 0., 0., 0., 0., 0., 0.],\n",
       "          [0., 0., 0., 0., 0., 0., 0.],\n",
       "          [0., 0., 0., 0., 0., 0., 0.],\n",
       "          [0., 0., 0., 0., 0., 0., 0.],\n",
       "          [0., 0., 0., 0., 0., 0., 0.]]),\n",
       "   'State': tensor([0.0717, 0.0000, 0.5162], device='cuda:0')},\n",
       "  13: {'Belief': tensor([0., 0., 0., 0., 0.]),\n",
       "   'Vision': array([[0., 0., 0., 0., 0.],\n",
       "          [0., 0., 0., 0., 0.],\n",
       "          [0., 0., 0., 0., 0.],\n",
       "          [0., 0., 0., 0., 1.],\n",
       "          [0., 0., 0., 0., 0.]]),\n",
       "   'State': tensor([0.1099, 0.0000, 0.2766], device='cuda:0')},\n",
       "  14: {'Belief': tensor([0., 0., 0., 0., 0.]),\n",
       "   'Vision': array([[0., 0., 0.],\n",
       "          [0., 0., 0.],\n",
       "          [0., 0., 0.]]),\n",
       "   'State': tensor([0.0877, 0.0000, 0.3138], device='cuda:0')},\n",
       "  15: {'Belief': tensor([0., 0., 0., 0., 0.]),\n",
       "   'Vision': array([[1., 0., 0., 0., 0.],\n",
       "          [1., 0., 0., 0., 0.],\n",
       "          [0., 0., 0., 0., 0.],\n",
       "          [0., 0., 1., 0., 1.],\n",
       "          [0., 0., 0., 0., 0.]]),\n",
       "   'State': tensor([0.1159, 0.0000, 0.4809], device='cuda:0')},\n",
       "  16: {'Belief': tensor([0., 0., 0., 0., 0.]),\n",
       "   'Vision': array([[0., 0., 0.],\n",
       "          [0., 0., 0.],\n",
       "          [0., 0., 0.]]),\n",
       "   'State': tensor([0.0998, 0.0000, 0.3471], device='cuda:0')},\n",
       "  17: {'Belief': tensor([0., 0., 0., 0., 0.]),\n",
       "   'Vision': array([[0., 0., 0., 1., 0., 0., 0.],\n",
       "          [0., 0., 0., 0., 0., 0., 0.],\n",
       "          [0., 0., 0., 0., 0., 0., 0.],\n",
       "          [0., 0., 0., 0., 0., 0., 0.],\n",
       "          [0., 0., 0., 0., 0., 0., 0.],\n",
       "          [0., 0., 0., 0., 0., 0., 0.],\n",
       "          [0., 0., 0., 0., 0., 0., 0.]]),\n",
       "   'State': tensor([0.1113, 0.0000, 0.0500], device='cuda:0')},\n",
       "  18: {'Belief': tensor([0., 0., 0., 0., 0.]),\n",
       "   'Vision': array([[0., 0., 0., 1., 0.],\n",
       "          [0., 0., 0., 0., 0.],\n",
       "          [0., 0., 0., 0., 0.],\n",
       "          [0., 0., 1., 0., 0.],\n",
       "          [0., 0., 0., 0., 0.]]),\n",
       "   'State': tensor([0.1248, 0.0000, 0.4640], device='cuda:0')},\n",
       "  19: {'Belief': tensor([0., 0., 0., 0., 0.]),\n",
       "   'Vision': array([[0., 0., 0.],\n",
       "          [0., 0., 0.],\n",
       "          [0., 0., 0.]]),\n",
       "   'State': tensor([0.1128, 0.0000, 0.5250], device='cuda:0')},\n",
       "  20: {'Belief': tensor([0., 0., 0., 0., 0.]),\n",
       "   'Vision': array([[0., 0., 0., 0., 0.],\n",
       "          [0., 0., 0., 0., 0.],\n",
       "          [0., 0., 0., 0., 0.],\n",
       "          [0., 0., 0., 0., 0.],\n",
       "          [0., 0., 0., 0., 0.]]),\n",
       "   'State': tensor([0.1197, 0.0000, 0.5686], device='cuda:0')},\n",
       "  21: {'Belief': tensor([0., 0., 0., 0., 0.]),\n",
       "   'Vision': array([[0., 0., 0.],\n",
       "          [0., 0., 0.],\n",
       "          [0., 0., 0.]]),\n",
       "   'State': tensor([0.1153, 0.0000, 0.2617], device='cuda:0')},\n",
       "  22: {'Belief': tensor([0., 0., 0., 0., 0.]),\n",
       "   'Vision': array([[0., 0., 0.],\n",
       "          [0., 0., 0.],\n",
       "          [0., 0., 0.]]),\n",
       "   'State': tensor([0.0654, 0.0000, 0.3124], device='cuda:0')},\n",
       "  23: {'Belief': tensor([0., 0., 0., 0., 0.]),\n",
       "   'Vision': array([[0., 0., 0., 0., 0.],\n",
       "          [0., 0., 0., 0., 0.],\n",
       "          [0., 0., 0., 0., 0.],\n",
       "          [0., 0., 0., 0., 0.],\n",
       "          [0., 0., 0., 0., 0.]]),\n",
       "   'State': tensor([0.1399, 0.0000, 0.4565], device='cuda:0')},\n",
       "  24: {'Belief': tensor([0., 0., 0., 0., 0.]),\n",
       "   'Vision': array([[0., 0., 0.],\n",
       "          [0., 0., 0.],\n",
       "          [0., 0., 0.]]),\n",
       "   'State': tensor([0.0883, 0.0000, 0.4140], device='cuda:0')},\n",
       "  25: {'Belief': tensor([0., 0., 0., 0., 0.]),\n",
       "   'Vision': array([[0., 0., 0.],\n",
       "          [0., 0., 0.],\n",
       "          [0., 0., 0.]]),\n",
       "   'State': tensor([0.1478, 0.0000, 0.3945], device='cuda:0')}},\n",
       " {1: {},\n",
       "  2: {},\n",
       "  3: {},\n",
       "  4: {},\n",
       "  5: {},\n",
       "  6: {},\n",
       "  7: {},\n",
       "  8: {},\n",
       "  9: {},\n",
       "  10: {},\n",
       "  11: {},\n",
       "  12: {},\n",
       "  13: {},\n",
       "  14: {},\n",
       "  15: {},\n",
       "  16: {},\n",
       "  17: {},\n",
       "  18: {},\n",
       "  19: {},\n",
       "  20: {},\n",
       "  21: {},\n",
       "  22: {},\n",
       "  23: {},\n",
       "  24: {},\n",
       "  25: {}})"
      ]
     },
     "execution_count": 10,
     "metadata": {},
     "output_type": "execute_result"
    }
   ],
   "source": [
    "custom_gym.reset(42)"
   ]
  },
  {
   "cell_type": "markdown",
   "metadata": {},
   "source": [
    "### Testing"
   ]
  },
  {
   "cell_type": "code",
   "execution_count": 11,
   "metadata": {},
   "outputs": [
    {
     "ename": "RuntimeError",
     "evalue": "Expected all tensors to be on the same device, but found at least two devices, cuda:0 and cpu!",
     "output_type": "error",
     "traceback": [
      "\u001b[1;31m---------------------------------------------------------------------------\u001b[0m",
      "\u001b[1;31mRuntimeError\u001b[0m                              Traceback (most recent call last)",
      "Cell \u001b[1;32mIn[11], line 1\u001b[0m\n\u001b[1;32m----> 1\u001b[0m \u001b[43mparallel_api_test\u001b[49m\u001b[43m(\u001b[49m\u001b[43mcustom_gym\u001b[49m\u001b[43m,\u001b[49m\u001b[43m \u001b[49m\u001b[43mnum_cycles\u001b[49m\u001b[38;5;241;43m=\u001b[39;49m\u001b[38;5;241;43m1_000\u001b[39;49m\u001b[43m)\u001b[49m\n\u001b[0;32m      2\u001b[0m custom_gym\u001b[38;5;241m.\u001b[39mreset()\n",
      "File \u001b[1;32mc:\\Users\\Joaquin\\miniconda3\\envs\\thesis\\Lib\\site-packages\\pettingzoo\\test\\parallel_test.py:68\u001b[0m, in \u001b[0;36mparallel_api_test\u001b[1;34m(par_env, num_cycles)\u001b[0m\n\u001b[0;32m     59\u001b[0m \u001b[38;5;28;01mfor\u001b[39;00m _ \u001b[38;5;129;01min\u001b[39;00m \u001b[38;5;28mrange\u001b[39m(num_cycles):\n\u001b[0;32m     60\u001b[0m     actions \u001b[38;5;241m=\u001b[39m {\n\u001b[0;32m     61\u001b[0m         agent: sample_action(par_env, obs, agent)\n\u001b[0;32m     62\u001b[0m         \u001b[38;5;28;01mfor\u001b[39;00m agent \u001b[38;5;129;01min\u001b[39;00m par_env\u001b[38;5;241m.\u001b[39magents\n\u001b[1;32m   (...)\u001b[0m\n\u001b[0;32m     66\u001b[0m         )\n\u001b[0;32m     67\u001b[0m     }\n\u001b[1;32m---> 68\u001b[0m     obs, rew, terminated, truncated, info \u001b[38;5;241m=\u001b[39m \u001b[43mpar_env\u001b[49m\u001b[38;5;241;43m.\u001b[39;49m\u001b[43mstep\u001b[49m\u001b[43m(\u001b[49m\u001b[43mactions\u001b[49m\u001b[43m)\u001b[49m\n\u001b[0;32m     69\u001b[0m     \u001b[38;5;28;01mfor\u001b[39;00m agent \u001b[38;5;129;01min\u001b[39;00m par_env\u001b[38;5;241m.\u001b[39magents:\n\u001b[0;32m     70\u001b[0m         \u001b[38;5;28;01massert\u001b[39;00m agent \u001b[38;5;129;01mnot\u001b[39;00m \u001b[38;5;129;01min\u001b[39;00m has_finished, \u001b[38;5;124m\"\u001b[39m\u001b[38;5;124magent cannot be revived once dead\u001b[39m\u001b[38;5;124m\"\u001b[39m\n",
      "File \u001b[1;32mc:\\Users\\Joaquin\\Desktop\\Thesis-Playground\\v2\\solution\\custom_gym.py:78\u001b[0m, in \u001b[0;36mCustomGymEnviornment.step\u001b[1;34m(self, actions)\u001b[0m\n\u001b[0;32m     76\u001b[0m \u001b[38;5;28mself\u001b[39m\u001b[38;5;241m.\u001b[39m_comms_protoocol\u001b[38;5;241m.\u001b[39mstart(\u001b[38;5;28mself\u001b[39m\u001b[38;5;241m.\u001b[39m_world)\n\u001b[0;32m     77\u001b[0m \u001b[38;5;28mself\u001b[39m\u001b[38;5;241m.\u001b[39m_comms_protoocol\u001b[38;5;241m.\u001b[39msend_messages(\u001b[38;5;28mself\u001b[39m\u001b[38;5;241m.\u001b[39m_world)\n\u001b[1;32m---> 78\u001b[0m \u001b[38;5;28;43mself\u001b[39;49m\u001b[38;5;241;43m.\u001b[39;49m\u001b[43m_comms_protoocol\u001b[49m\u001b[38;5;241;43m.\u001b[39;49m\u001b[43mreceive_messages\u001b[49m\u001b[43m(\u001b[49m\u001b[38;5;28;43mself\u001b[39;49m\u001b[38;5;241;43m.\u001b[39;49m\u001b[43m_world\u001b[49m\u001b[43m)\u001b[49m\n\u001b[0;32m     80\u001b[0m \u001b[38;5;28mself\u001b[39m\u001b[38;5;241m.\u001b[39m_world\u001b[38;5;241m.\u001b[39mupdate()\n\u001b[0;32m     81\u001b[0m terminations \u001b[38;5;241m=\u001b[39m {a: \u001b[38;5;28;01mFalse\u001b[39;00m \u001b[38;5;28;01mfor\u001b[39;00m a \u001b[38;5;129;01min\u001b[39;00m \u001b[38;5;28mself\u001b[39m\u001b[38;5;241m.\u001b[39magents}\n",
      "File \u001b[1;32mc:\\Users\\Joaquin\\Desktop\\Thesis-Playground\\v2\\core\\message.py:74\u001b[0m, in \u001b[0;36mBaseCommunicationProtocol.receive_messages\u001b[1;34m(self, world)\u001b[0m\n\u001b[0;32m     72\u001b[0m received_messages \u001b[38;5;241m=\u001b[39m agent\u001b[38;5;241m.\u001b[39mget_messages()\n\u001b[0;32m     73\u001b[0m \u001b[38;5;28;01mfor\u001b[39;00m msg \u001b[38;5;129;01min\u001b[39;00m received_messages: \n\u001b[1;32m---> 74\u001b[0m     \u001b[38;5;28;43mself\u001b[39;49m\u001b[38;5;241;43m.\u001b[39;49m\u001b[43m_interpret_message_contents\u001b[49m\u001b[43m(\u001b[49m\u001b[43magent\u001b[49m\u001b[43m,\u001b[49m\u001b[43m \u001b[49m\u001b[43mmsg\u001b[49m\u001b[43m)\u001b[49m\n\u001b[0;32m     75\u001b[0m agent\u001b[38;5;241m.\u001b[39mclear_messages()\n",
      "File \u001b[1;32mc:\\Users\\Joaquin\\Desktop\\Thesis-Playground\\v2\\sar\\sar_comm.py:35\u001b[0m, in \u001b[0;36mSARCommunicationProtocol._interpret_message_contents\u001b[1;34m(self, agent, message)\u001b[0m\n\u001b[0;32m     32\u001b[0m \u001b[38;5;28;01mdef\u001b[39;00m \u001b[38;5;21m_interpret_message_contents\u001b[39m(\u001b[38;5;28mself\u001b[39m, agent : Agent, message : Message):\n\u001b[0;32m     33\u001b[0m     belief : torch\u001b[38;5;241m.\u001b[39mTensor \u001b[38;5;241m=\u001b[39m \u001b[38;5;28mself\u001b[39m\u001b[38;5;241m.\u001b[39m_decoder\u001b[38;5;241m.\u001b[39mdecoder_forward(message\u001b[38;5;241m.\u001b[39mmessage, \u001b[38;5;28mself\u001b[39m\u001b[38;5;241m.\u001b[39m_embeddings[message\u001b[38;5;241m.\u001b[39msender\u001b[38;5;241m.\u001b[39mid \u001b[38;5;241m-\u001b[39m \u001b[38;5;241m1\u001b[39m])\n\u001b[1;32m---> 35\u001b[0m     \u001b[43magent\u001b[49m\u001b[38;5;241;43m.\u001b[39;49m\u001b[43m_current_belief\u001b[49m\u001b[43m \u001b[49m\u001b[38;5;241;43m+\u001b[39;49m\u001b[38;5;241;43m=\u001b[39;49m\u001b[43m \u001b[49m\u001b[43mbelief\u001b[49m\n\u001b[0;32m     36\u001b[0m     agent\u001b[38;5;241m.\u001b[39madd_relation(message\u001b[38;5;241m.\u001b[39msender\u001b[38;5;241m.\u001b[39mid ,\u001b[38;5;241m1\u001b[39m)\n",
      "\u001b[1;31mRuntimeError\u001b[0m: Expected all tensors to be on the same device, but found at least two devices, cuda:0 and cpu!"
     ]
    }
   ],
   "source": [
    "parallel_api_test(custom_gym, num_cycles=1_000)\n",
    "custom_gym.reset()"
   ]
  },
  {
   "cell_type": "markdown",
   "metadata": {},
   "source": [
    "# Training"
   ]
  },
  {
   "cell_type": "code",
   "execution_count": null,
   "metadata": {},
   "outputs": [],
   "source": [
    "\n",
    "from models.base import * \n",
    "from models.idqn import * \n",
    "import matplotlib.pyplot as plt"
   ]
  },
  {
   "cell_type": "code",
   "execution_count": null,
   "metadata": {},
   "outputs": [],
   "source": [
    "model = IDQN(env = custom_gym,\n",
    "             feature_extractor= feature_extractor,\n",
    "             target_net= complex_model.get_target_net(),\n",
    "             model= complex_model,\n",
    "             batch_size=1024,\n",
    "             device = DEVICE,\n",
    "             buffer_size= custom_gym._max_time_steps * 10\n",
    "             )"
   ]
  },
  {
   "cell_type": "code",
   "execution_count": null,
   "metadata": {},
   "outputs": [],
   "source": [
    "rewards = train_loop(custom_gym, model, games=100, optimization_passes = 1, seed=42)"
   ]
  },
  {
   "cell_type": "code",
   "execution_count": null,
   "metadata": {},
   "outputs": [],
   "source": [
    "plt.plot(rewards)"
   ]
  },
  {
   "cell_type": "markdown",
   "metadata": {},
   "source": [
    "# Optimizations"
   ]
  },
  {
   "cell_type": "code",
   "execution_count": null,
   "metadata": {},
   "outputs": [],
   "source": [
    "import cProfile"
   ]
  },
  {
   "cell_type": "code",
   "execution_count": null,
   "metadata": {},
   "outputs": [],
   "source": [
    "def stress_test():\n",
    "    train_loop(custom_gym, model, games=1, optimization_passes = 1, seed=42)"
   ]
  },
  {
   "cell_type": "code",
   "execution_count": null,
   "metadata": {},
   "outputs": [],
   "source": [
    "\n",
    "cProfile.run('stress_test()', sort = 'time')"
   ]
  },
  {
   "cell_type": "markdown",
   "metadata": {},
   "source": [
    "# Visualization"
   ]
  },
  {
   "cell_type": "code",
   "execution_count": null,
   "metadata": {},
   "outputs": [],
   "source": [
    "from models.base import RenderWrapper\n",
    "\n",
    "renderer = RenderWrapper(model=model)"
   ]
  },
  {
   "cell_type": "code",
   "execution_count": null,
   "metadata": {},
   "outputs": [],
   "source": [
    "renderer.render()"
   ]
  },
  {
   "cell_type": "code",
   "execution_count": null,
   "metadata": {},
   "outputs": [],
   "source": []
  }
 ],
 "metadata": {
  "kernelspec": {
   "display_name": "thesis",
   "language": "python",
   "name": "python3"
  },
  "language_info": {
   "codemirror_mode": {
    "name": "ipython",
    "version": 3
   },
   "file_extension": ".py",
   "mimetype": "text/x-python",
   "name": "python",
   "nbconvert_exporter": "python",
   "pygments_lexer": "ipython3",
   "version": "3.11.9"
  }
 },
 "nbformat": 4,
 "nbformat_minor": 2
}
