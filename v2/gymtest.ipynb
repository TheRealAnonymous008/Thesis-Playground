{
 "cells": [
  {
   "cell_type": "code",
   "execution_count": null,
   "metadata": {},
   "outputs": [],
   "source": [
    "%load_ext autoreload \n",
    "%autoreload 2"
   ]
  },
  {
   "cell_type": "code",
   "execution_count": null,
   "metadata": {},
   "outputs": [],
   "source": [
    "import sys\n",
    "sys.tracebacklimit = 0\n",
    "\n",
    "import numpy as np\n",
    "import networkx as nx \n",
    "import matplotlib.pyplot as plt"
   ]
  },
  {
   "cell_type": "code",
   "execution_count": null,
   "metadata": {},
   "outputs": [],
   "source": [
    "from pettingzoo.test import parallel_api_test\n",
    "from solution.custom_gym import CustomGymEnviornment\n",
    "from solution.trainer import *\n",
    "from solution.policy_net import *"
   ]
  },
  {
   "cell_type": "code",
   "execution_count": null,
   "metadata": {},
   "outputs": [],
   "source": [
    "from core.agent import *\n",
    "from core.world import * \n",
    "from core.render import * \n",
    "from core.skill import * \n",
    "from core.models import *\n",
    "from core.message import *"
   ]
  },
  {
   "cell_type": "code",
   "execution_count": null,
   "metadata": {},
   "outputs": [],
   "source": [
    "DEVICE = \"cuda\"\n",
    "BELIEF_DIMS = 5\n"
   ]
  },
  {
   "cell_type": "code",
   "execution_count": null,
   "metadata": {},
   "outputs": [],
   "source": [
    "from sar.sar_agent import *\n",
    "from sar.sar_world import *\n",
    "from sar.sar_env_params import MAX_TIME_STEPS\n",
    "from sar.sar_traits_sampler import *\n",
    "\n",
    "belief_initializer = SARBeliefInitializer(BELIEF_DIMS)\n",
    "trait_sampler = SARTraitSampler()\n",
    "\n",
    "def initialize_swarm(world : BaseWorld):\n",
    "    swarm = trait_sampler.generate(SWARM_SIZE, DEVICE)\n",
    "    for agent in swarm:\n",
    "        agent.set_utility(SARUtilityFunction())\n",
    "        world.add_agent(agent)\n",
    "    swarm = initialize_positions_randomly(world, swarm)\n",
    "    swarm = belief_initializer.initialize_beliefs(swarm)"
   ]
  },
  {
   "cell_type": "code",
   "execution_count": null,
   "metadata": {},
   "outputs": [],
   "source": [
    "\n",
    "from sar.urban_gen import * \n",
    "from sar.victims import * \n",
    "from sar.sar_comm import *\n",
    "from utils.geo import * \n",
    "\n",
    "terrain_generator = UrbanTerrainMapGenerator(padding = MAX_VISIBILITY)\n",
    "victim_generator = VictimGenerator(padding = MAX_VISIBILITY)\n",
    "\n",
    "GEO_TIFF_PATH = \"C:\\\\Users\\\\Joaquin\\\\Desktop\\\\Thesis-Playground\\\\datasets\\\\output_SRTMGL1.tif\"\n",
    "\n",
    "def initialize_terrain(world : BaseWorld):\n",
    "    terrain_map, population_map = terrain_generator.generate(world._dims)\n",
    "    geo_map = read_tiff(GEO_TIFF_PATH)[0]\n",
    "    tx, ty = geo_map.shape\n",
    "\n",
    "\n",
    "    if tx > world._dims[0] or ty > world._dims[1]:\n",
    "        start_x = np.random.randint(0, tx - world._dims[0] + 1)\n",
    "        start_y = np.random.randint(0, ty - world._dims[1] + 1)\n",
    "        height_map = geo_map[start_x:start_x + world._dims[0], start_y:start_y + world._dims[1]]\n",
    "        minimum = height_map.min()\n",
    "        maximum = height_map.max() \n",
    "        terrain_map = TerrainMap(height_map, terrain_map._padding, minimum, maximum)\n",
    "\n",
    "\n",
    "    map_collection : BaseMapCollection = BaseMapCollection()\n",
    "    map_collection.add_map(\"Terrain\", terrain_map)\n",
    "    map_collection.add_map(\"Population\", population_map)\n",
    "\n",
    "    total_victims = world.get_param(\"total_victims\")\n",
    "    victim_generator.set_density_map(population_map)\n",
    "    victim_map = victim_generator.generate(world._dims, total_victims)\n",
    "\n",
    "    map_collection.add_map(\"Victims\", victim_map)\n",
    "    return map_collection\n"
   ]
  },
  {
   "cell_type": "code",
   "execution_count": null,
   "metadata": {},
   "outputs": [],
   "source": [
    "from sar.energy import EnergyModel\n",
    "from sar.victims import VictimModel\n",
    "from solution.sar_action_interpreter import *\n",
    "from solution.encoder_net import *\n",
    "from solution.decoder_net import *\n",
    "from solution.complex_model import * \n",
    "\n",
    "world = SARWorld(dims = WORLD_DIMS,\n",
    "              swarm_initializer= initialize_swarm,\n",
    "              generation_pipeline=initialize_terrain\n",
    "              )\n",
    "world.add_model(\"energy_model\", EnergyModel())\n",
    "world.add_model(\"victim_model\", VictimModel())\n",
    "world.reset()"
   ]
  },
  {
   "cell_type": "code",
   "execution_count": null,
   "metadata": {},
   "outputs": [],
   "source": [
    "grid_size = 2 * 3 + 1\n",
    "\n",
    "complex_model = ComplexModel(\n",
    "    action_dims= 4,\n",
    "    belief_dims= BELIEF_DIMS,\n",
    "    grid_size=grid_size, \n",
    "    latent_dims= 16, \n",
    "    state_dims= 2,\n",
    "    trait_dims= 3,\n",
    "    packet_dims= 2, \n",
    ")\n",
    "\n",
    "comms_protocol = SARCommunicationProtocol(complex_model._encoder_net, complex_model._decoder_net)\n",
    "action_interpreter = SARActionInterpreter(BELIEF_DIMS)\n",
    "\n",
    "custom_gym : CustomGymEnviornment = CustomGymEnviornment(world, action_interpreter, comms_protocol, time_step_upper= MAX_TIME_STEPS)\n",
    "\n",
    "complex_model.to(DEVICE)\n",
    "custom_gym.to(DEVICE)"
   ]
  },
  {
   "cell_type": "code",
   "execution_count": null,
   "metadata": {},
   "outputs": [],
   "source": [
    "custom_gym.reset(42)"
   ]
  },
  {
   "cell_type": "markdown",
   "metadata": {},
   "source": [
    "### Testing"
   ]
  },
  {
   "cell_type": "code",
   "execution_count": null,
   "metadata": {},
   "outputs": [],
   "source": [
    "parallel_api_test(custom_gym, num_cycles=1_000)\n",
    "custom_gym.reset()"
   ]
  },
  {
   "cell_type": "markdown",
   "metadata": {},
   "source": [
    "# Training"
   ]
  },
  {
   "cell_type": "code",
   "execution_count": null,
   "metadata": {},
   "outputs": [],
   "source": [
    "\n",
    "from models.base import * \n",
    "from models.idqn import * \n",
    "import matplotlib.pyplot as plt"
   ]
  },
  {
   "cell_type": "code",
   "execution_count": null,
   "metadata": {},
   "outputs": [],
   "source": [
    "model = IDQN(env = custom_gym,\n",
    "             feature_extractor= feature_extractor,\n",
    "             target_net= complex_model.get_target_net(),\n",
    "             model= complex_model,\n",
    "             batch_size=1024,\n",
    "             device = DEVICE,\n",
    "             buffer_size= custom_gym._max_time_steps * 4\n",
    "             )"
   ]
  },
  {
   "cell_type": "code",
   "execution_count": null,
   "metadata": {},
   "outputs": [],
   "source": [
    "rewards = train_loop(custom_gym, model, games=100, optimization_passes = 1, seed=42)"
   ]
  },
  {
   "cell_type": "code",
   "execution_count": null,
   "metadata": {},
   "outputs": [],
   "source": [
    "plt.plot(rewards)"
   ]
  },
  {
   "cell_type": "markdown",
   "metadata": {},
   "source": [
    "# Optimizations"
   ]
  },
  {
   "cell_type": "code",
   "execution_count": null,
   "metadata": {},
   "outputs": [],
   "source": [
    "import cProfile"
   ]
  },
  {
   "cell_type": "code",
   "execution_count": null,
   "metadata": {},
   "outputs": [],
   "source": [
    "def stress_test():\n",
    "    train_loop(custom_gym, model, games=1, optimization_passes = 1, seed=42)"
   ]
  },
  {
   "cell_type": "code",
   "execution_count": null,
   "metadata": {},
   "outputs": [],
   "source": [
    "\n",
    "cProfile.run('stress_test()', sort = 'time')"
   ]
  },
  {
   "cell_type": "markdown",
   "metadata": {},
   "source": [
    "# Visualization"
   ]
  },
  {
   "cell_type": "code",
   "execution_count": null,
   "metadata": {},
   "outputs": [],
   "source": [
    "from models.base import RenderWrapper\n",
    "\n",
    "renderer = RenderWrapper(model=model)"
   ]
  },
  {
   "cell_type": "code",
   "execution_count": null,
   "metadata": {},
   "outputs": [],
   "source": [
    "renderer.render()"
   ]
  },
  {
   "cell_type": "code",
   "execution_count": null,
   "metadata": {},
   "outputs": [],
   "source": []
  }
 ],
 "metadata": {
  "kernelspec": {
   "display_name": "thesis",
   "language": "python",
   "name": "python3"
  },
  "language_info": {
   "codemirror_mode": {
    "name": "ipython",
    "version": 3
   },
   "file_extension": ".py",
   "mimetype": "text/x-python",
   "name": "python",
   "nbconvert_exporter": "python",
   "pygments_lexer": "ipython3",
   "version": "3.11.9"
  }
 },
 "nbformat": 4,
 "nbformat_minor": 2
}
