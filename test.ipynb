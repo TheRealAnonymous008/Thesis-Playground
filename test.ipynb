{
 "cells": [
  {
   "cell_type": "code",
   "execution_count": 1,
   "metadata": {},
   "outputs": [
    {
     "name": "stdout",
     "output_type": "stream",
     "text": [
      "pygame-ce 2.4.1 (SDL 2.28.5, Python 3.12.2)\n"
     ]
    }
   ],
   "source": [
    "%load_ext autoreload\n",
    "%autoreload 2\n",
    "import manenv\n",
    "from manenv.product_utils import *\n",
    "from manenv.world import World\n",
    "from manenv.component import *\n",
    "from manenv.render_wrapper import RenderWrapper\n",
    "from manenv.product import *\n",
    "from manenv.effector import *"
   ]
  },
  {
   "cell_type": "code",
   "execution_count": 2,
   "metadata": {},
   "outputs": [],
   "source": [
    "world = World((3, 3))\n",
    "s = np.zeros((5, 5), dtype=np.int8)\n",
    "s[1][2] = 2\n",
    "s[1][1] = 2\n",
    "s[2][1] = 1\n",
    "product = Product(s)\n",
    "world.place_component(make_vector(1, 2), Spawner(product))\n",
    "world.place_component(make_vector(1, 1), Conveyor(\n",
    "    np.array([\n",
    "    [1, 0, 0],\n",
    "    [1, 0, -1],\n",
    "    [1, 0, 0]\n",
    "])))\n",
    "\n",
    "grabber = Grabber()\n",
    "assembler = Assembler(make_vector(10, 10), [grabber])\n",
    "world.place_component(make_vector(1, 0), assembler)\n",
    "wrapper = RenderWrapper(world)"
   ]
  },
  {
   "cell_type": "code",
   "execution_count": 3,
   "metadata": {},
   "outputs": [
    {
     "name": "stdout",
     "output_type": "stream",
     "text": [
      "[[2 2]\n",
      " [1 0]]\n",
      "[[2 0]\n",
      " [2 1]]\n"
     ]
    }
   ],
   "source": [
    "assembler.place_in_inventory(product.copy())\n",
    "grabber.execute_action(GrabberActions.GRAB_INVENTORY)\n",
    "grabber.execute_action(GrabberActions.RELEASE)\n",
    "grabber.execute_action(GrabberActions.GRAB)\n",
    "grabber.execute_action(GrabberActions.MOVE_RIGHT)\n",
    "grabber.execute_action(GrabberActions.MOVE_RIGHT)\n",
    "grabber.execute_action(GrabberActions.MOVE_RIGHT)\n",
    "grabber.execute_action(GrabberActions.ROTATE_CCW)\n",
    "grabber.execute_action(GrabberActions.RELEASE)"
   ]
  },
  {
   "cell_type": "code",
   "execution_count": 4,
   "metadata": {},
   "outputs": [
    {
     "name": "stdout",
     "output_type": "stream",
     "text": [
      "[[0 0 0 2 0 0 0 0 0 0]\n",
      " [0 0 0 2 1 0 0 0 0 0]\n",
      " [0 0 0 0 0 0 0 0 0 0]\n",
      " [0 0 0 0 0 0 0 0 0 0]\n",
      " [0 0 0 0 0 0 0 0 0 0]\n",
      " [0 0 0 0 0 0 0 0 0 0]\n",
      " [0 0 0 0 0 0 0 0 0 0]\n",
      " [0 0 0 0 0 0 0 0 0 0]\n",
      " [0 0 0 0 0 0 0 0 0 0]\n",
      " [0 0 0 0 0 0 0 0 0 0]]\n"
     ]
    }
   ],
   "source": [
    "wrapper.render(update_mode=True)"
   ]
  },
  {
   "cell_type": "code",
   "execution_count": null,
   "metadata": {},
   "outputs": [],
   "source": []
  }
 ],
 "metadata": {
  "kernelspec": {
   "display_name": "thesis",
   "language": "python",
   "name": "python3"
  },
  "language_info": {
   "codemirror_mode": {
    "name": "ipython",
    "version": 3
   },
   "file_extension": ".py",
   "mimetype": "text/x-python",
   "name": "python",
   "nbconvert_exporter": "python",
   "pygments_lexer": "ipython3",
   "version": "3.12.2"
  }
 },
 "nbformat": 4,
 "nbformat_minor": 2
}
