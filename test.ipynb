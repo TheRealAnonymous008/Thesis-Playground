{
 "cells": [
  {
   "cell_type": "code",
   "execution_count": 8,
   "metadata": {},
   "outputs": [
    {
     "name": "stdout",
     "output_type": "stream",
     "text": [
      "The autoreload extension is already loaded. To reload it, use:\n",
      "  %reload_ext autoreload\n"
     ]
    }
   ],
   "source": [
    "%load_ext autoreload\n",
    "%autoreload 2\n",
    "import manenv\n",
    "from manenv.product_utils import *\n",
    "from manenv.world import World\n",
    "from manenv.component import *\n",
    "from manenv.render_wrapper import RenderWrapper\n",
    "from manenv.product import *\n",
    "from manenv.effector import *"
   ]
  },
  {
   "cell_type": "code",
   "execution_count": 9,
   "metadata": {},
   "outputs": [],
   "source": [
    "world = World((3, 3))\n",
    "s = np.zeros((5, 5), dtype=np.int8)\n",
    "s[1][2] = 2\n",
    "s[1][1] = 2\n",
    "s[2][1] = 1\n",
    "s[3][1] = 1\n",
    "product = Product(s)\n",
    "world.place_component(make_vector(1, 2), Spawner(product))\n",
    "world.place_component(make_vector(1, 1), Conveyor(\n",
    "    np.array([\n",
    "    [1, 0, 0],\n",
    "    [1, 0, -1],\n",
    "    [1, 0, 0]\n",
    "])))\n",
    "\n",
    "grabber = Grabber(make_vector(0, 0))\n",
    "buddy = Grabber(make_vector(1, 1))\n",
    "assembler = Assembler(make_vector(10, 10), [grabber, buddy])\n",
    "world.place_component(make_vector(1, 0), assembler)\n",
    "wrapper = RenderWrapper(world)"
   ]
  },
  {
   "cell_type": "code",
   "execution_count": 10,
   "metadata": {},
   "outputs": [
    {
     "name": "stdout",
     "output_type": "stream",
     "text": [
      "[<manenv.product.Product object at 0x000002187176BBC0>]\n"
     ]
    },
    {
     "name": "stderr",
     "output_type": "stream",
     "text": [
      "c:\\Users\\Joaquin\\Desktop\\LaSalle\\THESIS\\Thesis-Playground\\manenv\\component.py:198: RuntimeWarning: invalid value encountered in cast\n",
      "  self._product_mask = (self._product_mask + mask * product._id).astype(int)\n"
     ]
    }
   ],
   "source": [
    "assembler.place_in_inventory(product.copy())\n",
    "world.update()\n",
    "\n",
    "grabber.set_action(GrabberActions.GRAB_INVENTORY)\n",
    "world.update()\n",
    "\n",
    "grabber.set_action(GrabberActions.RELEASE)\n",
    "world.update()\n",
    "\n",
    "grabber.set_action(GrabberActions.GRAB)\n",
    "world.update()\n",
    "\n",
    "grabber.set_action(GrabberActions.MOVE_RIGHT)\n",
    "world.update()\n",
    "\n",
    "grabber.set_action(GrabberActions.MOVE_RIGHT)\n",
    "world.update()\n",
    "\n",
    "grabber.set_action(GrabberActions.MOVE_RIGHT)\n",
    "world.update()\n",
    "\n",
    "grabber.set_action(GrabberActions.ROTATE_CCW)\n",
    "world.update()\n",
    "\n",
    "grabber.set_action(GrabberActions.RELEASE)\n",
    "world.update()\n"
   ]
  },
  {
   "cell_type": "code",
   "execution_count": 11,
   "metadata": {},
   "outputs": [],
   "source": [
    "wrapper.render(update_mode=True)"
   ]
  },
  {
   "cell_type": "code",
   "execution_count": null,
   "metadata": {},
   "outputs": [],
   "source": []
  }
 ],
 "metadata": {
  "kernelspec": {
   "display_name": "thesis",
   "language": "python",
   "name": "python3"
  },
  "language_info": {
   "codemirror_mode": {
    "name": "ipython",
    "version": 3
   },
   "file_extension": ".py",
   "mimetype": "text/x-python",
   "name": "python",
   "nbconvert_exporter": "python",
   "pygments_lexer": "ipython3",
   "version": "3.12.2"
  }
 },
 "nbformat": 4,
 "nbformat_minor": 2
}
