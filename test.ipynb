{
 "cells": [
  {
   "cell_type": "code",
   "execution_count": 1,
   "metadata": {},
   "outputs": [
    {
     "name": "stdout",
     "output_type": "stream",
     "text": [
      "pygame-ce 2.4.1 (SDL 2.28.5, Python 3.11.9)\n"
     ]
    }
   ],
   "source": [
    "%load_ext autoreload\n",
    "%autoreload 2\n",
    "import manenv\n",
    "from manenv.utils.product_utils import *\n",
    "from manenv.core.world import World\n",
    "from manenv.core.component import *\n",
    "from manenv.render_wrapper import RenderWrapper\n",
    "from manenv.core.product import *\n",
    "from manenv.core.effector import *\n",
    "\n",
    "import manenv.effectors as eff\n",
    "import manenv.components as cmp\n"
   ]
  },
  {
   "cell_type": "code",
   "execution_count": 2,
   "metadata": {},
   "outputs": [],
   "source": [
    "world = World((3, 3))\n",
    "s = np.zeros((5, 5), dtype=np.int8)\n",
    "s[1][2] = 2\n",
    "s[1][1] = 2\n",
    "s[2][1] = 1\n",
    "s[3][1] = 1\n",
    "product = Product(s)\n",
    "world.place_component(make_vector(1, 1), cmp.Conveyor(\n",
    "    np.array([\n",
    "    [0, 0, 0],\n",
    "    [1, 0, -1],\n",
    "    [0, 0, 0]\n",
    "])))\n",
    "world.place_component(make_vector(2, 0), cmp.Conveyor(\n",
    "    np.array([\n",
    "    [0, -1, 0],\n",
    "    [0, 0, 1],\n",
    "    [0, 0, 0] \n",
    "])))\n",
    "world.place_component(make_vector(2, 1), cmp.Outport())\n",
    "\n",
    "grabber = eff.Grabber(make_vector(0, 2))\n",
    "buddy = eff.Grabber(make_vector(1, 3))\n",
    "welder = eff.Welder(make_vector(1, 2))\n",
    "transformer = eff.Transformer(1, 2, make_vector(2,  4))\n",
    "discard = eff.Acceptor(make_vector(1, 7))\n",
    "\n",
    "world.place_component(make_vector(1, 2), cmp.Spawner(product))\n",
    "assembler : cmp.Assembler = cmp.Assembler(make_vector(10, 10), [grabber, buddy, welder, discard])\n",
    "world.place_component(make_vector(1, 0), assembler)\n",
    "wrapper = RenderWrapper(world)"
   ]
  },
  {
   "cell_type": "code",
   "execution_count": 3,
   "metadata": {},
   "outputs": [],
   "source": [
    "# wrapper.reset()\n",
    "# assembler.place_in_inventory(product.copy())\n",
    "# assembler.place_in_inventory(product.copy())\n",
    "# world.update()\n",
    "\n",
    "# grabber.set_action(eff.GrabberActions.GRAB_INVENTORY.value)\n",
    "# grabber.set_action(eff.GrabberActions.GRAB_INVENTORY.value)\n",
    "# buddy.set_action(eff.GrabberActions.GRAB_INVENTORY.value)\n",
    "# world.update()\n",
    "\n",
    "# grabber.set_action(eff.GrabberActions.RELEASE.value)\n",
    "# buddy.set_action(eff.GrabberActions.RELEASE.value)\n",
    "# world.update()\n",
    "\n",
    "# welder.set_action(eff.WelderActions.WELD_EAST.value)\n",
    "# world.update()\n",
    "# world.update()\n",
    "\n",
    "# grabber.set_action(eff.GrabberActions.GRAB.value)\n",
    "# world.update()\n",
    "\n",
    "# grabber.set_action(eff.GrabberActions.MOVE_RIGHT.value)\n",
    "# world.update()\n",
    "\n",
    "# grabber.set_action(eff.GrabberActions.RELEASE.value)\n",
    "# world.update()\n",
    "\n",
    "# transformer.set_action(eff.TransformerActions.TRANSFORM.value)\n",
    "# world.update()\n",
    "# world.update()\n",
    "\n",
    "# grabber.set_action(eff.GrabberActions.MOVE_RIGHT.value)\n",
    "# world.update()\n",
    "# world.update()\n",
    "\n",
    "# grabber.set_action(eff.GrabberActions.MOVE_RIGHT)\n",
    "# world.update()\n",
    "\n",
    "# grabber.set_action(eff.GrabberActions.MOVE_RIGHT)\n",
    "# world.update()\n"
   ]
  },
  {
   "cell_type": "code",
   "execution_count": 4,
   "metadata": {},
   "outputs": [],
   "source": [
    "# wrapper.render()"
   ]
  },
  {
   "cell_type": "markdown",
   "metadata": {},
   "source": [
    "# Gym Environment Test"
   ]
  },
  {
   "cell_type": "code",
   "execution_count": 5,
   "metadata": {},
   "outputs": [],
   "source": [
    "from manenv.gym_wrapper import MARLFactoryEnvironment"
   ]
  },
  {
   "cell_type": "code",
   "execution_count": 6,
   "metadata": {},
   "outputs": [],
   "source": [
    "world.reset()\n",
    "environment = MARLFactoryEnvironment(world)\n",
    "renderer = RenderWrapper(environment._world)"
   ]
  },
  {
   "cell_type": "code",
   "execution_count": 7,
   "metadata": {},
   "outputs": [],
   "source": [
    "from pettingzoo.test import parallel_api_test"
   ]
  },
  {
   "cell_type": "code",
   "execution_count": 9,
   "metadata": {},
   "outputs": [
    {
     "name": "stdout",
     "output_type": "stream",
     "text": [
      "[0 5] [0 5] id: 805\n",
      "[[2 2]\n",
      " [1 0]\n",
      " [1 0]] id: 805\n",
      "[[2 2]\n",
      " [1 0]\n",
      " [1 0]]\n",
      "[0 5] [0 5] id: 1260\n",
      "[[2. 2.]\n",
      " [1. 0.]\n",
      " [1. 0.]] id: 1260\n",
      "[[2. 2.]\n",
      " [1. 0.]\n",
      " [1. 0.]]\n",
      "[0 5] [0 5] id: 1277\n",
      "[[2. 2.]\n",
      " [1. 0.]\n",
      " [1. 0.]] id: 1277\n",
      "[[2. 2.]\n",
      " [1. 0.]\n",
      " [1. 0.]]\n",
      "[0 5] [0 5] id: 1280\n",
      "[[2. 2.]\n",
      " [1. 0.]\n",
      " [1. 0.]] id: 1280\n",
      "[[2. 2.]\n",
      " [1. 0.]\n",
      " [1. 0.]]\n",
      "[0 5] [1 4] id: 1286\n",
      "[[2. 2.]\n",
      " [1. 0.]\n",
      " [1. 0.]] id: 816\n",
      "[[1 1 2]\n",
      " [0 0 2]]\n",
      "[0 5] [0 5] id: 817\n",
      "[[2 2]\n",
      " [1 0]\n",
      " [1 0]] id: 817\n",
      "[[2 2]\n",
      " [1 0]\n",
      " [1 0]]\n",
      "[0 5] [0 5] id: 1330\n",
      "[[2. 2.]\n",
      " [1. 0.]\n",
      " [1. 0.]] id: 1330\n",
      "[[2. 2.]\n",
      " [1. 0.]\n",
      " [1. 0.]]\n",
      "[0 5] [0 5] id: 1332\n",
      "[[2. 2.]\n",
      " [1. 0.]\n",
      " [1. 0.]] id: 1332\n",
      "[[2. 2.]\n",
      " [1. 0.]\n",
      " [1. 0.]]\n",
      "[0 5] [0 5] id: 1336\n",
      "[[2. 2.]\n",
      " [1. 0.]\n",
      " [1. 0.]] id: 1336\n",
      "[[2. 2.]\n",
      " [1. 0.]\n",
      " [1. 0.]]\n",
      "[0 5] [0 5] id: 1349\n",
      "[[2. 2.]\n",
      " [1. 0.]\n",
      " [1. 0.]] id: 1349\n",
      "[[2. 2.]\n",
      " [1. 0.]\n",
      " [1. 0.]]\n",
      "[2 5] [2 5] id: 1357\n",
      "[[2. 2.]\n",
      " [1. 0.]\n",
      " [1. 0.]] id: 1357\n",
      "[[2. 2.]\n",
      " [1. 0.]\n",
      " [1. 0.]]\n",
      "[ 1 -1] [ 1 -1] id: 789\n",
      "[[1 1 2]\n",
      " [0 0 2]] id: 789\n",
      "[[1 1 2]\n",
      " [0 0 2]]\n"
     ]
    },
    {
     "ename": "ValueError",
     "evalue": "could not broadcast input array from shape (2,3) into shape (2,0)",
     "output_type": "error",
     "traceback": [
      "\u001b[1;31m---------------------------------------------------------------------------\u001b[0m",
      "\u001b[1;31mValueError\u001b[0m                                Traceback (most recent call last)",
      "Cell \u001b[1;32mIn[9], line 1\u001b[0m\n\u001b[1;32m----> 1\u001b[0m \u001b[43mparallel_api_test\u001b[49m\u001b[43m(\u001b[49m\u001b[43menvironment\u001b[49m\u001b[43m,\u001b[49m\u001b[43m \u001b[49m\u001b[43mnum_cycles\u001b[49m\u001b[38;5;241;43m=\u001b[39;49m\u001b[38;5;241;43m1_000_000\u001b[39;49m\u001b[43m)\u001b[49m\n",
      "File \u001b[1;32mc:\\Users\\Joaquin\\miniconda3\\envs\\thesis\\Lib\\site-packages\\pettingzoo\\test\\parallel_test.py:68\u001b[0m, in \u001b[0;36mparallel_api_test\u001b[1;34m(par_env, num_cycles)\u001b[0m\n\u001b[0;32m     59\u001b[0m \u001b[38;5;28;01mfor\u001b[39;00m _ \u001b[38;5;129;01min\u001b[39;00m \u001b[38;5;28mrange\u001b[39m(num_cycles):\n\u001b[0;32m     60\u001b[0m     actions \u001b[38;5;241m=\u001b[39m {\n\u001b[0;32m     61\u001b[0m         agent: sample_action(par_env, obs, agent)\n\u001b[0;32m     62\u001b[0m         \u001b[38;5;28;01mfor\u001b[39;00m agent \u001b[38;5;129;01min\u001b[39;00m par_env\u001b[38;5;241m.\u001b[39magents\n\u001b[1;32m   (...)\u001b[0m\n\u001b[0;32m     66\u001b[0m         )\n\u001b[0;32m     67\u001b[0m     }\n\u001b[1;32m---> 68\u001b[0m     obs, rew, terminated, truncated, info \u001b[38;5;241m=\u001b[39m \u001b[43mpar_env\u001b[49m\u001b[38;5;241;43m.\u001b[39;49m\u001b[43mstep\u001b[49m\u001b[43m(\u001b[49m\u001b[43mactions\u001b[49m\u001b[43m)\u001b[49m\n\u001b[0;32m     69\u001b[0m     \u001b[38;5;28;01mfor\u001b[39;00m agent \u001b[38;5;129;01min\u001b[39;00m par_env\u001b[38;5;241m.\u001b[39magents:\n\u001b[0;32m     70\u001b[0m         \u001b[38;5;28;01massert\u001b[39;00m agent \u001b[38;5;129;01mnot\u001b[39;00m \u001b[38;5;129;01min\u001b[39;00m has_finished, \u001b[38;5;124m\"\u001b[39m\u001b[38;5;124magent cannot be revived once dead\u001b[39m\u001b[38;5;124m\"\u001b[39m\n",
      "File \u001b[1;32mc:\\Users\\Joaquin\\Desktop\\Thesis-Playground\\manenv\\gym_wrapper.py:44\u001b[0m, in \u001b[0;36mMARLFactoryEnvironment.step\u001b[1;34m(self, actions)\u001b[0m\n\u001b[0;32m     41\u001b[0m \u001b[38;5;28;01mfor\u001b[39;00m (actor, action) \u001b[38;5;129;01min\u001b[39;00m actions\u001b[38;5;241m.\u001b[39mitems():\n\u001b[0;32m     42\u001b[0m     \u001b[38;5;28mself\u001b[39m\u001b[38;5;241m.\u001b[39mactor_space[actor]\u001b[38;5;241m.\u001b[39mset_action(action)\n\u001b[1;32m---> 44\u001b[0m \u001b[38;5;28;43mself\u001b[39;49m\u001b[38;5;241;43m.\u001b[39;49m\u001b[43m_world\u001b[49m\u001b[38;5;241;43m.\u001b[39;49m\u001b[43mupdate\u001b[49m\u001b[43m(\u001b[49m\u001b[43m)\u001b[49m\n\u001b[0;32m     46\u001b[0m \u001b[38;5;250m\u001b[39m\u001b[38;5;124;03m\"\"\"\u001b[39;00m\n\u001b[0;32m     47\u001b[0m \u001b[38;5;124;03mObservations are obtained per actor\u001b[39;00m\n\u001b[0;32m     48\u001b[0m \u001b[38;5;124;03m\"\"\"\u001b[39;00m\n\u001b[0;32m     49\u001b[0m observations \u001b[38;5;241m=\u001b[39m \u001b[38;5;28mself\u001b[39m\u001b[38;5;241m.\u001b[39mget_observation()\n",
      "File \u001b[1;32mc:\\Users\\Joaquin\\Desktop\\Thesis-Playground\\manenv\\core\\world.py:144\u001b[0m, in \u001b[0;36mWorld.update\u001b[1;34m(self)\u001b[0m\n\u001b[0;32m    142\u001b[0m \u001b[38;5;28;01mfor\u001b[39;00m y \u001b[38;5;129;01min\u001b[39;00m \u001b[38;5;28mrange\u001b[39m(\u001b[38;5;28mself\u001b[39m\u001b[38;5;241m.\u001b[39m_shape[\u001b[38;5;241m1\u001b[39m]):\n\u001b[0;32m    143\u001b[0m     \u001b[38;5;28;01mif\u001b[39;00m \u001b[38;5;28mself\u001b[39m\u001b[38;5;241m.\u001b[39m_map[x][y]\u001b[38;5;241m.\u001b[39m_factory_component \u001b[38;5;241m!=\u001b[39m \u001b[38;5;28;01mNone\u001b[39;00m: \n\u001b[1;32m--> 144\u001b[0m         \u001b[38;5;28;43mself\u001b[39;49m\u001b[38;5;241;43m.\u001b[39;49m\u001b[43m_map\u001b[49m\u001b[43m[\u001b[49m\u001b[43mx\u001b[49m\u001b[43m]\u001b[49m\u001b[43m[\u001b[49m\u001b[43my\u001b[49m\u001b[43m]\u001b[49m\u001b[38;5;241;43m.\u001b[39;49m\u001b[43m_factory_component\u001b[49m\u001b[38;5;241;43m.\u001b[39;49m\u001b[43mupdate\u001b[49m\u001b[43m(\u001b[49m\u001b[43m)\u001b[49m\n",
      "File \u001b[1;32mc:\\Users\\Joaquin\\Desktop\\Thesis-Playground\\manenv\\components\\assembler.py:42\u001b[0m, in \u001b[0;36mAssembler.update\u001b[1;34m(self)\u001b[0m\n\u001b[0;32m     39\u001b[0m     eff\u001b[38;5;241m.\u001b[39m_preupdate()\n\u001b[0;32m     41\u001b[0m \u001b[38;5;28;01mfor\u001b[39;00m eff \u001b[38;5;129;01min\u001b[39;00m \u001b[38;5;28mself\u001b[39m\u001b[38;5;241m.\u001b[39m_effectors:\n\u001b[1;32m---> 42\u001b[0m     \u001b[43meff\u001b[49m\u001b[38;5;241;43m.\u001b[39;49m\u001b[43m_update\u001b[49m\u001b[43m(\u001b[49m\u001b[43m)\u001b[49m\n\u001b[0;32m     44\u001b[0m \u001b[38;5;28;01mfor\u001b[39;00m eff \u001b[38;5;129;01min\u001b[39;00m \u001b[38;5;28mself\u001b[39m\u001b[38;5;241m.\u001b[39m_effectors:\n\u001b[0;32m     45\u001b[0m     eff\u001b[38;5;241m.\u001b[39m_postupdate()\n",
      "File \u001b[1;32mc:\\Users\\Joaquin\\Desktop\\Thesis-Playground\\manenv\\effectors\\welder.py:70\u001b[0m, in \u001b[0;36mWelder._update\u001b[1;34m(self)\u001b[0m\n\u001b[0;32m     67\u001b[0m     \u001b[38;5;28mself\u001b[39m\u001b[38;5;241m.\u001b[39m_weld_job_details \u001b[38;5;241m=\u001b[39m job_details\n\u001b[0;32m     69\u001b[0m \u001b[38;5;28;01mcase\u001b[39;00m WelderActions\u001b[38;5;241m.\u001b[39mWELD_EAST\u001b[38;5;241m.\u001b[39mvalue:\n\u001b[1;32m---> 70\u001b[0m     job_details \u001b[38;5;241m=\u001b[39m \u001b[38;5;28;43mself\u001b[39;49m\u001b[38;5;241;43m.\u001b[39;49m\u001b[43m_weld_at_offset\u001b[49m\u001b[43m(\u001b[49m\u001b[38;5;28;43mself\u001b[39;49m\u001b[38;5;241;43m.\u001b[39;49m\u001b[43m_position\u001b[49m\u001b[43m \u001b[49m\u001b[38;5;241;43m+\u001b[39;49m\u001b[43m \u001b[49m\u001b[43mVectorBuiltin\u001b[49m\u001b[38;5;241;43m.\u001b[39;49m\u001b[43mRIGHT\u001b[49m\u001b[43m)\u001b[49m\n\u001b[0;32m     71\u001b[0m     \u001b[38;5;28mself\u001b[39m\u001b[38;5;241m.\u001b[39m_weld_job_details \u001b[38;5;241m=\u001b[39m job_details\n\u001b[0;32m     73\u001b[0m \u001b[38;5;28;01mcase\u001b[39;00m WelderActions\u001b[38;5;241m.\u001b[39mWELD_WEST\u001b[38;5;241m.\u001b[39mvalue:\n",
      "File \u001b[1;32mc:\\Users\\Joaquin\\Desktop\\Thesis-Playground\\manenv\\effectors\\welder.py:99\u001b[0m, in \u001b[0;36mWelder._weld_at_offset\u001b[1;34m(self, offset)\u001b[0m\n\u001b[0;32m     96\u001b[0m \u001b[38;5;28mprint\u001b[39m(t1, t2, p1, p2)\n\u001b[0;32m     98\u001b[0m structure \u001b[38;5;241m=\u001b[39m np\u001b[38;5;241m.\u001b[39mzeros(\u001b[38;5;28mself\u001b[39m\u001b[38;5;241m.\u001b[39m_assembler\u001b[38;5;241m.\u001b[39m_workspace_size)\n\u001b[1;32m---> 99\u001b[0m structure \u001b[38;5;241m=\u001b[39m \u001b[43mplace_structure\u001b[49m\u001b[43m(\u001b[49m\u001b[43mp1\u001b[49m\u001b[38;5;241;43m.\u001b[39;49m\u001b[43m_structure\u001b[49m\u001b[43m,\u001b[49m\u001b[43m \u001b[49m\u001b[43mstructure\u001b[49m\u001b[43m,\u001b[49m\u001b[43m \u001b[49m\u001b[43mt1\u001b[49m\u001b[43m)\u001b[49m\n\u001b[0;32m    100\u001b[0m structure \u001b[38;5;241m=\u001b[39m place_structure(p2\u001b[38;5;241m.\u001b[39m_structure, structure, t2)\n\u001b[0;32m    102\u001b[0m \u001b[38;5;28;01mreturn\u001b[39;00m Product(structure), get_min(t1, t2)\n",
      "File \u001b[1;32mc:\\Users\\Joaquin\\Desktop\\Thesis-Playground\\manenv\\utils\\product_utils.py:51\u001b[0m, in \u001b[0;36mplace_structure\u001b[1;34m(obj, target, pos)\u001b[0m\n\u001b[0;32m     48\u001b[0m     \u001b[38;5;28;01mraise\u001b[39;00m \u001b[38;5;167;01mValueError\u001b[39;00m(\u001b[38;5;124m\"\u001b[39m\u001b[38;5;124mObject does not fit within the target array at the specified position.\u001b[39m\u001b[38;5;124m\"\u001b[39m)\n\u001b[0;32m     50\u001b[0m \u001b[38;5;66;03m# Place the object within the target array\u001b[39;00m\n\u001b[1;32m---> 51\u001b[0m \u001b[43mtarget\u001b[49m\u001b[43m[\u001b[49m\u001b[43mpos_row\u001b[49m\u001b[43m:\u001b[49m\u001b[43mpos_row\u001b[49m\u001b[38;5;241;43m+\u001b[39;49m\u001b[43mobj_height\u001b[49m\u001b[43m,\u001b[49m\u001b[43m \u001b[49m\u001b[43mpos_col\u001b[49m\u001b[43m:\u001b[49m\u001b[43mpos_col\u001b[49m\u001b[38;5;241;43m+\u001b[39;49m\u001b[43mobj_width\u001b[49m\u001b[43m]\u001b[49m \u001b[38;5;241m=\u001b[39m obj\n\u001b[0;32m     53\u001b[0m \u001b[38;5;28;01mreturn\u001b[39;00m target\n",
      "\u001b[1;31mValueError\u001b[0m: could not broadcast input array from shape (2,3) into shape (2,0)"
     ]
    }
   ],
   "source": [
    "parallel_api_test(environment, num_cycles=1_000_000)"
   ]
  },
  {
   "cell_type": "code",
   "execution_count": null,
   "metadata": {},
   "outputs": [
    {
     "ename": "KeyError",
     "evalue": "12",
     "output_type": "error",
     "traceback": [
      "\u001b[1;31m---------------------------------------------------------------------------\u001b[0m",
      "\u001b[1;31mKeyError\u001b[0m                                  Traceback (most recent call last)",
      "Cell \u001b[1;32mIn[8], line 3\u001b[0m\n\u001b[0;32m      1\u001b[0m \u001b[38;5;28;01mfor\u001b[39;00m _ \u001b[38;5;129;01min\u001b[39;00m \u001b[38;5;28mrange\u001b[39m(\u001b[38;5;241m100\u001b[39m):\n\u001b[0;32m      2\u001b[0m     action \u001b[38;5;241m=\u001b[39m environment\u001b[38;5;241m.\u001b[39m_action_space\u001b[38;5;241m.\u001b[39msample()\n\u001b[1;32m----> 3\u001b[0m     \u001b[43menvironment\u001b[49m\u001b[38;5;241;43m.\u001b[39;49m\u001b[43mstep\u001b[49m\u001b[43m(\u001b[49m\u001b[43maction\u001b[49m\u001b[43m)\u001b[49m\n\u001b[0;32m      4\u001b[0m renderer\u001b[38;5;241m.\u001b[39mrender()\n",
      "File \u001b[1;32mc:\\Users\\Joaquin\\Desktop\\Thesis-Playground\\manenv\\gym_wrapper.py:50\u001b[0m, in \u001b[0;36mMARLFactoryEnvironment.step\u001b[1;34m(self, actions)\u001b[0m\n\u001b[0;32m     45\u001b[0m \u001b[38;5;250m\u001b[39m\u001b[38;5;124;03m\"\"\"\u001b[39;00m\n\u001b[0;32m     46\u001b[0m \u001b[38;5;124;03mObservations are obtained per actor\u001b[39;00m\n\u001b[0;32m     47\u001b[0m \u001b[38;5;124;03m\"\"\"\u001b[39;00m\n\u001b[0;32m     48\u001b[0m observations \u001b[38;5;241m=\u001b[39m \u001b[38;5;28mself\u001b[39m\u001b[38;5;241m.\u001b[39mget_observation()\n\u001b[1;32m---> 50\u001b[0m \u001b[38;5;28;01mreturn\u001b[39;00m observations, \u001b[38;5;28;43mself\u001b[39;49m\u001b[38;5;241;43m.\u001b[39;49m\u001b[43m_world\u001b[49m\u001b[38;5;241;43m.\u001b[39;49m\u001b[43m_monitor\u001b[49m\u001b[38;5;241;43m.\u001b[39;49m\u001b[43mobserve\u001b[49m\u001b[43m(\u001b[49m\u001b[43m)\u001b[49m, \u001b[38;5;28;01mFalse\u001b[39;00m, \u001b[38;5;28;01mFalse\u001b[39;00m, \u001b[38;5;28;01mNone\u001b[39;00m\n",
      "File \u001b[1;32mc:\\Users\\Joaquin\\Desktop\\Thesis-Playground\\manenv\\core\\monitor.py:83\u001b[0m, in \u001b[0;36mDefaultFactoryMonitor.observe\u001b[1;34m(self)\u001b[0m\n\u001b[0;32m     81\u001b[0m \u001b[38;5;28;01mfor\u001b[39;00m assembler \u001b[38;5;129;01min\u001b[39;00m \u001b[38;5;28mself\u001b[39m\u001b[38;5;241m.\u001b[39m_world\u001b[38;5;241m.\u001b[39mget_all_assemblers():\n\u001b[0;32m     82\u001b[0m     \u001b[38;5;28mid\u001b[39m \u001b[38;5;241m=\u001b[39m assembler\u001b[38;5;241m.\u001b[39m_id\n\u001b[1;32m---> 83\u001b[0m     throughput[\u001b[38;5;28mid\u001b[39m] \u001b[38;5;241m=\u001b[39m \u001b[38;5;28;43mself\u001b[39;49m\u001b[38;5;241;43m.\u001b[39;49m\u001b[43m_process_assembler_throughput\u001b[49m\u001b[43m(\u001b[49m\u001b[43massembler\u001b[49m\u001b[43m)\u001b[49m\n\u001b[0;32m     84\u001b[0m     utilization[\u001b[38;5;28mid\u001b[39m] \u001b[38;5;241m=\u001b[39m \u001b[38;5;28mself\u001b[39m\u001b[38;5;241m.\u001b[39m_process_assembler_utilization(assembler)\n\u001b[0;32m     85\u001b[0m     inventory[\u001b[38;5;28mid\u001b[39m] \u001b[38;5;241m=\u001b[39m \u001b[38;5;28mself\u001b[39m\u001b[38;5;241m.\u001b[39m_process_assembler_inventory_cost(assembler)\n",
      "File \u001b[1;32mc:\\Users\\Joaquin\\Desktop\\Thesis-Playground\\manenv\\core\\monitor.py:114\u001b[0m, in \u001b[0;36mDefaultFactoryMonitor._process_assembler_throughput\u001b[1;34m(self, assembler)\u001b[0m\n\u001b[0;32m    109\u001b[0m \u001b[38;5;250m\u001b[39m\u001b[38;5;124;03m\"\"\"\u001b[39;00m\n\u001b[0;32m    110\u001b[0m \u001b[38;5;124;03mThroughput is defined as the number of outputs per time unit.\u001b[39;00m\n\u001b[0;32m    111\u001b[0m \u001b[38;5;124;03m\"\"\"\u001b[39;00m\n\u001b[0;32m    112\u001b[0m products \u001b[38;5;241m=\u001b[39m assembler\u001b[38;5;241m.\u001b[39m_product_outputs\n\u001b[1;32m--> 114\u001b[0m \u001b[38;5;28;01mreturn\u001b[39;00m \u001b[38;5;28mmax\u001b[39m(\u001b[38;5;241m0\u001b[39m, \u001b[38;5;28mlen\u001b[39m(products) \u001b[38;5;241m-\u001b[39m \u001b[38;5;28;43mself\u001b[39;49m\u001b[38;5;241;43m.\u001b[39;49m\u001b[43m_state\u001b[49m\u001b[38;5;241;43m.\u001b[39;49m\u001b[43massembler_output_buffer\u001b[49m\u001b[43m[\u001b[49m\u001b[43massembler\u001b[49m\u001b[38;5;241;43m.\u001b[39;49m\u001b[43m_id\u001b[49m\u001b[43m]\u001b[49m)\n",
      "\u001b[1;31mKeyError\u001b[0m: 12"
     ]
    }
   ],
   "source": [
    "for _ in range(100):\n",
    "    action = environment._action_space.sample()\n",
    "    environment.step(action)\n",
    "renderer.render()"
   ]
  },
  {
   "cell_type": "code",
   "execution_count": null,
   "metadata": {},
   "outputs": [],
   "source": []
  }
 ],
 "metadata": {
  "kernelspec": {
   "display_name": "thesis",
   "language": "python",
   "name": "python3"
  },
  "language_info": {
   "codemirror_mode": {
    "name": "ipython",
    "version": 3
   },
   "file_extension": ".py",
   "mimetype": "text/x-python",
   "name": "python",
   "nbconvert_exporter": "python",
   "pygments_lexer": "ipython3",
   "version": "3.11.9"
  }
 },
 "nbformat": 4,
 "nbformat_minor": 2
}
