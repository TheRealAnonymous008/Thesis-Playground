{
 "cells": [
  {
   "cell_type": "code",
   "execution_count": 2,
   "metadata": {},
   "outputs": [
    {
     "name": "stdout",
     "output_type": "stream",
     "text": [
      "The autoreload extension is already loaded. To reload it, use:\n",
      "  %reload_ext autoreload\n"
     ]
    },
    {
     "ename": "ModuleNotFoundError",
     "evalue": "No module named 'pygame_gui'",
     "output_type": "error",
     "traceback": [
      "\u001b[1;31m---------------------------------------------------------------------------\u001b[0m",
      "\u001b[1;31mModuleNotFoundError\u001b[0m                       Traceback (most recent call last)",
      "Cell \u001b[1;32mIn[2], line 7\u001b[0m\n\u001b[0;32m      5\u001b[0m \u001b[38;5;28;01mfrom\u001b[39;00m \u001b[38;5;21;01mmanenv\u001b[39;00m\u001b[38;5;21;01m.\u001b[39;00m\u001b[38;5;21;01mworld\u001b[39;00m \u001b[38;5;28;01mimport\u001b[39;00m World\n\u001b[0;32m      6\u001b[0m \u001b[38;5;28;01mfrom\u001b[39;00m \u001b[38;5;21;01mmanenv\u001b[39;00m\u001b[38;5;21;01m.\u001b[39;00m\u001b[38;5;21;01mcomponent\u001b[39;00m \u001b[38;5;28;01mimport\u001b[39;00m \u001b[38;5;241m*\u001b[39m\n\u001b[1;32m----> 7\u001b[0m \u001b[38;5;28;01mfrom\u001b[39;00m \u001b[38;5;21;01mmanenv\u001b[39;00m\u001b[38;5;21;01m.\u001b[39;00m\u001b[38;5;21;01mrender_wrapper\u001b[39;00m \u001b[38;5;28;01mimport\u001b[39;00m RenderWrapper\n\u001b[0;32m      8\u001b[0m \u001b[38;5;28;01mfrom\u001b[39;00m \u001b[38;5;21;01mmanenv\u001b[39;00m\u001b[38;5;21;01m.\u001b[39;00m\u001b[38;5;21;01mproduct\u001b[39;00m \u001b[38;5;28;01mimport\u001b[39;00m \u001b[38;5;241m*\u001b[39m\n\u001b[0;32m      9\u001b[0m \u001b[38;5;28;01mfrom\u001b[39;00m \u001b[38;5;21;01mmanenv\u001b[39;00m\u001b[38;5;21;01m.\u001b[39;00m\u001b[38;5;21;01meffector\u001b[39;00m \u001b[38;5;28;01mimport\u001b[39;00m \u001b[38;5;241m*\u001b[39m\n",
      "File \u001b[1;32mc:\\Users\\JOAQUIN DELA ROSA\\OneDrive\\Desktop\\LaSalle\\Thesis\\Thesis-Playground\\manenv\\render_wrapper.py:3\u001b[0m\n\u001b[0;32m      1\u001b[0m \u001b[38;5;28;01mimport\u001b[39;00m \u001b[38;5;21;01mnumpy\u001b[39;00m \u001b[38;5;28;01mas\u001b[39;00m \u001b[38;5;21;01mnp\u001b[39;00m \n\u001b[0;32m      2\u001b[0m \u001b[38;5;28;01mimport\u001b[39;00m \u001b[38;5;21;01mpygame\u001b[39;00m \u001b[38;5;28;01mas\u001b[39;00m \u001b[38;5;21;01mpg\u001b[39;00m \n\u001b[1;32m----> 3\u001b[0m \u001b[38;5;28;01mimport\u001b[39;00m \u001b[38;5;21;01mpygame_gui\u001b[39;00m \u001b[38;5;28;01mas\u001b[39;00m \u001b[38;5;21;01mgui\u001b[39;00m\n\u001b[0;32m      5\u001b[0m \u001b[38;5;28;01mfrom\u001b[39;00m \u001b[38;5;21;01mtyping\u001b[39;00m \u001b[38;5;28;01mimport\u001b[39;00m Tuple\n\u001b[0;32m      7\u001b[0m \u001b[38;5;28;01mfrom\u001b[39;00m \u001b[38;5;21;01mmanenv\u001b[39;00m\u001b[38;5;21;01m.\u001b[39;00m\u001b[38;5;21;01mcomponents\u001b[39;00m \u001b[38;5;28;01mimport\u001b[39;00m \u001b[38;5;241m*\u001b[39m\n",
      "\u001b[1;31mModuleNotFoundError\u001b[0m: No module named 'pygame_gui'"
     ]
    }
   ],
   "source": [
    "%load_ext autoreload\n",
    "%autoreload 2\n",
    "import manenv\n",
    "from manenv.product_utils import *\n",
    "from manenv.world import World\n",
    "from manenv.component import *\n",
    "from manenv.render_wrapper import RenderWrapper\n",
    "from manenv.product import *\n",
    "from manenv.effector import *\n",
    "\n",
    "import manenv.effectors as eff\n",
    "import manenv.components as cmp"
   ]
  },
  {
   "cell_type": "code",
   "execution_count": null,
   "metadata": {},
   "outputs": [],
   "source": [
    "world = World((3, 3))\n",
    "s = np.zeros((5, 5), dtype=np.int8)\n",
    "s[1][2] = 2\n",
    "s[1][1] = 2\n",
    "s[2][1] = 1\n",
    "s[3][1] = 1\n",
    "product = Product(s)\n",
    "world.place_component(make_vector(1, 2), cmp.Spawner(product))\n",
    "world.place_component(make_vector(1, 1), cmp.Conveyor(\n",
    "    np.array([\n",
    "    [1, 0, 0],\n",
    "    [1, 0, -1],\n",
    "    [1, 0, 0]\n",
    "])))\n",
    "\n",
    "grabber = eff.Grabber(make_vector(0, 0))\n",
    "buddy = eff.Grabber(make_vector(1, 3))\n",
    "welder = eff.Welder(make_vector(1, 4))\n",
    "discard = eff.Acceptor(make_vector(1, 7))\n",
    "\n",
    "assembler = cmp.Assembler(make_vector(10, 10), [grabber, buddy, welder, discard])\n",
    "world.place_component(make_vector(1, 0), assembler)\n",
    "wrapper = RenderWrapper(world)"
   ]
  },
  {
   "cell_type": "code",
   "execution_count": null,
   "metadata": {},
   "outputs": [],
   "source": [
    "assembler.place_in_inventory(product.copy())\n",
    "world.update()\n",
    "\n",
    "grabber.set_action(eff.GrabberActions.GRAB_INVENTORY)\n",
    "world.update()\n",
    "\n",
    "grabber.set_action(eff.GrabberActions.RELEASE)\n",
    "world.update()\n",
    "\n",
    "grabber.set_action(eff.GrabberActions.GRAB)\n",
    "world.update()\n",
    "\n",
    "grabber.set_action(eff.GrabberActions.MOVE_RIGHT)\n",
    "world.update()\n",
    "\n",
    "grabber.set_action(eff.GrabberActions.MOVE_RIGHT)\n",
    "world.update()\n",
    "\n",
    "grabber.set_action(eff.GrabberActions.MOVE_RIGHT)\n",
    "world.update()\n",
    "\n",
    "grabber.set_action(eff.GrabberActions.ROTATE_CCW)\n",
    "world.update()\n",
    "\n",
    "grabber.set_action(eff.GrabberActions.RELEASE)\n",
    "world.update()\n",
    "\n",
    "grabber.set_action(eff.GrabberActions.GRAB)\n",
    "buddy.set_action(eff.GrabberActions.GRAB)\n",
    "world.update()\n",
    "\n",
    "buddy.set_action(eff.GrabberActions.MOVE_LEFT)\n",
    "grabber.set_action(eff.GrabberActions.MOVE_RIGHT)\n",
    "world.update()\n",
    "\n",
    "buddy.set_action(eff.GrabberActions.RELEASE)\n",
    "world.update()\n",
    "\n",
    "grabber.set_action(eff.GrabberActions.MOVE_RIGHT)\n",
    "world.update()\n",
    "\n",
    "grabber.set_action(eff.GrabberActions.MOVE_RIGHT)\n",
    "world.update()\n",
    "\n",
    "grabber.set_action(eff.GrabberActions.MOVE_FORWARD)\n",
    "world.update()\n",
    "\n",
    "grabber.set_action(eff.GrabberActions.RELEASE)\n",
    "world.update()"
   ]
  },
  {
   "cell_type": "code",
   "execution_count": null,
   "metadata": {},
   "outputs": [],
   "source": [
    "wrapper.render(update_mode=True)"
   ]
  },
  {
   "cell_type": "code",
   "execution_count": null,
   "metadata": {},
   "outputs": [],
   "source": []
  }
 ],
 "metadata": {
  "kernelspec": {
   "display_name": "thesis",
   "language": "python",
   "name": "python3"
  },
  "language_info": {
   "codemirror_mode": {
    "name": "ipython",
    "version": 3
   },
   "file_extension": ".py",
   "mimetype": "text/x-python",
   "name": "python",
   "nbconvert_exporter": "python",
   "pygments_lexer": "ipython3",
   "version": "3.12.3"
  }
 },
 "nbformat": 4,
 "nbformat_minor": 2
}
