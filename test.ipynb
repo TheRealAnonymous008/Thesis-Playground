{
 "cells": [
  {
   "cell_type": "code",
   "execution_count": 1,
   "metadata": {},
   "outputs": [
    {
     "name": "stdout",
     "output_type": "stream",
     "text": [
      "pygame 2.5.2 (SDL 2.28.3, Python 3.12.2)\n",
      "Hello from the pygame community. https://www.pygame.org/contribute.html\n"
     ]
    }
   ],
   "source": [
    "%load_ext autoreload\n",
    "%autoreload 2\n",
    "import manenv\n",
    "from manenv.utils import *\n",
    "from manenv.world import World\n",
    "from manenv.component import *\n",
    "from manenv.render_wrapper import RenderWrapper\n",
    "from manenv.product import *"
   ]
  },
  {
   "cell_type": "code",
   "execution_count": 2,
   "metadata": {},
   "outputs": [],
   "source": [
    "world = World((6, 6))\n",
    "world.place_component(make_vector(1, 1), Spawner(world))\n",
    "\n",
    "s = np.zeros((5, 5), dtype=np.int8)\n",
    "s[1][2] = 1\n",
    "s[2][3] = 3\n",
    "product = Product(s)\n",
    "world.place_product(make_vector(2, 2), product)\n",
    "\n",
    "\n",
    "wrapper = RenderWrapper(world)\n",
    "wrapper.render()"
   ]
  },
  {
   "cell_type": "code",
   "execution_count": null,
   "metadata": {},
   "outputs": [],
   "source": []
  }
 ],
 "metadata": {
  "kernelspec": {
   "display_name": "thesis",
   "language": "python",
   "name": "python3"
  },
  "language_info": {
   "codemirror_mode": {
    "name": "ipython",
    "version": 3
   },
   "file_extension": ".py",
   "mimetype": "text/x-python",
   "name": "python",
   "nbconvert_exporter": "python",
   "pygments_lexer": "ipython3",
   "version": "3.12.2"
  }
 },
 "nbformat": 4,
 "nbformat_minor": 2
}
