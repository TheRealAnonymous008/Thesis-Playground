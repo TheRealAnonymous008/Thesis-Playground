{
 "cells": [
  {
   "cell_type": "code",
   "execution_count": 6,
   "metadata": {},
   "outputs": [
    {
     "name": "stdout",
     "output_type": "stream",
     "text": [
      "The autoreload extension is already loaded. To reload it, use:\n",
      "  %reload_ext autoreload\n"
     ]
    }
   ],
   "source": [
    "%load_ext autoreload\n",
    "%autoreload 2\n",
    "import manenv\n",
    "from manenv.utils.product_utils import *\n",
    "from manenv.core.world import World\n",
    "from manenv.core.component import *\n",
    "from manenv.render_wrapper import RenderWrapper\n",
    "from manenv.core.product import *\n",
    "from manenv.core.effector import *\n",
    "\n",
    "import manenv.effectors as eff\n",
    "import manenv.components as cmp\n"
   ]
  },
  {
   "cell_type": "code",
   "execution_count": 7,
   "metadata": {},
   "outputs": [],
   "source": [
    "world = World((3, 3))\n",
    "s = np.zeros((5, 5), dtype=np.int8)\n",
    "s[1][2] = 2\n",
    "s[1][1] = 2\n",
    "s[2][1] = 1\n",
    "s[3][1] = 1\n",
    "product = Product(s)\n",
    "world.place_component(make_vector(1, 1), cmp.Conveyor(\n",
    "    np.array([\n",
    "    [0, 0, 0],\n",
    "    [1, 0, -1],\n",
    "    [0, 0, 0]\n",
    "])))\n",
    "world.place_component(make_vector(2, 0), cmp.Conveyor(\n",
    "    np.array([\n",
    "    [0, -1, 0],\n",
    "    [0, 0, 1],\n",
    "    [0, 0, 0] \n",
    "])))\n",
    "world.place_component(make_vector(2, 1), cmp.Outport())\n",
    "\n",
    "grabber = eff.Grabber(make_vector(0, 2))\n",
    "buddy = eff.Grabber(make_vector(1, 3))\n",
    "welder = eff.Welder(make_vector(1, 2))\n",
    "discard = eff.Acceptor(make_vector(1, 7))\n",
    "\n",
    "world.place_component(make_vector(1, 2), cmp.Spawner(product))\n",
    "assembler = cmp.Assembler(make_vector(10, 10), [grabber, buddy, welder, discard])\n",
    "world.place_component(make_vector(1, 0), assembler)\n",
    "wrapper = RenderWrapper(world)"
   ]
  },
  {
   "cell_type": "code",
   "execution_count": 8,
   "metadata": {},
   "outputs": [
    {
     "name": "stdout",
     "output_type": "stream",
     "text": [
      "id: 1133405071\n",
      "[[2 2]\n",
      " [1 0]\n",
      " [1 0]]\n"
     ]
    }
   ],
   "source": [
    "world.reset()\n",
    "assembler.place_in_inventory(product.copy())\n",
    "assembler.place_in_inventory(product.copy())\n",
    "world.update()\n",
    "\n",
    "grabber.set_action(eff.GrabberActions.GRAB_INVENTORY)\n",
    "grabber.set_action(eff.GrabberActions.GRAB_INVENTORY)\n",
    "buddy.set_action(eff.GrabberActions.GRAB_INVENTORY)\n",
    "world.update()\n",
    "\n",
    "print(grabber._grabbed_product)\n",
    "\n",
    "grabber.set_action(eff.GrabberActions.RELEASE)\n",
    "buddy.set_action(eff.GrabberActions.RELEASE)\n",
    "world.update()\n",
    "\n",
    "welder.set_action(eff.WelderActions.WELD_EAST)\n",
    "world.update()\n",
    "world.update()\n",
    "\n",
    "grabber.set_action(eff.GrabberActions.GRAB)\n",
    "world.update()\n",
    "\n",
    "grabber.set_action(eff.GrabberActions.MOVE_RIGHT)\n",
    "world.update()\n",
    "\n",
    "grabber.set_action(eff.GrabberActions.MOVE_RIGHT)\n",
    "world.update()\n",
    "\n",
    "grabber.set_action(eff.GrabberActions.MOVE_RIGHT)\n",
    "world.update()\n",
    "\n",
    "grabber.set_action(eff.GrabberActions.MOVE_RIGHT)\n",
    "world.update()\n"
   ]
  },
  {
   "cell_type": "code",
   "execution_count": 9,
   "metadata": {},
   "outputs": [
    {
     "name": "stdout",
     "output_type": "stream",
     "text": [
      "[<manenv.effectors.grabber.Grabber object at 0x000001C87FEECFB0>, <manenv.effectors.grabber.Grabber object at 0x000001C87FEECEF0>, <manenv.effectors.welder.Welder object at 0x000001C87FEECE90>, <manenv.effectors.acceptor.Acceptor object at 0x000001C87FEED010>]\n"
     ]
    }
   ],
   "source": [
    "print(world.get_all_effectors())"
   ]
  },
  {
   "cell_type": "code",
   "execution_count": 24,
   "metadata": {},
   "outputs": [],
   "source": [
    "wrapper.render(update_mode=True)"
   ]
  },
  {
   "cell_type": "markdown",
   "metadata": {},
   "source": [
    "# Gym Environment Test"
   ]
  },
  {
   "cell_type": "code",
   "execution_count": 10,
   "metadata": {},
   "outputs": [],
   "source": [
    "from manenv.gym_wrapper import MARLFactoryEnvironment"
   ]
  },
  {
   "cell_type": "code",
   "execution_count": 16,
   "metadata": {},
   "outputs": [
    {
     "name": "stdout",
     "output_type": "stream",
     "text": [
      "OrderedDict({0: 9, 1: 8, 2: 3, 3: 0})\n"
     ]
    }
   ],
   "source": [
    "environment = MARLFactoryEnvironment(world)\n",
    "action = environment.action_space.sample()\n",
    "print(action)"
   ]
  },
  {
   "cell_type": "code",
   "execution_count": 17,
   "metadata": {},
   "outputs": [
    {
     "ename": "NotImplementedError",
     "evalue": "",
     "output_type": "error",
     "traceback": [
      "\u001b[1;31m---------------------------------------------------------------------------\u001b[0m",
      "\u001b[1;31mNotImplementedError\u001b[0m                       Traceback (most recent call last)",
      "Cell \u001b[1;32mIn[17], line 1\u001b[0m\n\u001b[1;32m----> 1\u001b[0m \u001b[43menvironment\u001b[49m\u001b[38;5;241;43m.\u001b[39;49m\u001b[43mstep\u001b[49m\u001b[43m(\u001b[49m\u001b[43maction\u001b[49m\u001b[43m)\u001b[49m\n",
      "File \u001b[1;32mc:\\Users\\Joaquin\\Desktop\\Thesis-Playground\\manenv\\gym_wrapper.py:37\u001b[0m, in \u001b[0;36mstep\u001b[1;34m(self, action)\u001b[0m\n\u001b[0;32m     36\u001b[0m \u001b[38;5;28;01mdef\u001b[39;00m \u001b[38;5;21mstep\u001b[39m(\u001b[38;5;28mself\u001b[39m, actions: Dict[\u001b[38;5;28mint\u001b[39m, \u001b[38;5;28mint\u001b[39m]) \u001b[38;5;241m-\u001b[39m\u001b[38;5;241m>\u001b[39m \u001b[38;5;28mtuple\u001b[39m[Any, SupportsFloat, \u001b[38;5;28mbool\u001b[39m, \u001b[38;5;28mbool\u001b[39m, \u001b[38;5;28mdict\u001b[39m[\u001b[38;5;28mstr\u001b[39m, Any]]:\n\u001b[1;32m---> 37\u001b[0m \u001b[38;5;250m    \u001b[39m\u001b[38;5;124;03m\"\"\"\u001b[39;00m\n\u001b[0;32m     38\u001b[0m \u001b[38;5;124;03m    Actions are expected to align with the actor_space specified\u001b[39;00m\n\u001b[0;32m     39\u001b[0m \u001b[38;5;124;03m    \"\"\"\u001b[39;00m\n\u001b[0;32m     40\u001b[0m     \u001b[38;5;28;01mfor\u001b[39;00m (actor, action) \u001b[38;5;129;01min\u001b[39;00m actions:\n\u001b[0;32m     41\u001b[0m         \u001b[38;5;28mself\u001b[39m\u001b[38;5;241m.\u001b[39mactor_space[actor]\u001b[38;5;241m.\u001b[39mset_action(action)\n",
      "File \u001b[1;32mc:\\Users\\Joaquin\\miniconda3\\envs\\thesis\\Lib\\site-packages\\gymnasium\\core.py:119\u001b[0m, in \u001b[0;36mEnv.step\u001b[1;34m(self, action)\u001b[0m\n\u001b[0;32m     81\u001b[0m \u001b[38;5;28;01mdef\u001b[39;00m \u001b[38;5;21mstep\u001b[39m(\n\u001b[0;32m     82\u001b[0m     \u001b[38;5;28mself\u001b[39m, action: ActType\n\u001b[0;32m     83\u001b[0m ) \u001b[38;5;241m-\u001b[39m\u001b[38;5;241m>\u001b[39m \u001b[38;5;28mtuple\u001b[39m[ObsType, SupportsFloat, \u001b[38;5;28mbool\u001b[39m, \u001b[38;5;28mbool\u001b[39m, \u001b[38;5;28mdict\u001b[39m[\u001b[38;5;28mstr\u001b[39m, Any]]:\n\u001b[0;32m     84\u001b[0m \u001b[38;5;250m    \u001b[39m\u001b[38;5;124;03m\"\"\"Run one timestep of the environment's dynamics using the agent actions.\u001b[39;00m\n\u001b[0;32m     85\u001b[0m \n\u001b[0;32m     86\u001b[0m \u001b[38;5;124;03m    When the end of an episode is reached (``terminated or truncated``), it is necessary to call :meth:`reset` to\u001b[39;00m\n\u001b[1;32m   (...)\u001b[0m\n\u001b[0;32m    117\u001b[0m \u001b[38;5;124;03m            a certain timelimit was exceeded, or the physics simulation has entered an invalid state.\u001b[39;00m\n\u001b[0;32m    118\u001b[0m \u001b[38;5;124;03m    \"\"\"\u001b[39;00m\n\u001b[1;32m--> 119\u001b[0m     \u001b[38;5;28;01mraise\u001b[39;00m \u001b[38;5;167;01mNotImplementedError\u001b[39;00m\n",
      "\u001b[1;31mNotImplementedError\u001b[0m: "
     ]
    }
   ],
   "source": [
    "environment.step(action)"
   ]
  },
  {
   "cell_type": "markdown",
   "metadata": {},
   "source": []
  }
 ],
 "metadata": {
  "kernelspec": {
   "display_name": "thesis",
   "language": "python",
   "name": "python3"
  },
  "language_info": {
   "codemirror_mode": {
    "name": "ipython",
    "version": 3
   },
   "file_extension": ".py",
   "mimetype": "text/x-python",
   "name": "python",
   "nbconvert_exporter": "python",
   "pygments_lexer": "ipython3",
   "version": "3.12.3"
  }
 },
 "nbformat": 4,
 "nbformat_minor": 2
}
