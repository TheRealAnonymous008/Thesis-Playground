{
 "cells": [
  {
   "cell_type": "code",
   "execution_count": 1,
   "metadata": {},
   "outputs": [
    {
     "name": "stdout",
     "output_type": "stream",
     "text": [
      "pygame-ce 2.4.1 (SDL 2.28.5, Python 3.12.3)\n"
     ]
    }
   ],
   "source": [
    "%load_ext autoreload\n",
    "%autoreload 2\n",
    "import manenv\n",
    "from manenv.utils.product_utils import *\n",
    "from manenv.core.world import World\n",
    "from manenv.core.component import *\n",
    "from manenv.render_wrapper import RenderWrapper\n",
    "from manenv.core.product import *\n",
    "from manenv.core.effector import *\n",
    "\n",
    "import manenv.effectors as eff\n",
    "import manenv.components as cmp\n"
   ]
  },
  {
   "cell_type": "code",
   "execution_count": null,
   "metadata": {},
   "outputs": [
    {
     "ename": "",
     "evalue": "",
     "output_type": "error",
     "traceback": [
      "\u001b[1;31mRunning cells with 'thesis (Python 3.12.3)' requires the ipykernel package.\n",
      "\u001b[1;31mRun the following command to install 'ipykernel' into the Python environment. \n",
      "\u001b[1;31mCommand: 'conda install -n thesis ipykernel --update-deps --force-reinstall'"
     ]
    }
   ],
   "source": [
    "world = World((3, 3))\n",
    "s = np.zeros((5, 5), dtype=np.int8)\n",
    "s[1][2] = 2\n",
    "s[1][1] = 2\n",
    "s[2][1] = 1\n",
    "s[3][1] = 1\n",
    "product = Product(s)\n",
    "world.place_component(make_vector(1, 1), cmp.Conveyor(\n",
    "    np.array([\n",
    "    [0, 0, 0],\n",
    "    [1, 0, -1],\n",
    "    [0, 0, 0]\n",
    "])))\n",
    "world.place_component(make_vector(2, 0), cmp.Conveyor(\n",
    "    np.array([\n",
    "    [0, -1, 0],\n",
    "    [0, 0, 1],\n",
    "    [0, 0, 0] \n",
    "])))\n",
    "world.place_component(make_vector(2, 1), cmp.Outport())\n",
    "\n",
    "grabber = eff.Grabber(make_vector(0, 2))\n",
    "buddy = eff.Grabber(make_vector(1, 3))\n",
    "welder = eff.Welder(make_vector(1, 2))\n",
    "discard = eff.Acceptor(make_vector(1, 7))\n",
    "\n",
    "world.place_component(make_vector(1, 2), cmp.Spawner(product))\n",
    "assembler = cmp.Assembler(make_vector(10, 10), [grabber, buddy, welder, discard])\n",
    "world.place_component(make_vector(1, 0), assembler)\n",
    "wrapper = RenderWrapper(world)"
   ]
  },
  {
   "cell_type": "code",
   "execution_count": null,
   "metadata": {},
   "outputs": [
    {
     "name": "stdout",
     "output_type": "stream",
     "text": [
      "id: 2082465214\n",
      "[[2 2]\n",
      " [1 0]\n",
      " [1 0]]\n"
     ]
    }
   ],
   "source": [
    "world.reset()\n",
    "assembler.place_in_inventory(product.copy())\n",
    "assembler.place_in_inventory(product.copy())\n",
    "world.update()\n",
    "\n",
    "grabber.set_action(eff.GrabberActions.GRAB_INVENTORY)\n",
    "grabber.set_action(eff.GrabberActions.GRAB_INVENTORY)\n",
    "buddy.set_action(eff.GrabberActions.GRAB_INVENTORY)\n",
    "world.update()\n",
    "\n",
    "print(grabber._grabbed_product)\n",
    "\n",
    "grabber.set_action(eff.GrabberActions.RELEASE)\n",
    "buddy.set_action(eff.GrabberActions.RELEASE)\n",
    "world.update()\n",
    "\n",
    "welder.set_action(eff.WelderActions.WELD_EAST)\n",
    "world.update()\n",
    "world.update()\n",
    "\n",
    "grabber.set_action(eff.GrabberActions.GRAB)\n",
    "world.update()\n",
    "\n",
    "grabber.set_action(eff.GrabberActions.MOVE_RIGHT)\n",
    "world.update()\n",
    "\n",
    "grabber.set_action(eff.GrabberActions.MOVE_RIGHT)\n",
    "world.update()\n",
    "\n",
    "grabber.set_action(eff.GrabberActions.MOVE_RIGHT)\n",
    "world.update()\n",
    "\n",
    "grabber.set_action(eff.GrabberActions.MOVE_RIGHT)\n",
    "world.update()\n"
   ]
  },
  {
   "cell_type": "code",
   "execution_count": null,
   "metadata": {},
   "outputs": [
    {
     "ename": "TypeError",
     "evalue": "UIPanel.__init__() missing 1 required positional argument: 'starting_layer_height'",
     "output_type": "error",
     "traceback": [
      "\u001b[1;31m---------------------------------------------------------------------------\u001b[0m",
      "\u001b[1;31mTypeError\u001b[0m                                 Traceback (most recent call last)",
      "Cell \u001b[1;32mIn[4], line 1\u001b[0m\n\u001b[1;32m----> 1\u001b[0m \u001b[43mwrapper\u001b[49m\u001b[38;5;241;43m.\u001b[39;49m\u001b[43mrender\u001b[49m\u001b[43m(\u001b[49m\u001b[43mupdate_mode\u001b[49m\u001b[38;5;241;43m=\u001b[39;49m\u001b[38;5;28;43;01mTrue\u001b[39;49;00m\u001b[43m)\u001b[49m\n",
      "File \u001b[1;32mc:\\Users\\Joaquin\\Desktop\\Thesis-Playground\\manenv\\render_wrapper.py:151\u001b[0m, in \u001b[0;36mRenderWrapper.render\u001b[1;34m(self, update_mode)\u001b[0m\n\u001b[0;32m    148\u001b[0m clock \u001b[38;5;241m=\u001b[39m pg\u001b[38;5;241m.\u001b[39mtime\u001b[38;5;241m.\u001b[39mClock()\n\u001b[0;32m    150\u001b[0m \u001b[38;5;66;03m# UI elements\u001b[39;00m\n\u001b[1;32m--> 151\u001b[0m product_window \u001b[38;5;241m=\u001b[39m \u001b[43mProductDisplayWindow\u001b[49m\u001b[43m(\u001b[49m\u001b[38;5;28;43mself\u001b[39;49m\u001b[38;5;241;43m.\u001b[39;49m\u001b[43mdisplay_dims\u001b[49m\u001b[43m,\u001b[49m\u001b[43m \u001b[49m\u001b[43mui_manager\u001b[49m\u001b[43m)\u001b[49m\n\u001b[0;32m    152\u001b[0m assembler_window \u001b[38;5;241m=\u001b[39m AssemblerDisplayWindow(\u001b[38;5;28mself\u001b[39m\u001b[38;5;241m.\u001b[39mdisplay_dims, ui_manager)\n\u001b[0;32m    154\u001b[0m \u001b[38;5;28mself\u001b[39m\u001b[38;5;241m.\u001b[39mis_running \u001b[38;5;241m=\u001b[39m \u001b[38;5;28;01mTrue\u001b[39;00m \n",
      "File \u001b[1;32mc:\\Users\\Joaquin\\Desktop\\Thesis-Playground\\manenv\\render_wrapper.py:26\u001b[0m, in \u001b[0;36mProductDisplayWindow.__init__\u001b[1;34m(self, display_dims, manager)\u001b[0m\n\u001b[0;32m     23\u001b[0m \u001b[38;5;28mself\u001b[39m\u001b[38;5;241m.\u001b[39m_window_size : Tuple \u001b[38;5;241m=\u001b[39m (UI_WIDTH, UI_WIDTH)\n\u001b[0;32m     24\u001b[0m \u001b[38;5;28mself\u001b[39m\u001b[38;5;241m.\u001b[39m_product_surface \u001b[38;5;241m=\u001b[39m pg\u001b[38;5;241m.\u001b[39mSurface(\u001b[38;5;28mself\u001b[39m\u001b[38;5;241m.\u001b[39m_window_size)\n\u001b[1;32m---> 26\u001b[0m \u001b[38;5;28;43msuper\u001b[39;49m\u001b[43m(\u001b[49m\u001b[43m)\u001b[49m\u001b[38;5;241;43m.\u001b[39;49m\u001b[38;5;21;43m__init__\u001b[39;49m\u001b[43m(\u001b[49m\n\u001b[0;32m     27\u001b[0m \u001b[43m    \u001b[49m\u001b[43mrelative_rect\u001b[49m\u001b[43m \u001b[49m\u001b[38;5;241;43m=\u001b[39;49m\u001b[43m \u001b[49m\u001b[43mpg\u001b[49m\u001b[38;5;241;43m.\u001b[39;49m\u001b[43mRect\u001b[49m\u001b[43m(\u001b[49m\u001b[43mdisplay_dims\u001b[49m\u001b[43m[\u001b[49m\u001b[38;5;241;43m0\u001b[39;49m\u001b[43m]\u001b[49m\u001b[43m \u001b[49m\u001b[38;5;241;43m-\u001b[39;49m\u001b[43m \u001b[49m\u001b[38;5;28;43mself\u001b[39;49m\u001b[38;5;241;43m.\u001b[39;49m\u001b[43m_window_size\u001b[49m\u001b[43m[\u001b[49m\u001b[38;5;241;43m0\u001b[39;49m\u001b[43m]\u001b[49m\u001b[43m,\u001b[49m\u001b[43m \u001b[49m\u001b[38;5;241;43m0\u001b[39;49m\u001b[43m,\u001b[49m\u001b[43m \u001b[49m\u001b[38;5;28;43mself\u001b[39;49m\u001b[38;5;241;43m.\u001b[39;49m\u001b[43m_window_size\u001b[49m\u001b[43m[\u001b[49m\u001b[38;5;241;43m0\u001b[39;49m\u001b[43m]\u001b[49m\u001b[43m,\u001b[49m\u001b[43m \u001b[49m\u001b[38;5;28;43mself\u001b[39;49m\u001b[38;5;241;43m.\u001b[39;49m\u001b[43m_window_size\u001b[49m\u001b[43m[\u001b[49m\u001b[38;5;241;43m1\u001b[39;49m\u001b[43m]\u001b[49m\u001b[43m)\u001b[49m\u001b[43m,\u001b[49m\n\u001b[0;32m     28\u001b[0m \u001b[43m    \u001b[49m\u001b[43mmanager\u001b[49m\u001b[43m \u001b[49m\u001b[38;5;241;43m=\u001b[39;49m\u001b[43m \u001b[49m\u001b[43mmanager\u001b[49m\u001b[43m,\u001b[49m\n\u001b[0;32m     29\u001b[0m \u001b[43m\u001b[49m\u001b[43m)\u001b[49m\n",
      "\u001b[1;31mTypeError\u001b[0m: UIPanel.__init__() missing 1 required positional argument: 'starting_layer_height'"
     ]
    }
   ],
   "source": [
    "wrapper.render(update_mode=True)"
   ]
  },
  {
   "cell_type": "code",
   "execution_count": null,
   "metadata": {},
   "outputs": [],
   "source": []
  },
  {
   "cell_type": "markdown",
   "metadata": {},
   "source": []
  }
 ],
 "metadata": {
  "kernelspec": {
   "display_name": "thesis",
   "language": "python",
   "name": "python3"
  },
  "language_info": {
   "codemirror_mode": {
    "name": "ipython",
    "version": 3
   },
   "file_extension": ".py",
   "mimetype": "text/x-python",
   "name": "python",
   "nbconvert_exporter": "python",
   "pygments_lexer": "ipython3",
   "version": "3.12.3"
  }
 },
 "nbformat": 4,
 "nbformat_minor": 2
}
